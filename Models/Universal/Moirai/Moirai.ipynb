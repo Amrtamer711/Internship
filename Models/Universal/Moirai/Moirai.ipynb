{
 "cells": [
  {
   "cell_type": "code",
   "execution_count": 1,
   "metadata": {},
   "outputs": [],
   "source": [
    "path = \"/Users/amrtamer/Documents/Internship/\""
   ]
  },
  {
   "cell_type": "code",
   "execution_count": 2,
   "metadata": {},
   "outputs": [
    {
     "name": "stderr",
     "output_type": "stream",
     "text": [
      "/opt/homebrew/lib/python3.10/site-packages/tqdm/auto.py:21: TqdmWarning: IProgress not found. Please update jupyter and ipywidgets. See https://ipywidgets.readthedocs.io/en/stable/user_install.html\n",
      "  from .autonotebook import tqdm as notebook_tqdm\n"
     ]
    }
   ],
   "source": [
    "import sys\n",
    "sys.path.append(path + 'Models')\n",
    "sys.path.append(path + 'Models/Universal/uni2ts/myenv/lib/python3.10/site-packages/')\n",
    "import utils as ut\n",
    "import models"
   ]
  },
  {
   "cell_type": "code",
   "execution_count": 3,
   "metadata": {},
   "outputs": [],
   "source": [
    "import os\n",
    "# os.environ['PYTORCH_ENABLE_MPS_FALLBACK'] = '1'\n",
    "\n",
    "import torch\n",
    "import matplotlib.pyplot as plt\n",
    "import pandas as pd\n",
    "from gluonts.dataset.pandas import PandasDataset\n",
    "from gluonts.dataset.split import split\n",
    "from uni2ts.eval_util.plot import plot_single\n",
    "from uni2ts.model.moirai import MoiraiForecast, MoiraiModule\n",
    "import numpy as np\n",
    "from torch.utils.data import Dataset, DataLoader\n",
    "import torch.nn.functional as F\n",
    "from sklearn.model_selection import train_test_split\n",
    "import optuna\n",
    "import torch.nn as nn\n",
    "from sklearn.metrics import mean_absolute_error, mean_squared_error, r2_score\n",
    "import matplotlib.pyplot as plt\n",
    "import random\n",
    "from matplotlib.backends.backend_pdf import PdfPages\n",
    "from gluonts.dataset.common import ListDataset\n",
    "from gluonts.dataset.field_names import FieldName"
   ]
  },
  {
   "cell_type": "code",
   "execution_count": 4,
   "metadata": {},
   "outputs": [
    {
     "data": {
      "text/html": [
       "<div>\n",
       "<style scoped>\n",
       "    .dataframe tbody tr th:only-of-type {\n",
       "        vertical-align: middle;\n",
       "    }\n",
       "\n",
       "    .dataframe tbody tr th {\n",
       "        vertical-align: top;\n",
       "    }\n",
       "\n",
       "    .dataframe thead th {\n",
       "        text-align: right;\n",
       "    }\n",
       "</style>\n",
       "<table border=\"1\" class=\"dataframe\">\n",
       "  <thead>\n",
       "    <tr style=\"text-align: right;\">\n",
       "      <th></th>\n",
       "      <th>well_name</th>\n",
       "      <th>WELL_BORE_CODE</th>\n",
       "      <th>date</th>\n",
       "      <th>prod_hrs</th>\n",
       "      <th>bhp</th>\n",
       "      <th>bht</th>\n",
       "      <th>dp_tubing</th>\n",
       "      <th>AVG_ANNULUS_PRESS</th>\n",
       "      <th>AVG_CHOKE_SIZE_P</th>\n",
       "      <th>whp</th>\n",
       "      <th>...</th>\n",
       "      <th>linear_regressor</th>\n",
       "      <th>EMA_short</th>\n",
       "      <th>EMA_medium</th>\n",
       "      <th>EMA_long</th>\n",
       "      <th>Rolling_short</th>\n",
       "      <th>Rolling_medium</th>\n",
       "      <th>Rolling_long</th>\n",
       "      <th>Lag_short</th>\n",
       "      <th>Lag_medium</th>\n",
       "      <th>Lag_long</th>\n",
       "    </tr>\n",
       "  </thead>\n",
       "  <tbody>\n",
       "    <tr>\n",
       "      <th>0</th>\n",
       "      <td>7405</td>\n",
       "      <td>NO 15/9-F-1 C</td>\n",
       "      <td>2014-04-22</td>\n",
       "      <td>0.268405</td>\n",
       "      <td>1.029311</td>\n",
       "      <td>0.605973</td>\n",
       "      <td>0.396167</td>\n",
       "      <td>-2.016027</td>\n",
       "      <td>-0.533280</td>\n",
       "      <td>3.281836</td>\n",
       "      <td>...</td>\n",
       "      <td>-0.101892</td>\n",
       "      <td>-0.103579</td>\n",
       "      <td>-0.104768</td>\n",
       "      <td>-0.106929</td>\n",
       "      <td>-0.001355</td>\n",
       "      <td>-0.002618</td>\n",
       "      <td>-0.00519</td>\n",
       "      <td>[0.0, 0.0, 0.0]</td>\n",
       "      <td>[0.0, 0.0, 0.0, 0.0, 0.0]</td>\n",
       "      <td>[0.0, 0.0, 0.0, 0.0, 0.0, 0.0, 0.0, 0.0, 0.0, ...</td>\n",
       "    </tr>\n",
       "    <tr>\n",
       "      <th>1</th>\n",
       "      <td>7405</td>\n",
       "      <td>NO 15/9-F-1 C</td>\n",
       "      <td>2014-04-23</td>\n",
       "      <td>0.268405</td>\n",
       "      <td>0.845795</td>\n",
       "      <td>0.634777</td>\n",
       "      <td>0.239818</td>\n",
       "      <td>0.088113</td>\n",
       "      <td>-0.419656</td>\n",
       "      <td>2.849981</td>\n",
       "      <td>...</td>\n",
       "      <td>-0.101892</td>\n",
       "      <td>-0.103579</td>\n",
       "      <td>-0.104768</td>\n",
       "      <td>-0.106929</td>\n",
       "      <td>-0.001355</td>\n",
       "      <td>-0.002618</td>\n",
       "      <td>-0.00519</td>\n",
       "      <td>[0.0, 0.0, -0.10230979661544379]</td>\n",
       "      <td>[0.0, 0.0, 0.0, 0.0, -0.10230979661544379]</td>\n",
       "      <td>[0.0, 0.0, 0.0, 0.0, 0.0, 0.0, 0.0, 0.0, 0.0, ...</td>\n",
       "    </tr>\n",
       "    <tr>\n",
       "      <th>2</th>\n",
       "      <td>7405</td>\n",
       "      <td>NO 15/9-F-1 C</td>\n",
       "      <td>2014-04-24</td>\n",
       "      <td>0.268405</td>\n",
       "      <td>0.775025</td>\n",
       "      <td>0.639809</td>\n",
       "      <td>0.199890</td>\n",
       "      <td>-0.688434</td>\n",
       "      <td>-0.402874</td>\n",
       "      <td>2.607708</td>\n",
       "      <td>...</td>\n",
       "      <td>-0.101892</td>\n",
       "      <td>-0.009618</td>\n",
       "      <td>-0.053295</td>\n",
       "      <td>-0.079801</td>\n",
       "      <td>-0.001355</td>\n",
       "      <td>-0.002618</td>\n",
       "      <td>-0.00519</td>\n",
       "      <td>[0.0, -0.10230979661544379, -0.10230979661544379]</td>\n",
       "      <td>[0.0, 0.0, 0.0, -0.10230979661544379, -0.10230...</td>\n",
       "      <td>[0.0, 0.0, 0.0, 0.0, 0.0, 0.0, 0.0, 0.0, -0.10...</td>\n",
       "    </tr>\n",
       "    <tr>\n",
       "      <th>3</th>\n",
       "      <td>7405</td>\n",
       "      <td>NO 15/9-F-1 C</td>\n",
       "      <td>2014-04-25</td>\n",
       "      <td>0.268405</td>\n",
       "      <td>0.705033</td>\n",
       "      <td>0.642084</td>\n",
       "      <td>0.161493</td>\n",
       "      <td>1.145283</td>\n",
       "      <td>-0.379061</td>\n",
       "      <td>2.364038</td>\n",
       "      <td>...</td>\n",
       "      <td>-0.114759</td>\n",
       "      <td>-0.020781</td>\n",
       "      <td>-0.051611</td>\n",
       "      <td>-0.076565</td>\n",
       "      <td>-0.001355</td>\n",
       "      <td>-0.002618</td>\n",
       "      <td>-0.00519</td>\n",
       "      <td>[-0.10230979661544379, -0.10230979661544379, 0...</td>\n",
       "      <td>[0.0, 0.0, -0.10230979661544379, -0.1023097966...</td>\n",
       "      <td>[0.0, 0.0, 0.0, 0.0, 0.0, 0.0, 0.0, -0.1023097...</td>\n",
       "    </tr>\n",
       "    <tr>\n",
       "      <th>4</th>\n",
       "      <td>7405</td>\n",
       "      <td>NO 15/9-F-1 C</td>\n",
       "      <td>2014-04-26</td>\n",
       "      <td>0.268405</td>\n",
       "      <td>0.625357</td>\n",
       "      <td>0.643889</td>\n",
       "      <td>0.117221</td>\n",
       "      <td>1.145283</td>\n",
       "      <td>-0.340115</td>\n",
       "      <td>2.088747</td>\n",
       "      <td>...</td>\n",
       "      <td>0.082297</td>\n",
       "      <td>-0.004428</td>\n",
       "      <td>-0.037199</td>\n",
       "      <td>-0.066767</td>\n",
       "      <td>-0.009496</td>\n",
       "      <td>-0.002618</td>\n",
       "      <td>-0.00519</td>\n",
       "      <td>[-0.10230979661544379, 0.1777063666263608, -0....</td>\n",
       "      <td>[0.0, -0.10230979661544379, -0.102309796615443...</td>\n",
       "      <td>[0.0, 0.0, 0.0, 0.0, 0.0, 0.0, -0.102309796615...</td>\n",
       "    </tr>\n",
       "  </tbody>\n",
       "</table>\n",
       "<p>5 rows × 26 columns</p>\n",
       "</div>"
      ],
      "text/plain": [
       "   well_name WELL_BORE_CODE        date  prod_hrs       bhp       bht  \\\n",
       "0       7405  NO 15/9-F-1 C  2014-04-22  0.268405  1.029311  0.605973   \n",
       "1       7405  NO 15/9-F-1 C  2014-04-23  0.268405  0.845795  0.634777   \n",
       "2       7405  NO 15/9-F-1 C  2014-04-24  0.268405  0.775025  0.639809   \n",
       "3       7405  NO 15/9-F-1 C  2014-04-25  0.268405  0.705033  0.642084   \n",
       "4       7405  NO 15/9-F-1 C  2014-04-26  0.268405  0.625357  0.643889   \n",
       "\n",
       "   dp_tubing  AVG_ANNULUS_PRESS  AVG_CHOKE_SIZE_P       whp  ...  \\\n",
       "0   0.396167          -2.016027         -0.533280  3.281836  ...   \n",
       "1   0.239818           0.088113         -0.419656  2.849981  ...   \n",
       "2   0.199890          -0.688434         -0.402874  2.607708  ...   \n",
       "3   0.161493           1.145283         -0.379061  2.364038  ...   \n",
       "4   0.117221           1.145283         -0.340115  2.088747  ...   \n",
       "\n",
       "   linear_regressor  EMA_short  EMA_medium  EMA_long  Rolling_short  \\\n",
       "0         -0.101892  -0.103579   -0.104768 -0.106929      -0.001355   \n",
       "1         -0.101892  -0.103579   -0.104768 -0.106929      -0.001355   \n",
       "2         -0.101892  -0.009618   -0.053295 -0.079801      -0.001355   \n",
       "3         -0.114759  -0.020781   -0.051611 -0.076565      -0.001355   \n",
       "4          0.082297  -0.004428   -0.037199 -0.066767      -0.009496   \n",
       "\n",
       "   Rolling_medium  Rolling_long  \\\n",
       "0       -0.002618      -0.00519   \n",
       "1       -0.002618      -0.00519   \n",
       "2       -0.002618      -0.00519   \n",
       "3       -0.002618      -0.00519   \n",
       "4       -0.002618      -0.00519   \n",
       "\n",
       "                                           Lag_short  \\\n",
       "0                                    [0.0, 0.0, 0.0]   \n",
       "1                   [0.0, 0.0, -0.10230979661544379]   \n",
       "2  [0.0, -0.10230979661544379, -0.10230979661544379]   \n",
       "3  [-0.10230979661544379, -0.10230979661544379, 0...   \n",
       "4  [-0.10230979661544379, 0.1777063666263608, -0....   \n",
       "\n",
       "                                          Lag_medium  \\\n",
       "0                          [0.0, 0.0, 0.0, 0.0, 0.0]   \n",
       "1         [0.0, 0.0, 0.0, 0.0, -0.10230979661544379]   \n",
       "2  [0.0, 0.0, 0.0, -0.10230979661544379, -0.10230...   \n",
       "3  [0.0, 0.0, -0.10230979661544379, -0.1023097966...   \n",
       "4  [0.0, -0.10230979661544379, -0.102309796615443...   \n",
       "\n",
       "                                            Lag_long  \n",
       "0  [0.0, 0.0, 0.0, 0.0, 0.0, 0.0, 0.0, 0.0, 0.0, ...  \n",
       "1  [0.0, 0.0, 0.0, 0.0, 0.0, 0.0, 0.0, 0.0, 0.0, ...  \n",
       "2  [0.0, 0.0, 0.0, 0.0, 0.0, 0.0, 0.0, 0.0, -0.10...  \n",
       "3  [0.0, 0.0, 0.0, 0.0, 0.0, 0.0, 0.0, -0.1023097...  \n",
       "4  [0.0, 0.0, 0.0, 0.0, 0.0, 0.0, -0.102309796615...  \n",
       "\n",
       "[5 rows x 26 columns]"
      ]
     },
     "execution_count": 4,
     "metadata": {},
     "output_type": "execute_result"
    }
   ],
   "source": [
    "data = pd.read_csv(path + r'data/Volve/Volve_cleaned_prepared.csv')\n",
    "if \"Unnamed: 0\" in data.columns:\n",
    "    data = data.drop(columns=\"Unnamed: 0\")\n",
    "data.head()"
   ]
  },
  {
   "cell_type": "code",
   "execution_count": 5,
   "metadata": {},
   "outputs": [
    {
     "data": {
      "text/plain": [
       "{5769: 'NO 15/9-F-5 AH',\n",
       " 7289: 'NO 15/9-F-15 D',\n",
       " 5599: 'NO 15/9-F-12 H',\n",
       " 7078: 'NO 15/9-F-11 H',\n",
       " 7405: 'NO 15/9-F-1 C',\n",
       " 5351: 'NO 15/9-F-14 H'}"
      ]
     },
     "execution_count": 5,
     "metadata": {},
     "output_type": "execute_result"
    }
   ],
   "source": [
    "well_info = dict(set([(j, i) for i, j in data[['WELL_BORE_CODE', 'well_name']].values.tolist()])) # creating a dictionary of well identiification with {code: name} structure\n",
    "well_info"
   ]
  },
  {
   "cell_type": "code",
   "execution_count": 6,
   "metadata": {},
   "outputs": [],
   "source": [
    "univariate_feature = \"oil_rate\"\n",
    "days_window = 5\n",
    "predictions_days = 14\n",
    "training_gap = days_window + predictions_days"
   ]
  },
  {
   "cell_type": "code",
   "execution_count": 7,
   "metadata": {},
   "outputs": [],
   "source": [
    "# sequences = []\n",
    "# for well_name in data['well_name'].unique():\n",
    "#     well_data = data[data['well_name'] == well_name].sort_values(by='date').reset_index()\n",
    "#     for i in range(len(well_data) - training_gap + 1):\n",
    "#         inputs = well_data.iloc[i:i + days_window][univariate_feature].values\n",
    "#         targets = well_data.iloc[i + days_window:i + days_window + predictions_days][univariate_feature].values\n",
    "#         inputs_dates = list(well_data.iloc[i:i + days_window]['date'])\n",
    "#         targets_dates = list(well_data.iloc[i + days_window:i + days_window + predictions_days]['date'])\n",
    "#         inputs_index = list(well_data.iloc[i:i + days_window]['index'])\n",
    "#         targets_index = list(well_data.iloc[i + days_window:i + days_window + predictions_days]['index'])\n",
    "#         sequences.append((well_name, inputs_dates, targets_dates, inputs_index, targets_index, inputs, targets))\n",
    "#         if len(well_data.iloc[i:i + days_window + predictions_days]['well_name'].unique()) > 1:\n",
    "#           print('violation')\n",
    "\n",
    "# dataset = pd.DataFrame(sequences, columns=['well_name', 'inputs_dates', 'targets_dates', 'inputs_index', 'targets_index', 'inputs', 'targets', ])\n",
    "# dataset.to_pickle(path + \"/data/Volve/all_data_univariate.pkl\")\n",
    "# dataset"
   ]
  },
  {
   "cell_type": "code",
   "execution_count": 8,
   "metadata": {},
   "outputs": [],
   "source": [
    "train_size = 0.6\n",
    "val_size = 0.2\n",
    "test_size = 0.2"
   ]
  },
  {
   "cell_type": "code",
   "execution_count": 9,
   "metadata": {},
   "outputs": [],
   "source": [
    "test_size_param1 = test_size\n",
    "test_size_param2 = val_size / (1 - test_size_param1)"
   ]
  },
  {
   "cell_type": "code",
   "execution_count": 10,
   "metadata": {},
   "outputs": [],
   "source": [
    "\n",
    "# train_wells = []\n",
    "# test_wells = []\n",
    "# for i in dataset['well_name'].unique():\n",
    "#     well = dataset[dataset['well_name'] == i]\n",
    "#     train_set_length = int((train_size + val_size) * len(well))\n",
    "#     train_wells.append(well[:train_set_length + 1])\n",
    "#     test_set_length = int(test_size * len(well))\n",
    "#     test_wells.append(well[-test_set_length:])\n",
    "\n",
    "# # Flatten the lists of DataFrames\n",
    "# temp_data = pd.concat(train_wells).reset_index(drop=True)\n",
    "# data_test = pd.concat(test_wells).reset_index(drop=True)\n",
    "\n",
    "# data_train, data_val = train_test_split(temp_data, test_size=test_size_param2, stratify=temp_data['well_name'], shuffle=True)\n",
    "\n",
    "# data_train.reset_index(drop=True, inplace=True)\n",
    "# data_val.reset_index(drop=True, inplace=True)\n",
    "# data_test.reset_index(drop=True, inplace=True)\n",
    "\n",
    "# data_train.to_pickle(path + \"/data/Volve/data_univariate_train.pkl\")\n",
    "# data_val.to_pickle(path + \"/data/Volve/data_univariate_val.pkl\")\n",
    "# data_test.to_pickle(path + \"/data/Volve/data_univariate_test.pkl\")"
   ]
  },
  {
   "cell_type": "code",
   "execution_count": 11,
   "metadata": {},
   "outputs": [
    {
     "data": {
      "text/plain": [
       "((4730, 7), (1577, 7), (1573, 7))"
      ]
     },
     "execution_count": 11,
     "metadata": {},
     "output_type": "execute_result"
    }
   ],
   "source": [
    "all_data = pd.read_pickle(path + \"data/Volve/all_data_univariate.pkl\")\n",
    "data_train = pd.read_pickle(path + \"data/Volve/data_univariate_train.pkl\")\n",
    "data_val = pd.read_pickle(path + \"data/Volve/data_univariate_val.pkl\")\n",
    "data_test = pd.read_pickle(path + \"data/Volve/data_univariate_test.pkl\")\n",
    "data_train.shape, data_val.shape, data_test.shape"
   ]
  },
  {
   "cell_type": "code",
   "execution_count": 12,
   "metadata": {},
   "outputs": [],
   "source": [
    "batch_size = 50"
   ]
  },
  {
   "cell_type": "code",
   "execution_count": 13,
   "metadata": {},
   "outputs": [],
   "source": [
    "train_dataset = ut.UivariateTimeSeriesDataset(data_train)\n",
    "val_dataset = ut.UivariateTimeSeriesDataset(data_val)\n",
    "test_dataset = ut.UivariateTimeSeriesDataset(data_test)\n",
    "\n",
    "train_loader = DataLoader(train_dataset, batch_size=batch_size, shuffle=True)\n",
    "val_loader = DataLoader(val_dataset, batch_size=batch_size, shuffle=True)\n",
    "test_loader = DataLoader(test_dataset, batch_size=batch_size, shuffle=False)"
   ]
  },
  {
   "cell_type": "code",
   "execution_count": 14,
   "metadata": {},
   "outputs": [],
   "source": [
    "visualization_test_dataset = ut.UnivariateVisualizationTimeSeriesDataset(data_test)\n",
    "\n",
    "visualization_test_loader = DataLoader(visualization_test_dataset, batch_size=int(len(test_dataset) / 50), shuffle=True)"
   ]
  },
  {
   "cell_type": "code",
   "execution_count": 15,
   "metadata": {},
   "outputs": [],
   "source": [
    "size = \"small\"\n",
    "num_samples = 50"
   ]
  },
  {
   "cell_type": "code",
   "execution_count": 16,
   "metadata": {},
   "outputs": [],
   "source": [
    "# Define the objective function for Optuna\n",
    "def objective(trial):\n",
    "    # Suggest hyperparameters\n",
    "    num_samples = trial.suggest_int(\"num_samples\", 10, 50, step=10)\n",
    "    size = trial.suggest_categorical(\"size\", [\"tiny\", \"mini\", \"small\", \"base\", \"large\"])\n",
    "    # Load the model\n",
    "    pipeline = ChronosPipeline.from_pretrained(\n",
    "        f\"amazon/chronos-t5-{size}\",\n",
    "        device_map=\"mps\",  # use \"cpu\" for CPU inference and \"mps\" for Apple Silicon\n",
    "        torch_dtype=torch.bfloat16,  # torch.bfloat16,\n",
    "    )\n",
    "    \n",
    "    avg_loss = 0\n",
    "    \n",
    "    for X_batch, Y_batch in val_loader:\n",
    "        \n",
    "        forecast = pipeline.predict(\n",
    "            context=X_batch,\n",
    "            prediction_length=predictions_days,\n",
    "            num_samples=num_samples,\n",
    "        )\n",
    "        \n",
    "        prediction = forecast.mean(axis=1)\n",
    "        prediction = prediction.view(prediction.shape[0] * prediction.shape[1])\n",
    "        Y_batch = Y_batch.view(Y_batch.shape[0] * Y_batch.shape[1])\n",
    "        \n",
    "        loss = F.mse_loss(prediction, Y_batch)\n",
    "        avg_loss += loss.item()\n",
    "    \n",
    "    val_loss = avg_loss / len(val_loader)\n",
    "    return val_loss"
   ]
  },
  {
   "cell_type": "code",
   "execution_count": 14,
   "metadata": {},
   "outputs": [
    {
     "name": "stderr",
     "output_type": "stream",
     "text": [
      "[I 2024-07-08 14:02:15,492] A new study created in memory with name: no-name-561035a0-8901-401f-926f-1e5fa9fdb5e0\n",
      "/Users/amrtamer/Library/Python/3.9/lib/python/site-packages/huggingface_hub/file_download.py:1132: FutureWarning: `resume_download` is deprecated and will be removed in version 1.0.0. Downloads always resume when possible. If you want to force a new download, use `force_download=True`.\n",
      "  warnings.warn(\n",
      "[I 2024-07-08 14:03:14,934] Trial 0 finished with value: 0.07399260968668386 and parameters: {'num_samples': 50, 'size': 'small'}. Best is trial 0 with value: 0.07399260968668386.\n",
      "[I 2024-07-08 14:03:50,849] Trial 1 finished with value: 0.08172283679596148 and parameters: {'num_samples': 20, 'size': 'small'}. Best is trial 0 with value: 0.07399260968668386.\n",
      "[I 2024-07-08 14:04:20,112] Trial 2 finished with value: 0.06905774885672145 and parameters: {'num_samples': 30, 'size': 'mini'}. Best is trial 2 with value: 0.06905774885672145.\n",
      "[I 2024-07-08 14:09:04,553] Trial 3 finished with value: 0.0833671287400648 and parameters: {'num_samples': 30, 'size': 'large'}. Best is trial 2 with value: 0.06905774885672145.\n",
      "[I 2024-07-08 14:09:30,858] Trial 4 finished with value: 0.0690019179310184 and parameters: {'num_samples': 30, 'size': 'mini'}. Best is trial 4 with value: 0.0690019179310184.\n",
      "[I 2024-07-08 14:10:24,522] Trial 5 finished with value: 0.09243061812594533 and parameters: {'num_samples': 10, 'size': 'base'}. Best is trial 4 with value: 0.0690019179310184.\n",
      "[I 2024-07-08 14:12:27,399] Trial 6 finished with value: 0.07521915767574683 and parameters: {'num_samples': 50, 'size': 'base'}. Best is trial 4 with value: 0.0690019179310184.\n",
      "[I 2024-07-08 14:17:27,631] Trial 7 finished with value: 0.07981629477581009 and parameters: {'num_samples': 40, 'size': 'large'}. Best is trial 4 with value: 0.0690019179310184.\n",
      "[I 2024-07-08 14:18:02,747] Trial 8 finished with value: 0.06827403069473803 and parameters: {'num_samples': 40, 'size': 'tiny'}. Best is trial 8 with value: 0.06827403069473803.\n",
      "[I 2024-07-08 14:18:29,614] Trial 9 finished with value: 0.06724557327106595 and parameters: {'num_samples': 40, 'size': 'tiny'}. Best is trial 9 with value: 0.06724557327106595.\n",
      "[I 2024-07-08 14:18:55,834] Trial 10 finished with value: 0.06622893281746656 and parameters: {'num_samples': 40, 'size': 'tiny'}. Best is trial 10 with value: 0.06622893281746656.\n",
      "[I 2024-07-08 14:19:23,157] Trial 11 finished with value: 0.06923849444137886 and parameters: {'num_samples': 40, 'size': 'tiny'}. Best is trial 10 with value: 0.06622893281746656.\n",
      "[I 2024-07-08 14:19:49,455] Trial 12 finished with value: 0.07044931675773114 and parameters: {'num_samples': 40, 'size': 'tiny'}. Best is trial 10 with value: 0.06622893281746656.\n",
      "[I 2024-07-08 14:20:22,757] Trial 13 finished with value: 0.06689243268920109 and parameters: {'num_samples': 50, 'size': 'tiny'}. Best is trial 10 with value: 0.06622893281746656.\n",
      "[I 2024-07-08 14:20:51,591] Trial 14 finished with value: 0.06669631745899096 and parameters: {'num_samples': 50, 'size': 'tiny'}. Best is trial 10 with value: 0.06622893281746656.\n",
      "[I 2024-07-08 14:21:21,388] Trial 15 finished with value: 0.06559817024390213 and parameters: {'num_samples': 50, 'size': 'tiny'}. Best is trial 15 with value: 0.06559817024390213.\n",
      "[I 2024-07-08 14:21:48,922] Trial 16 finished with value: 0.074593806930352 and parameters: {'num_samples': 20, 'size': 'tiny'}. Best is trial 15 with value: 0.06559817024390213.\n",
      "[I 2024-07-08 14:22:17,715] Trial 17 finished with value: 0.06877591175725684 and parameters: {'num_samples': 50, 'size': 'tiny'}. Best is trial 15 with value: 0.06559817024390213.\n",
      "[I 2024-07-08 14:24:03,756] Trial 18 finished with value: 0.07533837080700323 and parameters: {'num_samples': 40, 'size': 'base'}. Best is trial 15 with value: 0.06559817024390213.\n",
      "[I 2024-07-08 14:24:27,263] Trial 19 finished with value: 0.07247490622103214 and parameters: {'num_samples': 20, 'size': 'mini'}. Best is trial 15 with value: 0.06559817024390213.\n",
      "[I 2024-07-08 14:25:15,531] Trial 20 finished with value: 0.07207668438786641 and parameters: {'num_samples': 50, 'size': 'small'}. Best is trial 15 with value: 0.06559817024390213.\n",
      "[I 2024-07-08 14:25:44,059] Trial 21 finished with value: 0.06755422140122391 and parameters: {'num_samples': 50, 'size': 'tiny'}. Best is trial 15 with value: 0.06559817024390213.\n",
      "[I 2024-07-08 14:26:12,078] Trial 22 finished with value: 0.06792263366514817 and parameters: {'num_samples': 50, 'size': 'tiny'}. Best is trial 15 with value: 0.06559817024390213.\n",
      "[I 2024-07-08 14:26:38,212] Trial 23 finished with value: 0.06877493159845471 and parameters: {'num_samples': 40, 'size': 'tiny'}. Best is trial 15 with value: 0.06559817024390213.\n",
      "[I 2024-07-08 14:27:07,678] Trial 24 finished with value: 0.06565738999051973 and parameters: {'num_samples': 50, 'size': 'tiny'}. Best is trial 15 with value: 0.06559817024390213.\n",
      "[I 2024-07-08 14:32:10,390] Trial 25 finished with value: 0.07523322314955294 and parameters: {'num_samples': 40, 'size': 'large'}. Best is trial 15 with value: 0.06559817024390213.\n",
      "[I 2024-07-08 14:32:41,167] Trial 26 finished with value: 0.06778135077911429 and parameters: {'num_samples': 50, 'size': 'tiny'}. Best is trial 15 with value: 0.06559817024390213.\n",
      "[I 2024-07-08 14:33:06,900] Trial 27 finished with value: 0.06895479478407651 and parameters: {'num_samples': 40, 'size': 'tiny'}. Best is trial 15 with value: 0.06559817024390213.\n",
      "[I 2024-07-08 14:33:37,791] Trial 28 finished with value: 0.06829081143951043 and parameters: {'num_samples': 30, 'size': 'tiny'}. Best is trial 15 with value: 0.06559817024390213.\n",
      "[I 2024-07-08 14:34:26,852] Trial 29 finished with value: 0.07184824434807524 and parameters: {'num_samples': 50, 'size': 'small'}. Best is trial 15 with value: 0.06559817024390213.\n",
      "[I 2024-07-08 14:35:02,651] Trial 30 finished with value: 0.06832557189045474 and parameters: {'num_samples': 50, 'size': 'mini'}. Best is trial 15 with value: 0.06559817024390213.\n",
      "[I 2024-07-08 14:35:31,555] Trial 31 finished with value: 0.06718133471440524 and parameters: {'num_samples': 50, 'size': 'tiny'}. Best is trial 15 with value: 0.06559817024390213.\n",
      "[I 2024-07-08 14:36:00,593] Trial 32 finished with value: 0.06765513314167038 and parameters: {'num_samples': 50, 'size': 'tiny'}. Best is trial 15 with value: 0.06559817024390213.\n",
      "[I 2024-07-08 14:36:48,946] Trial 33 finished with value: 0.07298783719306812 and parameters: {'num_samples': 50, 'size': 'small'}. Best is trial 15 with value: 0.06559817024390213.\n",
      "[I 2024-07-08 14:37:16,913] Trial 34 finished with value: 0.0686111663817428 and parameters: {'num_samples': 40, 'size': 'tiny'}. Best is trial 15 with value: 0.06559817024390213.\n",
      "[I 2024-07-08 14:54:54,132] Trial 35 finished with value: 0.07588131900411099 and parameters: {'num_samples': 50, 'size': 'large'}. Best is trial 15 with value: 0.06559817024390213.\n",
      "[I 2024-07-08 14:56:27,818] Trial 36 finished with value: 0.0830358536913991 and parameters: {'num_samples': 30, 'size': 'base'}. Best is trial 15 with value: 0.06559817024390213.\n",
      "[I 2024-07-08 14:57:00,539] Trial 37 finished with value: 0.06842547410633415 and parameters: {'num_samples': 30, 'size': 'tiny'}. Best is trial 15 with value: 0.06559817024390213.\n",
      "[I 2024-07-08 14:57:35,191] Trial 38 finished with value: 0.0699099600315094 and parameters: {'num_samples': 10, 'size': 'mini'}. Best is trial 15 with value: 0.06559817024390213.\n",
      "[I 2024-07-08 14:58:10,388] Trial 39 finished with value: 0.06677508953725919 and parameters: {'num_samples': 40, 'size': 'tiny'}. Best is trial 15 with value: 0.06559817024390213.\n",
      "[I 2024-07-08 15:09:23,356] Trial 40 finished with value: 0.07472991192480549 and parameters: {'num_samples': 50, 'size': 'large'}. Best is trial 15 with value: 0.06559817024390213.\n",
      "[I 2024-07-08 15:09:51,590] Trial 41 finished with value: 0.06720058905193582 and parameters: {'num_samples': 40, 'size': 'tiny'}. Best is trial 15 with value: 0.06559817024390213.\n",
      "[I 2024-07-08 15:10:16,410] Trial 42 finished with value: 0.06980326591292396 and parameters: {'num_samples': 30, 'size': 'tiny'}. Best is trial 15 with value: 0.06559817024390213.\n",
      "[I 2024-07-08 15:19:16,165] Trial 43 finished with value: 0.06804363374249078 and parameters: {'num_samples': 40, 'size': 'tiny'}. Best is trial 15 with value: 0.06559817024390213.\n",
      "[I 2024-07-08 15:19:46,544] Trial 44 finished with value: 0.06679819693090394 and parameters: {'num_samples': 50, 'size': 'tiny'}. Best is trial 15 with value: 0.06559817024390213.\n",
      "[I 2024-07-08 15:21:27,027] Trial 45 finished with value: 0.07596670690691099 and parameters: {'num_samples': 40, 'size': 'base'}. Best is trial 15 with value: 0.06559817024390213.\n",
      "[I 2024-07-08 15:21:57,355] Trial 46 finished with value: 0.06882445904193446 and parameters: {'num_samples': 50, 'size': 'tiny'}. Best is trial 15 with value: 0.06559817024390213.\n",
      "[I 2024-07-08 15:22:24,299] Trial 47 finished with value: 0.06956657639238983 and parameters: {'num_samples': 40, 'size': 'tiny'}. Best is trial 15 with value: 0.06559817024390213.\n",
      "[I 2024-07-08 15:23:15,531] Trial 48 finished with value: 0.07180718431482092 and parameters: {'num_samples': 50, 'size': 'small'}. Best is trial 15 with value: 0.06559817024390213.\n",
      "[I 2024-07-08 15:23:40,103] Trial 49 finished with value: 0.06956345663638785 and parameters: {'num_samples': 30, 'size': 'tiny'}. Best is trial 15 with value: 0.06559817024390213.\n"
     ]
    },
    {
     "name": "stdout",
     "output_type": "stream",
     "text": [
      "Best parameters: {'num_samples': 50, 'size': 'tiny'}\n"
     ]
    }
   ],
   "source": [
    "# Create an Optuna study and optimize the objective function\n",
    "study = optuna.create_study(direction=\"minimize\")\n",
    "study.optimize(objective, n_trials=50)\n",
    "\n",
    "# Get the best hyperparameters\n",
    "best_params = study.best_params\n",
    "print(f\"Best parameters: {best_params}\")"
   ]
  },
  {
   "cell_type": "code",
   "execution_count": 16,
   "metadata": {},
   "outputs": [],
   "source": [
    "size = \"small\"\n",
    "num_samples = 50"
   ]
  },
  {
   "cell_type": "code",
   "execution_count": 17,
   "metadata": {},
   "outputs": [],
   "source": [
    "model = models.Moirai(size=size, input_length=days_window, output_length=predictions_days, num_samples=num_samples)"
   ]
  },
  {
   "cell_type": "code",
   "execution_count": 19,
   "metadata": {},
   "outputs": [
    {
     "name": "stdout",
     "output_type": "stream",
     "text": [
      "Metrics on dataset:\n",
      "\n",
      "Loss is 68234351.7811\n",
      "MAE is 125.3311\n",
      "RMSE is 8273.4922\n",
      "R² is -63142952.0000\n",
      "\n",
      "\n",
      "Metrics on dataset:\n",
      "\n",
      "Loss is 4996661576.4665\n",
      "MAE is 736.6165\n",
      "RMSE is 67147.2969\n",
      "R² is -4066785280.0000\n",
      "\n",
      "\n",
      "Metrics on dataset:\n",
      "\n",
      "Loss is 0.0026\n",
      "MAE is 0.0335\n",
      "RMSE is 0.0509\n",
      "R² is 0.8916\n",
      "\n",
      "\n"
     ]
    }
   ],
   "source": [
    "train_metrics = ut.evaluate(model, train_loader)\n",
    "val_metrics = ut.evaluate(model, val_loader)\n",
    "test_metrics = ut.evaluate(model, test_loader)"
   ]
  },
  {
   "cell_type": "code",
   "execution_count": 18,
   "metadata": {},
   "outputs": [
    {
     "name": "stdout",
     "output_type": "stream",
     "text": [
      "Metrics on dataset:\n",
      "\n",
      "Loss is 0.0026\n",
      "MAE is 0.0334\n",
      "RMSE is 0.0509\n",
      "R² is 0.8918\n",
      "\n",
      "\n"
     ]
    }
   ],
   "source": [
    "ut.produce_graphs(model, visualization_test_loader, data, data_test, days_window, predictions_days, path + \"Models/Universal/Moirai/Graphs\", well_info, test_size)\n",
    "test_metrics = ut.evaluate(model, test_loader)"
   ]
  },
  {
   "cell_type": "code",
   "execution_count": null,
   "metadata": {},
   "outputs": [],
   "source": []
  }
 ],
 "metadata": {
  "kernelspec": {
   "display_name": "Python 3",
   "language": "python",
   "name": "python3"
  },
  "language_info": {
   "codemirror_mode": {
    "name": "ipython",
    "version": 3
   },
   "file_extension": ".py",
   "mimetype": "text/x-python",
   "name": "python",
   "nbconvert_exporter": "python",
   "pygments_lexer": "ipython3",
   "version": "3.10.14"
  }
 },
 "nbformat": 4,
 "nbformat_minor": 2
}
