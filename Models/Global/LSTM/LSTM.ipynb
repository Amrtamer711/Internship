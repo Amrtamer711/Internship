{
  "cells": [
    {
      "cell_type": "code",
      "execution_count": 46,
      "metadata": {
        "colab": {
          "base_uri": "https://localhost:8080/",
          "height": 344
        },
        "id": "UiR3fmx7CA4k",
        "outputId": "0bc76cb5-4eef-4f5b-d17f-3a312ac0eb32"
      },
      "outputs": [],
      "source": [
        "path = \"/Users/amrtamer/Documents/Internship/\"\n",
        "# path = \"/content/drive/MyDrive/Internship/\""
      ]
    },
    {
      "cell_type": "code",
      "execution_count": 47,
      "metadata": {},
      "outputs": [],
      "source": [
        "import sys\n",
        "sys.path.append(path + 'Models')\n",
        "sys.path.append(path + 'Models/Universal/uni2ts/myenv/lib/python3.10/site-packages/')\n",
        "import utils as ut\n",
        "import models"
      ]
    },
    {
      "cell_type": "code",
      "execution_count": 48,
      "metadata": {},
      "outputs": [],
      "source": [
        "import torch\n",
        "import torch.nn as nn\n",
        "import torch.nn.functional as F\n",
        "import pandas as pd\n",
        "import torch\n",
        "from torch.utils.data import DataLoader\n",
        "import numpy as np\n",
        "from sklearn.metrics import mean_absolute_error, mean_squared_error, r2_score\n",
        "from sklearn.model_selection import train_test_split\n",
        "from torch.utils.data import Dataset, DataLoader\n",
        "import os\n",
        "import re\n",
        "import json\n",
        "import optuna\n",
        "import ast\n",
        "import matplotlib.pyplot as plt\n",
        "import random\n",
        "from matplotlib.backends.backend_pdf import PdfPages"
      ]
    },
    {
      "cell_type": "code",
      "execution_count": 49,
      "metadata": {
        "colab": {
          "base_uri": "https://localhost:8080/",
          "height": 355
        },
        "id": "oMm8nN82aHf-",
        "outputId": "af7ebad3-5206-4dd9-e0d2-806809812f0a"
      },
      "outputs": [
        {
          "data": {
            "text/html": [
              "<div>\n",
              "<style scoped>\n",
              "    .dataframe tbody tr th:only-of-type {\n",
              "        vertical-align: middle;\n",
              "    }\n",
              "\n",
              "    .dataframe tbody tr th {\n",
              "        vertical-align: top;\n",
              "    }\n",
              "\n",
              "    .dataframe thead th {\n",
              "        text-align: right;\n",
              "    }\n",
              "</style>\n",
              "<table border=\"1\" class=\"dataframe\">\n",
              "  <thead>\n",
              "    <tr style=\"text-align: right;\">\n",
              "      <th></th>\n",
              "      <th>well_name</th>\n",
              "      <th>WELL_BORE_CODE</th>\n",
              "      <th>date</th>\n",
              "      <th>prod_hrs</th>\n",
              "      <th>bhp</th>\n",
              "      <th>bht</th>\n",
              "      <th>dp_tubing</th>\n",
              "      <th>AVG_ANNULUS_PRESS</th>\n",
              "      <th>AVG_CHOKE_SIZE_P</th>\n",
              "      <th>whp</th>\n",
              "      <th>...</th>\n",
              "      <th>linear_regressor</th>\n",
              "      <th>EMA_short</th>\n",
              "      <th>EMA_medium</th>\n",
              "      <th>EMA_long</th>\n",
              "      <th>Rolling_short</th>\n",
              "      <th>Rolling_medium</th>\n",
              "      <th>Rolling_long</th>\n",
              "      <th>Lag_short</th>\n",
              "      <th>Lag_medium</th>\n",
              "      <th>Lag_long</th>\n",
              "    </tr>\n",
              "  </thead>\n",
              "  <tbody>\n",
              "    <tr>\n",
              "      <th>0</th>\n",
              "      <td>7405</td>\n",
              "      <td>NO 15/9-F-1 C</td>\n",
              "      <td>2014-04-22</td>\n",
              "      <td>0.268405</td>\n",
              "      <td>1.029311</td>\n",
              "      <td>0.605973</td>\n",
              "      <td>0.396167</td>\n",
              "      <td>-2.016027</td>\n",
              "      <td>-0.533280</td>\n",
              "      <td>3.281836</td>\n",
              "      <td>...</td>\n",
              "      <td>-0.101892</td>\n",
              "      <td>-0.103579</td>\n",
              "      <td>-0.104768</td>\n",
              "      <td>-0.106929</td>\n",
              "      <td>-0.001355</td>\n",
              "      <td>-0.002618</td>\n",
              "      <td>-0.00519</td>\n",
              "      <td>[0.0, 0.0, 0.0]</td>\n",
              "      <td>[0.0, 0.0, 0.0, 0.0, 0.0]</td>\n",
              "      <td>[0.0, 0.0, 0.0, 0.0, 0.0, 0.0, 0.0, 0.0, 0.0, ...</td>\n",
              "    </tr>\n",
              "    <tr>\n",
              "      <th>1</th>\n",
              "      <td>7405</td>\n",
              "      <td>NO 15/9-F-1 C</td>\n",
              "      <td>2014-04-23</td>\n",
              "      <td>0.268405</td>\n",
              "      <td>0.845795</td>\n",
              "      <td>0.634777</td>\n",
              "      <td>0.239818</td>\n",
              "      <td>0.088113</td>\n",
              "      <td>-0.419656</td>\n",
              "      <td>2.849981</td>\n",
              "      <td>...</td>\n",
              "      <td>-0.101892</td>\n",
              "      <td>-0.103579</td>\n",
              "      <td>-0.104768</td>\n",
              "      <td>-0.106929</td>\n",
              "      <td>-0.001355</td>\n",
              "      <td>-0.002618</td>\n",
              "      <td>-0.00519</td>\n",
              "      <td>[0.0, 0.0, -0.10230979661544379]</td>\n",
              "      <td>[0.0, 0.0, 0.0, 0.0, -0.10230979661544379]</td>\n",
              "      <td>[0.0, 0.0, 0.0, 0.0, 0.0, 0.0, 0.0, 0.0, 0.0, ...</td>\n",
              "    </tr>\n",
              "    <tr>\n",
              "      <th>2</th>\n",
              "      <td>7405</td>\n",
              "      <td>NO 15/9-F-1 C</td>\n",
              "      <td>2014-04-24</td>\n",
              "      <td>0.268405</td>\n",
              "      <td>0.775025</td>\n",
              "      <td>0.639809</td>\n",
              "      <td>0.199890</td>\n",
              "      <td>-0.688434</td>\n",
              "      <td>-0.402874</td>\n",
              "      <td>2.607708</td>\n",
              "      <td>...</td>\n",
              "      <td>-0.101892</td>\n",
              "      <td>-0.009618</td>\n",
              "      <td>-0.053295</td>\n",
              "      <td>-0.079801</td>\n",
              "      <td>-0.001355</td>\n",
              "      <td>-0.002618</td>\n",
              "      <td>-0.00519</td>\n",
              "      <td>[0.0, -0.10230979661544379, -0.10230979661544379]</td>\n",
              "      <td>[0.0, 0.0, 0.0, -0.10230979661544379, -0.10230...</td>\n",
              "      <td>[0.0, 0.0, 0.0, 0.0, 0.0, 0.0, 0.0, 0.0, -0.10...</td>\n",
              "    </tr>\n",
              "    <tr>\n",
              "      <th>3</th>\n",
              "      <td>7405</td>\n",
              "      <td>NO 15/9-F-1 C</td>\n",
              "      <td>2014-04-25</td>\n",
              "      <td>0.268405</td>\n",
              "      <td>0.705033</td>\n",
              "      <td>0.642084</td>\n",
              "      <td>0.161493</td>\n",
              "      <td>1.145283</td>\n",
              "      <td>-0.379061</td>\n",
              "      <td>2.364038</td>\n",
              "      <td>...</td>\n",
              "      <td>-0.114759</td>\n",
              "      <td>-0.020781</td>\n",
              "      <td>-0.051611</td>\n",
              "      <td>-0.076565</td>\n",
              "      <td>-0.001355</td>\n",
              "      <td>-0.002618</td>\n",
              "      <td>-0.00519</td>\n",
              "      <td>[-0.10230979661544379, -0.10230979661544379, 0...</td>\n",
              "      <td>[0.0, 0.0, -0.10230979661544379, -0.1023097966...</td>\n",
              "      <td>[0.0, 0.0, 0.0, 0.0, 0.0, 0.0, 0.0, -0.1023097...</td>\n",
              "    </tr>\n",
              "    <tr>\n",
              "      <th>4</th>\n",
              "      <td>7405</td>\n",
              "      <td>NO 15/9-F-1 C</td>\n",
              "      <td>2014-04-26</td>\n",
              "      <td>0.268405</td>\n",
              "      <td>0.625357</td>\n",
              "      <td>0.643889</td>\n",
              "      <td>0.117221</td>\n",
              "      <td>1.145283</td>\n",
              "      <td>-0.340115</td>\n",
              "      <td>2.088747</td>\n",
              "      <td>...</td>\n",
              "      <td>0.082297</td>\n",
              "      <td>-0.004428</td>\n",
              "      <td>-0.037199</td>\n",
              "      <td>-0.066767</td>\n",
              "      <td>-0.009496</td>\n",
              "      <td>-0.002618</td>\n",
              "      <td>-0.00519</td>\n",
              "      <td>[-0.10230979661544379, 0.1777063666263608, -0....</td>\n",
              "      <td>[0.0, -0.10230979661544379, -0.102309796615443...</td>\n",
              "      <td>[0.0, 0.0, 0.0, 0.0, 0.0, 0.0, -0.102309796615...</td>\n",
              "    </tr>\n",
              "  </tbody>\n",
              "</table>\n",
              "<p>5 rows × 26 columns</p>\n",
              "</div>"
            ],
            "text/plain": [
              "   well_name WELL_BORE_CODE        date  prod_hrs       bhp       bht  \\\n",
              "0       7405  NO 15/9-F-1 C  2014-04-22  0.268405  1.029311  0.605973   \n",
              "1       7405  NO 15/9-F-1 C  2014-04-23  0.268405  0.845795  0.634777   \n",
              "2       7405  NO 15/9-F-1 C  2014-04-24  0.268405  0.775025  0.639809   \n",
              "3       7405  NO 15/9-F-1 C  2014-04-25  0.268405  0.705033  0.642084   \n",
              "4       7405  NO 15/9-F-1 C  2014-04-26  0.268405  0.625357  0.643889   \n",
              "\n",
              "   dp_tubing  AVG_ANNULUS_PRESS  AVG_CHOKE_SIZE_P       whp  ...  \\\n",
              "0   0.396167          -2.016027         -0.533280  3.281836  ...   \n",
              "1   0.239818           0.088113         -0.419656  2.849981  ...   \n",
              "2   0.199890          -0.688434         -0.402874  2.607708  ...   \n",
              "3   0.161493           1.145283         -0.379061  2.364038  ...   \n",
              "4   0.117221           1.145283         -0.340115  2.088747  ...   \n",
              "\n",
              "   linear_regressor  EMA_short  EMA_medium  EMA_long  Rolling_short  \\\n",
              "0         -0.101892  -0.103579   -0.104768 -0.106929      -0.001355   \n",
              "1         -0.101892  -0.103579   -0.104768 -0.106929      -0.001355   \n",
              "2         -0.101892  -0.009618   -0.053295 -0.079801      -0.001355   \n",
              "3         -0.114759  -0.020781   -0.051611 -0.076565      -0.001355   \n",
              "4          0.082297  -0.004428   -0.037199 -0.066767      -0.009496   \n",
              "\n",
              "   Rolling_medium  Rolling_long  \\\n",
              "0       -0.002618      -0.00519   \n",
              "1       -0.002618      -0.00519   \n",
              "2       -0.002618      -0.00519   \n",
              "3       -0.002618      -0.00519   \n",
              "4       -0.002618      -0.00519   \n",
              "\n",
              "                                           Lag_short  \\\n",
              "0                                    [0.0, 0.0, 0.0]   \n",
              "1                   [0.0, 0.0, -0.10230979661544379]   \n",
              "2  [0.0, -0.10230979661544379, -0.10230979661544379]   \n",
              "3  [-0.10230979661544379, -0.10230979661544379, 0...   \n",
              "4  [-0.10230979661544379, 0.1777063666263608, -0....   \n",
              "\n",
              "                                          Lag_medium  \\\n",
              "0                          [0.0, 0.0, 0.0, 0.0, 0.0]   \n",
              "1         [0.0, 0.0, 0.0, 0.0, -0.10230979661544379]   \n",
              "2  [0.0, 0.0, 0.0, -0.10230979661544379, -0.10230...   \n",
              "3  [0.0, 0.0, -0.10230979661544379, -0.1023097966...   \n",
              "4  [0.0, -0.10230979661544379, -0.102309796615443...   \n",
              "\n",
              "                                            Lag_long  \n",
              "0  [0.0, 0.0, 0.0, 0.0, 0.0, 0.0, 0.0, 0.0, 0.0, ...  \n",
              "1  [0.0, 0.0, 0.0, 0.0, 0.0, 0.0, 0.0, 0.0, 0.0, ...  \n",
              "2  [0.0, 0.0, 0.0, 0.0, 0.0, 0.0, 0.0, 0.0, -0.10...  \n",
              "3  [0.0, 0.0, 0.0, 0.0, 0.0, 0.0, 0.0, -0.1023097...  \n",
              "4  [0.0, 0.0, 0.0, 0.0, 0.0, 0.0, -0.102309796615...  \n",
              "\n",
              "[5 rows x 26 columns]"
            ]
          },
          "execution_count": 49,
          "metadata": {},
          "output_type": "execute_result"
        }
      ],
      "source": [
        "data = pd.read_csv(path + r'data/Volve/Volve_cleaned_prepared.csv')\n",
        "if \"Unnamed: 0\" in data.columns:\n",
        "    data = data.drop(columns=\"Unnamed: 0\")\n",
        "data.head()"
      ]
    },
    {
      "cell_type": "code",
      "execution_count": 50,
      "metadata": {
        "colab": {
          "base_uri": "https://localhost:8080/"
        },
        "id": "bZmGsFefnB3G",
        "outputId": "b292ccb7-229f-4e81-93a7-5e73a095cd2b"
      },
      "outputs": [
        {
          "data": {
            "text/plain": [
              "{7405: 'NO 15/9-F-1 C',\n",
              " 5599: 'NO 15/9-F-12 H',\n",
              " 7078: 'NO 15/9-F-11 H',\n",
              " 7289: 'NO 15/9-F-15 D',\n",
              " 5351: 'NO 15/9-F-14 H',\n",
              " 5769: 'NO 15/9-F-5 AH'}"
            ]
          },
          "execution_count": 50,
          "metadata": {},
          "output_type": "execute_result"
        }
      ],
      "source": [
        "well_info = dict(set([(j, i) for i, j in data[['WELL_BORE_CODE', 'well_name']].values.tolist()])) # creating a dictionary of well identiification with {code: name} structure\n",
        "well_info"
      ]
    },
    {
      "cell_type": "code",
      "execution_count": 51,
      "metadata": {},
      "outputs": [
        {
          "data": {
            "text/plain": [
              "Index(['well_name', 'WELL_BORE_CODE', 'date', 'prod_hrs', 'bhp', 'bht',\n",
              "       'dp_tubing', 'AVG_ANNULUS_PRESS', 'AVG_CHOKE_SIZE_P', 'whp', 'wht',\n",
              "       'choke_size_percentage', 'oil_vol', 'gas_vol', 'water_vol', 'oil_rate',\n",
              "       'linear_regressor', 'EMA_short', 'EMA_medium', 'EMA_long',\n",
              "       'Rolling_short', 'Rolling_medium', 'Rolling_long', 'Lag_short',\n",
              "       'Lag_medium', 'Lag_long'],\n",
              "      dtype='object')"
            ]
          },
          "execution_count": 51,
          "metadata": {},
          "output_type": "execute_result"
        }
      ],
      "source": [
        "data.columns"
      ]
    },
    {
      "cell_type": "code",
      "execution_count": 52,
      "metadata": {
        "id": "KJZoa8Qneyzy"
      },
      "outputs": [],
      "source": [
        "identification_column = ['well_name', 'WELL_BORE_CODE', 'date']\n",
        "single_feature_columns = ['prod_hrs', 'bhp', 'bht', 'dp_tubing', 'AVG_ANNULUS_PRESS', 'AVG_CHOKE_SIZE_P', 'whp', 'wht', 'choke_size_percentage', 'oil_vol', 'gas_vol', 'water_vol', 'linear_regressor', 'EMA_short', 'EMA_medium', 'EMA_long', 'Rolling_short', 'Rolling_medium', 'Rolling_long', 'oil_rate']\n",
        "multiple_feature_columns = ['Lag_short', 'Lag_medium', 'Lag_long']\n",
        "# multiple_feature_columns = ['Lag_long']\n",
        "feature_columns = single_feature_columns + multiple_feature_columns\n",
        "target_column = ['oil_rate']"
      ]
    },
    {
      "cell_type": "code",
      "execution_count": 53,
      "metadata": {
        "colab": {
          "base_uri": "https://localhost:8080/"
        },
        "id": "kr-v7jdxLqsb",
        "outputId": "c6baddd3-c5c4-48e4-e360-92bb0f37b089"
      },
      "outputs": [
        {
          "data": {
            "text/plain": [
              "(7987, 26)"
            ]
          },
          "execution_count": 53,
          "metadata": {},
          "output_type": "execute_result"
        }
      ],
      "source": [
        "data = data[identification_column + feature_columns]\n",
        "data.shape"
      ]
    },
    {
      "cell_type": "code",
      "execution_count": 54,
      "metadata": {},
      "outputs": [
        {
          "name": "stdout",
          "output_type": "stream",
          "text": [
            "prod_hrs                -0.0\n",
            "bhp                     -0.0\n",
            "bht                      0.0\n",
            "dp_tubing               -0.0\n",
            "AVG_ANNULUS_PRESS       -0.0\n",
            "AVG_CHOKE_SIZE_P        -0.0\n",
            "whp                     -0.0\n",
            "wht                     -0.0\n",
            "choke_size_percentage    0.0\n",
            "oil_vol                  0.0\n",
            "gas_vol                  0.0\n",
            "water_vol                0.0\n",
            "linear_regressor        -0.0\n",
            "EMA_short                0.0\n",
            "EMA_medium               0.0\n",
            "EMA_long                 0.0\n",
            "Rolling_short           -0.0\n",
            "Rolling_medium           0.0\n",
            "Rolling_long            -0.0\n",
            "oil_rate                 0.0\n",
            "dtype: float64\n",
            "prod_hrs                 1.0\n",
            "bhp                      1.0\n",
            "bht                      1.0\n",
            "dp_tubing                1.0\n",
            "AVG_ANNULUS_PRESS        1.0\n",
            "AVG_CHOKE_SIZE_P         1.0\n",
            "whp                      1.0\n",
            "wht                      1.0\n",
            "choke_size_percentage    1.0\n",
            "oil_vol                  1.0\n",
            "gas_vol                  1.0\n",
            "water_vol                1.0\n",
            "linear_regressor         1.0\n",
            "EMA_short                1.0\n",
            "EMA_medium               1.0\n",
            "EMA_long                 1.0\n",
            "Rolling_short            1.0\n",
            "Rolling_medium           1.0\n",
            "Rolling_long             1.0\n",
            "oil_rate                 1.0\n",
            "dtype: float64\n"
          ]
        }
      ],
      "source": [
        "print(data[['prod_hrs', 'bhp', 'bht', 'dp_tubing', 'AVG_ANNULUS_PRESS', 'AVG_CHOKE_SIZE_P', 'whp', 'wht', 'choke_size_percentage', 'oil_vol', 'gas_vol', 'water_vol', 'linear_regressor', 'EMA_short', 'EMA_medium', 'EMA_long', 'Rolling_short', 'Rolling_medium', 'Rolling_long', 'oil_rate']].mean().round(4))\n",
        "print(data[['prod_hrs', 'bhp', 'bht', 'dp_tubing', 'AVG_ANNULUS_PRESS', 'AVG_CHOKE_SIZE_P', 'whp', 'wht', 'choke_size_percentage', 'oil_vol', 'gas_vol', 'water_vol', 'linear_regressor', 'EMA_short', 'EMA_medium', 'EMA_long', 'Rolling_short', 'Rolling_medium', 'Rolling_long', 'oil_rate']].std().round(4))"
      ]
    },
    {
      "cell_type": "code",
      "execution_count": 55,
      "metadata": {
        "colab": {
          "base_uri": "https://localhost:8080/",
          "height": 609
        },
        "id": "58-XDpb-EO82",
        "outputId": "f2517c61-2691-476e-dc5c-2a7ddad922b4"
      },
      "outputs": [
        {
          "data": {
            "text/html": [
              "<div>\n",
              "<style scoped>\n",
              "    .dataframe tbody tr th:only-of-type {\n",
              "        vertical-align: middle;\n",
              "    }\n",
              "\n",
              "    .dataframe tbody tr th {\n",
              "        vertical-align: top;\n",
              "    }\n",
              "\n",
              "    .dataframe thead th {\n",
              "        text-align: right;\n",
              "    }\n",
              "</style>\n",
              "<table border=\"1\" class=\"dataframe\">\n",
              "  <thead>\n",
              "    <tr style=\"text-align: right;\">\n",
              "      <th></th>\n",
              "      <th>well_name</th>\n",
              "      <th>WELL_BORE_CODE</th>\n",
              "      <th>date</th>\n",
              "      <th>prod_hrs</th>\n",
              "      <th>bhp</th>\n",
              "      <th>bht</th>\n",
              "      <th>dp_tubing</th>\n",
              "      <th>AVG_ANNULUS_PRESS</th>\n",
              "      <th>AVG_CHOKE_SIZE_P</th>\n",
              "      <th>whp</th>\n",
              "      <th>...</th>\n",
              "      <th>EMA_short</th>\n",
              "      <th>EMA_medium</th>\n",
              "      <th>EMA_long</th>\n",
              "      <th>Rolling_short</th>\n",
              "      <th>Rolling_medium</th>\n",
              "      <th>Rolling_long</th>\n",
              "      <th>oil_rate</th>\n",
              "      <th>Lag_short</th>\n",
              "      <th>Lag_medium</th>\n",
              "      <th>Lag_long</th>\n",
              "    </tr>\n",
              "  </thead>\n",
              "  <tbody>\n",
              "    <tr>\n",
              "      <th>0</th>\n",
              "      <td>7405</td>\n",
              "      <td>NO 15/9-F-1 C</td>\n",
              "      <td>2014-04-22</td>\n",
              "      <td>0.268405</td>\n",
              "      <td>1.029311</td>\n",
              "      <td>0.605973</td>\n",
              "      <td>0.396167</td>\n",
              "      <td>-2.016027</td>\n",
              "      <td>-0.533280</td>\n",
              "      <td>3.281836</td>\n",
              "      <td>...</td>\n",
              "      <td>-0.103579</td>\n",
              "      <td>-0.104768</td>\n",
              "      <td>-0.106929</td>\n",
              "      <td>-0.001355</td>\n",
              "      <td>-0.002618</td>\n",
              "      <td>-0.005190</td>\n",
              "      <td>-0.102310</td>\n",
              "      <td>[0.0, 0.0, 0.0]</td>\n",
              "      <td>[0.0, 0.0, 0.0, 0.0, 0.0]</td>\n",
              "      <td>[0.0, 0.0, 0.0, 0.0, 0.0, 0.0, 0.0, 0.0, 0.0, ...</td>\n",
              "    </tr>\n",
              "    <tr>\n",
              "      <th>1</th>\n",
              "      <td>7405</td>\n",
              "      <td>NO 15/9-F-1 C</td>\n",
              "      <td>2014-04-23</td>\n",
              "      <td>0.268405</td>\n",
              "      <td>0.845795</td>\n",
              "      <td>0.634777</td>\n",
              "      <td>0.239818</td>\n",
              "      <td>0.088113</td>\n",
              "      <td>-0.419656</td>\n",
              "      <td>2.849981</td>\n",
              "      <td>...</td>\n",
              "      <td>-0.103579</td>\n",
              "      <td>-0.104768</td>\n",
              "      <td>-0.106929</td>\n",
              "      <td>-0.001355</td>\n",
              "      <td>-0.002618</td>\n",
              "      <td>-0.005190</td>\n",
              "      <td>-0.102310</td>\n",
              "      <td>[0.0, 0.0, -0.10230979661544379]</td>\n",
              "      <td>[0.0, 0.0, 0.0, 0.0, -0.10230979661544379]</td>\n",
              "      <td>[0.0, 0.0, 0.0, 0.0, 0.0, 0.0, 0.0, 0.0, 0.0, ...</td>\n",
              "    </tr>\n",
              "    <tr>\n",
              "      <th>2</th>\n",
              "      <td>7405</td>\n",
              "      <td>NO 15/9-F-1 C</td>\n",
              "      <td>2014-04-24</td>\n",
              "      <td>0.268405</td>\n",
              "      <td>0.775025</td>\n",
              "      <td>0.639809</td>\n",
              "      <td>0.199890</td>\n",
              "      <td>-0.688434</td>\n",
              "      <td>-0.402874</td>\n",
              "      <td>2.607708</td>\n",
              "      <td>...</td>\n",
              "      <td>-0.009618</td>\n",
              "      <td>-0.053295</td>\n",
              "      <td>-0.079801</td>\n",
              "      <td>-0.001355</td>\n",
              "      <td>-0.002618</td>\n",
              "      <td>-0.005190</td>\n",
              "      <td>0.177706</td>\n",
              "      <td>[0.0, -0.10230979661544379, -0.10230979661544379]</td>\n",
              "      <td>[0.0, 0.0, 0.0, -0.10230979661544379, -0.10230...</td>\n",
              "      <td>[0.0, 0.0, 0.0, 0.0, 0.0, 0.0, 0.0, 0.0, -0.10...</td>\n",
              "    </tr>\n",
              "    <tr>\n",
              "      <th>3</th>\n",
              "      <td>7405</td>\n",
              "      <td>NO 15/9-F-1 C</td>\n",
              "      <td>2014-04-25</td>\n",
              "      <td>0.268405</td>\n",
              "      <td>0.705033</td>\n",
              "      <td>0.642084</td>\n",
              "      <td>0.161493</td>\n",
              "      <td>1.145283</td>\n",
              "      <td>-0.379061</td>\n",
              "      <td>2.364038</td>\n",
              "      <td>...</td>\n",
              "      <td>-0.020781</td>\n",
              "      <td>-0.051611</td>\n",
              "      <td>-0.076565</td>\n",
              "      <td>-0.001355</td>\n",
              "      <td>-0.002618</td>\n",
              "      <td>-0.005190</td>\n",
              "      <td>-0.042238</td>\n",
              "      <td>[-0.10230979661544379, -0.10230979661544379, 0...</td>\n",
              "      <td>[0.0, 0.0, -0.10230979661544379, -0.1023097966...</td>\n",
              "      <td>[0.0, 0.0, 0.0, 0.0, 0.0, 0.0, 0.0, -0.1023097...</td>\n",
              "    </tr>\n",
              "    <tr>\n",
              "      <th>4</th>\n",
              "      <td>7405</td>\n",
              "      <td>NO 15/9-F-1 C</td>\n",
              "      <td>2014-04-26</td>\n",
              "      <td>0.268405</td>\n",
              "      <td>0.625357</td>\n",
              "      <td>0.643889</td>\n",
              "      <td>0.117221</td>\n",
              "      <td>1.145283</td>\n",
              "      <td>-0.340115</td>\n",
              "      <td>2.088747</td>\n",
              "      <td>...</td>\n",
              "      <td>-0.004428</td>\n",
              "      <td>-0.037199</td>\n",
              "      <td>-0.066767</td>\n",
              "      <td>-0.009496</td>\n",
              "      <td>-0.002618</td>\n",
              "      <td>-0.005190</td>\n",
              "      <td>0.028674</td>\n",
              "      <td>[-0.10230979661544379, 0.1777063666263608, -0....</td>\n",
              "      <td>[0.0, -0.10230979661544379, -0.102309796615443...</td>\n",
              "      <td>[0.0, 0.0, 0.0, 0.0, 0.0, 0.0, -0.102309796615...</td>\n",
              "    </tr>\n",
              "    <tr>\n",
              "      <th>...</th>\n",
              "      <td>...</td>\n",
              "      <td>...</td>\n",
              "      <td>...</td>\n",
              "      <td>...</td>\n",
              "      <td>...</td>\n",
              "      <td>...</td>\n",
              "      <td>...</td>\n",
              "      <td>...</td>\n",
              "      <td>...</td>\n",
              "      <td>...</td>\n",
              "      <td>...</td>\n",
              "      <td>...</td>\n",
              "      <td>...</td>\n",
              "      <td>...</td>\n",
              "      <td>...</td>\n",
              "      <td>...</td>\n",
              "      <td>...</td>\n",
              "      <td>...</td>\n",
              "      <td>...</td>\n",
              "      <td>...</td>\n",
              "      <td>...</td>\n",
              "    </tr>\n",
              "    <tr>\n",
              "      <th>7982</th>\n",
              "      <td>5769</td>\n",
              "      <td>NO 15/9-F-5 AH</td>\n",
              "      <td>2016-08-22</td>\n",
              "      <td>0.268405</td>\n",
              "      <td>-0.880933</td>\n",
              "      <td>-0.806036</td>\n",
              "      <td>-0.814175</td>\n",
              "      <td>1.149266</td>\n",
              "      <td>1.150153</td>\n",
              "      <td>-1.140330</td>\n",
              "      <td>...</td>\n",
              "      <td>-0.692802</td>\n",
              "      <td>-0.702316</td>\n",
              "      <td>-0.715245</td>\n",
              "      <td>-0.692202</td>\n",
              "      <td>-0.703021</td>\n",
              "      <td>-0.724022</td>\n",
              "      <td>-0.683109</td>\n",
              "      <td>[-0.6852415797773639, -0.6943429268335604, -0....</td>\n",
              "      <td>[-0.6933422169244923, -0.687878486910018, -0.6...</td>\n",
              "      <td>[-0.7133929373653101, -0.7128670168291575, -0....</td>\n",
              "    </tr>\n",
              "    <tr>\n",
              "      <th>7983</th>\n",
              "      <td>5769</td>\n",
              "      <td>NO 15/9-F-5 AH</td>\n",
              "      <td>2016-08-23</td>\n",
              "      <td>0.268405</td>\n",
              "      <td>-0.880933</td>\n",
              "      <td>-0.806036</td>\n",
              "      <td>-0.814175</td>\n",
              "      <td>1.158798</td>\n",
              "      <td>1.150153</td>\n",
              "      <td>-1.136215</td>\n",
              "      <td>...</td>\n",
              "      <td>-0.689514</td>\n",
              "      <td>-0.699464</td>\n",
              "      <td>-0.713067</td>\n",
              "      <td>-0.690182</td>\n",
              "      <td>-0.699482</td>\n",
              "      <td>-0.722275</td>\n",
              "      <td>-0.677835</td>\n",
              "      <td>[-0.6943429268335604, -0.6840874763785847, -0....</td>\n",
              "      <td>[-0.687878486910018, -0.6852415797773639, -0.6...</td>\n",
              "      <td>[-0.7128670168291575, -0.704496114962062, -0.6...</td>\n",
              "    </tr>\n",
              "    <tr>\n",
              "      <th>7984</th>\n",
              "      <td>5769</td>\n",
              "      <td>NO 15/9-F-5 AH</td>\n",
              "      <td>2016-08-24</td>\n",
              "      <td>0.268405</td>\n",
              "      <td>-0.880933</td>\n",
              "      <td>-0.806036</td>\n",
              "      <td>-0.814175</td>\n",
              "      <td>1.141085</td>\n",
              "      <td>1.150153</td>\n",
              "      <td>-1.137527</td>\n",
              "      <td>...</td>\n",
              "      <td>-0.687737</td>\n",
              "      <td>-0.697357</td>\n",
              "      <td>-0.711216</td>\n",
              "      <td>-0.688940</td>\n",
              "      <td>-0.696914</td>\n",
              "      <td>-0.720063</td>\n",
              "      <td>-0.679069</td>\n",
              "      <td>[-0.6840874763785847, -0.6831086798251896, -0....</td>\n",
              "      <td>[-0.6852415797773639, -0.6943429268335604, -0....</td>\n",
              "      <td>[-0.704496114962062, -0.6974619277910209, -0.6...</td>\n",
              "    </tr>\n",
              "    <tr>\n",
              "      <th>7985</th>\n",
              "      <td>5769</td>\n",
              "      <td>NO 15/9-F-5 AH</td>\n",
              "      <td>2016-08-25</td>\n",
              "      <td>0.268405</td>\n",
              "      <td>-1.334973</td>\n",
              "      <td>-1.285316</td>\n",
              "      <td>-1.327391</td>\n",
              "      <td>1.140689</td>\n",
              "      <td>1.150153</td>\n",
              "      <td>-1.140776</td>\n",
              "      <td>...</td>\n",
              "      <td>-0.686410</td>\n",
              "      <td>-0.695555</td>\n",
              "      <td>-0.709500</td>\n",
              "      <td>-0.685783</td>\n",
              "      <td>-0.695013</td>\n",
              "      <td>-0.718130</td>\n",
              "      <td>-0.678646</td>\n",
              "      <td>[-0.6831086798251896, -0.6778348655598816, -0....</td>\n",
              "      <td>[-0.6943429268335604, -0.6840874763785847, -0....</td>\n",
              "      <td>[-0.6974619277910209, -0.6908660077334403, -0....</td>\n",
              "    </tr>\n",
              "    <tr>\n",
              "      <th>7986</th>\n",
              "      <td>5769</td>\n",
              "      <td>NO 15/9-F-5 AH</td>\n",
              "      <td>2016-08-26</td>\n",
              "      <td>-0.744073</td>\n",
              "      <td>-0.434704</td>\n",
              "      <td>-0.323038</td>\n",
              "      <td>-0.323127</td>\n",
              "      <td>1.127728</td>\n",
              "      <td>0.671086</td>\n",
              "      <td>-1.123420</td>\n",
              "      <td>...</td>\n",
              "      <td>-0.684576</td>\n",
              "      <td>-0.693562</td>\n",
              "      <td>-0.707674</td>\n",
              "      <td>-0.684119</td>\n",
              "      <td>-0.693493</td>\n",
              "      <td>-0.715748</td>\n",
              "      <td>-0.675818</td>\n",
              "      <td>[-0.6778348655598816, -0.6790693179294619, -0....</td>\n",
              "      <td>[-0.6840874763785847, -0.6831086798251896, -0....</td>\n",
              "      <td>[-0.6908660077334403, -0.6933422169244923, -0....</td>\n",
              "    </tr>\n",
              "  </tbody>\n",
              "</table>\n",
              "<p>7987 rows × 26 columns</p>\n",
              "</div>"
            ],
            "text/plain": [
              "      well_name  WELL_BORE_CODE        date  prod_hrs       bhp       bht  \\\n",
              "0          7405   NO 15/9-F-1 C  2014-04-22  0.268405  1.029311  0.605973   \n",
              "1          7405   NO 15/9-F-1 C  2014-04-23  0.268405  0.845795  0.634777   \n",
              "2          7405   NO 15/9-F-1 C  2014-04-24  0.268405  0.775025  0.639809   \n",
              "3          7405   NO 15/9-F-1 C  2014-04-25  0.268405  0.705033  0.642084   \n",
              "4          7405   NO 15/9-F-1 C  2014-04-26  0.268405  0.625357  0.643889   \n",
              "...         ...             ...         ...       ...       ...       ...   \n",
              "7982       5769  NO 15/9-F-5 AH  2016-08-22  0.268405 -0.880933 -0.806036   \n",
              "7983       5769  NO 15/9-F-5 AH  2016-08-23  0.268405 -0.880933 -0.806036   \n",
              "7984       5769  NO 15/9-F-5 AH  2016-08-24  0.268405 -0.880933 -0.806036   \n",
              "7985       5769  NO 15/9-F-5 AH  2016-08-25  0.268405 -1.334973 -1.285316   \n",
              "7986       5769  NO 15/9-F-5 AH  2016-08-26 -0.744073 -0.434704 -0.323038   \n",
              "\n",
              "      dp_tubing  AVG_ANNULUS_PRESS  AVG_CHOKE_SIZE_P       whp  ...  \\\n",
              "0      0.396167          -2.016027         -0.533280  3.281836  ...   \n",
              "1      0.239818           0.088113         -0.419656  2.849981  ...   \n",
              "2      0.199890          -0.688434         -0.402874  2.607708  ...   \n",
              "3      0.161493           1.145283         -0.379061  2.364038  ...   \n",
              "4      0.117221           1.145283         -0.340115  2.088747  ...   \n",
              "...         ...                ...               ...       ...  ...   \n",
              "7982  -0.814175           1.149266          1.150153 -1.140330  ...   \n",
              "7983  -0.814175           1.158798          1.150153 -1.136215  ...   \n",
              "7984  -0.814175           1.141085          1.150153 -1.137527  ...   \n",
              "7985  -1.327391           1.140689          1.150153 -1.140776  ...   \n",
              "7986  -0.323127           1.127728          0.671086 -1.123420  ...   \n",
              "\n",
              "      EMA_short  EMA_medium  EMA_long  Rolling_short  Rolling_medium  \\\n",
              "0     -0.103579   -0.104768 -0.106929      -0.001355       -0.002618   \n",
              "1     -0.103579   -0.104768 -0.106929      -0.001355       -0.002618   \n",
              "2     -0.009618   -0.053295 -0.079801      -0.001355       -0.002618   \n",
              "3     -0.020781   -0.051611 -0.076565      -0.001355       -0.002618   \n",
              "4     -0.004428   -0.037199 -0.066767      -0.009496       -0.002618   \n",
              "...         ...         ...       ...            ...             ...   \n",
              "7982  -0.692802   -0.702316 -0.715245      -0.692202       -0.703021   \n",
              "7983  -0.689514   -0.699464 -0.713067      -0.690182       -0.699482   \n",
              "7984  -0.687737   -0.697357 -0.711216      -0.688940       -0.696914   \n",
              "7985  -0.686410   -0.695555 -0.709500      -0.685783       -0.695013   \n",
              "7986  -0.684576   -0.693562 -0.707674      -0.684119       -0.693493   \n",
              "\n",
              "      Rolling_long  oil_rate  \\\n",
              "0        -0.005190 -0.102310   \n",
              "1        -0.005190 -0.102310   \n",
              "2        -0.005190  0.177706   \n",
              "3        -0.005190 -0.042238   \n",
              "4        -0.005190  0.028674   \n",
              "...            ...       ...   \n",
              "7982     -0.724022 -0.683109   \n",
              "7983     -0.722275 -0.677835   \n",
              "7984     -0.720063 -0.679069   \n",
              "7985     -0.718130 -0.678646   \n",
              "7986     -0.715748 -0.675818   \n",
              "\n",
              "                                              Lag_short  \\\n",
              "0                                       [0.0, 0.0, 0.0]   \n",
              "1                      [0.0, 0.0, -0.10230979661544379]   \n",
              "2     [0.0, -0.10230979661544379, -0.10230979661544379]   \n",
              "3     [-0.10230979661544379, -0.10230979661544379, 0...   \n",
              "4     [-0.10230979661544379, 0.1777063666263608, -0....   \n",
              "...                                                 ...   \n",
              "7982  [-0.6852415797773639, -0.6943429268335604, -0....   \n",
              "7983  [-0.6943429268335604, -0.6840874763785847, -0....   \n",
              "7984  [-0.6840874763785847, -0.6831086798251896, -0....   \n",
              "7985  [-0.6831086798251896, -0.6778348655598816, -0....   \n",
              "7986  [-0.6778348655598816, -0.6790693179294619, -0....   \n",
              "\n",
              "                                             Lag_medium  \\\n",
              "0                             [0.0, 0.0, 0.0, 0.0, 0.0]   \n",
              "1            [0.0, 0.0, 0.0, 0.0, -0.10230979661544379]   \n",
              "2     [0.0, 0.0, 0.0, -0.10230979661544379, -0.10230...   \n",
              "3     [0.0, 0.0, -0.10230979661544379, -0.1023097966...   \n",
              "4     [0.0, -0.10230979661544379, -0.102309796615443...   \n",
              "...                                                 ...   \n",
              "7982  [-0.6933422169244923, -0.687878486910018, -0.6...   \n",
              "7983  [-0.687878486910018, -0.6852415797773639, -0.6...   \n",
              "7984  [-0.6852415797773639, -0.6943429268335604, -0....   \n",
              "7985  [-0.6943429268335604, -0.6840874763785847, -0....   \n",
              "7986  [-0.6840874763785847, -0.6831086798251896, -0....   \n",
              "\n",
              "                                               Lag_long  \n",
              "0     [0.0, 0.0, 0.0, 0.0, 0.0, 0.0, 0.0, 0.0, 0.0, ...  \n",
              "1     [0.0, 0.0, 0.0, 0.0, 0.0, 0.0, 0.0, 0.0, 0.0, ...  \n",
              "2     [0.0, 0.0, 0.0, 0.0, 0.0, 0.0, 0.0, 0.0, -0.10...  \n",
              "3     [0.0, 0.0, 0.0, 0.0, 0.0, 0.0, 0.0, -0.1023097...  \n",
              "4     [0.0, 0.0, 0.0, 0.0, 0.0, 0.0, -0.102309796615...  \n",
              "...                                                 ...  \n",
              "7982  [-0.7133929373653101, -0.7128670168291575, -0....  \n",
              "7983  [-0.7128670168291575, -0.704496114962062, -0.6...  \n",
              "7984  [-0.704496114962062, -0.6974619277910209, -0.6...  \n",
              "7985  [-0.6974619277910209, -0.6908660077334403, -0....  \n",
              "7986  [-0.6908660077334403, -0.6933422169244923, -0....  \n",
              "\n",
              "[7987 rows x 26 columns]"
            ]
          },
          "execution_count": 55,
          "metadata": {},
          "output_type": "execute_result"
        }
      ],
      "source": [
        "data"
      ]
    },
    {
      "cell_type": "code",
      "execution_count": 56,
      "metadata": {},
      "outputs": [],
      "source": [
        "for column in multiple_feature_columns:\n",
        "    try:\n",
        "        data[column] = data[column].apply(ast.literal_eval)\n",
        "    except Exception:\n",
        "        pass"
      ]
    },
    {
      "cell_type": "code",
      "execution_count": 57,
      "metadata": {
        "colab": {
          "base_uri": "https://localhost:8080/"
        },
        "id": "9OdDuXzow20l",
        "outputId": "88285f47-248e-473a-a500-a7c9b2fd9b09"
      },
      "outputs": [
        {
          "data": {
            "text/plain": [
              "well_name                False\n",
              "WELL_BORE_CODE           False\n",
              "date                     False\n",
              "prod_hrs                 False\n",
              "bhp                      False\n",
              "bht                      False\n",
              "dp_tubing                False\n",
              "AVG_ANNULUS_PRESS        False\n",
              "AVG_CHOKE_SIZE_P         False\n",
              "whp                      False\n",
              "wht                      False\n",
              "choke_size_percentage    False\n",
              "oil_vol                  False\n",
              "gas_vol                  False\n",
              "water_vol                False\n",
              "linear_regressor         False\n",
              "EMA_short                False\n",
              "EMA_medium               False\n",
              "EMA_long                 False\n",
              "Rolling_short            False\n",
              "Rolling_medium           False\n",
              "Rolling_long             False\n",
              "oil_rate                 False\n",
              "Lag_short                False\n",
              "Lag_medium               False\n",
              "Lag_long                 False\n",
              "dtype: bool"
            ]
          },
          "execution_count": 57,
          "metadata": {},
          "output_type": "execute_result"
        }
      ],
      "source": [
        "data.isna().any()"
      ]
    },
    {
      "cell_type": "code",
      "execution_count": 58,
      "metadata": {},
      "outputs": [
        {
          "data": {
            "text/plain": [
              "19"
            ]
          },
          "execution_count": 58,
          "metadata": {},
          "output_type": "execute_result"
        }
      ],
      "source": [
        "# Get the numerical index of the column 'oil_rate'\n",
        "column_name = 'oil_rate'\n",
        "column_index = data[feature_columns].columns.get_loc(column_name)\n",
        "column_index"
      ]
    },
    {
      "cell_type": "code",
      "execution_count": 59,
      "metadata": {
        "id": "1n-IMFYvNIta"
      },
      "outputs": [],
      "source": [
        "batch_size = 96\n",
        "days_window = 5\n",
        "predictions_days = 14\n",
        "training_gap = predictions_days + days_window"
      ]
    },
    {
      "cell_type": "code",
      "execution_count": 60,
      "metadata": {},
      "outputs": [
        {
          "data": {
            "text/html": [
              "<div>\n",
              "<style scoped>\n",
              "    .dataframe tbody tr th:only-of-type {\n",
              "        vertical-align: middle;\n",
              "    }\n",
              "\n",
              "    .dataframe tbody tr th {\n",
              "        vertical-align: top;\n",
              "    }\n",
              "\n",
              "    .dataframe thead th {\n",
              "        text-align: right;\n",
              "    }\n",
              "</style>\n",
              "<table border=\"1\" class=\"dataframe\">\n",
              "  <thead>\n",
              "    <tr style=\"text-align: right;\">\n",
              "      <th></th>\n",
              "      <th>well_name</th>\n",
              "      <th>inputs_dates</th>\n",
              "      <th>targets_dates</th>\n",
              "      <th>inputs_index</th>\n",
              "      <th>targets_index</th>\n",
              "      <th>inputs</th>\n",
              "      <th>targets</th>\n",
              "    </tr>\n",
              "  </thead>\n",
              "  <tbody>\n",
              "    <tr>\n",
              "      <th>0</th>\n",
              "      <td>7405</td>\n",
              "      <td>[2014-04-22, 2014-04-23, 2014-04-24, 2014-04-2...</td>\n",
              "      <td>[2014-04-27, 2014-04-28, 2014-04-29, 2014-04-3...</td>\n",
              "      <td>[0, 1, 2, 3, 4]</td>\n",
              "      <td>[5, 6, 7, 8, 9, 10, 11, 12, 13, 14, 15, 16, 17...</td>\n",
              "      <td>[[0.2684054414666464, 1.029311137344964, 0.605...</td>\n",
              "      <td>[[0.0314347175089187], [0.0285494590119704], [...</td>\n",
              "    </tr>\n",
              "    <tr>\n",
              "      <th>1</th>\n",
              "      <td>7405</td>\n",
              "      <td>[2014-04-23, 2014-04-24, 2014-04-25, 2014-04-2...</td>\n",
              "      <td>[2014-04-28, 2014-04-29, 2014-04-30, 2014-05-0...</td>\n",
              "      <td>[1, 2, 3, 4, 5]</td>\n",
              "      <td>[6, 7, 8, 9, 10, 11, 12, 13, 14, 15, 16, 17, 1...</td>\n",
              "      <td>[[0.2684054414666464, 0.8457950056169783, 0.63...</td>\n",
              "      <td>[[0.0285494590119704], [-0.0197694902470496], ...</td>\n",
              "    </tr>\n",
              "    <tr>\n",
              "      <th>2</th>\n",
              "      <td>7405</td>\n",
              "      <td>[2014-04-24, 2014-04-25, 2014-04-26, 2014-04-2...</td>\n",
              "      <td>[2014-04-29, 2014-04-30, 2014-05-01, 2014-05-0...</td>\n",
              "      <td>[2, 3, 4, 5, 6]</td>\n",
              "      <td>[7, 8, 9, 10, 11, 12, 13, 14, 15, 16, 17, 18, ...</td>\n",
              "      <td>[[0.2684054414666464, 0.7750251338314448, 0.63...</td>\n",
              "      <td>[[-0.0197694902470496], [-0.0590966592282385],...</td>\n",
              "    </tr>\n",
              "    <tr>\n",
              "      <th>3</th>\n",
              "      <td>7405</td>\n",
              "      <td>[2014-04-25, 2014-04-26, 2014-04-27, 2014-04-2...</td>\n",
              "      <td>[2014-04-30, 2014-05-01, 2014-05-02, 2014-05-0...</td>\n",
              "      <td>[3, 4, 5, 6, 7]</td>\n",
              "      <td>[8, 9, 10, 11, 12, 13, 14, 15, 16, 17, 18, 19,...</td>\n",
              "      <td>[[0.2684054414666464, 0.705033019070403, 0.642...</td>\n",
              "      <td>[[-0.0590966592282385], [-0.068387922033601], ...</td>\n",
              "    </tr>\n",
              "    <tr>\n",
              "      <th>4</th>\n",
              "      <td>7405</td>\n",
              "      <td>[2014-04-26, 2014-04-27, 2014-04-28, 2014-04-2...</td>\n",
              "      <td>[2014-05-01, 2014-05-02, 2014-05-03, 2014-05-0...</td>\n",
              "      <td>[4, 5, 6, 7, 8]</td>\n",
              "      <td>[9, 10, 11, 12, 13, 14, 15, 16, 17, 18, 19, 20...</td>\n",
              "      <td>[[0.2684054414666464, 0.6253569546426345, 0.64...</td>\n",
              "      <td>[[-0.068387922033601], [-0.1698175409921428], ...</td>\n",
              "    </tr>\n",
              "    <tr>\n",
              "      <th>...</th>\n",
              "      <td>...</td>\n",
              "      <td>...</td>\n",
              "      <td>...</td>\n",
              "      <td>...</td>\n",
              "      <td>...</td>\n",
              "      <td>...</td>\n",
              "      <td>...</td>\n",
              "    </tr>\n",
              "    <tr>\n",
              "      <th>7874</th>\n",
              "      <td>5769</td>\n",
              "      <td>[2016-08-04, 2016-08-05, 2016-08-06, 2016-08-0...</td>\n",
              "      <td>[2016-08-09, 2016-08-10, 2016-08-11, 2016-08-1...</td>\n",
              "      <td>[7964, 7965, 7966, 7967, 7968]</td>\n",
              "      <td>[7969, 7970, 7971, 7972, 7973, 7974, 7975, 797...</td>\n",
              "      <td>[[0.2684054414666464, -0.4755216279671734, -0....</td>\n",
              "      <td>[[-0.7318767962210462], [-0.7237141278873048],...</td>\n",
              "    </tr>\n",
              "    <tr>\n",
              "      <th>7875</th>\n",
              "      <td>5769</td>\n",
              "      <td>[2016-08-05, 2016-08-06, 2016-08-07, 2016-08-0...</td>\n",
              "      <td>[2016-08-10, 2016-08-11, 2016-08-12, 2016-08-1...</td>\n",
              "      <td>[7965, 7966, 7967, 7968, 7969]</td>\n",
              "      <td>[7970, 7971, 7972, 7973, 7974, 7975, 7976, 797...</td>\n",
              "      <td>[[0.2684054414666464, -0.4755216279671734, -0....</td>\n",
              "      <td>[[-0.7237141278873048], [-0.7192072810705527],...</td>\n",
              "    </tr>\n",
              "    <tr>\n",
              "      <th>7876</th>\n",
              "      <td>5769</td>\n",
              "      <td>[2016-08-06, 2016-08-07, 2016-08-08, 2016-08-0...</td>\n",
              "      <td>[2016-08-11, 2016-08-12, 2016-08-13, 2016-08-1...</td>\n",
              "      <td>[7966, 7967, 7968, 7969, 7970]</td>\n",
              "      <td>[7971, 7972, 7973, 7974, 7975, 7976, 7977, 797...</td>\n",
              "      <td>[[0.2684054414666464, -0.4755216279671734, -0....</td>\n",
              "      <td>[[-0.7192072810705527], [-0.7133929373653101],...</td>\n",
              "    </tr>\n",
              "    <tr>\n",
              "      <th>7877</th>\n",
              "      <td>5769</td>\n",
              "      <td>[2016-08-07, 2016-08-08, 2016-08-09, 2016-08-1...</td>\n",
              "      <td>[2016-08-12, 2016-08-13, 2016-08-14, 2016-08-1...</td>\n",
              "      <td>[7967, 7968, 7969, 7970, 7971]</td>\n",
              "      <td>[7972, 7973, 7974, 7975, 7976, 7977, 7978, 797...</td>\n",
              "      <td>[[0.2684054414666464, -0.4755216279671734, -0....</td>\n",
              "      <td>[[-0.7133929373653101], [-0.7128670168291575],...</td>\n",
              "    </tr>\n",
              "    <tr>\n",
              "      <th>7878</th>\n",
              "      <td>5769</td>\n",
              "      <td>[2016-08-08, 2016-08-09, 2016-08-10, 2016-08-1...</td>\n",
              "      <td>[2016-08-13, 2016-08-14, 2016-08-15, 2016-08-1...</td>\n",
              "      <td>[7968, 7969, 7970, 7971, 7972]</td>\n",
              "      <td>[7973, 7974, 7975, 7976, 7977, 7978, 7979, 798...</td>\n",
              "      <td>[[0.2684054414666464, -0.4755216279671734, -0....</td>\n",
              "      <td>[[-0.7128670168291575], [-0.704496114962062], ...</td>\n",
              "    </tr>\n",
              "  </tbody>\n",
              "</table>\n",
              "<p>7879 rows × 7 columns</p>\n",
              "</div>"
            ],
            "text/plain": [
              "      well_name                                       inputs_dates  \\\n",
              "0          7405  [2014-04-22, 2014-04-23, 2014-04-24, 2014-04-2...   \n",
              "1          7405  [2014-04-23, 2014-04-24, 2014-04-25, 2014-04-2...   \n",
              "2          7405  [2014-04-24, 2014-04-25, 2014-04-26, 2014-04-2...   \n",
              "3          7405  [2014-04-25, 2014-04-26, 2014-04-27, 2014-04-2...   \n",
              "4          7405  [2014-04-26, 2014-04-27, 2014-04-28, 2014-04-2...   \n",
              "...         ...                                                ...   \n",
              "7874       5769  [2016-08-04, 2016-08-05, 2016-08-06, 2016-08-0...   \n",
              "7875       5769  [2016-08-05, 2016-08-06, 2016-08-07, 2016-08-0...   \n",
              "7876       5769  [2016-08-06, 2016-08-07, 2016-08-08, 2016-08-0...   \n",
              "7877       5769  [2016-08-07, 2016-08-08, 2016-08-09, 2016-08-1...   \n",
              "7878       5769  [2016-08-08, 2016-08-09, 2016-08-10, 2016-08-1...   \n",
              "\n",
              "                                          targets_dates  \\\n",
              "0     [2014-04-27, 2014-04-28, 2014-04-29, 2014-04-3...   \n",
              "1     [2014-04-28, 2014-04-29, 2014-04-30, 2014-05-0...   \n",
              "2     [2014-04-29, 2014-04-30, 2014-05-01, 2014-05-0...   \n",
              "3     [2014-04-30, 2014-05-01, 2014-05-02, 2014-05-0...   \n",
              "4     [2014-05-01, 2014-05-02, 2014-05-03, 2014-05-0...   \n",
              "...                                                 ...   \n",
              "7874  [2016-08-09, 2016-08-10, 2016-08-11, 2016-08-1...   \n",
              "7875  [2016-08-10, 2016-08-11, 2016-08-12, 2016-08-1...   \n",
              "7876  [2016-08-11, 2016-08-12, 2016-08-13, 2016-08-1...   \n",
              "7877  [2016-08-12, 2016-08-13, 2016-08-14, 2016-08-1...   \n",
              "7878  [2016-08-13, 2016-08-14, 2016-08-15, 2016-08-1...   \n",
              "\n",
              "                        inputs_index  \\\n",
              "0                    [0, 1, 2, 3, 4]   \n",
              "1                    [1, 2, 3, 4, 5]   \n",
              "2                    [2, 3, 4, 5, 6]   \n",
              "3                    [3, 4, 5, 6, 7]   \n",
              "4                    [4, 5, 6, 7, 8]   \n",
              "...                              ...   \n",
              "7874  [7964, 7965, 7966, 7967, 7968]   \n",
              "7875  [7965, 7966, 7967, 7968, 7969]   \n",
              "7876  [7966, 7967, 7968, 7969, 7970]   \n",
              "7877  [7967, 7968, 7969, 7970, 7971]   \n",
              "7878  [7968, 7969, 7970, 7971, 7972]   \n",
              "\n",
              "                                          targets_index  \\\n",
              "0     [5, 6, 7, 8, 9, 10, 11, 12, 13, 14, 15, 16, 17...   \n",
              "1     [6, 7, 8, 9, 10, 11, 12, 13, 14, 15, 16, 17, 1...   \n",
              "2     [7, 8, 9, 10, 11, 12, 13, 14, 15, 16, 17, 18, ...   \n",
              "3     [8, 9, 10, 11, 12, 13, 14, 15, 16, 17, 18, 19,...   \n",
              "4     [9, 10, 11, 12, 13, 14, 15, 16, 17, 18, 19, 20...   \n",
              "...                                                 ...   \n",
              "7874  [7969, 7970, 7971, 7972, 7973, 7974, 7975, 797...   \n",
              "7875  [7970, 7971, 7972, 7973, 7974, 7975, 7976, 797...   \n",
              "7876  [7971, 7972, 7973, 7974, 7975, 7976, 7977, 797...   \n",
              "7877  [7972, 7973, 7974, 7975, 7976, 7977, 7978, 797...   \n",
              "7878  [7973, 7974, 7975, 7976, 7977, 7978, 7979, 798...   \n",
              "\n",
              "                                                 inputs  \\\n",
              "0     [[0.2684054414666464, 1.029311137344964, 0.605...   \n",
              "1     [[0.2684054414666464, 0.8457950056169783, 0.63...   \n",
              "2     [[0.2684054414666464, 0.7750251338314448, 0.63...   \n",
              "3     [[0.2684054414666464, 0.705033019070403, 0.642...   \n",
              "4     [[0.2684054414666464, 0.6253569546426345, 0.64...   \n",
              "...                                                 ...   \n",
              "7874  [[0.2684054414666464, -0.4755216279671734, -0....   \n",
              "7875  [[0.2684054414666464, -0.4755216279671734, -0....   \n",
              "7876  [[0.2684054414666464, -0.4755216279671734, -0....   \n",
              "7877  [[0.2684054414666464, -0.4755216279671734, -0....   \n",
              "7878  [[0.2684054414666464, -0.4755216279671734, -0....   \n",
              "\n",
              "                                                targets  \n",
              "0     [[0.0314347175089187], [0.0285494590119704], [...  \n",
              "1     [[0.0285494590119704], [-0.0197694902470496], ...  \n",
              "2     [[-0.0197694902470496], [-0.0590966592282385],...  \n",
              "3     [[-0.0590966592282385], [-0.068387922033601], ...  \n",
              "4     [[-0.068387922033601], [-0.1698175409921428], ...  \n",
              "...                                                 ...  \n",
              "7874  [[-0.7318767962210462], [-0.7237141278873048],...  \n",
              "7875  [[-0.7237141278873048], [-0.7192072810705527],...  \n",
              "7876  [[-0.7192072810705527], [-0.7133929373653101],...  \n",
              "7877  [[-0.7133929373653101], [-0.7128670168291575],...  \n",
              "7878  [[-0.7128670168291575], [-0.704496114962062], ...  \n",
              "\n",
              "[7879 rows x 7 columns]"
            ]
          },
          "execution_count": 60,
          "metadata": {},
          "output_type": "execute_result"
        }
      ],
      "source": [
        "dataset = ut.produce_multivariate_dataset(data, days_window, predictions_days, single_feature_columns, multiple_feature_columns, target_column, well_info)\n",
        "dataset"
      ]
    },
    {
      "cell_type": "code",
      "execution_count": 61,
      "metadata": {
        "colab": {
          "base_uri": "https://localhost:8080/",
          "height": 949
        },
        "id": "H77kZkM1lU5_",
        "outputId": "c9ef2650-18de-46b7-a650-93167d737eef"
      },
      "outputs": [],
      "source": [
        "# dataset.to_pickle(path + \"/data/Volve/all_data.pkl\")\n",
        "# dataset.to_csv(path + \"/data/Volve/all_data.csv\")\n",
        "# dataset"
      ]
    },
    {
      "cell_type": "code",
      "execution_count": 62,
      "metadata": {
        "id": "fibAgggFAAhT"
      },
      "outputs": [],
      "source": [
        "train_size = 0.6\n",
        "val_size = 0.2\n",
        "test_size = 0.2"
      ]
    },
    {
      "cell_type": "code",
      "execution_count": 63,
      "metadata": {
        "id": "Nbxt8qRjwm4U"
      },
      "outputs": [],
      "source": [
        "test_size_param1 = test_size\n",
        "test_size_param2 = val_size / (1 - test_size_param1)"
      ]
    },
    {
      "cell_type": "code",
      "execution_count": 64,
      "metadata": {},
      "outputs": [],
      "source": [
        "data_train, data_val, data_test = ut.split_dataset(dataset, val_size, test_size, well_info, shuffle_train=True)"
      ]
    },
    {
      "cell_type": "code",
      "execution_count": 65,
      "metadata": {
        "colab": {
          "base_uri": "https://localhost:8080/"
        },
        "id": "SxLKPdjjBb6O",
        "outputId": "4f0bf1d7-932a-4cf3-a45b-231392ffaea5"
      },
      "outputs": [],
      "source": [
        "# data_train.to_pickle(path + \"/data/Volve/data_train.pkl\")\n",
        "# data_val.to_pickle(path + \"/data/Volve/data_val.pkl\")\n",
        "# data_test.to_pickle(path + \"/data/Volve/data_test.pkl\")\n",
        "\n",
        "# data_train.to_csv(path + \"/data/Volve/data_train.csv\")\n",
        "# data_val.to_csv(path + \"/data/Volve/data_val.csv\")\n",
        "# data_test.to_csv(path + \"/data/Volve/data_test.csv\")\n"
      ]
    },
    {
      "cell_type": "code",
      "execution_count": 66,
      "metadata": {},
      "outputs": [],
      "source": [
        "all_data = pd.read_pickle(path + \"data/Volve/all_data.pkl\")\n",
        "data_train = pd.read_pickle(path + \"data/Volve/data_train.pkl\")\n",
        "data_val = pd.read_pickle(path + \"data/Volve/data_val.pkl\")\n",
        "data_test = pd.read_pickle(path + \"data/Volve/data_test.pkl\")"
      ]
    },
    {
      "cell_type": "code",
      "execution_count": 67,
      "metadata": {},
      "outputs": [],
      "source": [
        "# all_data = pd.read_csv(path + \"data/Volve/all_data.csv\")\n",
        "# data_train = pd.read_csv(path + \"data/Volve/data_train.csv\")\n",
        "# data_val = pd.read_csv(path + \"data/Volve/data_val.csv\")\n",
        "# data_test = pd.read_csv(path + \"data/Volve/data_test.csv\")"
      ]
    },
    {
      "cell_type": "code",
      "execution_count": 68,
      "metadata": {},
      "outputs": [],
      "source": [
        "# for df in [all_data, data_train, data_val, data_test]:\n",
        "#     # Ensure each entry in 'inputs' and 'targets' is a NumPy array\n",
        "#     df['inputs'] = df['inputs'].apply(lambda x: np.array(x, dtype=np.float32))\n",
        "#     df['targets'] = df['targets'].apply(lambda x: np.array(x, dtype=np.float32))"
      ]
    },
    {
      "cell_type": "code",
      "execution_count": 69,
      "metadata": {},
      "outputs": [
        {
          "data": {
            "text/plain": [
              "((4730, 7), (1577, 7), (1573, 7))"
            ]
          },
          "execution_count": 69,
          "metadata": {},
          "output_type": "execute_result"
        }
      ],
      "source": [
        "data_train.shape, data_val.shape, data_test.shape"
      ]
    },
    {
      "cell_type": "code",
      "execution_count": 70,
      "metadata": {},
      "outputs": [
        {
          "name": "stdout",
          "output_type": "stream",
          "text": [
            "The input/output gap is fine\n"
          ]
        }
      ],
      "source": [
        "check = True\n",
        "for i, j in well_info.items():\n",
        "    if len(all_data[all_data['well_name'] == i]) < 10:\n",
        "        print(\"The input/output gap is too high for well\", i)\n",
        "        check = False\n",
        "if check:\n",
        "    print(\"The input/output gap is fine\")"
      ]
    },
    {
      "cell_type": "code",
      "execution_count": 71,
      "metadata": {},
      "outputs": [
        {
          "name": "stdout",
          "output_type": "stream",
          "text": [
            "All datasets have all wells\n"
          ]
        }
      ],
      "source": [
        "check=True\n",
        "for i in [data_train, data_val, data_test]:\n",
        "    for j in well_info.keys():\n",
        "        if j not in set(list(i['well_name'])):\n",
        "            print(\"Some datasets do not have specific well\")\n",
        "            check = False\n",
        "            break\n",
        "if check:\n",
        "    print(\"All datasets have all wells\")"
      ]
    },
    {
      "cell_type": "code",
      "execution_count": 72,
      "metadata": {},
      "outputs": [],
      "source": [
        "for df in [data_train, data_val, data_test]:\n",
        "    for column in df.columns:\n",
        "        try:\n",
        "            data[column] = data[column].apply(ast.literal_eval)\n",
        "        except Exception:\n",
        "            pass"
      ]
    },
    {
      "cell_type": "code",
      "execution_count": 73,
      "metadata": {},
      "outputs": [
        {
          "data": {
            "text/plain": [
              "((5, 38), (14, 1))"
            ]
          },
          "execution_count": 73,
          "metadata": {},
          "output_type": "execute_result"
        }
      ],
      "source": [
        "data_train['inputs'][0].shape, data_train['targets'][0].shape"
      ]
    },
    {
      "cell_type": "code",
      "execution_count": 74,
      "metadata": {},
      "outputs": [
        {
          "data": {
            "text/plain": [
              "'mps'"
            ]
          },
          "execution_count": 74,
          "metadata": {},
          "output_type": "execute_result"
        }
      ],
      "source": [
        "if torch.backends.mps.is_available():\n",
        "    device = 'mps'\n",
        "elif torch.cuda.is_available():\n",
        "    device = 'cuda'\n",
        "else:\n",
        "    device = 'cpu' \n",
        "device"
      ]
    },
    {
      "cell_type": "code",
      "execution_count": 75,
      "metadata": {
        "id": "SZXwNYhTO9V_"
      },
      "outputs": [],
      "source": [
        "eval_interval = 500\n",
        "test_eval_interval = 500\n",
        "test_iterations = 7500\n",
        "warmup_steps = 6000 # hyper-parameters for hyperprameter finetuning"
      ]
    },
    {
      "cell_type": "code",
      "execution_count": 76,
      "metadata": {
        "id": "dPVTSvxu1cVQ"
      },
      "outputs": [],
      "source": [
        "train_dataset = ut.TimeSeriesDataset(data_train)\n",
        "val_dataset = ut.TimeSeriesDataset(data_val)\n",
        "test_dataset = ut.TimeSeriesDataset(data_test)\n",
        "\n",
        "train_loader = DataLoader(train_dataset, batch_size=batch_size, shuffle=True)\n",
        "val_loader = DataLoader(val_dataset, batch_size=batch_size, shuffle=True)\n",
        "test_loader = DataLoader(test_dataset, batch_size=batch_size, shuffle=False)\n"
      ]
    },
    {
      "cell_type": "code",
      "execution_count": 77,
      "metadata": {},
      "outputs": [],
      "source": [
        "visualization_test_dataset = ut.VisualizationTimeSeriesDataset(data_test)\n",
        "\n",
        "visualization_test_loader = DataLoader(visualization_test_dataset, batch_size=int(len(test_dataset) / 50), shuffle=True)"
      ]
    },
    {
      "cell_type": "code",
      "execution_count": 78,
      "metadata": {},
      "outputs": [],
      "source": [
        "input_length = data_train['inputs'][0].shape[1]\n",
        "output_length = predictions_days"
      ]
    },
    {
      "cell_type": "code",
      "execution_count": 79,
      "metadata": {
        "id": "0h7KW6y9PatC"
      },
      "outputs": [],
      "source": [
        "# Define an objective function for Optuna\n",
        "def objective(trial):\n",
        "    vector_length = trial.suggest_int('vector_length', 16, 2048, step=16)\n",
        "    num_layers = trial.suggest_int('num_layers', 1, 5) # maybe increase it to 6\n",
        "    dropout = trial.suggest_float('dropout', 0.1, 0.6)\n",
        "    lr = trial.suggest_float('lr', 1e-5, 1e-2, log=True)\n",
        "    gamma = trial.suggest_float('gamma', 0.95, 0.99)\n",
        "    model = models.LSTM(input_length=input_length, hidden_length=vector_length, output_length=output_length, num_layers=num_layers, dropout=dropout).to(device)\n",
        "    optimizer = torch.optim.AdamW(model.parameters(), lr=lr)\n",
        "    scheduler = torch.optim.lr_scheduler.ExponentialLR(optimizer, gamma=gamma) # setting optimizer scheduler\n",
        "    train_loader_iter = iter(train_loader)\n",
        "    # Training loop\n",
        "    for i in range(test_iterations):\n",
        "        model.train()\n",
        "        if (i % test_eval_interval == 0 or i == test_iterations - 1):\n",
        "            losses = ut.estimate_loss(model, train_loader, val_loader)\n",
        "            trial.report(losses['val'], i)\n",
        "            if i != 0:\n",
        "                scheduler.step()\n",
        "            # if i >= warmup_steps and trial.should_prune():\n",
        "            #     raise optuna.TrialPruned()\n",
        "        try:\n",
        "            X_batch, Y_batch = next(train_loader_iter)\n",
        "        except StopIteration:\n",
        "            train_loader_iter = iter(train_loader)\n",
        "            X_batch, Y_batch = next(train_loader_iter)\n",
        "            \n",
        "        X_batch, Y_batch = X_batch.to(device), Y_batch.to(device)\n",
        "        logits, loss = model(X_batch, Y_batch)\n",
        "        optimizer.zero_grad(set_to_none=True)\n",
        "        loss.backward()\n",
        "        optimizer.step()\n",
        "    val_metrics = ut.evaluate('val', model)\n",
        "    return val_metrics['Loss']\n",
        "\n",
        "def load_model(name=\"\"): \n",
        "    config_path = path + r'Models/Global/LSTM/Model/Complete/'\n",
        "    if name != \"\":\n",
        "        name = f'{name}_'\n",
        "    model = torch.load(config_path + f'{name}complete_params.pth')\n",
        "    optimizer = torch.load(config_path + f'{name}complete_optimizer.pth')\n",
        "    scheduler = torch.load(config_path + f'{name}complete_scheduler.pth')\n",
        "    return model, optimizer, scheduler\n",
        "\n"
      ]
    },
    {
      "cell_type": "code",
      "execution_count": 80,
      "metadata": {},
      "outputs": [],
      "source": [
        "# # Create a study and optimize the objective function\n",
        "# study = optuna.create_study(direction='minimize')\n",
        "# study.optimize(objective, n_trials=200)\n",
        "\n",
        "# # Get the best hyperparameters\n",
        "# best_params = study.best_params\n",
        "# print('Best hyperparameters:', best_params)\n",
        "\n",
        "# # Train the final model with the best hyperparameters\n",
        "# vector_length = best_params['vector_length']\n",
        "# num_layers = best_params['num_layers']\n",
        "# dropout = best_params['dropout']\n",
        "# lr = best_params['lr']\n",
        "# gamma = best_params['gamma']"
      ]
    },
    {
      "cell_type": "code",
      "execution_count": 81,
      "metadata": {},
      "outputs": [],
      "source": [
        "vector_length = 1024\n",
        "num_layers = 3\n",
        "dropout = 0.19057012152026273\n",
        "lr = 0.0001911914637460164\n",
        "gamma = 0.9806898435934219 # 2nd best results on val set full training"
      ]
    },
    {
      "cell_type": "code",
      "execution_count": 82,
      "metadata": {},
      "outputs": [],
      "source": [
        "vector_length = 336\n",
        "num_layers = 3\n",
        "dropout = 0.12831089625320793\n",
        "lr = 0.0003724263259631224\n",
        "gamma = 0.978770138138513 # best results on val set full training"
      ]
    },
    {
      "cell_type": "code",
      "execution_count": 38,
      "metadata": {
        "colab": {
          "base_uri": "https://localhost:8080/"
        },
        "id": "lYRS6z8uI3Nr",
        "outputId": "9135626b-446a-427a-8dd0-f4a54073a157"
      },
      "outputs": [
        {
          "name": "stdout",
          "output_type": "stream",
          "text": [
            "The shape of input is: torch.Size([96, 5, 38]) and the shape of the output is torch.Size([96, 14])\n",
            "The output shape of the LSTM will be (96, 14) and a an example initial loss is 1.1392195224761963\n"
          ]
        }
      ],
      "source": [
        "# Example usage\n",
        "context_size = days_window - 1\n",
        "X_batch, Y_batch = next(iter(train_loader))\n",
        "X_batch, Y_batch = X_batch.to(device), Y_batch.to(device)\n",
        "print(f'The shape of input is: {X_batch.shape} and the shape of the output is {Y_batch.shape}')\n",
        "model = models.LSTM(input_length=input_length, hidden_length=vector_length, output_length=output_length, num_layers=num_layers, dropout=dropout).to(device)\n",
        "output, loss = model(X_batch, Y_batch)\n",
        "print(f'The output shape of the LSTM will be {tuple(output.shape)} and a an example initial loss is {loss}')"
      ]
    },
    {
      "cell_type": "code",
      "execution_count": 45,
      "metadata": {
        "id": "0eSC24XWOoMf"
      },
      "outputs": [],
      "source": [
        "model = models.LSTM(input_length=input_length, hidden_length=vector_length, output_length=output_length, num_layers=num_layers, dropout=dropout).to(device)\n",
        "optimizer = torch.optim.AdamW(model.parameters(), lr=lr)\n",
        "scheduler = torch.optim.lr_scheduler.ExponentialLR(optimizer, gamma=gamma) # setting optimizer scheduler"
      ]
    },
    {
      "cell_type": "code",
      "execution_count": 40,
      "metadata": {},
      "outputs": [],
      "source": [
        "iterations = 30000"
      ]
    },
    {
      "cell_type": "code",
      "execution_count": 42,
      "metadata": {
        "colab": {
          "base_uri": "https://localhost:8080/",
          "height": 1000
        },
        "id": "o-CnvgwmOjRW",
        "outputId": "196cb846-ee96-47a5-a867-c1a1dac00309"
      },
      "outputs": [
        {
          "name": "stdout",
          "output_type": "stream",
          "text": [
            "step 0: train loss 1.1335, val loss 1.1122\n",
            "step 500: train loss 0.0559, val loss 0.0518\n",
            "step 1000: train loss 0.0483, val loss 0.0501\n",
            "step 1500: train loss 0.0463, val loss 0.0487\n",
            "step 2000: train loss 0.0432, val loss 0.0463\n",
            "step 2500: train loss 0.0395, val loss 0.0409\n",
            "step 3000: train loss 0.0408, val loss 0.0470\n",
            "step 3500: train loss 0.0257, val loss 0.0372\n",
            "step 4000: train loss 0.0216, val loss 0.0341\n",
            "step 4500: train loss 0.0224, val loss 0.0346\n",
            "step 5000: train loss 0.0170, val loss 0.0299\n",
            "step 5500: train loss 0.0143, val loss 0.0288\n",
            "step 6000: train loss 0.0138, val loss 0.0275\n",
            "step 6500: train loss 0.0126, val loss 0.0275\n",
            "step 7000: train loss 0.0114, val loss 0.0267\n",
            "step 7500: train loss 0.0105, val loss 0.0260\n",
            "step 8000: train loss 0.0103, val loss 0.0260\n",
            "step 8500: train loss 0.0095, val loss 0.0260\n",
            "step 9000: train loss 0.0091, val loss 0.0255\n",
            "step 9500: train loss 0.0083, val loss 0.0258\n",
            "step 10000: train loss 0.0080, val loss 0.0249\n",
            "step 10500: train loss 0.0079, val loss 0.0246\n",
            "step 11000: train loss 0.0077, val loss 0.0250\n",
            "step 11500: train loss 0.0066, val loss 0.0259\n",
            "step 12000: train loss 0.0065, val loss 0.0255\n",
            "Training ended manually by user.\n",
            "\n",
            "Training is complete\n"
          ]
        }
      ],
      "source": [
        "train_loader_iter = iter(train_loader)\n",
        "log_file = ut.get_next_log_file(path + \"/Models/Global/LSTM/Logs\")\n",
        "config_directory = r'Models/Global/LSTM/Model/State/'\n",
        "model_directory = r'Models/Global/LSTM/Model/Complete/'\n",
        "\n",
        "log_message = f\"Hyperparameters: Vector Length = {vector_length}, Number of Layers = {num_layers}, Dropout = {dropout}, Learning Rate = {lr}, Scheduler Gamma = {gamma}\\n\"\n",
        "\n",
        "ut.log_to_file(log_file, log_message)\n",
        "model.train()\n",
        "try:\n",
        "    for i in range(iterations):\n",
        "        model.train()  # Set model to training mode\n",
        "        if i % eval_interval == 0 or i == iterations - 1:\n",
        "            # Evaluate and save model parameters periodically\n",
        "            model.save_params(optimizer=optimizer, scheduler=scheduler, config_path=path+config_directory, model_path=path+model_directory, name='current')  # Saving parameters\n",
        "            model.eval()\n",
        "            losses = ut.estimate_loss(model, train_loader, val_loader, device=device)  # Estimate train and val loss\n",
        "            model.train()\n",
        "            log_message = f\"step {i}: train loss {losses['train']:.4f}, val loss {losses['val']:.4f}\"\n",
        "            print(log_message)\n",
        "            ut.log_to_file(log_file, log_message)  # Log to file\n",
        "            if i != 0:\n",
        "                scheduler.step()  # Perform scheduler step\n",
        "        try:\n",
        "            # Get the next batch\n",
        "            X_batch, Y_batch = next(train_loader_iter)\n",
        "        except StopIteration:\n",
        "            # Reinitialize the iterator if the DataLoader is exhausted\n",
        "            train_loader_iter = iter(train_loader)\n",
        "            X_batch, Y_batch = next(train_loader_iter)\n",
        "\n",
        "        X_batch, Y_batch = X_batch.to(device), Y_batch.to(device)\n",
        "        logits, loss = model(X_batch, Y_batch)  # Run inputs and expected outputs through model\n",
        "        optimizer.zero_grad(set_to_none=True)  # Set gradients to 0 (to ensure gradients don't explode)\n",
        "        loss.backward()  # Perform backpropagation\n",
        "        optimizer.step()  # Perform parameter adjustment\n",
        "\n",
        "except KeyboardInterrupt:\n",
        "    print(\"Training ended manually by user.\\n\")\n",
        "model.eval()\n",
        "print(\"Training is complete\")\n"
      ]
    },
    {
      "cell_type": "code",
      "execution_count": 43,
      "metadata": {},
      "outputs": [
        {
          "name": "stdout",
          "output_type": "stream",
          "text": [
            "Metrics on dataset:\n",
            "\n",
            "Loss is 0.0050\n",
            "MAE is 0.0430\n",
            "RMSE is 0.0704\n",
            "R² is 0.9955\n",
            "\n",
            "\n",
            "Metrics on dataset:\n",
            "\n",
            "Loss is 0.0212\n",
            "MAE is 0.0749\n",
            "RMSE is 0.1472\n",
            "R² is 0.9799\n",
            "\n",
            "\n",
            "Metrics on dataset:\n",
            "\n",
            "Loss is 0.0116\n",
            "MAE is 0.0765\n",
            "RMSE is 0.1060\n",
            "R² is 0.5306\n",
            "\n",
            "\n"
          ]
        }
      ],
      "source": [
        "model.eval()\n",
        "train_metrics = ut.evaluate(model, train_loader, device=device)\n",
        "val_metrics = ut.evaluate(model, val_loader, device=device)\n",
        "test_metrics = ut.evaluate(model, test_loader, device=device)\n",
        "ut.log_to_file(log_file, str(f\"\\nMetrics = {test_metrics}\"))"
      ]
    },
    {
      "cell_type": "code",
      "execution_count": 46,
      "metadata": {},
      "outputs": [
        {
          "name": "stdout",
          "output_type": "stream",
          "text": [
            "One or more files not found.\n"
          ]
        }
      ],
      "source": [
        "models.LSTM.label_model_files(config_path=path+'Models/Global/LSTM/Model/State', model_path=path+'Models/Global/LSTM/Model/Complete', old_name='current', new_name='best')"
      ]
    },
    {
      "cell_type": "code",
      "execution_count": 85,
      "metadata": {},
      "outputs": [
        {
          "ename": "TypeError",
          "evalue": "LSTM.load_params() missing 1 required positional argument: 'self'",
          "output_type": "error",
          "traceback": [
            "\u001b[0;31m---------------------------------------------------------------------------\u001b[0m",
            "\u001b[0;31mTypeError\u001b[0m                                 Traceback (most recent call last)",
            "Cell \u001b[0;32mIn[85], line 1\u001b[0m\n\u001b[0;32m----> 1\u001b[0m model, optimizer, scheduler \u001b[38;5;241m=\u001b[39m \u001b[43mmodels\u001b[49m\u001b[38;5;241;43m.\u001b[39;49m\u001b[43mLSTM\u001b[49m\u001b[38;5;241;43m.\u001b[39;49m\u001b[43mload_params\u001b[49m\u001b[43m(\u001b[49m\u001b[43mconfig_path\u001b[49m\u001b[38;5;241;43m=\u001b[39;49m\u001b[43mpath\u001b[49m\u001b[38;5;241;43m+\u001b[39;49m\u001b[38;5;124;43m'\u001b[39;49m\u001b[38;5;124;43mModels/Global/LSTM/Model/State\u001b[39;49m\u001b[38;5;124;43m'\u001b[39;49m\u001b[43m,\u001b[49m\u001b[43m \u001b[49m\u001b[43mname\u001b[49m\u001b[38;5;241;43m=\u001b[39;49m\u001b[38;5;124;43m'\u001b[39;49m\u001b[38;5;124;43mbest\u001b[39;49m\u001b[38;5;124;43m'\u001b[39;49m\u001b[43m)\u001b[49m\n",
            "\u001b[0;31mTypeError\u001b[0m: LSTM.load_params() missing 1 required positional argument: 'self'"
          ]
        }
      ],
      "source": [
        "model, optimizer, scheduler = models.LSTM.load_params(config_path=path+'Models/Global/LSTM/Model/State', name='best')"
      ]
    },
    {
      "cell_type": "code",
      "execution_count": 83,
      "metadata": {},
      "outputs": [
        {
          "ename": "AttributeError",
          "evalue": "module 'models' has no attribute 'load_model'",
          "output_type": "error",
          "traceback": [
            "\u001b[0;31m---------------------------------------------------------------------------\u001b[0m",
            "\u001b[0;31mAttributeError\u001b[0m                            Traceback (most recent call last)",
            "Cell \u001b[0;32mIn[83], line 1\u001b[0m\n\u001b[0;32m----> 1\u001b[0m model, optimizer, scheduler \u001b[38;5;241m=\u001b[39m \u001b[43mmodels\u001b[49m\u001b[38;5;241;43m.\u001b[39;49m\u001b[43mload_model\u001b[49m(path\u001b[38;5;241m+\u001b[39m\u001b[38;5;124m'\u001b[39m\u001b[38;5;124mModels/Global/LSTM/Model/Complete\u001b[39m\u001b[38;5;124m'\u001b[39m, include_optimizer\u001b[38;5;241m=\u001b[39m\u001b[38;5;28;01mTrue\u001b[39;00m, include_scheduler\u001b[38;5;241m=\u001b[39m\u001b[38;5;28;01mTrue\u001b[39;00m, name\u001b[38;5;241m=\u001b[39m\u001b[38;5;124m'\u001b[39m\u001b[38;5;124mbest\u001b[39m\u001b[38;5;124m'\u001b[39m)\n",
            "\u001b[0;31mAttributeError\u001b[0m: module 'models' has no attribute 'load_model'"
          ]
        }
      ],
      "source": [
        "model, optimizer, scheduler = models.load_model(path+'Models/Global/LSTM/Model/Complete', include_optimizer=True, include_scheduler=True, name='best')"
      ]
    },
    {
      "cell_type": "code",
      "execution_count": 46,
      "metadata": {},
      "outputs": [
        {
          "name": "stdout",
          "output_type": "stream",
          "text": [
            "Metrics on dataset:\n",
            "\n",
            "Loss is 0.0116\n",
            "MAE is 0.0765\n",
            "RMSE is 0.1060\n",
            "R² is 0.5306\n",
            "\n",
            "\n"
          ]
        }
      ],
      "source": [
        "ut.produce_graphs(model, visualization_test_loader, data, data_test, days_window, predictions_days, path + \"Models/Global/XGBoost/Graphs\", well_info, test_size, column_index=column_index, device=device)\n",
        "test_metrics = ut.evaluate(model, test_loader, device=device)"
      ]
    },
    {
      "cell_type": "markdown",
      "metadata": {},
      "source": [
        "1. consecutive set splits (bad)\n",
        "2. experiment with the lags (slightly worse on test set)\n",
        "3. add more to chronos\n",
        "4. change mean and std to training data\n",
        "\n",
        "universal:\n",
        "1. try to find tutorials"
      ]
    }
  ],
  "metadata": {
    "accelerator": "GPU",
    "colab": {
      "gpuType": "L4",
      "machine_shape": "hm",
      "provenance": []
    },
    "kernelspec": {
      "display_name": "Python 3",
      "name": "python3"
    },
    "language_info": {
      "codemirror_mode": {
        "name": "ipython",
        "version": 3
      },
      "file_extension": ".py",
      "mimetype": "text/x-python",
      "name": "python",
      "nbconvert_exporter": "python",
      "pygments_lexer": "ipython3",
      "version": "3.10.14"
    }
  },
  "nbformat": 4,
  "nbformat_minor": 0
}
