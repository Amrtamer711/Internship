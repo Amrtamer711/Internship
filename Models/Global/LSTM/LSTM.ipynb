{
  "cells": [
    {
      "cell_type": "code",
      "execution_count": 198,
      "metadata": {
        "colab": {
          "base_uri": "https://localhost:8080/",
          "height": 344
        },
        "id": "UiR3fmx7CA4k",
        "outputId": "0bc76cb5-4eef-4f5b-d17f-3a312ac0eb32"
      },
      "outputs": [],
      "source": [
        "import torch\n",
        "import torch.nn as nn\n",
        "import torch.nn.functional as F\n",
        "import pandas as pd\n",
        "import torch\n",
        "from torch.utils.data import DataLoader\n",
        "import numpy as np\n",
        "from sklearn.metrics import mean_absolute_error, mean_squared_error, r2_score\n",
        "from sklearn.model_selection import train_test_split\n",
        "from torch.utils.data import Dataset, DataLoader\n",
        "import os\n",
        "import re\n",
        "import json\n",
        "import optuna\n",
        "import ast"
      ]
    },
    {
      "cell_type": "code",
      "execution_count": 3,
      "metadata": {
        "id": "kHGp1xjdeuoP"
      },
      "outputs": [],
      "source": [
        "path = \"/Users/amrtamer/Documents/Internship\"\n",
        "# path = \"/content/drive/MyDrive/Internship\""
      ]
    },
    {
      "cell_type": "code",
      "execution_count": 4,
      "metadata": {
        "colab": {
          "base_uri": "https://localhost:8080/",
          "height": 355
        },
        "id": "oMm8nN82aHf-",
        "outputId": "af7ebad3-5206-4dd9-e0d2-806809812f0a"
      },
      "outputs": [
        {
          "data": {
            "text/html": [
              "<div>\n",
              "<style scoped>\n",
              "    .dataframe tbody tr th:only-of-type {\n",
              "        vertical-align: middle;\n",
              "    }\n",
              "\n",
              "    .dataframe tbody tr th {\n",
              "        vertical-align: top;\n",
              "    }\n",
              "\n",
              "    .dataframe thead th {\n",
              "        text-align: right;\n",
              "    }\n",
              "</style>\n",
              "<table border=\"1\" class=\"dataframe\">\n",
              "  <thead>\n",
              "    <tr style=\"text-align: right;\">\n",
              "      <th></th>\n",
              "      <th>well_name</th>\n",
              "      <th>WELL_BORE_CODE</th>\n",
              "      <th>date</th>\n",
              "      <th>prod_hrs</th>\n",
              "      <th>bhp</th>\n",
              "      <th>bht</th>\n",
              "      <th>dp_tubing</th>\n",
              "      <th>AVG_ANNULUS_PRESS</th>\n",
              "      <th>AVG_CHOKE_SIZE_P</th>\n",
              "      <th>whp</th>\n",
              "      <th>...</th>\n",
              "      <th>linear_regressor</th>\n",
              "      <th>EMA_short</th>\n",
              "      <th>EMA_medium</th>\n",
              "      <th>EMA_long</th>\n",
              "      <th>Rolling_short</th>\n",
              "      <th>Rolling_medium</th>\n",
              "      <th>Rolling_long</th>\n",
              "      <th>Lag_short</th>\n",
              "      <th>Lag_medium</th>\n",
              "      <th>Lag_long</th>\n",
              "    </tr>\n",
              "  </thead>\n",
              "  <tbody>\n",
              "    <tr>\n",
              "      <th>0</th>\n",
              "      <td>7405</td>\n",
              "      <td>NO 15/9-F-1 C</td>\n",
              "      <td>2014-04-22</td>\n",
              "      <td>0.268405</td>\n",
              "      <td>1.029311</td>\n",
              "      <td>0.605973</td>\n",
              "      <td>0.396167</td>\n",
              "      <td>-2.016027</td>\n",
              "      <td>-0.533280</td>\n",
              "      <td>3.281836</td>\n",
              "      <td>...</td>\n",
              "      <td>-0.101891</td>\n",
              "      <td>-0.103579</td>\n",
              "      <td>-0.104768</td>\n",
              "      <td>-0.106929</td>\n",
              "      <td>-0.001355</td>\n",
              "      <td>-0.002618</td>\n",
              "      <td>-0.00519</td>\n",
              "      <td>[0.0, 0.0, 0.0]</td>\n",
              "      <td>[0.0, 0.0, 0.0, 0.0, 0.0]</td>\n",
              "      <td>[0.0, 0.0, 0.0, 0.0, 0.0, 0.0, 0.0, 0.0, 0.0, ...</td>\n",
              "    </tr>\n",
              "    <tr>\n",
              "      <th>1</th>\n",
              "      <td>7405</td>\n",
              "      <td>NO 15/9-F-1 C</td>\n",
              "      <td>2014-04-23</td>\n",
              "      <td>0.268405</td>\n",
              "      <td>0.845795</td>\n",
              "      <td>0.634777</td>\n",
              "      <td>0.239818</td>\n",
              "      <td>0.088113</td>\n",
              "      <td>-0.419656</td>\n",
              "      <td>2.849981</td>\n",
              "      <td>...</td>\n",
              "      <td>-0.101891</td>\n",
              "      <td>-0.103579</td>\n",
              "      <td>-0.104768</td>\n",
              "      <td>-0.106929</td>\n",
              "      <td>-0.001355</td>\n",
              "      <td>-0.002618</td>\n",
              "      <td>-0.00519</td>\n",
              "      <td>[0.0, 0.0, -0.10230979661544379]</td>\n",
              "      <td>[0.0, 0.0, 0.0, 0.0, -0.10230979661544379]</td>\n",
              "      <td>[0.0, 0.0, 0.0, 0.0, 0.0, 0.0, 0.0, 0.0, 0.0, ...</td>\n",
              "    </tr>\n",
              "    <tr>\n",
              "      <th>2</th>\n",
              "      <td>7405</td>\n",
              "      <td>NO 15/9-F-1 C</td>\n",
              "      <td>2014-04-24</td>\n",
              "      <td>0.268405</td>\n",
              "      <td>0.775025</td>\n",
              "      <td>0.639809</td>\n",
              "      <td>0.199890</td>\n",
              "      <td>-0.688434</td>\n",
              "      <td>-0.402874</td>\n",
              "      <td>2.607708</td>\n",
              "      <td>...</td>\n",
              "      <td>-0.101891</td>\n",
              "      <td>-0.009618</td>\n",
              "      <td>-0.053295</td>\n",
              "      <td>-0.079801</td>\n",
              "      <td>-0.001355</td>\n",
              "      <td>-0.002618</td>\n",
              "      <td>-0.00519</td>\n",
              "      <td>[0.0, -0.10230979661544379, -0.10230979661544379]</td>\n",
              "      <td>[0.0, 0.0, 0.0, -0.10230979661544379, -0.10230...</td>\n",
              "      <td>[0.0, 0.0, 0.0, 0.0, 0.0, 0.0, 0.0, 0.0, -0.10...</td>\n",
              "    </tr>\n",
              "    <tr>\n",
              "      <th>3</th>\n",
              "      <td>7405</td>\n",
              "      <td>NO 15/9-F-1 C</td>\n",
              "      <td>2014-04-25</td>\n",
              "      <td>0.268405</td>\n",
              "      <td>0.705033</td>\n",
              "      <td>0.642084</td>\n",
              "      <td>0.161493</td>\n",
              "      <td>1.145283</td>\n",
              "      <td>-0.379061</td>\n",
              "      <td>2.364038</td>\n",
              "      <td>...</td>\n",
              "      <td>-0.113263</td>\n",
              "      <td>-0.020781</td>\n",
              "      <td>-0.051611</td>\n",
              "      <td>-0.076565</td>\n",
              "      <td>-0.001355</td>\n",
              "      <td>-0.002618</td>\n",
              "      <td>-0.00519</td>\n",
              "      <td>[-0.10230979661544379, -0.10230979661544379, 0...</td>\n",
              "      <td>[0.0, 0.0, -0.10230979661544379, -0.1023097966...</td>\n",
              "      <td>[0.0, 0.0, 0.0, 0.0, 0.0, 0.0, 0.0, -0.1023097...</td>\n",
              "    </tr>\n",
              "    <tr>\n",
              "      <th>4</th>\n",
              "      <td>7405</td>\n",
              "      <td>NO 15/9-F-1 C</td>\n",
              "      <td>2014-04-26</td>\n",
              "      <td>0.268405</td>\n",
              "      <td>0.625357</td>\n",
              "      <td>0.643889</td>\n",
              "      <td>0.117221</td>\n",
              "      <td>1.145283</td>\n",
              "      <td>-0.340115</td>\n",
              "      <td>2.088747</td>\n",
              "      <td>...</td>\n",
              "      <td>0.082298</td>\n",
              "      <td>-0.004428</td>\n",
              "      <td>-0.037199</td>\n",
              "      <td>-0.066767</td>\n",
              "      <td>-0.009496</td>\n",
              "      <td>-0.002618</td>\n",
              "      <td>-0.00519</td>\n",
              "      <td>[-0.10230979661544379, 0.1777063666263608, -0....</td>\n",
              "      <td>[0.0, -0.10230979661544379, -0.102309796615443...</td>\n",
              "      <td>[0.0, 0.0, 0.0, 0.0, 0.0, 0.0, -0.102309796615...</td>\n",
              "    </tr>\n",
              "  </tbody>\n",
              "</table>\n",
              "<p>5 rows × 26 columns</p>\n",
              "</div>"
            ],
            "text/plain": [
              "   well_name WELL_BORE_CODE        date  prod_hrs       bhp       bht  \\\n",
              "0       7405  NO 15/9-F-1 C  2014-04-22  0.268405  1.029311  0.605973   \n",
              "1       7405  NO 15/9-F-1 C  2014-04-23  0.268405  0.845795  0.634777   \n",
              "2       7405  NO 15/9-F-1 C  2014-04-24  0.268405  0.775025  0.639809   \n",
              "3       7405  NO 15/9-F-1 C  2014-04-25  0.268405  0.705033  0.642084   \n",
              "4       7405  NO 15/9-F-1 C  2014-04-26  0.268405  0.625357  0.643889   \n",
              "\n",
              "   dp_tubing  AVG_ANNULUS_PRESS  AVG_CHOKE_SIZE_P       whp  ...  \\\n",
              "0   0.396167          -2.016027         -0.533280  3.281836  ...   \n",
              "1   0.239818           0.088113         -0.419656  2.849981  ...   \n",
              "2   0.199890          -0.688434         -0.402874  2.607708  ...   \n",
              "3   0.161493           1.145283         -0.379061  2.364038  ...   \n",
              "4   0.117221           1.145283         -0.340115  2.088747  ...   \n",
              "\n",
              "   linear_regressor  EMA_short  EMA_medium  EMA_long  Rolling_short  \\\n",
              "0         -0.101891  -0.103579   -0.104768 -0.106929      -0.001355   \n",
              "1         -0.101891  -0.103579   -0.104768 -0.106929      -0.001355   \n",
              "2         -0.101891  -0.009618   -0.053295 -0.079801      -0.001355   \n",
              "3         -0.113263  -0.020781   -0.051611 -0.076565      -0.001355   \n",
              "4          0.082298  -0.004428   -0.037199 -0.066767      -0.009496   \n",
              "\n",
              "   Rolling_medium  Rolling_long  \\\n",
              "0       -0.002618      -0.00519   \n",
              "1       -0.002618      -0.00519   \n",
              "2       -0.002618      -0.00519   \n",
              "3       -0.002618      -0.00519   \n",
              "4       -0.002618      -0.00519   \n",
              "\n",
              "                                           Lag_short  \\\n",
              "0                                    [0.0, 0.0, 0.0]   \n",
              "1                   [0.0, 0.0, -0.10230979661544379]   \n",
              "2  [0.0, -0.10230979661544379, -0.10230979661544379]   \n",
              "3  [-0.10230979661544379, -0.10230979661544379, 0...   \n",
              "4  [-0.10230979661544379, 0.1777063666263608, -0....   \n",
              "\n",
              "                                          Lag_medium  \\\n",
              "0                          [0.0, 0.0, 0.0, 0.0, 0.0]   \n",
              "1         [0.0, 0.0, 0.0, 0.0, -0.10230979661544379]   \n",
              "2  [0.0, 0.0, 0.0, -0.10230979661544379, -0.10230...   \n",
              "3  [0.0, 0.0, -0.10230979661544379, -0.1023097966...   \n",
              "4  [0.0, -0.10230979661544379, -0.102309796615443...   \n",
              "\n",
              "                                            Lag_long  \n",
              "0  [0.0, 0.0, 0.0, 0.0, 0.0, 0.0, 0.0, 0.0, 0.0, ...  \n",
              "1  [0.0, 0.0, 0.0, 0.0, 0.0, 0.0, 0.0, 0.0, 0.0, ...  \n",
              "2  [0.0, 0.0, 0.0, 0.0, 0.0, 0.0, 0.0, 0.0, -0.10...  \n",
              "3  [0.0, 0.0, 0.0, 0.0, 0.0, 0.0, 0.0, -0.1023097...  \n",
              "4  [0.0, 0.0, 0.0, 0.0, 0.0, 0.0, -0.102309796615...  \n",
              "\n",
              "[5 rows x 26 columns]"
            ]
          },
          "execution_count": 4,
          "metadata": {},
          "output_type": "execute_result"
        }
      ],
      "source": [
        "data = pd.read_csv(path + r'/data/Volve/Volve_cleaned_prepared.csv')\n",
        "if \"Unnamed: 0\" in data.columns:\n",
        "    data = data.drop(columns=\"Unnamed: 0\")\n",
        "data.head()"
      ]
    },
    {
      "cell_type": "code",
      "execution_count": 5,
      "metadata": {
        "colab": {
          "base_uri": "https://localhost:8080/"
        },
        "id": "bZmGsFefnB3G",
        "outputId": "b292ccb7-229f-4e81-93a7-5e73a095cd2b"
      },
      "outputs": [
        {
          "data": {
            "text/plain": [
              "{7078: 'NO 15/9-F-11 H',\n",
              " 7405: 'NO 15/9-F-1 C',\n",
              " 5599: 'NO 15/9-F-12 H',\n",
              " 7289: 'NO 15/9-F-15 D',\n",
              " 5769: 'NO 15/9-F-5 AH',\n",
              " 5351: 'NO 15/9-F-14 H'}"
            ]
          },
          "execution_count": 5,
          "metadata": {},
          "output_type": "execute_result"
        }
      ],
      "source": [
        "well_info = dict(set([(j, i) for i, j in data[['WELL_BORE_CODE', 'well_name']].values.tolist()])) # creating a dictionary of well identiification with {code: name} structure\n",
        "well_info"
      ]
    },
    {
      "cell_type": "code",
      "execution_count": 6,
      "metadata": {},
      "outputs": [
        {
          "data": {
            "text/plain": [
              "Index(['well_name', 'WELL_BORE_CODE', 'date', 'prod_hrs', 'bhp', 'bht',\n",
              "       'dp_tubing', 'AVG_ANNULUS_PRESS', 'AVG_CHOKE_SIZE_P', 'whp', 'wht',\n",
              "       'choke_size_percentage', 'oil_vol', 'gas_vol', 'water_vol', 'oil_rate',\n",
              "       'linear_regressor', 'EMA_short', 'EMA_medium', 'EMA_long',\n",
              "       'Rolling_short', 'Rolling_medium', 'Rolling_long', 'Lag_short',\n",
              "       'Lag_medium', 'Lag_long'],\n",
              "      dtype='object')"
            ]
          },
          "execution_count": 6,
          "metadata": {},
          "output_type": "execute_result"
        }
      ],
      "source": [
        "data.columns"
      ]
    },
    {
      "cell_type": "code",
      "execution_count": 7,
      "metadata": {
        "id": "KJZoa8Qneyzy"
      },
      "outputs": [],
      "source": [
        "identification_column = ['well_name', 'WELL_BORE_CODE', 'date']\n",
        "single_feature_columns = ['prod_hrs', 'bhp', 'bht', 'dp_tubing', 'AVG_ANNULUS_PRESS', 'AVG_CHOKE_SIZE_P', 'whp', 'wht', 'choke_size_percentage', 'oil_vol', 'gas_vol', 'water_vol', 'linear_regressor', 'EMA_short', 'EMA_medium', 'EMA_long', 'Rolling_short', 'Rolling_medium', 'Rolling_long', 'oil_rate']\n",
        "multiple_feature_columns = ['Lag_short', 'Lag_medium', 'Lag_long']\n",
        "feature_columns = single_feature_columns + multiple_feature_columns\n",
        "target_column = ['oil_rate']"
      ]
    },
    {
      "cell_type": "code",
      "execution_count": 54,
      "metadata": {
        "colab": {
          "base_uri": "https://localhost:8080/"
        },
        "id": "kr-v7jdxLqsb",
        "outputId": "c6baddd3-c5c4-48e4-e360-92bb0f37b089"
      },
      "outputs": [
        {
          "data": {
            "text/plain": [
              "(7987, 26)"
            ]
          },
          "execution_count": 54,
          "metadata": {},
          "output_type": "execute_result"
        }
      ],
      "source": [
        "data = data[identification_column + feature_columns]\n",
        "data.shape"
      ]
    },
    {
      "cell_type": "code",
      "execution_count": 9,
      "metadata": {},
      "outputs": [
        {
          "name": "stdout",
          "output_type": "stream",
          "text": [
            "prod_hrs                -0.0\n",
            "bhp                     -0.0\n",
            "bht                      0.0\n",
            "dp_tubing               -0.0\n",
            "AVG_ANNULUS_PRESS        0.0\n",
            "AVG_CHOKE_SIZE_P        -0.0\n",
            "whp                     -0.0\n",
            "wht                     -0.0\n",
            "choke_size_percentage    0.0\n",
            "oil_vol                  0.0\n",
            "gas_vol                  0.0\n",
            "water_vol                0.0\n",
            "linear_regressor        -0.0\n",
            "EMA_short                0.0\n",
            "EMA_medium               0.0\n",
            "EMA_long                -0.0\n",
            "Rolling_short           -0.0\n",
            "Rolling_medium           0.0\n",
            "Rolling_long            -0.0\n",
            "oil_rate                 0.0\n",
            "dtype: float64\n",
            "prod_hrs                 1.0\n",
            "bhp                      1.0\n",
            "bht                      1.0\n",
            "dp_tubing                1.0\n",
            "AVG_ANNULUS_PRESS        1.0\n",
            "AVG_CHOKE_SIZE_P         1.0\n",
            "whp                      1.0\n",
            "wht                      1.0\n",
            "choke_size_percentage    1.0\n",
            "oil_vol                  1.0\n",
            "gas_vol                  1.0\n",
            "water_vol                1.0\n",
            "linear_regressor         1.0\n",
            "EMA_short                1.0\n",
            "EMA_medium               1.0\n",
            "EMA_long                 1.0\n",
            "Rolling_short            1.0\n",
            "Rolling_medium           1.0\n",
            "Rolling_long             1.0\n",
            "oil_rate                 1.0\n",
            "dtype: float64\n"
          ]
        }
      ],
      "source": [
        "print(data[['prod_hrs', 'bhp', 'bht', 'dp_tubing', 'AVG_ANNULUS_PRESS', 'AVG_CHOKE_SIZE_P', 'whp', 'wht', 'choke_size_percentage', 'oil_vol', 'gas_vol', 'water_vol', 'linear_regressor', 'EMA_short', 'EMA_medium', 'EMA_long', 'Rolling_short', 'Rolling_medium', 'Rolling_long', 'oil_rate']].mean().round(4))\n",
        "print(data[['prod_hrs', 'bhp', 'bht', 'dp_tubing', 'AVG_ANNULUS_PRESS', 'AVG_CHOKE_SIZE_P', 'whp', 'wht', 'choke_size_percentage', 'oil_vol', 'gas_vol', 'water_vol', 'linear_regressor', 'EMA_short', 'EMA_medium', 'EMA_long', 'Rolling_short', 'Rolling_medium', 'Rolling_long', 'oil_rate']].std().round(4))"
      ]
    },
    {
      "cell_type": "code",
      "execution_count": 10,
      "metadata": {
        "colab": {
          "base_uri": "https://localhost:8080/",
          "height": 609
        },
        "id": "58-XDpb-EO82",
        "outputId": "f2517c61-2691-476e-dc5c-2a7ddad922b4"
      },
      "outputs": [
        {
          "data": {
            "text/html": [
              "<div>\n",
              "<style scoped>\n",
              "    .dataframe tbody tr th:only-of-type {\n",
              "        vertical-align: middle;\n",
              "    }\n",
              "\n",
              "    .dataframe tbody tr th {\n",
              "        vertical-align: top;\n",
              "    }\n",
              "\n",
              "    .dataframe thead th {\n",
              "        text-align: right;\n",
              "    }\n",
              "</style>\n",
              "<table border=\"1\" class=\"dataframe\">\n",
              "  <thead>\n",
              "    <tr style=\"text-align: right;\">\n",
              "      <th></th>\n",
              "      <th>well_name</th>\n",
              "      <th>WELL_BORE_CODE</th>\n",
              "      <th>date</th>\n",
              "      <th>prod_hrs</th>\n",
              "      <th>bhp</th>\n",
              "      <th>bht</th>\n",
              "      <th>dp_tubing</th>\n",
              "      <th>AVG_ANNULUS_PRESS</th>\n",
              "      <th>AVG_CHOKE_SIZE_P</th>\n",
              "      <th>whp</th>\n",
              "      <th>...</th>\n",
              "      <th>EMA_short</th>\n",
              "      <th>EMA_medium</th>\n",
              "      <th>EMA_long</th>\n",
              "      <th>Rolling_short</th>\n",
              "      <th>Rolling_medium</th>\n",
              "      <th>Rolling_long</th>\n",
              "      <th>oil_rate</th>\n",
              "      <th>Lag_short</th>\n",
              "      <th>Lag_medium</th>\n",
              "      <th>Lag_long</th>\n",
              "    </tr>\n",
              "  </thead>\n",
              "  <tbody>\n",
              "    <tr>\n",
              "      <th>0</th>\n",
              "      <td>7405</td>\n",
              "      <td>NO 15/9-F-1 C</td>\n",
              "      <td>2014-04-22</td>\n",
              "      <td>0.268405</td>\n",
              "      <td>1.029311</td>\n",
              "      <td>0.605973</td>\n",
              "      <td>0.396167</td>\n",
              "      <td>-2.016027</td>\n",
              "      <td>-0.533280</td>\n",
              "      <td>3.281836</td>\n",
              "      <td>...</td>\n",
              "      <td>-0.103579</td>\n",
              "      <td>-0.104768</td>\n",
              "      <td>-0.106929</td>\n",
              "      <td>-0.001355</td>\n",
              "      <td>-0.002618</td>\n",
              "      <td>-0.005190</td>\n",
              "      <td>-0.102310</td>\n",
              "      <td>[0.0, 0.0, 0.0]</td>\n",
              "      <td>[0.0, 0.0, 0.0, 0.0, 0.0]</td>\n",
              "      <td>[0.0, 0.0, 0.0, 0.0, 0.0, 0.0, 0.0, 0.0, 0.0, ...</td>\n",
              "    </tr>\n",
              "    <tr>\n",
              "      <th>1</th>\n",
              "      <td>7405</td>\n",
              "      <td>NO 15/9-F-1 C</td>\n",
              "      <td>2014-04-23</td>\n",
              "      <td>0.268405</td>\n",
              "      <td>0.845795</td>\n",
              "      <td>0.634777</td>\n",
              "      <td>0.239818</td>\n",
              "      <td>0.088113</td>\n",
              "      <td>-0.419656</td>\n",
              "      <td>2.849981</td>\n",
              "      <td>...</td>\n",
              "      <td>-0.103579</td>\n",
              "      <td>-0.104768</td>\n",
              "      <td>-0.106929</td>\n",
              "      <td>-0.001355</td>\n",
              "      <td>-0.002618</td>\n",
              "      <td>-0.005190</td>\n",
              "      <td>-0.102310</td>\n",
              "      <td>[0.0, 0.0, -0.10230979661544379]</td>\n",
              "      <td>[0.0, 0.0, 0.0, 0.0, -0.10230979661544379]</td>\n",
              "      <td>[0.0, 0.0, 0.0, 0.0, 0.0, 0.0, 0.0, 0.0, 0.0, ...</td>\n",
              "    </tr>\n",
              "    <tr>\n",
              "      <th>2</th>\n",
              "      <td>7405</td>\n",
              "      <td>NO 15/9-F-1 C</td>\n",
              "      <td>2014-04-24</td>\n",
              "      <td>0.268405</td>\n",
              "      <td>0.775025</td>\n",
              "      <td>0.639809</td>\n",
              "      <td>0.199890</td>\n",
              "      <td>-0.688434</td>\n",
              "      <td>-0.402874</td>\n",
              "      <td>2.607708</td>\n",
              "      <td>...</td>\n",
              "      <td>-0.009618</td>\n",
              "      <td>-0.053295</td>\n",
              "      <td>-0.079801</td>\n",
              "      <td>-0.001355</td>\n",
              "      <td>-0.002618</td>\n",
              "      <td>-0.005190</td>\n",
              "      <td>0.177706</td>\n",
              "      <td>[0.0, -0.10230979661544379, -0.10230979661544379]</td>\n",
              "      <td>[0.0, 0.0, 0.0, -0.10230979661544379, -0.10230...</td>\n",
              "      <td>[0.0, 0.0, 0.0, 0.0, 0.0, 0.0, 0.0, 0.0, -0.10...</td>\n",
              "    </tr>\n",
              "    <tr>\n",
              "      <th>3</th>\n",
              "      <td>7405</td>\n",
              "      <td>NO 15/9-F-1 C</td>\n",
              "      <td>2014-04-25</td>\n",
              "      <td>0.268405</td>\n",
              "      <td>0.705033</td>\n",
              "      <td>0.642084</td>\n",
              "      <td>0.161493</td>\n",
              "      <td>1.145283</td>\n",
              "      <td>-0.379061</td>\n",
              "      <td>2.364038</td>\n",
              "      <td>...</td>\n",
              "      <td>-0.020781</td>\n",
              "      <td>-0.051611</td>\n",
              "      <td>-0.076565</td>\n",
              "      <td>-0.001355</td>\n",
              "      <td>-0.002618</td>\n",
              "      <td>-0.005190</td>\n",
              "      <td>-0.042238</td>\n",
              "      <td>[-0.10230979661544379, -0.10230979661544379, 0...</td>\n",
              "      <td>[0.0, 0.0, -0.10230979661544379, -0.1023097966...</td>\n",
              "      <td>[0.0, 0.0, 0.0, 0.0, 0.0, 0.0, 0.0, -0.1023097...</td>\n",
              "    </tr>\n",
              "    <tr>\n",
              "      <th>4</th>\n",
              "      <td>7405</td>\n",
              "      <td>NO 15/9-F-1 C</td>\n",
              "      <td>2014-04-26</td>\n",
              "      <td>0.268405</td>\n",
              "      <td>0.625357</td>\n",
              "      <td>0.643889</td>\n",
              "      <td>0.117221</td>\n",
              "      <td>1.145283</td>\n",
              "      <td>-0.340115</td>\n",
              "      <td>2.088747</td>\n",
              "      <td>...</td>\n",
              "      <td>-0.004428</td>\n",
              "      <td>-0.037199</td>\n",
              "      <td>-0.066767</td>\n",
              "      <td>-0.009496</td>\n",
              "      <td>-0.002618</td>\n",
              "      <td>-0.005190</td>\n",
              "      <td>0.028674</td>\n",
              "      <td>[-0.10230979661544379, 0.1777063666263608, -0....</td>\n",
              "      <td>[0.0, -0.10230979661544379, -0.102309796615443...</td>\n",
              "      <td>[0.0, 0.0, 0.0, 0.0, 0.0, 0.0, -0.102309796615...</td>\n",
              "    </tr>\n",
              "    <tr>\n",
              "      <th>...</th>\n",
              "      <td>...</td>\n",
              "      <td>...</td>\n",
              "      <td>...</td>\n",
              "      <td>...</td>\n",
              "      <td>...</td>\n",
              "      <td>...</td>\n",
              "      <td>...</td>\n",
              "      <td>...</td>\n",
              "      <td>...</td>\n",
              "      <td>...</td>\n",
              "      <td>...</td>\n",
              "      <td>...</td>\n",
              "      <td>...</td>\n",
              "      <td>...</td>\n",
              "      <td>...</td>\n",
              "      <td>...</td>\n",
              "      <td>...</td>\n",
              "      <td>...</td>\n",
              "      <td>...</td>\n",
              "      <td>...</td>\n",
              "      <td>...</td>\n",
              "    </tr>\n",
              "    <tr>\n",
              "      <th>7982</th>\n",
              "      <td>5769</td>\n",
              "      <td>NO 15/9-F-5 AH</td>\n",
              "      <td>2016-08-22</td>\n",
              "      <td>0.268405</td>\n",
              "      <td>-0.880933</td>\n",
              "      <td>-0.806036</td>\n",
              "      <td>-0.814175</td>\n",
              "      <td>1.149266</td>\n",
              "      <td>1.150153</td>\n",
              "      <td>-1.140330</td>\n",
              "      <td>...</td>\n",
              "      <td>-0.692802</td>\n",
              "      <td>-0.702316</td>\n",
              "      <td>-0.715245</td>\n",
              "      <td>-0.692202</td>\n",
              "      <td>-0.703021</td>\n",
              "      <td>-0.724022</td>\n",
              "      <td>-0.683109</td>\n",
              "      <td>[-0.6852415797773639, -0.6943429268335604, -0....</td>\n",
              "      <td>[-0.6933422169244923, -0.687878486910018, -0.6...</td>\n",
              "      <td>[-0.7133929373653101, -0.7128670168291575, -0....</td>\n",
              "    </tr>\n",
              "    <tr>\n",
              "      <th>7983</th>\n",
              "      <td>5769</td>\n",
              "      <td>NO 15/9-F-5 AH</td>\n",
              "      <td>2016-08-23</td>\n",
              "      <td>0.268405</td>\n",
              "      <td>-0.880933</td>\n",
              "      <td>-0.806036</td>\n",
              "      <td>-0.814175</td>\n",
              "      <td>1.158798</td>\n",
              "      <td>1.150153</td>\n",
              "      <td>-1.136215</td>\n",
              "      <td>...</td>\n",
              "      <td>-0.689514</td>\n",
              "      <td>-0.699464</td>\n",
              "      <td>-0.713067</td>\n",
              "      <td>-0.690182</td>\n",
              "      <td>-0.699482</td>\n",
              "      <td>-0.722275</td>\n",
              "      <td>-0.677835</td>\n",
              "      <td>[-0.6943429268335604, -0.6840874763785847, -0....</td>\n",
              "      <td>[-0.687878486910018, -0.6852415797773639, -0.6...</td>\n",
              "      <td>[-0.7128670168291575, -0.704496114962062, -0.6...</td>\n",
              "    </tr>\n",
              "    <tr>\n",
              "      <th>7984</th>\n",
              "      <td>5769</td>\n",
              "      <td>NO 15/9-F-5 AH</td>\n",
              "      <td>2016-08-24</td>\n",
              "      <td>0.268405</td>\n",
              "      <td>-0.880933</td>\n",
              "      <td>-0.806036</td>\n",
              "      <td>-0.814175</td>\n",
              "      <td>1.141085</td>\n",
              "      <td>1.150153</td>\n",
              "      <td>-1.137527</td>\n",
              "      <td>...</td>\n",
              "      <td>-0.687737</td>\n",
              "      <td>-0.697357</td>\n",
              "      <td>-0.711216</td>\n",
              "      <td>-0.688940</td>\n",
              "      <td>-0.696914</td>\n",
              "      <td>-0.720063</td>\n",
              "      <td>-0.679069</td>\n",
              "      <td>[-0.6840874763785847, -0.6831086798251896, -0....</td>\n",
              "      <td>[-0.6852415797773639, -0.6943429268335604, -0....</td>\n",
              "      <td>[-0.704496114962062, -0.6974619277910209, -0.6...</td>\n",
              "    </tr>\n",
              "    <tr>\n",
              "      <th>7985</th>\n",
              "      <td>5769</td>\n",
              "      <td>NO 15/9-F-5 AH</td>\n",
              "      <td>2016-08-25</td>\n",
              "      <td>0.268405</td>\n",
              "      <td>-1.334973</td>\n",
              "      <td>-1.285316</td>\n",
              "      <td>-1.327391</td>\n",
              "      <td>1.140689</td>\n",
              "      <td>1.150153</td>\n",
              "      <td>-1.140776</td>\n",
              "      <td>...</td>\n",
              "      <td>-0.686410</td>\n",
              "      <td>-0.695555</td>\n",
              "      <td>-0.709500</td>\n",
              "      <td>-0.685783</td>\n",
              "      <td>-0.695013</td>\n",
              "      <td>-0.718130</td>\n",
              "      <td>-0.678646</td>\n",
              "      <td>[-0.6831086798251896, -0.6778348655598816, -0....</td>\n",
              "      <td>[-0.6943429268335604, -0.6840874763785847, -0....</td>\n",
              "      <td>[-0.6974619277910209, -0.6908660077334403, -0....</td>\n",
              "    </tr>\n",
              "    <tr>\n",
              "      <th>7986</th>\n",
              "      <td>5769</td>\n",
              "      <td>NO 15/9-F-5 AH</td>\n",
              "      <td>2016-08-26</td>\n",
              "      <td>-0.744073</td>\n",
              "      <td>-0.434704</td>\n",
              "      <td>-0.323038</td>\n",
              "      <td>-0.323127</td>\n",
              "      <td>1.127728</td>\n",
              "      <td>0.671086</td>\n",
              "      <td>-1.123420</td>\n",
              "      <td>...</td>\n",
              "      <td>-0.684576</td>\n",
              "      <td>-0.693562</td>\n",
              "      <td>-0.707674</td>\n",
              "      <td>-0.684119</td>\n",
              "      <td>-0.693493</td>\n",
              "      <td>-0.715748</td>\n",
              "      <td>-0.675818</td>\n",
              "      <td>[-0.6778348655598816, -0.6790693179294619, -0....</td>\n",
              "      <td>[-0.6840874763785847, -0.6831086798251896, -0....</td>\n",
              "      <td>[-0.6908660077334403, -0.6933422169244923, -0....</td>\n",
              "    </tr>\n",
              "  </tbody>\n",
              "</table>\n",
              "<p>7987 rows × 26 columns</p>\n",
              "</div>"
            ],
            "text/plain": [
              "      well_name  WELL_BORE_CODE        date  prod_hrs       bhp       bht  \\\n",
              "0          7405   NO 15/9-F-1 C  2014-04-22  0.268405  1.029311  0.605973   \n",
              "1          7405   NO 15/9-F-1 C  2014-04-23  0.268405  0.845795  0.634777   \n",
              "2          7405   NO 15/9-F-1 C  2014-04-24  0.268405  0.775025  0.639809   \n",
              "3          7405   NO 15/9-F-1 C  2014-04-25  0.268405  0.705033  0.642084   \n",
              "4          7405   NO 15/9-F-1 C  2014-04-26  0.268405  0.625357  0.643889   \n",
              "...         ...             ...         ...       ...       ...       ...   \n",
              "7982       5769  NO 15/9-F-5 AH  2016-08-22  0.268405 -0.880933 -0.806036   \n",
              "7983       5769  NO 15/9-F-5 AH  2016-08-23  0.268405 -0.880933 -0.806036   \n",
              "7984       5769  NO 15/9-F-5 AH  2016-08-24  0.268405 -0.880933 -0.806036   \n",
              "7985       5769  NO 15/9-F-5 AH  2016-08-25  0.268405 -1.334973 -1.285316   \n",
              "7986       5769  NO 15/9-F-5 AH  2016-08-26 -0.744073 -0.434704 -0.323038   \n",
              "\n",
              "      dp_tubing  AVG_ANNULUS_PRESS  AVG_CHOKE_SIZE_P       whp  ...  \\\n",
              "0      0.396167          -2.016027         -0.533280  3.281836  ...   \n",
              "1      0.239818           0.088113         -0.419656  2.849981  ...   \n",
              "2      0.199890          -0.688434         -0.402874  2.607708  ...   \n",
              "3      0.161493           1.145283         -0.379061  2.364038  ...   \n",
              "4      0.117221           1.145283         -0.340115  2.088747  ...   \n",
              "...         ...                ...               ...       ...  ...   \n",
              "7982  -0.814175           1.149266          1.150153 -1.140330  ...   \n",
              "7983  -0.814175           1.158798          1.150153 -1.136215  ...   \n",
              "7984  -0.814175           1.141085          1.150153 -1.137527  ...   \n",
              "7985  -1.327391           1.140689          1.150153 -1.140776  ...   \n",
              "7986  -0.323127           1.127728          0.671086 -1.123420  ...   \n",
              "\n",
              "      EMA_short  EMA_medium  EMA_long  Rolling_short  Rolling_medium  \\\n",
              "0     -0.103579   -0.104768 -0.106929      -0.001355       -0.002618   \n",
              "1     -0.103579   -0.104768 -0.106929      -0.001355       -0.002618   \n",
              "2     -0.009618   -0.053295 -0.079801      -0.001355       -0.002618   \n",
              "3     -0.020781   -0.051611 -0.076565      -0.001355       -0.002618   \n",
              "4     -0.004428   -0.037199 -0.066767      -0.009496       -0.002618   \n",
              "...         ...         ...       ...            ...             ...   \n",
              "7982  -0.692802   -0.702316 -0.715245      -0.692202       -0.703021   \n",
              "7983  -0.689514   -0.699464 -0.713067      -0.690182       -0.699482   \n",
              "7984  -0.687737   -0.697357 -0.711216      -0.688940       -0.696914   \n",
              "7985  -0.686410   -0.695555 -0.709500      -0.685783       -0.695013   \n",
              "7986  -0.684576   -0.693562 -0.707674      -0.684119       -0.693493   \n",
              "\n",
              "      Rolling_long  oil_rate  \\\n",
              "0        -0.005190 -0.102310   \n",
              "1        -0.005190 -0.102310   \n",
              "2        -0.005190  0.177706   \n",
              "3        -0.005190 -0.042238   \n",
              "4        -0.005190  0.028674   \n",
              "...            ...       ...   \n",
              "7982     -0.724022 -0.683109   \n",
              "7983     -0.722275 -0.677835   \n",
              "7984     -0.720063 -0.679069   \n",
              "7985     -0.718130 -0.678646   \n",
              "7986     -0.715748 -0.675818   \n",
              "\n",
              "                                              Lag_short  \\\n",
              "0                                       [0.0, 0.0, 0.0]   \n",
              "1                      [0.0, 0.0, -0.10230979661544379]   \n",
              "2     [0.0, -0.10230979661544379, -0.10230979661544379]   \n",
              "3     [-0.10230979661544379, -0.10230979661544379, 0...   \n",
              "4     [-0.10230979661544379, 0.1777063666263608, -0....   \n",
              "...                                                 ...   \n",
              "7982  [-0.6852415797773639, -0.6943429268335604, -0....   \n",
              "7983  [-0.6943429268335604, -0.6840874763785847, -0....   \n",
              "7984  [-0.6840874763785847, -0.6831086798251896, -0....   \n",
              "7985  [-0.6831086798251896, -0.6778348655598816, -0....   \n",
              "7986  [-0.6778348655598816, -0.6790693179294619, -0....   \n",
              "\n",
              "                                             Lag_medium  \\\n",
              "0                             [0.0, 0.0, 0.0, 0.0, 0.0]   \n",
              "1            [0.0, 0.0, 0.0, 0.0, -0.10230979661544379]   \n",
              "2     [0.0, 0.0, 0.0, -0.10230979661544379, -0.10230...   \n",
              "3     [0.0, 0.0, -0.10230979661544379, -0.1023097966...   \n",
              "4     [0.0, -0.10230979661544379, -0.102309796615443...   \n",
              "...                                                 ...   \n",
              "7982  [-0.6933422169244923, -0.687878486910018, -0.6...   \n",
              "7983  [-0.687878486910018, -0.6852415797773639, -0.6...   \n",
              "7984  [-0.6852415797773639, -0.6943429268335604, -0....   \n",
              "7985  [-0.6943429268335604, -0.6840874763785847, -0....   \n",
              "7986  [-0.6840874763785847, -0.6831086798251896, -0....   \n",
              "\n",
              "                                               Lag_long  \n",
              "0     [0.0, 0.0, 0.0, 0.0, 0.0, 0.0, 0.0, 0.0, 0.0, ...  \n",
              "1     [0.0, 0.0, 0.0, 0.0, 0.0, 0.0, 0.0, 0.0, 0.0, ...  \n",
              "2     [0.0, 0.0, 0.0, 0.0, 0.0, 0.0, 0.0, 0.0, -0.10...  \n",
              "3     [0.0, 0.0, 0.0, 0.0, 0.0, 0.0, 0.0, -0.1023097...  \n",
              "4     [0.0, 0.0, 0.0, 0.0, 0.0, 0.0, -0.102309796615...  \n",
              "...                                                 ...  \n",
              "7982  [-0.7133929373653101, -0.7128670168291575, -0....  \n",
              "7983  [-0.7128670168291575, -0.704496114962062, -0.6...  \n",
              "7984  [-0.704496114962062, -0.6974619277910209, -0.6...  \n",
              "7985  [-0.6974619277910209, -0.6908660077334403, -0....  \n",
              "7986  [-0.6908660077334403, -0.6933422169244923, -0....  \n",
              "\n",
              "[7987 rows x 26 columns]"
            ]
          },
          "execution_count": 10,
          "metadata": {},
          "output_type": "execute_result"
        }
      ],
      "source": [
        "data"
      ]
    },
    {
      "cell_type": "code",
      "execution_count": 11,
      "metadata": {},
      "outputs": [],
      "source": [
        "for column in multiple_feature_columns:\n",
        "    try:\n",
        "        data[column] = data[column].apply(ast.literal_eval)\n",
        "    except Exception:\n",
        "        pass"
      ]
    },
    {
      "cell_type": "code",
      "execution_count": 12,
      "metadata": {
        "colab": {
          "base_uri": "https://localhost:8080/"
        },
        "id": "9OdDuXzow20l",
        "outputId": "88285f47-248e-473a-a500-a7c9b2fd9b09"
      },
      "outputs": [
        {
          "data": {
            "text/plain": [
              "well_name                False\n",
              "WELL_BORE_CODE           False\n",
              "date                     False\n",
              "prod_hrs                 False\n",
              "bhp                      False\n",
              "bht                      False\n",
              "dp_tubing                False\n",
              "AVG_ANNULUS_PRESS        False\n",
              "AVG_CHOKE_SIZE_P         False\n",
              "whp                      False\n",
              "wht                      False\n",
              "choke_size_percentage    False\n",
              "oil_vol                  False\n",
              "gas_vol                  False\n",
              "water_vol                False\n",
              "linear_regressor         False\n",
              "EMA_short                False\n",
              "EMA_medium               False\n",
              "EMA_long                 False\n",
              "Rolling_short            False\n",
              "Rolling_medium           False\n",
              "Rolling_long             False\n",
              "oil_rate                 False\n",
              "Lag_short                False\n",
              "Lag_medium               False\n",
              "Lag_long                 False\n",
              "dtype: bool"
            ]
          },
          "execution_count": 12,
          "metadata": {},
          "output_type": "execute_result"
        }
      ],
      "source": [
        "data.isna().any()"
      ]
    },
    {
      "cell_type": "code",
      "execution_count": 13,
      "metadata": {
        "id": "1n-IMFYvNIta"
      },
      "outputs": [],
      "source": [
        "batch_size = 96\n",
        "days_window = 5\n",
        "predictions_days = 14\n",
        "training_gap = predictions_days + days_window"
      ]
    },
    {
      "cell_type": "code",
      "execution_count": 141,
      "metadata": {
        "colab": {
          "base_uri": "https://localhost:8080/",
          "height": 949
        },
        "id": "H77kZkM1lU5_",
        "outputId": "c9ef2650-18de-46b7-a650-93167d737eef"
      },
      "outputs": [
        {
          "data": {
            "text/html": [
              "<div>\n",
              "<style scoped>\n",
              "    .dataframe tbody tr th:only-of-type {\n",
              "        vertical-align: middle;\n",
              "    }\n",
              "\n",
              "    .dataframe tbody tr th {\n",
              "        vertical-align: top;\n",
              "    }\n",
              "\n",
              "    .dataframe thead th {\n",
              "        text-align: right;\n",
              "    }\n",
              "</style>\n",
              "<table border=\"1\" class=\"dataframe\">\n",
              "  <thead>\n",
              "    <tr style=\"text-align: right;\">\n",
              "      <th></th>\n",
              "      <th>well_name</th>\n",
              "      <th>inputs_dates</th>\n",
              "      <th>targets_dates</th>\n",
              "      <th>inputs_index</th>\n",
              "      <th>targets_index</th>\n",
              "      <th>inputs</th>\n",
              "      <th>targets</th>\n",
              "    </tr>\n",
              "  </thead>\n",
              "  <tbody>\n",
              "    <tr>\n",
              "      <th>0</th>\n",
              "      <td>7405</td>\n",
              "      <td>[2014-04-22, 2014-04-23, 2014-04-24, 2014-04-2...</td>\n",
              "      <td>[2014-04-27, 2014-04-28, 2014-04-29, 2014-04-3...</td>\n",
              "      <td>[0, 1, 2, 3, 4]</td>\n",
              "      <td>[5, 6, 7, 8, 9, 10, 11, 12, 13, 14, 15, 16, 17...</td>\n",
              "      <td>[[0.2684054414666464, 1.029311137344964, 0.605...</td>\n",
              "      <td>[[0.0314347175089187], [0.0285494590119704], [...</td>\n",
              "    </tr>\n",
              "    <tr>\n",
              "      <th>1</th>\n",
              "      <td>7405</td>\n",
              "      <td>[2014-04-23, 2014-04-24, 2014-04-25, 2014-04-2...</td>\n",
              "      <td>[2014-04-28, 2014-04-29, 2014-04-30, 2014-05-0...</td>\n",
              "      <td>[1, 2, 3, 4, 5]</td>\n",
              "      <td>[6, 7, 8, 9, 10, 11, 12, 13, 14, 15, 16, 17, 1...</td>\n",
              "      <td>[[0.2684054414666464, 0.8457950056169782, 0.63...</td>\n",
              "      <td>[[0.0285494590119704], [-0.0197694902470496], ...</td>\n",
              "    </tr>\n",
              "    <tr>\n",
              "      <th>2</th>\n",
              "      <td>7405</td>\n",
              "      <td>[2014-04-24, 2014-04-25, 2014-04-26, 2014-04-2...</td>\n",
              "      <td>[2014-04-29, 2014-04-30, 2014-05-01, 2014-05-0...</td>\n",
              "      <td>[2, 3, 4, 5, 6]</td>\n",
              "      <td>[7, 8, 9, 10, 11, 12, 13, 14, 15, 16, 17, 18, ...</td>\n",
              "      <td>[[0.2684054414666464, 0.7750251338314447, 0.63...</td>\n",
              "      <td>[[-0.0197694902470496], [-0.0590966592282385],...</td>\n",
              "    </tr>\n",
              "    <tr>\n",
              "      <th>3</th>\n",
              "      <td>7405</td>\n",
              "      <td>[2014-04-25, 2014-04-26, 2014-04-27, 2014-04-2...</td>\n",
              "      <td>[2014-04-30, 2014-05-01, 2014-05-02, 2014-05-0...</td>\n",
              "      <td>[3, 4, 5, 6, 7]</td>\n",
              "      <td>[8, 9, 10, 11, 12, 13, 14, 15, 16, 17, 18, 19,...</td>\n",
              "      <td>[[0.2684054414666464, 0.7050330190704033, 0.64...</td>\n",
              "      <td>[[-0.0590966592282385], [-0.068387922033601], ...</td>\n",
              "    </tr>\n",
              "    <tr>\n",
              "      <th>4</th>\n",
              "      <td>7405</td>\n",
              "      <td>[2014-04-26, 2014-04-27, 2014-04-28, 2014-04-2...</td>\n",
              "      <td>[2014-05-01, 2014-05-02, 2014-05-03, 2014-05-0...</td>\n",
              "      <td>[4, 5, 6, 7, 8]</td>\n",
              "      <td>[9, 10, 11, 12, 13, 14, 15, 16, 17, 18, 19, 20...</td>\n",
              "      <td>[[0.2684054414666464, 0.6253569546426345, 0.64...</td>\n",
              "      <td>[[-0.068387922033601], [-0.1698175409921428], ...</td>\n",
              "    </tr>\n",
              "    <tr>\n",
              "      <th>...</th>\n",
              "      <td>...</td>\n",
              "      <td>...</td>\n",
              "      <td>...</td>\n",
              "      <td>...</td>\n",
              "      <td>...</td>\n",
              "      <td>...</td>\n",
              "      <td>...</td>\n",
              "    </tr>\n",
              "    <tr>\n",
              "      <th>7874</th>\n",
              "      <td>5769</td>\n",
              "      <td>[2016-08-04, 2016-08-05, 2016-08-06, 2016-08-0...</td>\n",
              "      <td>[2016-08-09, 2016-08-10, 2016-08-11, 2016-08-1...</td>\n",
              "      <td>[7964, 7965, 7966, 7967, 7968]</td>\n",
              "      <td>[7969, 7970, 7971, 7972, 7973, 7974, 7975, 797...</td>\n",
              "      <td>[[0.2684054414666464, -0.4755216279671733, -0....</td>\n",
              "      <td>[[-0.7318767962210462], [-0.7237141278873048],...</td>\n",
              "    </tr>\n",
              "    <tr>\n",
              "      <th>7875</th>\n",
              "      <td>5769</td>\n",
              "      <td>[2016-08-05, 2016-08-06, 2016-08-07, 2016-08-0...</td>\n",
              "      <td>[2016-08-10, 2016-08-11, 2016-08-12, 2016-08-1...</td>\n",
              "      <td>[7965, 7966, 7967, 7968, 7969]</td>\n",
              "      <td>[7970, 7971, 7972, 7973, 7974, 7975, 7976, 797...</td>\n",
              "      <td>[[0.2684054414666464, -0.4755216279671733, -0....</td>\n",
              "      <td>[[-0.7237141278873048], [-0.7192072810705527],...</td>\n",
              "    </tr>\n",
              "    <tr>\n",
              "      <th>7876</th>\n",
              "      <td>5769</td>\n",
              "      <td>[2016-08-06, 2016-08-07, 2016-08-08, 2016-08-0...</td>\n",
              "      <td>[2016-08-11, 2016-08-12, 2016-08-13, 2016-08-1...</td>\n",
              "      <td>[7966, 7967, 7968, 7969, 7970]</td>\n",
              "      <td>[7971, 7972, 7973, 7974, 7975, 7976, 7977, 797...</td>\n",
              "      <td>[[0.2684054414666464, -0.4755216279671733, -0....</td>\n",
              "      <td>[[-0.7192072810705527], [-0.7133929373653101],...</td>\n",
              "    </tr>\n",
              "    <tr>\n",
              "      <th>7877</th>\n",
              "      <td>5769</td>\n",
              "      <td>[2016-08-07, 2016-08-08, 2016-08-09, 2016-08-1...</td>\n",
              "      <td>[2016-08-12, 2016-08-13, 2016-08-14, 2016-08-1...</td>\n",
              "      <td>[7967, 7968, 7969, 7970, 7971]</td>\n",
              "      <td>[7972, 7973, 7974, 7975, 7976, 7977, 7978, 797...</td>\n",
              "      <td>[[0.2684054414666464, -0.4755216279671733, -0....</td>\n",
              "      <td>[[-0.7133929373653101], [-0.7128670168291575],...</td>\n",
              "    </tr>\n",
              "    <tr>\n",
              "      <th>7878</th>\n",
              "      <td>5769</td>\n",
              "      <td>[2016-08-08, 2016-08-09, 2016-08-10, 2016-08-1...</td>\n",
              "      <td>[2016-08-13, 2016-08-14, 2016-08-15, 2016-08-1...</td>\n",
              "      <td>[7968, 7969, 7970, 7971, 7972]</td>\n",
              "      <td>[7973, 7974, 7975, 7976, 7977, 7978, 7979, 798...</td>\n",
              "      <td>[[0.2684054414666464, -0.4755216279671733, -0....</td>\n",
              "      <td>[[-0.7128670168291575], [-0.704496114962062], ...</td>\n",
              "    </tr>\n",
              "  </tbody>\n",
              "</table>\n",
              "<p>7879 rows × 7 columns</p>\n",
              "</div>"
            ],
            "text/plain": [
              "      well_name                                       inputs_dates  \\\n",
              "0          7405  [2014-04-22, 2014-04-23, 2014-04-24, 2014-04-2...   \n",
              "1          7405  [2014-04-23, 2014-04-24, 2014-04-25, 2014-04-2...   \n",
              "2          7405  [2014-04-24, 2014-04-25, 2014-04-26, 2014-04-2...   \n",
              "3          7405  [2014-04-25, 2014-04-26, 2014-04-27, 2014-04-2...   \n",
              "4          7405  [2014-04-26, 2014-04-27, 2014-04-28, 2014-04-2...   \n",
              "...         ...                                                ...   \n",
              "7874       5769  [2016-08-04, 2016-08-05, 2016-08-06, 2016-08-0...   \n",
              "7875       5769  [2016-08-05, 2016-08-06, 2016-08-07, 2016-08-0...   \n",
              "7876       5769  [2016-08-06, 2016-08-07, 2016-08-08, 2016-08-0...   \n",
              "7877       5769  [2016-08-07, 2016-08-08, 2016-08-09, 2016-08-1...   \n",
              "7878       5769  [2016-08-08, 2016-08-09, 2016-08-10, 2016-08-1...   \n",
              "\n",
              "                                          targets_dates  \\\n",
              "0     [2014-04-27, 2014-04-28, 2014-04-29, 2014-04-3...   \n",
              "1     [2014-04-28, 2014-04-29, 2014-04-30, 2014-05-0...   \n",
              "2     [2014-04-29, 2014-04-30, 2014-05-01, 2014-05-0...   \n",
              "3     [2014-04-30, 2014-05-01, 2014-05-02, 2014-05-0...   \n",
              "4     [2014-05-01, 2014-05-02, 2014-05-03, 2014-05-0...   \n",
              "...                                                 ...   \n",
              "7874  [2016-08-09, 2016-08-10, 2016-08-11, 2016-08-1...   \n",
              "7875  [2016-08-10, 2016-08-11, 2016-08-12, 2016-08-1...   \n",
              "7876  [2016-08-11, 2016-08-12, 2016-08-13, 2016-08-1...   \n",
              "7877  [2016-08-12, 2016-08-13, 2016-08-14, 2016-08-1...   \n",
              "7878  [2016-08-13, 2016-08-14, 2016-08-15, 2016-08-1...   \n",
              "\n",
              "                        inputs_index  \\\n",
              "0                    [0, 1, 2, 3, 4]   \n",
              "1                    [1, 2, 3, 4, 5]   \n",
              "2                    [2, 3, 4, 5, 6]   \n",
              "3                    [3, 4, 5, 6, 7]   \n",
              "4                    [4, 5, 6, 7, 8]   \n",
              "...                              ...   \n",
              "7874  [7964, 7965, 7966, 7967, 7968]   \n",
              "7875  [7965, 7966, 7967, 7968, 7969]   \n",
              "7876  [7966, 7967, 7968, 7969, 7970]   \n",
              "7877  [7967, 7968, 7969, 7970, 7971]   \n",
              "7878  [7968, 7969, 7970, 7971, 7972]   \n",
              "\n",
              "                                          targets_index  \\\n",
              "0     [5, 6, 7, 8, 9, 10, 11, 12, 13, 14, 15, 16, 17...   \n",
              "1     [6, 7, 8, 9, 10, 11, 12, 13, 14, 15, 16, 17, 1...   \n",
              "2     [7, 8, 9, 10, 11, 12, 13, 14, 15, 16, 17, 18, ...   \n",
              "3     [8, 9, 10, 11, 12, 13, 14, 15, 16, 17, 18, 19,...   \n",
              "4     [9, 10, 11, 12, 13, 14, 15, 16, 17, 18, 19, 20...   \n",
              "...                                                 ...   \n",
              "7874  [7969, 7970, 7971, 7972, 7973, 7974, 7975, 797...   \n",
              "7875  [7970, 7971, 7972, 7973, 7974, 7975, 7976, 797...   \n",
              "7876  [7971, 7972, 7973, 7974, 7975, 7976, 7977, 797...   \n",
              "7877  [7972, 7973, 7974, 7975, 7976, 7977, 7978, 797...   \n",
              "7878  [7973, 7974, 7975, 7976, 7977, 7978, 7979, 798...   \n",
              "\n",
              "                                                 inputs  \\\n",
              "0     [[0.2684054414666464, 1.029311137344964, 0.605...   \n",
              "1     [[0.2684054414666464, 0.8457950056169782, 0.63...   \n",
              "2     [[0.2684054414666464, 0.7750251338314447, 0.63...   \n",
              "3     [[0.2684054414666464, 0.7050330190704033, 0.64...   \n",
              "4     [[0.2684054414666464, 0.6253569546426345, 0.64...   \n",
              "...                                                 ...   \n",
              "7874  [[0.2684054414666464, -0.4755216279671733, -0....   \n",
              "7875  [[0.2684054414666464, -0.4755216279671733, -0....   \n",
              "7876  [[0.2684054414666464, -0.4755216279671733, -0....   \n",
              "7877  [[0.2684054414666464, -0.4755216279671733, -0....   \n",
              "7878  [[0.2684054414666464, -0.4755216279671733, -0....   \n",
              "\n",
              "                                                targets  \n",
              "0     [[0.0314347175089187], [0.0285494590119704], [...  \n",
              "1     [[0.0285494590119704], [-0.0197694902470496], ...  \n",
              "2     [[-0.0197694902470496], [-0.0590966592282385],...  \n",
              "3     [[-0.0590966592282385], [-0.068387922033601], ...  \n",
              "4     [[-0.068387922033601], [-0.1698175409921428], ...  \n",
              "...                                                 ...  \n",
              "7874  [[-0.7318767962210462], [-0.7237141278873048],...  \n",
              "7875  [[-0.7237141278873048], [-0.7192072810705527],...  \n",
              "7876  [[-0.7192072810705527], [-0.7133929373653101],...  \n",
              "7877  [[-0.7133929373653101], [-0.7128670168291575],...  \n",
              "7878  [[-0.7128670168291575], [-0.704496114962062], ...  \n",
              "\n",
              "[7879 rows x 7 columns]"
            ]
          },
          "execution_count": 141,
          "metadata": {},
          "output_type": "execute_result"
        }
      ],
      "source": [
        "# sequences = []\n",
        "# for well_name in data['well_name'].unique():\n",
        "#     well_data = data[data['well_name'] == well_name].sort_values(by='date').reset_index()\n",
        "#     for i in range(len(well_data) - training_gap + 1):\n",
        "#         single_features = np.array(well_data.iloc[i:i + days_window][single_feature_columns])\n",
        "#         multiple_features = np.array(well_data.iloc[i:i + days_window][multiple_feature_columns])\n",
        "#         multiple_flattened = []\n",
        "#         for k in multiple_features:\n",
        "#            flattened_list = [item for sublist in k for item in sublist]\n",
        "#            multiple_flattened.append(flattened_list)\n",
        "#         multiple_flattened = np.array(multiple_flattened)\n",
        "#         inputs = np.concatenate((single_features, multiple_flattened), axis=1)\n",
        "#         targets = well_data.iloc[i + days_window:i + days_window + predictions_days][target_column].values\n",
        "#         inputs_dates = list(well_data.iloc[i:i + days_window]['date'])\n",
        "#         targets_dates = list(well_data.iloc[i + days_window:i + days_window + predictions_days]['date'])\n",
        "#         inputs_index = list(well_data.iloc[i:i + days_window]['index'])\n",
        "#         targets_index = list(well_data.iloc[i + days_window:i + days_window + predictions_days]['index'])\n",
        "#         sequences.append((well_name, inputs_dates, targets_dates, inputs_index, targets_index, inputs, targets))\n",
        "#         if len(well_data.iloc[i:i + days_window + predictions_days]['well_name'].unique()) > 1:\n",
        "#           print('violation')\n",
        "\n",
        "# dataset = pd.DataFrame(sequences, columns=['well_name', 'inputs_dates', 'targets_dates', 'inputs_index', 'targets_index', 'inputs', 'targets', ])\n",
        "# dataset.to_pickle(path + \"/data/Volve/all_data.pkl\")\n",
        "# dataset"
      ]
    },
    {
      "cell_type": "code",
      "execution_count": 14,
      "metadata": {
        "id": "fibAgggFAAhT"
      },
      "outputs": [],
      "source": [
        "train_size = 0.6\n",
        "val_size = 0.2\n",
        "test_size = 0.2"
      ]
    },
    {
      "cell_type": "code",
      "execution_count": 15,
      "metadata": {
        "id": "Nbxt8qRjwm4U"
      },
      "outputs": [],
      "source": [
        "test_size_param1 = test_size\n",
        "test_size_param2 = val_size / (1 - test_size_param1)"
      ]
    },
    {
      "cell_type": "code",
      "execution_count": 160,
      "metadata": {
        "colab": {
          "base_uri": "https://localhost:8080/"
        },
        "id": "SxLKPdjjBb6O",
        "outputId": "4f0bf1d7-932a-4cf3-a45b-231392ffaea5"
      },
      "outputs": [],
      "source": [
        "# train_wells = []\n",
        "# test_wells = []\n",
        "# for i in well_info.keys():\n",
        "#     well = dataset[dataset['well_name'] == i]\n",
        "#     train_set_length = int((train_size + val_size) * len(well))\n",
        "#     train_wells.append(well[:train_set_length + 1])\n",
        "#     test_set_length = int(test_size * len(well))\n",
        "#     test_wells.append(well[-test_set_length:])\n",
        "\n",
        "# # Flatten the lists of DataFrames\n",
        "# temp_data = pd.concat(train_wells).reset_index(drop=True)\n",
        "# data_test = pd.concat(test_wells).reset_index(drop=True)\n",
        "\n",
        "\n",
        "# data_train, data_val = train_test_split(temp_data, test_size=test_size_param2, stratify=temp_data['well_name'], shuffle=True)\n",
        "\n",
        "# data_train.reset_index(drop=True, inplace=True)\n",
        "# data_val.reset_index(drop=True, inplace=True)\n",
        "# data_test.reset_index(drop=True, inplace=True)\n",
        "\n",
        "# data_train.to_pickle(path + \"/data/Volve/data_train.pkl\")\n",
        "# data_val.to_pickle(path + \"/data/Volve/data_val.pkl\")\n",
        "# data_test.to_pickle(path + \"/data/Volve/data_test.pkl\")\n"
      ]
    },
    {
      "cell_type": "code",
      "execution_count": 16,
      "metadata": {},
      "outputs": [],
      "source": [
        "all_data = pd.read_pickle(path + \"/data/Volve/all_data.pkl\")\n",
        "data_train = pd.read_pickle(path + \"/data/Volve/data_train.pkl\")\n",
        "data_val = pd.read_pickle(path + \"/data/Volve/data_val.pkl\")\n",
        "data_test = pd.read_pickle(path + \"/data/Volve/data_test.pkl\")"
      ]
    },
    {
      "cell_type": "code",
      "execution_count": 17,
      "metadata": {},
      "outputs": [
        {
          "data": {
            "text/plain": [
              "((4730, 7), (1577, 7), (1573, 7))"
            ]
          },
          "execution_count": 17,
          "metadata": {},
          "output_type": "execute_result"
        }
      ],
      "source": [
        "data_train.shape, data_val.shape, data_test.shape"
      ]
    },
    {
      "cell_type": "code",
      "execution_count": 18,
      "metadata": {},
      "outputs": [
        {
          "name": "stdout",
          "output_type": "stream",
          "text": [
            "The input/output gap is fine\n"
          ]
        }
      ],
      "source": [
        "check = True\n",
        "for i, j in well_info.items():\n",
        "    if len(all_data[all_data['well_name'] == i]) < 10:\n",
        "        print(\"The input/output gap is too high for well\", i)\n",
        "        check = False\n",
        "if check:\n",
        "    print(\"The input/output gap is fine\")"
      ]
    },
    {
      "cell_type": "code",
      "execution_count": 19,
      "metadata": {},
      "outputs": [
        {
          "name": "stdout",
          "output_type": "stream",
          "text": [
            "All datasets have all wells\n"
          ]
        }
      ],
      "source": [
        "check=True\n",
        "for i in [data_train, data_val, data_test]:\n",
        "    for j in well_info.keys():\n",
        "        if j not in set(list(i['well_name'])):\n",
        "            print(\"Some datasets do not have specific well\")\n",
        "            check = False\n",
        "            break\n",
        "if check:\n",
        "    print(\"All datasets have all wells\")"
      ]
    },
    {
      "cell_type": "code",
      "execution_count": 20,
      "metadata": {},
      "outputs": [
        {
          "data": {
            "text/plain": [
              "((5, 38), (14, 1))"
            ]
          },
          "execution_count": 20,
          "metadata": {},
          "output_type": "execute_result"
        }
      ],
      "source": [
        "data_train['inputs'][0].shape, data_train['targets'][0].shape"
      ]
    },
    {
      "cell_type": "code",
      "execution_count": 21,
      "metadata": {},
      "outputs": [
        {
          "data": {
            "text/plain": [
              "'mps'"
            ]
          },
          "execution_count": 21,
          "metadata": {},
          "output_type": "execute_result"
        }
      ],
      "source": [
        "if torch.backends.mps.is_available():\n",
        "    device = 'mps'\n",
        "elif torch.cuda.is_available():\n",
        "    device = 'cuda'\n",
        "else:\n",
        "    device = 'cpu' \n",
        "device"
      ]
    },
    {
      "cell_type": "code",
      "execution_count": 22,
      "metadata": {
        "id": "SZXwNYhTO9V_"
      },
      "outputs": [],
      "source": [
        "eval_interval = 500\n",
        "test_eval_interval = 500\n",
        "test_iterations = 7500\n",
        "warmup_steps = 6000 # hyper-parameters for hyperprameter finetuning"
      ]
    },
    {
      "cell_type": "code",
      "execution_count": 23,
      "metadata": {
        "id": "DOEruC1tFSSk"
      },
      "outputs": [],
      "source": [
        "class LSTM(nn.Module):\n",
        "    def __init__(self, input_length, hidden_length, output_length, num_layers, dropout=0):\n",
        "        super().__init__()\n",
        "        self.input_length = input_length\n",
        "        self.hidden_length = hidden_length\n",
        "        self.output_length = output_length\n",
        "        self.init_hidden = nn.Parameter(torch.zeros(num_layers, 1, hidden_length))\n",
        "        self.init_cell = nn.Parameter(torch.zeros(num_layers, 1, hidden_length))\n",
        "        self.num_layers = num_layers\n",
        "        self.lstm_cell = nn.LSTM(self.input_length, self.hidden_length, self.num_layers, batch_first=True)\n",
        "        self.output_layer = nn.Linear(self.hidden_length, self.output_length)\n",
        "        self.dropout = nn.Dropout(dropout)\n",
        "\n",
        "    def forward(self, x, targets=None):\n",
        "        B, T, C = x.shape\n",
        "        init_hidden = self.init_hidden.repeat(1, B, 1)\n",
        "        init_cell = self.init_cell.repeat(1, B, 1)\n",
        "        cell_output, _ = self.lstm_cell(x, (init_hidden, init_cell))\n",
        "        cell_dropout = self.dropout(cell_output)\n",
        "        logits = self.output_layer(cell_dropout[:, -1, :])\n",
        "        if targets is None:\n",
        "            loss = None\n",
        "        else:\n",
        "            B, T = logits.shape\n",
        "            logits = logits.view(B*T)\n",
        "            targets = targets.view(B*T)\n",
        "            loss = F.mse_loss(logits, targets)\n",
        "        return logits, loss\n",
        "\n",
        "    def get_hyperparameters(self):\n",
        "        return {'input_length': self.input_length, 'hidden_length': self.hidden_length, 'output_length': self.output_length, 'num_layers': self.num_layers, 'dropout': self.dropout}"
      ]
    },
    {
      "cell_type": "code",
      "execution_count": 24,
      "metadata": {
        "id": "dPVTSvxu1cVQ"
      },
      "outputs": [],
      "source": [
        "class TimeSeriesDataset(Dataset):\n",
        "    def __init__(self, sequences_df):\n",
        "        self.sequences_df = sequences_df\n",
        "\n",
        "    def __len__(self):\n",
        "        return len(self.sequences_df)\n",
        "\n",
        "    def __getitem__(self, idx):\n",
        "        inputs = self.sequences_df.iloc[idx]['inputs']\n",
        "        targets = self.sequences_df.iloc[idx]['targets']\n",
        "        return torch.tensor(inputs, dtype=torch.float32), torch.tensor(targets, dtype=torch.float32).squeeze()\n",
        "\n",
        "train_dataset = TimeSeriesDataset(data_train)\n",
        "val_dataset = TimeSeriesDataset(data_val)\n",
        "test_dataset = TimeSeriesDataset(data_test)\n",
        "\n",
        "train_loader = DataLoader(train_dataset, batch_size=batch_size, shuffle=True)\n",
        "val_loader = DataLoader(val_dataset, batch_size=batch_size, shuffle=True)\n",
        "test_loader = DataLoader(test_dataset, batch_size=batch_size, shuffle=False)\n"
      ]
    },
    {
      "cell_type": "code",
      "execution_count": 25,
      "metadata": {},
      "outputs": [],
      "source": [
        "input_length = data_train['inputs'][0].shape[1]\n",
        "output_length = predictions_days"
      ]
    },
    {
      "cell_type": "code",
      "execution_count": 199,
      "metadata": {
        "id": "0h7KW6y9PatC"
      },
      "outputs": [],
      "source": [
        "@torch.no_grad()\n",
        "def estimate_loss(model): # Function to estimate train and val loss while training\n",
        "    model.eval()  # Set model to evaluation mode\n",
        "    out = {}\n",
        "    loaders = {'train': train_loader, 'val': val_loader}\n",
        "    for mode in ['train', 'val']:\n",
        "        losses = []\n",
        "        # Iterate over the DataLoader for a fixed number of batches\n",
        "        for X_batch, Y_batch in loaders[mode]:\n",
        "            X_batch, Y_batch = X_batch.to(device), Y_batch.to(device)\n",
        "            logits, loss = model(X_batch, Y_batch)  # Run inputs and expected outputs through model to get loss\n",
        "            losses.append(loss.item())  # Add value to losses list\n",
        "        out[mode] = torch.tensor(losses).mean().item()  # Get mean of losses tensor and save it\n",
        "    model.train()  # Put model back in train mode\n",
        "    return out\n",
        "\n",
        "@torch.no_grad()\n",
        "def save_params(model, optimizer, scheduler): # function to save parameters, optimizer and scheduler states\n",
        "    config_path = path + r'/Models/Global/LSTM/Model/'\n",
        "    torch.save(model.state_dict(), config_path + 'params.pt') # to save parameters\n",
        "    torch.save(optimizer.state_dict(), config_path + 'optimizer.pt') # to save optimizer state\n",
        "    torch.save(scheduler.state_dict(), config_path + 'scheduler.pt') # to save scheduler states\n",
        "\n",
        "def save_config(name, model, optimizer, scheduler): # function to save parameters, optimizer and scheduler states\n",
        "    config_path = path + f'/Models/Global/LSTM/Model/{name}.js'\n",
        "    hyper_params = {'input_length': model.input_length, 'output_length': model.output_length, 'num_layers': model.num_layers, 'dropout': model.dropout, 'lr': optimizer.lr, 'gamma': scheduler.gamma}\n",
        "    with open(config_path + f'{name}.js', 'r') as file:\n",
        "        json.dump(hyper_params, file)\n",
        "\n",
        "def get_next_log_file(log_dir, prefix=\"training_run_\"):\n",
        "    if not os.path.exists(log_dir):\n",
        "        os.makedirs(log_dir)\n",
        "        return os.path.join(log_dir, f\"{prefix}1.txt\")\n",
        "    existing_files = os.listdir(log_dir)\n",
        "    log_numbers = []\n",
        "    for filename in existing_files:\n",
        "        match = re.match(rf\"{prefix}(\\d+).txt\", filename)\n",
        "        if match:\n",
        "            log_numbers.append(int(match.group(1)))\n",
        "    if log_numbers:\n",
        "        next_number = max(log_numbers) + 1\n",
        "    else:\n",
        "        next_number = 1\n",
        "    return os.path.join(log_dir, f\"{prefix}{next_number}.txt\")\n",
        "\n",
        "def log_to_file(log_file, message):\n",
        "    with open(log_file, 'a') as f:\n",
        "        f.write(message + '\\n')\n",
        "\n",
        "def calculate_metrics(y_true, y_pred):\n",
        "    mae = mean_absolute_error(y_true, y_pred)\n",
        "    rmse = np.sqrt(mean_squared_error(y_true, y_pred))\n",
        "    r2 = r2_score(y_true, y_pred)\n",
        "    return {'MAE': mae, 'RMSE': rmse, 'R2': r2}\n",
        "\n",
        "@torch.no_grad()\n",
        "def evaluate(mode, model):\n",
        "    loader_dict = {'train': train_loader, 'val': val_loader, 'test': test_loader}\n",
        "    loader = loader_dict[mode]\n",
        "    model.eval()  # Set model to evaluation mode\n",
        "    all_preds = []\n",
        "    all_targets = []\n",
        "    test_losses = []\n",
        "    for X_batch, Y_batch in loader:\n",
        "        X_batch, Y_batch = X_batch.to(device), Y_batch.to(device)\n",
        "        logits, loss = model(X_batch, Y_batch)  # Run inputs and expected outputs through model to get loss\n",
        "        test_losses.append(loss.item())  # Collect test loss\n",
        "        B, T = Y_batch.shape\n",
        "        Y_batch = Y_batch.view(B*T)\n",
        "        # Convert predictions and targets to NumPy arrays\n",
        "        all_preds.append(logits.cpu().numpy())  # .cpu() moves tensor to CPU, .numpy() converts to NumPy array\n",
        "        all_targets.append(Y_batch.cpu().numpy())\n",
        "    # Concatenate all predictions and targets\n",
        "    all_preds = np.concatenate(all_preds, axis=0)\n",
        "    all_targets = np.concatenate(all_targets, axis=0)\n",
        "    # Calculate metrics\n",
        "    metrics = calculate_metrics(all_targets, all_preds)\n",
        "    metrics['Loss'] = np.mean(test_losses)\n",
        "    print(f\"Metrics on {mode} set:\\n\")\n",
        "    print(f\"Loss is {metrics['Loss']:.4f}\")\n",
        "    print(f\"MAE is {metrics['MAE']:.4f}\")\n",
        "    print(f\"RMSE is {metrics['RMSE']:.4f}\")\n",
        "    print(f\"R² is {metrics['R2']:.4f}\")\n",
        "    print(\"\\n\")\n",
        "    return metrics\n",
        "\n",
        "# Define an objective function for Optuna\n",
        "def objective(trial):\n",
        "    vector_length = trial.suggest_int('vector_length', 16, 2048, step=16)\n",
        "    num_layers = trial.suggest_int('num_layers', 1, 5) # maybe increase it to 6\n",
        "    dropout = trial.suggest_float('dropout', 0.1, 0.6)\n",
        "    lr = trial.suggest_float('lr', 1e-5, 1e-2, log=True)\n",
        "    gamma = trial.suggest_float('gamma', 0.95, 0.99)\n",
        "    model = LSTM(input_length=input_length, hidden_length=vector_length, output_length=output_length, num_layers=num_layers, dropout=dropout).to(device)\n",
        "    optimizer = torch.optim.AdamW(model.parameters(), lr=lr)\n",
        "    scheduler = torch.optim.lr_scheduler.ExponentialLR(optimizer, gamma=gamma) # setting optimizer scheduler\n",
        "    train_loader_iter = iter(train_loader)\n",
        "    # Training loop\n",
        "    for i in range(test_iterations):\n",
        "        model.train()\n",
        "        if (i % test_eval_interval == 0 or i == test_iterations - 1):\n",
        "            losses = estimate_loss(model)\n",
        "            trial.report(losses['val'], i)\n",
        "            if i != 0:\n",
        "                scheduler.step()\n",
        "            # if i >= warmup_steps and trial.should_prune():\n",
        "            #     raise optuna.TrialPruned()\n",
        "        try:\n",
        "            X_batch, Y_batch = next(train_loader_iter)\n",
        "        except StopIteration:\n",
        "            train_loader_iter = iter(train_loader)\n",
        "            X_batch, Y_batch = next(train_loader_iter)\n",
        "            \n",
        "        X_batch, Y_batch = X_batch.to(device), Y_batch.to(device)\n",
        "        logits, loss = model(X_batch, Y_batch)\n",
        "        optimizer.zero_grad(set_to_none=True)\n",
        "        loss.backward()\n",
        "        optimizer.step()\n",
        "    val_metrics = evaluate('val', model)\n",
        "    return val_metrics['Loss']\n",
        "\n",
        "def load_model(name): \n",
        "    config_path = path + r'/Models/Global/LSTM/Model/'\n",
        "    with open(config_path + f'{name}.js', 'r') as file:\n",
        "        hyper_params = json.load(file)\n",
        "    model = LSTM(input_length=hyper_params['input_length'], hidden_length=hyper_params['vector_length'], output_length=hyper_params['output_length'], num_layers=hyper_params['num_layers'], dropout=['dropout']).to(device)\n",
        "    model.load_state_dict(torch.load(config_path + 'params.pt'))\n",
        "    optimizer = torch.optim.AdamW(model.parameters(), lr=hyper_params['lr'])\n",
        "    optimizer.load_state_dict(torch.load(config_path + 'optimizer.pt'))\n",
        "    scheduler = torch.optim.lr_scheduler.ExponentialLR(optimizer, gamma=hyper_params['gamma'])\n",
        "    scheduler.load_state_dict(torch.load(config_path + 'scheduler.pt'))\n",
        "    return model, optimizer, scheduler\n",
        "\n",
        "def get_oil_history(date, well_name):\n",
        "    well = data[data[\"well_name\"] == int(well_name)].reset_index(drop=True)\n",
        "    well = well[pd.to_datetime(well['date']) < date]\n",
        "    return well['oil_rate']"
      ]
    },
    {
      "cell_type": "code",
      "execution_count": 92,
      "metadata": {},
      "outputs": [
        {
          "name": "stderr",
          "output_type": "stream",
          "text": [
            "[I 2024-07-03 17:11:23,759] A new study created in memory with name: no-name-9861fe4c-e1b2-45a7-aaef-670903f027f5\n",
            "[I 2024-07-03 17:13:24,341] Trial 0 finished with value: 0.054237815167974025 and parameters: {'vector_length': 848, 'num_layers': 2, 'dropout': 0.33332278492511047, 'lr': 1.556153940820864e-05, 'gamma': 0.9519257078846421}. Best is trial 0 with value: 0.054237815167974025.\n"
          ]
        },
        {
          "name": "stdout",
          "output_type": "stream",
          "text": [
            "Metrics on val set:\n",
            "\n",
            "Loss is 0.0542\n",
            "MAE is 0.1158\n",
            "RMSE is 0.2325\n",
            "R² is 0.9481\n",
            "\n",
            "\n"
          ]
        },
        {
          "name": "stderr",
          "output_type": "stream",
          "text": [
            "[I 2024-07-03 17:15:49,342] Trial 1 finished with value: 0.03352447632042801 and parameters: {'vector_length': 336, 'num_layers': 4, 'dropout': 0.1669474038706595, 'lr': 0.00012284865613684722, 'gamma': 0.9719701697192931}. Best is trial 1 with value: 0.03352447632042801.\n"
          ]
        },
        {
          "name": "stdout",
          "output_type": "stream",
          "text": [
            "Metrics on val set:\n",
            "\n",
            "Loss is 0.0335\n",
            "MAE is 0.0947\n",
            "RMSE is 0.1818\n",
            "R² is 0.9683\n",
            "\n",
            "\n"
          ]
        },
        {
          "name": "stderr",
          "output_type": "stream",
          "text": [
            "[I 2024-07-03 17:18:06,461] Trial 2 finished with value: 0.05080546197645804 and parameters: {'vector_length': 96, 'num_layers': 4, 'dropout': 0.3620660682552671, 'lr': 6.685336520324048e-05, 'gamma': 0.9665061847775223}. Best is trial 1 with value: 0.03352447632042801.\n"
          ]
        },
        {
          "name": "stdout",
          "output_type": "stream",
          "text": [
            "Metrics on val set:\n",
            "\n",
            "Loss is 0.0508\n",
            "MAE is 0.1157\n",
            "RMSE is 0.2263\n",
            "R² is 0.9508\n",
            "\n",
            "\n"
          ]
        },
        {
          "name": "stderr",
          "output_type": "stream",
          "text": [
            "[I 2024-07-03 20:32:29,870] Trial 3 finished with value: 0.04309181354063399 and parameters: {'vector_length': 2048, 'num_layers': 5, 'dropout': 0.11204809990469436, 'lr': 3.6350701491644764e-05, 'gamma': 0.9860027861707396}. Best is trial 1 with value: 0.03352447632042801.\n"
          ]
        },
        {
          "name": "stdout",
          "output_type": "stream",
          "text": [
            "Metrics on val set:\n",
            "\n",
            "Loss is 0.0431\n",
            "MAE is 0.1142\n",
            "RMSE is 0.2081\n",
            "R² is 0.9584\n",
            "\n",
            "\n"
          ]
        },
        {
          "name": "stderr",
          "output_type": "stream",
          "text": [
            "[I 2024-07-03 21:01:44,524] Trial 4 finished with value: 0.037535306614111454 and parameters: {'vector_length': 1024, 'num_layers': 5, 'dropout': 0.2851614812265916, 'lr': 0.0022170786129750513, 'gamma': 0.9581178283678677}. Best is trial 1 with value: 0.03352447632042801.\n"
          ]
        },
        {
          "name": "stdout",
          "output_type": "stream",
          "text": [
            "Metrics on val set:\n",
            "\n",
            "Loss is 0.0375\n",
            "MAE is 0.0886\n",
            "RMSE is 0.1948\n",
            "R² is 0.9635\n",
            "\n",
            "\n"
          ]
        },
        {
          "name": "stderr",
          "output_type": "stream",
          "text": [
            "[I 2024-07-03 21:14:49,625] Trial 5 finished with value: 0.03299377880552236 and parameters: {'vector_length': 816, 'num_layers': 5, 'dropout': 0.13955593194349056, 'lr': 9.7500622149325e-05, 'gamma': 0.9693770873895144}. Best is trial 5 with value: 0.03299377880552236.\n"
          ]
        },
        {
          "name": "stdout",
          "output_type": "stream",
          "text": [
            "Metrics on val set:\n",
            "\n",
            "Loss is 0.0330\n",
            "MAE is 0.0922\n",
            "RMSE is 0.1809\n",
            "R² is 0.9686\n",
            "\n",
            "\n"
          ]
        },
        {
          "name": "stderr",
          "output_type": "stream",
          "text": [
            "[I 2024-07-03 21:56:07,589] Trial 6 finished with value: 0.031711948158986425 and parameters: {'vector_length': 1808, 'num_layers': 2, 'dropout': 0.37729779832159316, 'lr': 6.623019531188234e-05, 'gamma': 0.9808355297092728}. Best is trial 6 with value: 0.031711948158986425.\n"
          ]
        },
        {
          "name": "stdout",
          "output_type": "stream",
          "text": [
            "Metrics on val set:\n",
            "\n",
            "Loss is 0.0317\n",
            "MAE is 0.0944\n",
            "RMSE is 0.1779\n",
            "R² is 0.9696\n",
            "\n",
            "\n"
          ]
        },
        {
          "name": "stderr",
          "output_type": "stream",
          "text": [
            "[I 2024-07-03 23:40:51,561] Trial 7 finished with value: 0.12733310592525146 and parameters: {'vector_length': 1872, 'num_layers': 4, 'dropout': 0.5669995565826167, 'lr': 0.008460754061906441, 'gamma': 0.9877232463243975}. Best is trial 6 with value: 0.031711948158986425.\n"
          ]
        },
        {
          "name": "stdout",
          "output_type": "stream",
          "text": [
            "Metrics on val set:\n",
            "\n",
            "Loss is 0.1273\n",
            "MAE is 0.2632\n",
            "RMSE is 0.3551\n",
            "R² is 0.8790\n",
            "\n",
            "\n"
          ]
        },
        {
          "name": "stderr",
          "output_type": "stream",
          "text": [
            "[I 2024-07-04 00:07:32,442] Trial 8 finished with value: 0.04099934909711866 and parameters: {'vector_length': 560, 'num_layers': 3, 'dropout': 0.5643315102779555, 'lr': 6.837278642233788e-05, 'gamma': 0.9639468028969598}. Best is trial 6 with value: 0.031711948158986425.\n"
          ]
        },
        {
          "name": "stdout",
          "output_type": "stream",
          "text": [
            "Metrics on val set:\n",
            "\n",
            "Loss is 0.0410\n",
            "MAE is 0.1053\n",
            "RMSE is 0.2046\n",
            "R² is 0.9598\n",
            "\n",
            "\n"
          ]
        },
        {
          "name": "stderr",
          "output_type": "stream",
          "text": [
            "[I 2024-07-04 00:23:41,850] Trial 9 finished with value: 0.051365343525129205 and parameters: {'vector_length': 512, 'num_layers': 2, 'dropout': 0.5494189053483077, 'lr': 2.6525824911631093e-05, 'gamma': 0.967260194094867}. Best is trial 6 with value: 0.031711948158986425.\n"
          ]
        },
        {
          "name": "stdout",
          "output_type": "stream",
          "text": [
            "Metrics on val set:\n",
            "\n",
            "Loss is 0.0514\n",
            "MAE is 0.1145\n",
            "RMSE is 0.2269\n",
            "R² is 0.9506\n",
            "\n",
            "\n"
          ]
        },
        {
          "name": "stderr",
          "output_type": "stream",
          "text": [
            "[I 2024-07-04 00:25:44,660] Trial 10 finished with value: 0.03041909131057122 and parameters: {'vector_length': 1520, 'num_layers': 1, 'dropout': 0.4317626779204733, 'lr': 0.000575995715099094, 'gamma': 0.9788630792357079}. Best is trial 10 with value: 0.03041909131057122.\n"
          ]
        },
        {
          "name": "stdout",
          "output_type": "stream",
          "text": [
            "Metrics on val set:\n",
            "\n",
            "Loss is 0.0304\n",
            "MAE is 0.0907\n",
            "RMSE is 0.1753\n",
            "R² is 0.9705\n",
            "\n",
            "\n"
          ]
        },
        {
          "name": "stderr",
          "output_type": "stream",
          "text": [
            "[I 2024-07-04 00:28:55,413] Trial 11 finished with value: 0.02891548109405181 and parameters: {'vector_length': 1472, 'num_layers': 1, 'dropout': 0.4422903605496656, 'lr': 0.000572119377728404, 'gamma': 0.9789354710608759}. Best is trial 11 with value: 0.02891548109405181.\n"
          ]
        },
        {
          "name": "stdout",
          "output_type": "stream",
          "text": [
            "Metrics on val set:\n",
            "\n",
            "Loss is 0.0289\n",
            "MAE is 0.0881\n",
            "RMSE is 0.1717\n",
            "R² is 0.9717\n",
            "\n",
            "\n"
          ]
        },
        {
          "name": "stderr",
          "output_type": "stream",
          "text": [
            "[I 2024-07-04 00:45:47,884] Trial 12 finished with value: 0.030886741464628893 and parameters: {'vector_length': 1376, 'num_layers': 1, 'dropout': 0.4517010346929784, 'lr': 0.000769393727102865, 'gamma': 0.9774759923267479}. Best is trial 11 with value: 0.02891548109405181.\n"
          ]
        },
        {
          "name": "stdout",
          "output_type": "stream",
          "text": [
            "Metrics on val set:\n",
            "\n",
            "Loss is 0.0309\n",
            "MAE is 0.0886\n",
            "RMSE is 0.1764\n",
            "R² is 0.9701\n",
            "\n",
            "\n"
          ]
        },
        {
          "name": "stderr",
          "output_type": "stream",
          "text": [
            "[I 2024-07-04 00:48:36,988] Trial 13 finished with value: 0.03255803861162242 and parameters: {'vector_length': 1424, 'num_layers': 1, 'dropout': 0.4657212140145031, 'lr': 0.0005048164630096348, 'gamma': 0.9772068236690856}. Best is trial 11 with value: 0.02891548109405181.\n"
          ]
        },
        {
          "name": "stdout",
          "output_type": "stream",
          "text": [
            "Metrics on val set:\n",
            "\n",
            "Loss is 0.0326\n",
            "MAE is 0.0925\n",
            "RMSE is 0.1779\n",
            "R² is 0.9696\n",
            "\n",
            "\n"
          ]
        },
        {
          "name": "stderr",
          "output_type": "stream",
          "text": [
            "[I 2024-07-04 00:57:46,422] Trial 14 finished with value: 0.034795129014288675 and parameters: {'vector_length': 1456, 'num_layers': 1, 'dropout': 0.4554346099557262, 'lr': 0.001357334559178537, 'gamma': 0.9819342401667238}. Best is trial 11 with value: 0.02891548109405181.\n"
          ]
        },
        {
          "name": "stdout",
          "output_type": "stream",
          "text": [
            "Metrics on val set:\n",
            "\n",
            "Loss is 0.0348\n",
            "MAE is 0.0944\n",
            "RMSE is 0.1874\n",
            "R² is 0.9663\n",
            "\n",
            "\n"
          ]
        },
        {
          "name": "stderr",
          "output_type": "stream",
          "text": [
            "[I 2024-07-04 01:37:31,987] Trial 15 finished with value: 0.0287138982949888 and parameters: {'vector_length': 1616, 'num_layers': 2, 'dropout': 0.23823114779039858, 'lr': 0.000241065067999622, 'gamma': 0.9749274460744388}. Best is trial 15 with value: 0.0287138982949888.\n"
          ]
        },
        {
          "name": "stdout",
          "output_type": "stream",
          "text": [
            "Metrics on val set:\n",
            "\n",
            "Loss is 0.0287\n",
            "MAE is 0.0859\n",
            "RMSE is 0.1683\n",
            "R² is 0.9728\n",
            "\n",
            "\n"
          ]
        },
        {
          "name": "stderr",
          "output_type": "stream",
          "text": [
            "[I 2024-07-04 01:56:57,378] Trial 16 finished with value: 0.026089384330107886 and parameters: {'vector_length': 1216, 'num_layers': 2, 'dropout': 0.2174536967993156, 'lr': 0.00022078188470419293, 'gamma': 0.9745432194083227}. Best is trial 16 with value: 0.026089384330107886.\n"
          ]
        },
        {
          "name": "stdout",
          "output_type": "stream",
          "text": [
            "Metrics on val set:\n",
            "\n",
            "Loss is 0.0261\n",
            "MAE is 0.0841\n",
            "RMSE is 0.1622\n",
            "R² is 0.9747\n",
            "\n",
            "\n"
          ]
        },
        {
          "name": "stderr",
          "output_type": "stream",
          "text": [
            "[I 2024-07-04 02:34:47,801] Trial 17 finished with value: 0.02584309087080114 and parameters: {'vector_length': 1104, 'num_layers': 3, 'dropout': 0.2289946135782906, 'lr': 0.00021449998703812638, 'gamma': 0.9724165464484084}. Best is trial 17 with value: 0.02584309087080114.\n"
          ]
        },
        {
          "name": "stdout",
          "output_type": "stream",
          "text": [
            "Metrics on val set:\n",
            "\n",
            "Loss is 0.0258\n",
            "MAE is 0.0840\n",
            "RMSE is 0.1616\n",
            "R² is 0.9749\n",
            "\n",
            "\n"
          ]
        },
        {
          "name": "stderr",
          "output_type": "stream",
          "text": [
            "[I 2024-07-04 03:11:34,072] Trial 18 finished with value: 0.02734150260906009 and parameters: {'vector_length': 1168, 'num_layers': 3, 'dropout': 0.2011087399561748, 'lr': 0.00021442211368080097, 'gamma': 0.9607302610921433}. Best is trial 17 with value: 0.02584309087080114.\n"
          ]
        },
        {
          "name": "stdout",
          "output_type": "stream",
          "text": [
            "Metrics on val set:\n",
            "\n",
            "Loss is 0.0273\n",
            "MAE is 0.0853\n",
            "RMSE is 0.1668\n",
            "R² is 0.9733\n",
            "\n",
            "\n"
          ]
        },
        {
          "name": "stderr",
          "output_type": "stream",
          "text": [
            "[I 2024-07-04 03:40:27,676] Trial 19 finished with value: 0.03863872598637553 and parameters: {'vector_length': 1168, 'num_layers': 3, 'dropout': 0.26064709968851146, 'lr': 0.00315075050261374, 'gamma': 0.9730452109492683}. Best is trial 17 with value: 0.02584309087080114.\n"
          ]
        },
        {
          "name": "stdout",
          "output_type": "stream",
          "text": [
            "Metrics on val set:\n",
            "\n",
            "Loss is 0.0386\n",
            "MAE is 0.0919\n",
            "RMSE is 0.1901\n",
            "R² is 0.9653\n",
            "\n",
            "\n"
          ]
        },
        {
          "name": "stderr",
          "output_type": "stream",
          "text": [
            "[I 2024-07-04 04:15:30,611] Trial 20 finished with value: 0.023750694852103207 and parameters: {'vector_length': 992, 'num_layers': 3, 'dropout': 0.19343193688150123, 'lr': 0.0001981136819360852, 'gamma': 0.9839531145216617}. Best is trial 20 with value: 0.023750694852103207.\n"
          ]
        },
        {
          "name": "stdout",
          "output_type": "stream",
          "text": [
            "Metrics on val set:\n",
            "\n",
            "Loss is 0.0238\n",
            "MAE is 0.0816\n",
            "RMSE is 0.1552\n",
            "R² is 0.9769\n",
            "\n",
            "\n"
          ]
        },
        {
          "name": "stderr",
          "output_type": "stream",
          "text": [
            "[I 2024-07-04 04:49:40,394] Trial 21 finished with value: 0.024408612619428074 and parameters: {'vector_length': 896, 'num_layers': 3, 'dropout': 0.19824343697122476, 'lr': 0.00022935548361382096, 'gamma': 0.9840665467542153}. Best is trial 20 with value: 0.023750694852103207.\n"
          ]
        },
        {
          "name": "stdout",
          "output_type": "stream",
          "text": [
            "Metrics on val set:\n",
            "\n",
            "Loss is 0.0244\n",
            "MAE is 0.0837\n",
            "RMSE is 0.1571\n",
            "R² is 0.9763\n",
            "\n",
            "\n"
          ]
        },
        {
          "name": "stderr",
          "output_type": "stream",
          "text": [
            "[I 2024-07-04 05:09:36,086] Trial 22 finished with value: 0.025391760610920543 and parameters: {'vector_length': 912, 'num_layers': 3, 'dropout': 0.17461588712913484, 'lr': 0.0001308314812670257, 'gamma': 0.9836881650540542}. Best is trial 20 with value: 0.023750694852103207.\n"
          ]
        },
        {
          "name": "stdout",
          "output_type": "stream",
          "text": [
            "Metrics on val set:\n",
            "\n",
            "Loss is 0.0254\n",
            "MAE is 0.0838\n",
            "RMSE is 0.1607\n",
            "R² is 0.9752\n",
            "\n",
            "\n"
          ]
        },
        {
          "name": "stderr",
          "output_type": "stream",
          "text": [
            "[I 2024-07-04 05:25:38,638] Trial 23 finished with value: 0.0252608138081782 and parameters: {'vector_length': 896, 'num_layers': 4, 'dropout': 0.17591576840451706, 'lr': 0.00012694447329338198, 'gamma': 0.9836874265789253}. Best is trial 20 with value: 0.023750694852103207.\n"
          ]
        },
        {
          "name": "stdout",
          "output_type": "stream",
          "text": [
            "Metrics on val set:\n",
            "\n",
            "Loss is 0.0253\n",
            "MAE is 0.0864\n",
            "RMSE is 0.1601\n",
            "R² is 0.9754\n",
            "\n",
            "\n"
          ]
        },
        {
          "name": "stderr",
          "output_type": "stream",
          "text": [
            "[I 2024-07-04 06:00:37,555] Trial 24 finished with value: 0.050023222451700884 and parameters: {'vector_length': 640, 'num_layers': 4, 'dropout': 0.30043841419760436, 'lr': 3.0040726855208495e-05, 'gamma': 0.9847669888743438}. Best is trial 20 with value: 0.023750694852103207.\n"
          ]
        },
        {
          "name": "stdout",
          "output_type": "stream",
          "text": [
            "Metrics on val set:\n",
            "\n",
            "Loss is 0.0500\n",
            "MAE is 0.1133\n",
            "RMSE is 0.2226\n",
            "R² is 0.9524\n",
            "\n",
            "\n"
          ]
        },
        {
          "name": "stderr",
          "output_type": "stream",
          "text": [
            "[I 2024-07-04 06:39:00,748] Trial 25 finished with value: 0.027718111927456716 and parameters: {'vector_length': 704, 'num_layers': 4, 'dropout': 0.12566569302399233, 'lr': 0.0004470633214542063, 'gamma': 0.9898939743787728}. Best is trial 20 with value: 0.023750694852103207.\n"
          ]
        },
        {
          "name": "stdout",
          "output_type": "stream",
          "text": [
            "Metrics on val set:\n",
            "\n",
            "Loss is 0.0277\n",
            "MAE is 0.0827\n",
            "RMSE is 0.1672\n",
            "R² is 0.9731\n",
            "\n",
            "\n"
          ]
        },
        {
          "name": "stderr",
          "output_type": "stream",
          "text": [
            "[I 2024-07-04 06:56:16,887] Trial 26 finished with value: 0.029120764749891618 and parameters: {'vector_length': 336, 'num_layers': 4, 'dropout': 0.1863024780419927, 'lr': 0.0013000623299114548, 'gamma': 0.9893789618179397}. Best is trial 20 with value: 0.023750694852103207.\n"
          ]
        },
        {
          "name": "stdout",
          "output_type": "stream",
          "text": [
            "Metrics on val set:\n",
            "\n",
            "Loss is 0.0291\n",
            "MAE is 0.0831\n",
            "RMSE is 0.1724\n",
            "R² is 0.9715\n",
            "\n",
            "\n"
          ]
        },
        {
          "name": "stderr",
          "output_type": "stream",
          "text": [
            "[I 2024-07-04 07:24:26,419] Trial 27 finished with value: 0.029071041328065535 and parameters: {'vector_length': 912, 'num_layers': 3, 'dropout': 0.10020424396547688, 'lr': 0.0003188657356104701, 'gamma': 0.9831463205012225}. Best is trial 20 with value: 0.023750694852103207.\n"
          ]
        },
        {
          "name": "stdout",
          "output_type": "stream",
          "text": [
            "Metrics on val set:\n",
            "\n",
            "Loss is 0.0291\n",
            "MAE is 0.0893\n",
            "RMSE is 0.1713\n",
            "R² is 0.9718\n",
            "\n",
            "\n"
          ]
        },
        {
          "name": "stderr",
          "output_type": "stream",
          "text": [
            "[I 2024-07-04 08:16:17,867] Trial 28 finished with value: 0.02803014832384446 and parameters: {'vector_length': 976, 'num_layers': 3, 'dropout': 0.15183406869392796, 'lr': 0.00013022622303877004, 'gamma': 0.9863950116553323}. Best is trial 20 with value: 0.023750694852103207.\n"
          ]
        },
        {
          "name": "stdout",
          "output_type": "stream",
          "text": [
            "Metrics on val set:\n",
            "\n",
            "Loss is 0.0280\n",
            "MAE is 0.0898\n",
            "RMSE is 0.1687\n",
            "R² is 0.9727\n",
            "\n",
            "\n"
          ]
        },
        {
          "name": "stderr",
          "output_type": "stream",
          "text": [
            "[I 2024-07-04 08:41:55,395] Trial 29 finished with value: 0.05418337136507034 and parameters: {'vector_length': 784, 'num_layers': 2, 'dropout': 0.3291028727809358, 'lr': 1.0858604668658971e-05, 'gamma': 0.9810290093765132}. Best is trial 20 with value: 0.023750694852103207.\n"
          ]
        },
        {
          "name": "stdout",
          "output_type": "stream",
          "text": [
            "Metrics on val set:\n",
            "\n",
            "Loss is 0.0542\n",
            "MAE is 0.1177\n",
            "RMSE is 0.2331\n",
            "R² is 0.9478\n",
            "\n",
            "\n"
          ]
        },
        {
          "name": "stderr",
          "output_type": "stream",
          "text": [
            "[I 2024-07-04 09:26:53,610] Trial 30 finished with value: 0.04499512406833032 and parameters: {'vector_length': 1264, 'num_layers': 4, 'dropout': 0.2550392692053572, 'lr': 3.898595089256403e-05, 'gamma': 0.9502697011144772}. Best is trial 20 with value: 0.023750694852103207.\n"
          ]
        },
        {
          "name": "stdout",
          "output_type": "stream",
          "text": [
            "Metrics on val set:\n",
            "\n",
            "Loss is 0.0450\n",
            "MAE is 0.1111\n",
            "RMSE is 0.2128\n",
            "R² is 0.9565\n",
            "\n",
            "\n"
          ]
        },
        {
          "name": "stderr",
          "output_type": "stream",
          "text": [
            "[I 2024-07-04 09:50:31,855] Trial 31 finished with value: 0.02481343608130427 and parameters: {'vector_length': 896, 'num_layers': 3, 'dropout': 0.17204765607611136, 'lr': 0.00014451712852349175, 'gamma': 0.9848298173873375}. Best is trial 20 with value: 0.023750694852103207.\n"
          ]
        },
        {
          "name": "stdout",
          "output_type": "stream",
          "text": [
            "Metrics on val set:\n",
            "\n",
            "Loss is 0.0248\n",
            "MAE is 0.0828\n",
            "RMSE is 0.1573\n",
            "R² is 0.9762\n",
            "\n",
            "\n"
          ]
        },
        {
          "name": "stderr",
          "output_type": "stream",
          "text": [
            "[I 2024-07-04 09:52:33,643] Trial 32 finished with value: 0.027994325603632367 and parameters: {'vector_length': 432, 'num_layers': 3, 'dropout': 0.19478506673553658, 'lr': 0.00015153005445628286, 'gamma': 0.9876625183041922}. Best is trial 20 with value: 0.023750694852103207.\n"
          ]
        },
        {
          "name": "stdout",
          "output_type": "stream",
          "text": [
            "Metrics on val set:\n",
            "\n",
            "Loss is 0.0280\n",
            "MAE is 0.0876\n",
            "RMSE is 0.1675\n",
            "R² is 0.9731\n",
            "\n",
            "\n"
          ]
        },
        {
          "name": "stderr",
          "output_type": "stream",
          "text": [
            "[I 2024-07-04 09:54:57,041] Trial 33 finished with value: 0.029471517047461343 and parameters: {'vector_length': 752, 'num_layers': 3, 'dropout': 0.1593804229876542, 'lr': 8.652816305513367e-05, 'gamma': 0.9847371933830723}. Best is trial 20 with value: 0.023750694852103207.\n"
          ]
        },
        {
          "name": "stdout",
          "output_type": "stream",
          "text": [
            "Metrics on val set:\n",
            "\n",
            "Loss is 0.0295\n",
            "MAE is 0.0901\n",
            "RMSE is 0.1718\n",
            "R² is 0.9717\n",
            "\n",
            "\n"
          ]
        },
        {
          "name": "stderr",
          "output_type": "stream",
          "text": [
            "[I 2024-07-04 09:58:20,532] Trial 34 finished with value: 0.03474409878253937 and parameters: {'vector_length': 112, 'num_layers': 4, 'dropout': 0.2727447683307155, 'lr': 0.00035190030355046844, 'gamma': 0.9803738004504091}. Best is trial 20 with value: 0.023750694852103207.\n"
          ]
        },
        {
          "name": "stdout",
          "output_type": "stream",
          "text": [
            "Metrics on val set:\n",
            "\n",
            "Loss is 0.0347\n",
            "MAE is 0.0925\n",
            "RMSE is 0.1853\n",
            "R² is 0.9670\n",
            "\n",
            "\n"
          ]
        },
        {
          "name": "stderr",
          "output_type": "stream",
          "text": [
            "[I 2024-07-04 10:21:12,236] Trial 35 finished with value: 0.03934147800592815 and parameters: {'vector_length': 1040, 'num_layers': 3, 'dropout': 0.3150661733992776, 'lr': 4.489559702227077e-05, 'gamma': 0.9834009210105401}. Best is trial 20 with value: 0.023750694852103207.\n"
          ]
        },
        {
          "name": "stdout",
          "output_type": "stream",
          "text": [
            "Metrics on val set:\n",
            "\n",
            "Loss is 0.0393\n",
            "MAE is 0.1032\n",
            "RMSE is 0.1975\n",
            "R² is 0.9626\n",
            "\n",
            "\n"
          ]
        },
        {
          "name": "stderr",
          "output_type": "stream",
          "text": [
            "[I 2024-07-04 10:46:04,399] Trial 36 finished with value: 0.02633468127425979 and parameters: {'vector_length': 928, 'num_layers': 4, 'dropout': 0.1352639695444533, 'lr': 0.0001676064257607998, 'gamma': 0.9866089265778808}. Best is trial 20 with value: 0.023750694852103207.\n"
          ]
        },
        {
          "name": "stdout",
          "output_type": "stream",
          "text": [
            "Metrics on val set:\n",
            "\n",
            "Loss is 0.0263\n",
            "MAE is 0.0845\n",
            "RMSE is 0.1634\n",
            "R² is 0.9744\n",
            "\n",
            "\n"
          ]
        },
        {
          "name": "stderr",
          "output_type": "stream",
          "text": [
            "[I 2024-07-04 10:49:08,638] Trial 37 finished with value: 0.034358384854653305 and parameters: {'vector_length': 624, 'num_layers': 5, 'dropout': 0.2128841545069024, 'lr': 9.220072797246324e-05, 'gamma': 0.9775648401324148}. Best is trial 20 with value: 0.023750694852103207.\n"
          ]
        },
        {
          "name": "stdout",
          "output_type": "stream",
          "text": [
            "Metrics on val set:\n",
            "\n",
            "Loss is 0.0344\n",
            "MAE is 0.0961\n",
            "RMSE is 0.1862\n",
            "R² is 0.9667\n",
            "\n",
            "\n"
          ]
        },
        {
          "name": "stderr",
          "output_type": "stream",
          "text": [
            "[I 2024-07-04 10:54:14,827] Trial 38 finished with value: 0.04295890131855712 and parameters: {'vector_length': 832, 'num_layers': 5, 'dropout': 0.37193318922381213, 'lr': 5.146023337066103e-05, 'gamma': 0.9879544484674906}. Best is trial 20 with value: 0.023750694852103207.\n"
          ]
        },
        {
          "name": "stdout",
          "output_type": "stream",
          "text": [
            "Metrics on val set:\n",
            "\n",
            "Loss is 0.0430\n",
            "MAE is 0.1072\n",
            "RMSE is 0.2087\n",
            "R² is 0.9582\n",
            "\n",
            "\n"
          ]
        },
        {
          "name": "stderr",
          "output_type": "stream",
          "text": [
            "[I 2024-07-04 11:03:33,130] Trial 39 finished with value: 0.05137056780650335 and parameters: {'vector_length': 1312, 'num_layers': 4, 'dropout': 0.16794872083779538, 'lr': 2.022978876909874e-05, 'gamma': 0.9581712341616246}. Best is trial 20 with value: 0.023750694852103207.\n"
          ]
        },
        {
          "name": "stdout",
          "output_type": "stream",
          "text": [
            "Metrics on val set:\n",
            "\n",
            "Loss is 0.0514\n",
            "MAE is 0.1133\n",
            "RMSE is 0.2256\n",
            "R² is 0.9511\n",
            "\n",
            "\n"
          ]
        },
        {
          "name": "stderr",
          "output_type": "stream",
          "text": [
            "[I 2024-07-04 11:06:26,535] Trial 40 finished with value: 0.028464411001871612 and parameters: {'vector_length': 1056, 'num_layers': 2, 'dropout': 0.12149032244964077, 'lr': 0.0008931436686099079, 'gamma': 0.9541144003367473}. Best is trial 20 with value: 0.023750694852103207.\n"
          ]
        },
        {
          "name": "stdout",
          "output_type": "stream",
          "text": [
            "Metrics on val set:\n",
            "\n",
            "Loss is 0.0285\n",
            "MAE is 0.0822\n",
            "RMSE is 0.1692\n",
            "R² is 0.9725\n",
            "\n",
            "\n"
          ]
        },
        {
          "name": "stderr",
          "output_type": "stream",
          "text": [
            "[I 2024-07-04 11:09:44,616] Trial 41 finished with value: 0.02575805542223594 and parameters: {'vector_length': 864, 'num_layers': 3, 'dropout': 0.17959057474879073, 'lr': 0.00011767476980012933, 'gamma': 0.9823068594130342}. Best is trial 20 with value: 0.023750694852103207.\n"
          ]
        },
        {
          "name": "stdout",
          "output_type": "stream",
          "text": [
            "Metrics on val set:\n",
            "\n",
            "Loss is 0.0258\n",
            "MAE is 0.0863\n",
            "RMSE is 0.1607\n",
            "R² is 0.9752\n",
            "\n",
            "\n"
          ]
        },
        {
          "name": "stderr",
          "output_type": "stream",
          "text": [
            "[I 2024-07-04 11:13:52,124] Trial 42 finished with value: 0.03216914766851593 and parameters: {'vector_length': 976, 'num_layers': 3, 'dropout': 0.24100831354473834, 'lr': 6.455903273235028e-05, 'gamma': 0.9846852619342982}. Best is trial 20 with value: 0.023750694852103207.\n"
          ]
        },
        {
          "name": "stdout",
          "output_type": "stream",
          "text": [
            "Metrics on val set:\n",
            "\n",
            "Loss is 0.0322\n",
            "MAE is 0.0929\n",
            "RMSE is 0.1801\n",
            "R² is 0.9688\n",
            "\n",
            "\n"
          ]
        },
        {
          "name": "stderr",
          "output_type": "stream",
          "text": [
            "[I 2024-07-04 11:16:16,691] Trial 43 finished with value: 0.025531074908726355 and parameters: {'vector_length': 736, 'num_layers': 3, 'dropout': 0.16587172575427844, 'lr': 0.00017643330048834944, 'gamma': 0.9795597946584927}. Best is trial 20 with value: 0.023750694852103207.\n"
          ]
        },
        {
          "name": "stdout",
          "output_type": "stream",
          "text": [
            "Metrics on val set:\n",
            "\n",
            "Loss is 0.0255\n",
            "MAE is 0.0850\n",
            "RMSE is 0.1602\n",
            "R² is 0.9754\n",
            "\n",
            "\n"
          ]
        },
        {
          "name": "stderr",
          "output_type": "stream",
          "text": [
            "[I 2024-07-04 11:19:40,896] Trial 44 finished with value: 0.024840255048783386 and parameters: {'vector_length': 880, 'num_layers': 3, 'dropout': 0.14629428875979822, 'lr': 0.0002881526102910912, 'gamma': 0.9702224177636611}. Best is trial 20 with value: 0.023750694852103207.\n"
          ]
        },
        {
          "name": "stdout",
          "output_type": "stream",
          "text": [
            "Metrics on val set:\n",
            "\n",
            "Loss is 0.0248\n",
            "MAE is 0.0815\n",
            "RMSE is 0.1543\n",
            "R² is 0.9771\n",
            "\n",
            "\n"
          ]
        },
        {
          "name": "stderr",
          "output_type": "stream",
          "text": [
            "[I 2024-07-04 11:21:39,174] Trial 45 finished with value: 0.026371095000821 and parameters: {'vector_length': 528, 'num_layers': 2, 'dropout': 0.14449509132672847, 'lr': 0.0003516240184438083, 'gamma': 0.9700973917095774}. Best is trial 20 with value: 0.023750694852103207.\n"
          ]
        },
        {
          "name": "stdout",
          "output_type": "stream",
          "text": [
            "Metrics on val set:\n",
            "\n",
            "Loss is 0.0264\n",
            "MAE is 0.0856\n",
            "RMSE is 0.1624\n",
            "R² is 0.9747\n",
            "\n",
            "\n"
          ]
        },
        {
          "name": "stderr",
          "output_type": "stream",
          "text": [
            "[I 2024-07-04 11:24:49,529] Trial 46 finished with value: 0.027094500303706703 and parameters: {'vector_length': 1104, 'num_layers': 2, 'dropout': 0.4009007453272615, 'lr': 0.00027792992623748716, 'gamma': 0.9682579613415225}. Best is trial 20 with value: 0.023750694852103207.\n"
          ]
        },
        {
          "name": "stdout",
          "output_type": "stream",
          "text": [
            "Metrics on val set:\n",
            "\n",
            "Loss is 0.0271\n",
            "MAE is 0.0880\n",
            "RMSE is 0.1650\n",
            "R² is 0.9738\n",
            "\n",
            "\n"
          ]
        },
        {
          "name": "stderr",
          "output_type": "stream",
          "text": [
            "[I 2024-07-04 11:27:24,357] Trial 47 finished with value: 0.037828398978008944 and parameters: {'vector_length': 640, 'num_layers': 4, 'dropout': 0.5234234853525441, 'lr': 7.722732254502297e-05, 'gamma': 0.9629358826421828}. Best is trial 20 with value: 0.023750694852103207.\n"
          ]
        },
        {
          "name": "stdout",
          "output_type": "stream",
          "text": [
            "Metrics on val set:\n",
            "\n",
            "Loss is 0.0378\n",
            "MAE is 0.1040\n",
            "RMSE is 0.1955\n",
            "R² is 0.9633\n",
            "\n",
            "\n"
          ]
        },
        {
          "name": "stderr",
          "output_type": "stream",
          "text": [
            "[I 2024-07-04 11:30:24,962] Trial 48 finished with value: 0.02620955918203382 and parameters: {'vector_length': 832, 'num_layers': 3, 'dropout': 0.10136309296147726, 'lr': 0.0008182211734344186, 'gamma': 0.964286179506655}. Best is trial 20 with value: 0.023750694852103207.\n"
          ]
        },
        {
          "name": "stdout",
          "output_type": "stream",
          "text": [
            "Metrics on val set:\n",
            "\n",
            "Loss is 0.0262\n",
            "MAE is 0.0794\n",
            "RMSE is 0.1628\n",
            "R² is 0.9745\n",
            "\n",
            "\n"
          ]
        },
        {
          "name": "stderr",
          "output_type": "stream",
          "text": [
            "[I 2024-07-04 11:32:34,788] Trial 49 finished with value: 0.031008859219796518 and parameters: {'vector_length': 448, 'num_layers': 3, 'dropout': 0.21587194956162004, 'lr': 0.00011356449130323286, 'gamma': 0.9761251598193547}. Best is trial 20 with value: 0.023750694852103207.\n"
          ]
        },
        {
          "name": "stdout",
          "output_type": "stream",
          "text": [
            "Metrics on val set:\n",
            "\n",
            "Loss is 0.0310\n",
            "MAE is 0.0930\n",
            "RMSE is 0.1747\n",
            "R² is 0.9707\n",
            "\n",
            "\n"
          ]
        },
        {
          "name": "stderr",
          "output_type": "stream",
          "text": [
            "[I 2024-07-04 11:35:21,024] Trial 50 finished with value: 0.027977730311891612 and parameters: {'vector_length': 1008, 'num_layers': 2, 'dropout': 0.19808585275293814, 'lr': 0.0004195059623176906, 'gamma': 0.9813858824410131}. Best is trial 20 with value: 0.023750694852103207.\n"
          ]
        },
        {
          "name": "stdout",
          "output_type": "stream",
          "text": [
            "Metrics on val set:\n",
            "\n",
            "Loss is 0.0280\n",
            "MAE is 0.0847\n",
            "RMSE is 0.1674\n",
            "R² is 0.9731\n",
            "\n",
            "\n"
          ]
        },
        {
          "name": "stderr",
          "output_type": "stream",
          "text": [
            "[I 2024-07-04 11:38:44,406] Trial 51 finished with value: 0.025231625665636623 and parameters: {'vector_length': 896, 'num_layers': 3, 'dropout': 0.1763051800732953, 'lr': 0.00015988156372565463, 'gamma': 0.9843366955027718}. Best is trial 20 with value: 0.023750694852103207.\n"
          ]
        },
        {
          "name": "stdout",
          "output_type": "stream",
          "text": [
            "Metrics on val set:\n",
            "\n",
            "Loss is 0.0252\n",
            "MAE is 0.0858\n",
            "RMSE is 0.1588\n",
            "R² is 0.9758\n",
            "\n",
            "\n"
          ]
        },
        {
          "name": "stderr",
          "output_type": "stream",
          "text": [
            "[I 2024-07-04 11:43:50,316] Trial 52 finished with value: 0.026378032587030354 and parameters: {'vector_length': 1120, 'num_layers': 3, 'dropout': 0.15174342897082901, 'lr': 0.0001779105923949958, 'gamma': 0.9850634320137588}. Best is trial 20 with value: 0.023750694852103207.\n"
          ]
        },
        {
          "name": "stdout",
          "output_type": "stream",
          "text": [
            "Metrics on val set:\n",
            "\n",
            "Loss is 0.0264\n",
            "MAE is 0.0846\n",
            "RMSE is 0.1638\n",
            "R² is 0.9743\n",
            "\n",
            "\n"
          ]
        },
        {
          "name": "stderr",
          "output_type": "stream",
          "text": [
            "[I 2024-07-04 11:47:11,889] Trial 53 finished with value: 0.027973944704760525 and parameters: {'vector_length': 880, 'num_layers': 3, 'dropout': 0.2286842824904698, 'lr': 0.00029662479803543575, 'gamma': 0.987502837532113}. Best is trial 20 with value: 0.023750694852103207.\n"
          ]
        },
        {
          "name": "stdout",
          "output_type": "stream",
          "text": [
            "Metrics on val set:\n",
            "\n",
            "Loss is 0.0280\n",
            "MAE is 0.0849\n",
            "RMSE is 0.1622\n",
            "R² is 0.9747\n",
            "\n",
            "\n"
          ]
        },
        {
          "name": "stderr",
          "output_type": "stream",
          "text": [
            "[I 2024-07-04 11:49:47,285] Trial 54 finished with value: 0.02438156651880811 and parameters: {'vector_length': 768, 'num_layers': 3, 'dropout': 0.13384306790207956, 'lr': 0.00025861008036391403, 'gamma': 0.9786712961482372}. Best is trial 20 with value: 0.023750694852103207.\n"
          ]
        },
        {
          "name": "stdout",
          "output_type": "stream",
          "text": [
            "Metrics on val set:\n",
            "\n",
            "Loss is 0.0244\n",
            "MAE is 0.0808\n",
            "RMSE is 0.1561\n",
            "R² is 0.9766\n",
            "\n",
            "\n"
          ]
        },
        {
          "name": "stderr",
          "output_type": "stream",
          "text": [
            "[I 2024-07-04 11:52:12,282] Trial 55 finished with value: 0.024457161643487567 and parameters: {'vector_length': 736, 'num_layers': 3, 'dropout': 0.12701878869935845, 'lr': 0.00021720893215037402, 'gamma': 0.9781402113746505}. Best is trial 20 with value: 0.023750694852103207.\n"
          ]
        },
        {
          "name": "stdout",
          "output_type": "stream",
          "text": [
            "Metrics on val set:\n",
            "\n",
            "Loss is 0.0245\n",
            "MAE is 0.0816\n",
            "RMSE is 0.1583\n",
            "R² is 0.9759\n",
            "\n",
            "\n"
          ]
        },
        {
          "name": "stderr",
          "output_type": "stream",
          "text": [
            "[I 2024-07-04 11:54:24,569] Trial 56 finished with value: 0.026714913820957437 and parameters: {'vector_length': 688, 'num_layers': 3, 'dropout': 0.12200916002873716, 'lr': 0.0005355188439346914, 'gamma': 0.9708704738677949}. Best is trial 20 with value: 0.023750694852103207.\n"
          ]
        },
        {
          "name": "stdout",
          "output_type": "stream",
          "text": [
            "Metrics on val set:\n",
            "\n",
            "Loss is 0.0267\n",
            "MAE is 0.0837\n",
            "RMSE is 0.1654\n",
            "R² is 0.9737\n",
            "\n",
            "\n"
          ]
        },
        {
          "name": "stderr",
          "output_type": "stream",
          "text": [
            "[I 2024-07-04 11:56:17,440] Trial 57 finished with value: 0.025353350293110397 and parameters: {'vector_length': 576, 'num_layers': 2, 'dropout': 0.1350471432734002, 'lr': 0.00025325492607365375, 'gamma': 0.97538401323375}. Best is trial 20 with value: 0.023750694852103207.\n"
          ]
        },
        {
          "name": "stdout",
          "output_type": "stream",
          "text": [
            "Metrics on val set:\n",
            "\n",
            "Loss is 0.0254\n",
            "MAE is 0.0851\n",
            "RMSE is 0.1595\n",
            "R² is 0.9756\n",
            "\n",
            "\n"
          ]
        },
        {
          "name": "stderr",
          "output_type": "stream",
          "text": [
            "[I 2024-07-04 11:58:49,665] Trial 58 finished with value: 0.028057905790560386 and parameters: {'vector_length': 768, 'num_layers': 3, 'dropout': 0.11564223476787563, 'lr': 0.0006484902024980627, 'gamma': 0.9785232399599741}. Best is trial 20 with value: 0.023750694852103207.\n"
          ]
        },
        {
          "name": "stdout",
          "output_type": "stream",
          "text": [
            "Metrics on val set:\n",
            "\n",
            "Loss is 0.0281\n",
            "MAE is 0.0808\n",
            "RMSE is 0.1643\n",
            "R² is 0.9741\n",
            "\n",
            "\n"
          ]
        },
        {
          "name": "stderr",
          "output_type": "stream",
          "text": [
            "[I 2024-07-04 12:04:41,656] Trial 59 finished with value: 0.027233896612682763 and parameters: {'vector_length': 1200, 'num_layers': 3, 'dropout': 0.14181524086433075, 'lr': 0.0004118880903332204, 'gamma': 0.9744805691430406}. Best is trial 20 with value: 0.023750694852103207.\n"
          ]
        },
        {
          "name": "stdout",
          "output_type": "stream",
          "text": [
            "Metrics on val set:\n",
            "\n",
            "Loss is 0.0272\n",
            "MAE is 0.0840\n",
            "RMSE is 0.1668\n",
            "R² is 0.9733\n",
            "\n",
            "\n"
          ]
        },
        {
          "name": "stderr",
          "output_type": "stream",
          "text": [
            "[I 2024-07-04 12:06:59,579] Trial 60 finished with value: 0.04046187747050734 and parameters: {'vector_length': 688, 'num_layers': 3, 'dropout': 0.5945147172772921, 'lr': 0.008108337267147726, 'gamma': 0.9799694824017792}. Best is trial 20 with value: 0.023750694852103207.\n"
          ]
        },
        {
          "name": "stdout",
          "output_type": "stream",
          "text": [
            "Metrics on val set:\n",
            "\n",
            "Loss is 0.0405\n",
            "MAE is 0.0955\n",
            "RMSE is 0.1978\n",
            "R² is 0.9624\n",
            "\n",
            "\n"
          ]
        },
        {
          "name": "stderr",
          "output_type": "stream",
          "text": [
            "[I 2024-07-04 12:10:43,652] Trial 61 finished with value: 0.026689200278590706 and parameters: {'vector_length': 960, 'num_layers': 3, 'dropout': 0.19323652070555244, 'lr': 0.00021048745870720325, 'gamma': 0.9823595284382617}. Best is trial 20 with value: 0.023750694852103207.\n"
          ]
        },
        {
          "name": "stdout",
          "output_type": "stream",
          "text": [
            "Metrics on val set:\n",
            "\n",
            "Loss is 0.0267\n",
            "MAE is 0.0849\n",
            "RMSE is 0.1640\n",
            "R² is 0.9742\n",
            "\n",
            "\n"
          ]
        },
        {
          "name": "stderr",
          "output_type": "stream",
          "text": [
            "[I 2024-07-04 12:13:25,624] Trial 62 finished with value: 0.024439886486267343 and parameters: {'vector_length': 800, 'num_layers': 3, 'dropout': 0.16315586479279406, 'lr': 0.00019127001978320237, 'gamma': 0.978280753525014}. Best is trial 20 with value: 0.023750694852103207.\n"
          ]
        },
        {
          "name": "stdout",
          "output_type": "stream",
          "text": [
            "Metrics on val set:\n",
            "\n",
            "Loss is 0.0244\n",
            "MAE is 0.0825\n",
            "RMSE is 0.1570\n",
            "R² is 0.9763\n",
            "\n",
            "\n"
          ]
        },
        {
          "name": "stderr",
          "output_type": "stream",
          "text": [
            "[I 2024-07-04 12:16:06,756] Trial 63 finished with value: 0.026431397973176313 and parameters: {'vector_length': 800, 'num_layers': 3, 'dropout': 0.1535334533358598, 'lr': 0.00021939771499972078, 'gamma': 0.9770830709919666}. Best is trial 20 with value: 0.023750694852103207.\n"
          ]
        },
        {
          "name": "stdout",
          "output_type": "stream",
          "text": [
            "Metrics on val set:\n",
            "\n",
            "Loss is 0.0264\n",
            "MAE is 0.0853\n",
            "RMSE is 0.1631\n",
            "R² is 0.9744\n",
            "\n",
            "\n"
          ]
        },
        {
          "name": "stderr",
          "output_type": "stream",
          "text": [
            "[I 2024-07-04 12:33:49,200] Trial 64 finished with value: 0.025622400016907382 and parameters: {'vector_length': 1072, 'num_layers': 3, 'dropout': 0.21137314036821736, 'lr': 0.00028060182065099964, 'gamma': 0.9728626884859529}. Best is trial 20 with value: 0.023750694852103207.\n"
          ]
        },
        {
          "name": "stdout",
          "output_type": "stream",
          "text": [
            "Metrics on val set:\n",
            "\n",
            "Loss is 0.0256\n",
            "MAE is 0.0834\n",
            "RMSE is 0.1617\n",
            "R² is 0.9749\n",
            "\n",
            "\n"
          ]
        },
        {
          "name": "stderr",
          "output_type": "stream",
          "text": [
            "[I 2024-07-04 12:35:54,009] Trial 65 finished with value: 0.03054829391048235 and parameters: {'vector_length': 448, 'num_layers': 3, 'dropout': 0.10530738890595107, 'lr': 9.989079427172141e-05, 'gamma': 0.9807396360060594}. Best is trial 20 with value: 0.023750694852103207.\n"
          ]
        },
        {
          "name": "stdout",
          "output_type": "stream",
          "text": [
            "Metrics on val set:\n",
            "\n",
            "Loss is 0.0305\n",
            "MAE is 0.0933\n",
            "RMSE is 0.1756\n",
            "R² is 0.9704\n",
            "\n",
            "\n"
          ]
        },
        {
          "name": "stderr",
          "output_type": "stream",
          "text": [
            "[I 2024-07-04 12:38:03,184] Trial 66 finished with value: 0.02342396224027171 and parameters: {'vector_length': 336, 'num_layers': 3, 'dropout': 0.12831089625320793, 'lr': 0.0003724263259631224, 'gamma': 0.978770138138513}. Best is trial 66 with value: 0.02342396224027171.\n"
          ]
        },
        {
          "name": "stdout",
          "output_type": "stream",
          "text": [
            "Metrics on val set:\n",
            "\n",
            "Loss is 0.0234\n",
            "MAE is 0.0806\n",
            "RMSE is 0.1546\n",
            "R² is 0.9771\n",
            "\n",
            "\n"
          ]
        },
        {
          "name": "stderr",
          "output_type": "stream",
          "text": [
            "[I 2024-07-04 12:40:16,299] Trial 67 finished with value: 0.025568239664768472 and parameters: {'vector_length': 368, 'num_layers': 3, 'dropout': 0.12914207518659063, 'lr': 0.00036263527908231806, 'gamma': 0.9792107308001254}. Best is trial 66 with value: 0.02342396224027171.\n"
          ]
        },
        {
          "name": "stdout",
          "output_type": "stream",
          "text": [
            "Metrics on val set:\n",
            "\n",
            "Loss is 0.0256\n",
            "MAE is 0.0848\n",
            "RMSE is 0.1588\n",
            "R² is 0.9758\n",
            "\n",
            "\n"
          ]
        },
        {
          "name": "stderr",
          "output_type": "stream",
          "text": [
            "[I 2024-07-04 12:42:26,756] Trial 68 finished with value: 0.027258625801871803 and parameters: {'vector_length': 576, 'num_layers': 3, 'dropout': 0.1645901937961876, 'lr': 0.0011692575953648884, 'gamma': 0.9762795412137922}. Best is trial 66 with value: 0.02342396224027171.\n"
          ]
        },
        {
          "name": "stdout",
          "output_type": "stream",
          "text": [
            "Metrics on val set:\n",
            "\n",
            "Loss is 0.0273\n",
            "MAE is 0.0813\n",
            "RMSE is 0.1664\n",
            "R² is 0.9734\n",
            "\n",
            "\n"
          ]
        },
        {
          "name": "stderr",
          "output_type": "stream",
          "text": [
            "[I 2024-07-04 12:44:52,487] Trial 69 finished with value: 0.030489094226675874 and parameters: {'vector_length': 272, 'num_layers': 4, 'dropout': 0.25174869360910507, 'lr': 0.00019442372560074894, 'gamma': 0.9740255112965058}. Best is trial 66 with value: 0.02342396224027171.\n"
          ]
        },
        {
          "name": "stdout",
          "output_type": "stream",
          "text": [
            "Metrics on val set:\n",
            "\n",
            "Loss is 0.0305\n",
            "MAE is 0.0930\n",
            "RMSE is 0.1729\n",
            "R² is 0.9713\n",
            "\n",
            "\n"
          ]
        },
        {
          "name": "stderr",
          "output_type": "stream",
          "text": [
            "[I 2024-07-04 12:46:44,816] Trial 70 finished with value: 0.041504326221697474 and parameters: {'vector_length': 96, 'num_layers': 2, 'dropout': 0.2766196158507495, 'lr': 0.00014561239338926557, 'gamma': 0.9783999146666134}. Best is trial 66 with value: 0.02342396224027171.\n"
          ]
        },
        {
          "name": "stdout",
          "output_type": "stream",
          "text": [
            "Metrics on val set:\n",
            "\n",
            "Loss is 0.0415\n",
            "MAE is 0.1011\n",
            "RMSE is 0.2035\n",
            "R² is 0.9602\n",
            "\n",
            "\n"
          ]
        },
        {
          "name": "stderr",
          "output_type": "stream",
          "text": [
            "[I 2024-07-04 13:01:07,272] Trial 71 finished with value: 0.02976263949976248 and parameters: {'vector_length': 1952, 'num_layers': 3, 'dropout': 0.11318221843789521, 'lr': 0.0004608549372278021, 'gamma': 0.9857161660027801}. Best is trial 66 with value: 0.02342396224027171.\n"
          ]
        },
        {
          "name": "stdout",
          "output_type": "stream",
          "text": [
            "Metrics on val set:\n",
            "\n",
            "Loss is 0.0298\n",
            "MAE is 0.0835\n",
            "RMSE is 0.1701\n",
            "R² is 0.9722\n",
            "\n",
            "\n"
          ]
        },
        {
          "name": "stderr",
          "output_type": "stream",
          "text": [
            "[I 2024-07-04 13:03:17,946] Trial 72 finished with value: 0.028403899796745357 and parameters: {'vector_length': 160, 'num_layers': 3, 'dropout': 0.1862535994283433, 'lr': 0.0002551067417010066, 'gamma': 0.9825634764281657}. Best is trial 66 with value: 0.02342396224027171.\n"
          ]
        },
        {
          "name": "stdout",
          "output_type": "stream",
          "text": [
            "Metrics on val set:\n",
            "\n",
            "Loss is 0.0284\n",
            "MAE is 0.0924\n",
            "RMSE is 0.1688\n",
            "R² is 0.9726\n",
            "\n",
            "\n"
          ]
        },
        {
          "name": "stderr",
          "output_type": "stream",
          "text": [
            "[I 2024-07-04 13:06:19,196] Trial 73 finished with value: 0.026348696966819903 and parameters: {'vector_length': 832, 'num_layers': 3, 'dropout': 0.1438052803543459, 'lr': 0.0006485675072408305, 'gamma': 0.9711062259995773}. Best is trial 66 with value: 0.02342396224027171.\n"
          ]
        },
        {
          "name": "stdout",
          "output_type": "stream",
          "text": [
            "Metrics on val set:\n",
            "\n",
            "Loss is 0.0263\n",
            "MAE is 0.0829\n",
            "RMSE is 0.1631\n",
            "R² is 0.9745\n",
            "\n",
            "\n"
          ]
        },
        {
          "name": "stderr",
          "output_type": "stream",
          "text": [
            "[I 2024-07-04 13:10:35,791] Trial 74 finished with value: 0.02768970494542052 and parameters: {'vector_length': 1008, 'num_layers': 3, 'dropout': 0.16030080885944312, 'lr': 0.00030141404717457757, 'gamma': 0.981538433071338}. Best is trial 66 with value: 0.02342396224027171.\n"
          ]
        },
        {
          "name": "stdout",
          "output_type": "stream",
          "text": [
            "Metrics on val set:\n",
            "\n",
            "Loss is 0.0277\n",
            "MAE is 0.0837\n",
            "RMSE is 0.1670\n",
            "R² is 0.9732\n",
            "\n",
            "\n"
          ]
        },
        {
          "name": "stderr",
          "output_type": "stream",
          "text": [
            "[I 2024-07-04 13:12:46,253] Trial 75 finished with value: 0.032142488395466524 and parameters: {'vector_length': 240, 'num_layers': 3, 'dropout': 0.13093102326148637, 'lr': 0.00013736421769601248, 'gamma': 0.9780632295923144}. Best is trial 66 with value: 0.02342396224027171.\n"
          ]
        },
        {
          "name": "stdout",
          "output_type": "stream",
          "text": [
            "Metrics on val set:\n",
            "\n",
            "Loss is 0.0321\n",
            "MAE is 0.0924\n",
            "RMSE is 0.1785\n",
            "R² is 0.9694\n",
            "\n",
            "\n"
          ]
        },
        {
          "name": "stderr",
          "output_type": "stream",
          "text": [
            "[I 2024-07-04 13:15:07,171] Trial 76 finished with value: 0.02806349186336293 and parameters: {'vector_length': 720, 'num_layers': 3, 'dropout': 0.20263192525949614, 'lr': 0.00010755770045423833, 'gamma': 0.988548346322394}. Best is trial 66 with value: 0.02342396224027171.\n"
          ]
        },
        {
          "name": "stdout",
          "output_type": "stream",
          "text": [
            "Metrics on val set:\n",
            "\n",
            "Loss is 0.0281\n",
            "MAE is 0.0900\n",
            "RMSE is 0.1685\n",
            "R² is 0.9728\n",
            "\n",
            "\n"
          ]
        },
        {
          "name": "stderr",
          "output_type": "stream",
          "text": [
            "[I 2024-07-04 13:17:29,766] Trial 77 finished with value: 0.04741601130979903 and parameters: {'vector_length': 32, 'num_layers': 4, 'dropout': 0.22930366814708417, 'lr': 0.00022477750588939616, 'gamma': 0.9866159465392328}. Best is trial 66 with value: 0.02342396224027171.\n"
          ]
        },
        {
          "name": "stdout",
          "output_type": "stream",
          "text": [
            "Metrics on val set:\n",
            "\n",
            "Loss is 0.0474\n",
            "MAE is 0.1067\n",
            "RMSE is 0.2134\n",
            "R² is 0.9563\n",
            "\n",
            "\n"
          ]
        },
        {
          "name": "stderr",
          "output_type": "stream",
          "text": [
            "[I 2024-07-04 13:27:33,834] Trial 78 finished with value: 0.031134346883524868 and parameters: {'vector_length': 1616, 'num_layers': 3, 'dropout': 0.17878009431488492, 'lr': 0.0003803185995028527, 'gamma': 0.9766986774335459}. Best is trial 66 with value: 0.02342396224027171.\n"
          ]
        },
        {
          "name": "stdout",
          "output_type": "stream",
          "text": [
            "Metrics on val set:\n",
            "\n",
            "Loss is 0.0311\n",
            "MAE is 0.0874\n",
            "RMSE is 0.1734\n",
            "R² is 0.9711\n",
            "\n",
            "\n"
          ]
        },
        {
          "name": "stderr",
          "output_type": "stream",
          "text": [
            "[I 2024-07-04 13:29:34,888] Trial 79 finished with value: 0.043767475030001474 and parameters: {'vector_length': 640, 'num_layers': 2, 'dropout': 0.4888536329745445, 'lr': 6.595658968833048e-05, 'gamma': 0.9661645896905248}. Best is trial 66 with value: 0.02342396224027171.\n"
          ]
        },
        {
          "name": "stdout",
          "output_type": "stream",
          "text": [
            "Metrics on val set:\n",
            "\n",
            "Loss is 0.0438\n",
            "MAE is 0.1060\n",
            "RMSE is 0.2095\n",
            "R² is 0.9578\n",
            "\n",
            "\n"
          ]
        },
        {
          "name": "stderr",
          "output_type": "stream",
          "text": [
            "[I 2024-07-04 13:33:27,746] Trial 80 finished with value: 0.02555644912097384 and parameters: {'vector_length': 960, 'num_layers': 3, 'dropout': 0.3500535569697681, 'lr': 0.0001761700529354336, 'gamma': 0.9799621319882462}. Best is trial 66 with value: 0.02342396224027171.\n"
          ]
        },
        {
          "name": "stdout",
          "output_type": "stream",
          "text": [
            "Metrics on val set:\n",
            "\n",
            "Loss is 0.0256\n",
            "MAE is 0.0866\n",
            "RMSE is 0.1603\n",
            "R² is 0.9753\n",
            "\n",
            "\n"
          ]
        },
        {
          "name": "stderr",
          "output_type": "stream",
          "text": [
            "[I 2024-07-04 13:36:53,968] Trial 81 finished with value: 0.025826644700239685 and parameters: {'vector_length': 896, 'num_layers': 3, 'dropout': 0.18372552653830002, 'lr': 0.00015483085934881968, 'gamma': 0.9838192073609904}. Best is trial 66 with value: 0.02342396224027171.\n"
          ]
        },
        {
          "name": "stdout",
          "output_type": "stream",
          "text": [
            "Metrics on val set:\n",
            "\n",
            "Loss is 0.0258\n",
            "MAE is 0.0840\n",
            "RMSE is 0.1588\n",
            "R² is 0.9758\n",
            "\n",
            "\n"
          ]
        },
        {
          "name": "stderr",
          "output_type": "stream",
          "text": [
            "[I 2024-07-04 13:39:42,747] Trial 82 finished with value: 0.03018552897607579 and parameters: {'vector_length': 784, 'num_layers': 3, 'dropout': 0.16694051508940017, 'lr': 8.190557410718217e-05, 'gamma': 0.9835518194742237}. Best is trial 66 with value: 0.02342396224027171.\n"
          ]
        },
        {
          "name": "stdout",
          "output_type": "stream",
          "text": [
            "Metrics on val set:\n",
            "\n",
            "Loss is 0.0302\n",
            "MAE is 0.0923\n",
            "RMSE is 0.1747\n",
            "R² is 0.9707\n",
            "\n",
            "\n"
          ]
        },
        {
          "name": "stderr",
          "output_type": "stream",
          "text": [
            "[I 2024-07-04 13:43:39,477] Trial 83 finished with value: 0.026406845132655957 and parameters: {'vector_length': 944, 'num_layers': 3, 'dropout': 0.14717866046144576, 'lr': 0.0003353749946688626, 'gamma': 0.9853056715449793}. Best is trial 66 with value: 0.02342396224027171.\n"
          ]
        },
        {
          "name": "stdout",
          "output_type": "stream",
          "text": [
            "Metrics on val set:\n",
            "\n",
            "Loss is 0.0264\n",
            "MAE is 0.0828\n",
            "RMSE is 0.1620\n",
            "R² is 0.9748\n",
            "\n",
            "\n"
          ]
        },
        {
          "name": "stderr",
          "output_type": "stream",
          "text": [
            "[I 2024-07-04 13:46:56,809] Trial 84 finished with value: 0.025862765388891977 and parameters: {'vector_length': 864, 'num_layers': 3, 'dropout': 0.11437128746449451, 'lr': 0.00025284329727023706, 'gamma': 0.9841487083353514}. Best is trial 66 with value: 0.02342396224027171.\n"
          ]
        },
        {
          "name": "stdout",
          "output_type": "stream",
          "text": [
            "Metrics on val set:\n",
            "\n",
            "Loss is 0.0259\n",
            "MAE is 0.0852\n",
            "RMSE is 0.1613\n",
            "R² is 0.9750\n",
            "\n",
            "\n"
          ]
        },
        {
          "name": "stderr",
          "output_type": "stream",
          "text": [
            "[I 2024-07-04 13:51:28,538] Trial 85 finished with value: 0.02577838970019537 and parameters: {'vector_length': 1040, 'num_layers': 3, 'dropout': 0.17349125538241536, 'lr': 0.00019936446822961157, 'gamma': 0.9826288184047849}. Best is trial 66 with value: 0.02342396224027171.\n"
          ]
        },
        {
          "name": "stdout",
          "output_type": "stream",
          "text": [
            "Metrics on val set:\n",
            "\n",
            "Loss is 0.0258\n",
            "MAE is 0.0834\n",
            "RMSE is 0.1617\n",
            "R² is 0.9749\n",
            "\n",
            "\n"
          ]
        },
        {
          "name": "stderr",
          "output_type": "stream",
          "text": [
            "[I 2024-07-04 13:56:39,445] Trial 86 finished with value: 0.02413357010878184 and parameters: {'vector_length': 1136, 'num_layers': 3, 'dropout': 0.20271476203425418, 'lr': 0.00012469026621736396, 'gamma': 0.975610700929532}. Best is trial 66 with value: 0.02342396224027171.\n"
          ]
        },
        {
          "name": "stdout",
          "output_type": "stream",
          "text": [
            "Metrics on val set:\n",
            "\n",
            "Loss is 0.0241\n",
            "MAE is 0.0844\n",
            "RMSE is 0.1568\n",
            "R² is 0.9764\n",
            "\n",
            "\n"
          ]
        },
        {
          "name": "stderr",
          "output_type": "stream",
          "text": [
            "[I 2024-07-04 14:51:35,063] Trial 87 finished with value: 0.02595269477323574 and parameters: {'vector_length': 1344, 'num_layers': 3, 'dropout': 0.20310681825286983, 'lr': 0.00012547086265423142, 'gamma': 0.9737038140329304}. Best is trial 66 with value: 0.02342396224027171.\n"
          ]
        },
        {
          "name": "stdout",
          "output_type": "stream",
          "text": [
            "Metrics on val set:\n",
            "\n",
            "Loss is 0.0260\n",
            "MAE is 0.0856\n",
            "RMSE is 0.1611\n",
            "R² is 0.9751\n",
            "\n",
            "\n"
          ]
        },
        {
          "name": "stderr",
          "output_type": "stream",
          "text": [
            "[I 2024-07-04 14:55:34,067] Trial 88 finished with value: 0.04093022523995708 and parameters: {'vector_length': 1264, 'num_layers': 2, 'dropout': 0.2984023196810552, 'lr': 5.5052527071413106e-05, 'gamma': 0.975506253487868}. Best is trial 66 with value: 0.02342396224027171.\n"
          ]
        },
        {
          "name": "stdout",
          "output_type": "stream",
          "text": [
            "Metrics on val set:\n",
            "\n",
            "Loss is 0.0409\n",
            "MAE is 0.1042\n",
            "RMSE is 0.2031\n",
            "R² is 0.9604\n",
            "\n",
            "\n"
          ]
        },
        {
          "name": "stderr",
          "output_type": "stream",
          "text": [
            "[I 2024-07-04 15:00:52,173] Trial 89 finished with value: 0.03362813652219141 and parameters: {'vector_length': 1136, 'num_layers': 3, 'dropout': 0.13437336061167932, 'lr': 0.0004854291214750283, 'gamma': 0.979074978493816}. Best is trial 66 with value: 0.02342396224027171.\n"
          ]
        },
        {
          "name": "stdout",
          "output_type": "stream",
          "text": [
            "Metrics on val set:\n",
            "\n",
            "Loss is 0.0336\n",
            "MAE is 0.0901\n",
            "RMSE is 0.1833\n",
            "R² is 0.9677\n",
            "\n",
            "\n"
          ]
        },
        {
          "name": "stderr",
          "output_type": "stream",
          "text": [
            "[I 2024-07-04 15:08:47,462] Trial 90 finished with value: 0.02742044233223971 and parameters: {'vector_length': 1184, 'num_layers': 4, 'dropout': 0.1556640348161733, 'lr': 0.0001000910172914071, 'gamma': 0.969152898575291}. Best is trial 66 with value: 0.02342396224027171.\n"
          ]
        },
        {
          "name": "stdout",
          "output_type": "stream",
          "text": [
            "Metrics on val set:\n",
            "\n",
            "Loss is 0.0274\n",
            "MAE is 0.0913\n",
            "RMSE is 0.1670\n",
            "R² is 0.9732\n",
            "\n",
            "\n"
          ]
        },
        {
          "name": "stderr",
          "output_type": "stream",
          "text": [
            "[I 2024-07-04 15:12:27,939] Trial 91 finished with value: 0.023903444135452017 and parameters: {'vector_length': 928, 'num_layers': 3, 'dropout': 0.17358530306414663, 'lr': 0.00015519691782712273, 'gamma': 0.9808095564876151}. Best is trial 66 with value: 0.02342396224027171.\n"
          ]
        },
        {
          "name": "stdout",
          "output_type": "stream",
          "text": [
            "Metrics on val set:\n",
            "\n",
            "Loss is 0.0239\n",
            "MAE is 0.0813\n",
            "RMSE is 0.1513\n",
            "R² is 0.9780\n",
            "\n",
            "\n"
          ]
        },
        {
          "name": "stderr",
          "output_type": "stream",
          "text": [
            "[I 2024-07-04 15:16:52,167] Trial 92 finished with value: 0.02233956562464728 and parameters: {'vector_length': 1024, 'num_layers': 3, 'dropout': 0.19057012152026273, 'lr': 0.0001911914637460164, 'gamma': 0.9806898435934219}. Best is trial 92 with value: 0.02233956562464728.\n"
          ]
        },
        {
          "name": "stdout",
          "output_type": "stream",
          "text": [
            "Metrics on val set:\n",
            "\n",
            "Loss is 0.0223\n",
            "MAE is 0.0797\n",
            "RMSE is 0.1503\n",
            "R² is 0.9783\n",
            "\n",
            "\n"
          ]
        },
        {
          "name": "stderr",
          "output_type": "stream",
          "text": [
            "[I 2024-07-04 15:23:05,742] Trial 93 finished with value: 0.02557434464859612 and parameters: {'vector_length': 1248, 'num_layers': 3, 'dropout': 0.22473090178529267, 'lr': 0.00014065330958300032, 'gamma': 0.9808167830696846}. Best is trial 92 with value: 0.02233956562464728.\n"
          ]
        },
        {
          "name": "stdout",
          "output_type": "stream",
          "text": [
            "Metrics on val set:\n",
            "\n",
            "Loss is 0.0256\n",
            "MAE is 0.0844\n",
            "RMSE is 0.1595\n",
            "R² is 0.9756\n",
            "\n",
            "\n"
          ]
        },
        {
          "name": "stderr",
          "output_type": "stream",
          "text": [
            "[I 2024-07-04 15:28:12,975] Trial 94 finished with value: 0.02593395979527165 and parameters: {'vector_length': 976, 'num_layers': 3, 'dropout': 0.2096054049468915, 'lr': 0.0001920884481595719, 'gamma': 0.9777112793318199}. Best is trial 92 with value: 0.02233956562464728.\n"
          ]
        },
        {
          "name": "stdout",
          "output_type": "stream",
          "text": [
            "Metrics on val set:\n",
            "\n",
            "Loss is 0.0259\n",
            "MAE is 0.0835\n",
            "RMSE is 0.1613\n",
            "R² is 0.9750\n",
            "\n",
            "\n"
          ]
        },
        {
          "name": "stderr",
          "output_type": "stream",
          "text": [
            "[I 2024-07-04 15:33:04,129] Trial 95 finished with value: 0.025776430197498378 and parameters: {'vector_length': 1088, 'num_layers': 3, 'dropout': 0.19591241341130045, 'lr': 0.00023551804563520603, 'gamma': 0.9800910492424794}. Best is trial 92 with value: 0.02233956562464728.\n"
          ]
        },
        {
          "name": "stdout",
          "output_type": "stream",
          "text": [
            "Metrics on val set:\n",
            "\n",
            "Loss is 0.0258\n",
            "MAE is 0.0829\n",
            "RMSE is 0.1596\n",
            "R² is 0.9755\n",
            "\n",
            "\n"
          ]
        },
        {
          "name": "stderr",
          "output_type": "stream",
          "text": [
            "[I 2024-07-04 15:37:23,243] Trial 96 finished with value: 0.02513496172340477 and parameters: {'vector_length': 1008, 'num_layers': 3, 'dropout': 0.18876552414379885, 'lr': 0.00011757365443626858, 'gamma': 0.9816474631920539}. Best is trial 92 with value: 0.02233956562464728.\n"
          ]
        },
        {
          "name": "stdout",
          "output_type": "stream",
          "text": [
            "Metrics on val set:\n",
            "\n",
            "Loss is 0.0251\n",
            "MAE is 0.0850\n",
            "RMSE is 0.1571\n",
            "R² is 0.9763\n",
            "\n",
            "\n"
          ]
        },
        {
          "name": "stderr",
          "output_type": "stream",
          "text": [
            "[I 2024-07-04 15:42:41,602] Trial 97 finished with value: 0.023288035491371855 and parameters: {'vector_length': 1136, 'num_layers': 3, 'dropout': 0.2363886434212085, 'lr': 0.00016156765839254406, 'gamma': 0.9790150504728768}. Best is trial 92 with value: 0.02233956562464728.\n"
          ]
        },
        {
          "name": "stdout",
          "output_type": "stream",
          "text": [
            "Metrics on val set:\n",
            "\n",
            "Loss is 0.0233\n",
            "MAE is 0.0823\n",
            "RMSE is 0.1534\n",
            "R² is 0.9774\n",
            "\n",
            "\n"
          ]
        },
        {
          "name": "stderr",
          "output_type": "stream",
          "text": [
            "[I 2024-07-04 15:48:19,821] Trial 98 finished with value: 0.028529295643024585 and parameters: {'vector_length': 1168, 'num_layers': 3, 'dropout': 0.24423217821717072, 'lr': 0.0001677480405329382, 'gamma': 0.9790889693824103}. Best is trial 92 with value: 0.02233956562464728.\n"
          ]
        },
        {
          "name": "stdout",
          "output_type": "stream",
          "text": [
            "Metrics on val set:\n",
            "\n",
            "Loss is 0.0285\n",
            "MAE is 0.0855\n",
            "RMSE is 0.1676\n",
            "R² is 0.9730\n",
            "\n",
            "\n"
          ]
        },
        {
          "name": "stderr",
          "output_type": "stream",
          "text": [
            "[I 2024-07-04 15:54:14,349] Trial 99 finished with value: 0.028390632832751554 and parameters: {'vector_length': 1136, 'num_layers': 3, 'dropout': 0.22342179927757275, 'lr': 9.206566017942153e-05, 'gamma': 0.9757502734621614}. Best is trial 92 with value: 0.02233956562464728.\n"
          ]
        },
        {
          "name": "stdout",
          "output_type": "stream",
          "text": [
            "Metrics on val set:\n",
            "\n",
            "Loss is 0.0284\n",
            "MAE is 0.0885\n",
            "RMSE is 0.1693\n",
            "R² is 0.9725\n",
            "\n",
            "\n"
          ]
        },
        {
          "name": "stderr",
          "output_type": "stream",
          "text": [
            "[I 2024-07-04 16:01:49,555] Trial 100 finished with value: 0.028852846254320705 and parameters: {'vector_length': 1392, 'num_layers': 3, 'dropout': 0.2681991482205687, 'lr': 7.448061739394581e-05, 'gamma': 0.9776946381903113}. Best is trial 92 with value: 0.02233956562464728.\n"
          ]
        },
        {
          "name": "stdout",
          "output_type": "stream",
          "text": [
            "Metrics on val set:\n",
            "\n",
            "Loss is 0.0289\n",
            "MAE is 0.0885\n",
            "RMSE is 0.1687\n",
            "R² is 0.9727\n",
            "\n",
            "\n"
          ]
        },
        {
          "name": "stderr",
          "output_type": "stream",
          "text": [
            "[I 2024-07-04 16:05:31,650] Trial 101 finished with value: 0.025395870263523915 and parameters: {'vector_length': 928, 'num_layers': 3, 'dropout': 0.16841240506870833, 'lr': 0.00015365058269419568, 'gamma': 0.9808125715922447}. Best is trial 92 with value: 0.02233956562464728.\n"
          ]
        },
        {
          "name": "stdout",
          "output_type": "stream",
          "text": [
            "Metrics on val set:\n",
            "\n",
            "Loss is 0.0254\n",
            "MAE is 0.0834\n",
            "RMSE is 0.1570\n",
            "R² is 0.9763\n",
            "\n",
            "\n"
          ]
        },
        {
          "name": "stderr",
          "output_type": "stream",
          "text": [
            "[I 2024-07-04 16:08:33,691] Trial 102 finished with value: 0.02759436408386511 and parameters: {'vector_length': 832, 'num_layers': 3, 'dropout': 0.12063482305415232, 'lr': 0.0003161625096588114, 'gamma': 0.9829023865982165}. Best is trial 92 with value: 0.02233956562464728.\n"
          ]
        },
        {
          "name": "stdout",
          "output_type": "stream",
          "text": [
            "Metrics on val set:\n",
            "\n",
            "Loss is 0.0276\n",
            "MAE is 0.0824\n",
            "RMSE is 0.1625\n",
            "R² is 0.9746\n",
            "\n",
            "\n"
          ]
        },
        {
          "name": "stderr",
          "output_type": "stream",
          "text": [
            "[I 2024-07-04 16:35:34,798] Trial 103 finished with value: 0.02741256104234387 and parameters: {'vector_length': 1056, 'num_layers': 3, 'dropout': 0.39904940827494806, 'lr': 0.0001942966756980555, 'gamma': 0.9771070743699066}. Best is trial 92 with value: 0.02233956562464728.\n"
          ]
        },
        {
          "name": "stdout",
          "output_type": "stream",
          "text": [
            "Metrics on val set:\n",
            "\n",
            "Loss is 0.0274\n",
            "MAE is 0.0845\n",
            "RMSE is 0.1632\n",
            "R² is 0.9744\n",
            "\n",
            "\n"
          ]
        },
        {
          "name": "stderr",
          "output_type": "stream",
          "text": [
            "[I 2024-07-04 17:09:42,051] Trial 104 finished with value: 0.029259200591374847 and parameters: {'vector_length': 768, 'num_layers': 3, 'dropout': 0.1547871274655152, 'lr': 0.0001267633268166515, 'gamma': 0.9783802957130326}. Best is trial 92 with value: 0.02233956562464728.\n"
          ]
        },
        {
          "name": "stdout",
          "output_type": "stream",
          "text": [
            "Metrics on val set:\n",
            "\n",
            "Loss is 0.0293\n",
            "MAE is 0.0870\n",
            "RMSE is 0.1665\n",
            "R² is 0.9734\n",
            "\n",
            "\n"
          ]
        },
        {
          "name": "stderr",
          "output_type": "stream",
          "text": [
            "[I 2024-07-04 17:35:06,648] Trial 105 finished with value: 0.024563300313756746 and parameters: {'vector_length': 1008, 'num_layers': 3, 'dropout': 0.20636030388498025, 'lr': 0.00023083849005536069, 'gamma': 0.9817055354990137}. Best is trial 92 with value: 0.02233956562464728.\n"
          ]
        },
        {
          "name": "stdout",
          "output_type": "stream",
          "text": [
            "Metrics on val set:\n",
            "\n",
            "Loss is 0.0246\n",
            "MAE is 0.0834\n",
            "RMSE is 0.1582\n",
            "R² is 0.9760\n",
            "\n",
            "\n"
          ]
        },
        {
          "name": "stderr",
          "output_type": "stream",
          "text": [
            "[I 2024-07-04 18:30:55,003] Trial 106 finished with value: 0.026966428110266432 and parameters: {'vector_length': 1216, 'num_layers': 3, 'dropout': 0.23525264253686443, 'lr': 0.0002632495565575283, 'gamma': 0.9799559295117836}. Best is trial 92 with value: 0.02233956562464728.\n"
          ]
        },
        {
          "name": "stdout",
          "output_type": "stream",
          "text": [
            "Metrics on val set:\n",
            "\n",
            "Loss is 0.0270\n",
            "MAE is 0.0849\n",
            "RMSE is 0.1642\n",
            "R² is 0.9741\n",
            "\n",
            "\n"
          ]
        },
        {
          "name": "stderr",
          "output_type": "stream",
          "text": [
            "[I 2024-07-04 19:11:55,559] Trial 107 finished with value: 0.025134246138965383 and parameters: {'vector_length': 1008, 'num_layers': 3, 'dropout': 0.20693329162519428, 'lr': 0.000386615653611914, 'gamma': 0.9818230854153766}. Best is trial 92 with value: 0.02233956562464728.\n"
          ]
        },
        {
          "name": "stdout",
          "output_type": "stream",
          "text": [
            "Metrics on val set:\n",
            "\n",
            "Loss is 0.0251\n",
            "MAE is 0.0822\n",
            "RMSE is 0.1603\n",
            "R² is 0.9753\n",
            "\n",
            "\n"
          ]
        },
        {
          "name": "stderr",
          "output_type": "stream",
          "text": [
            "[I 2024-07-04 19:24:58,618] Trial 108 finished with value: 0.027816336218486813 and parameters: {'vector_length': 1296, 'num_layers': 3, 'dropout': 0.18938502513784608, 'lr': 0.0002459994259345895, 'gamma': 0.9764771491891814}. Best is trial 92 with value: 0.02233956562464728.\n"
          ]
        },
        {
          "name": "stdout",
          "output_type": "stream",
          "text": [
            "Metrics on val set:\n",
            "\n",
            "Loss is 0.0278\n",
            "MAE is 0.0832\n",
            "RMSE is 0.1588\n",
            "R² is 0.9758\n",
            "\n",
            "\n"
          ]
        },
        {
          "name": "stderr",
          "output_type": "stream",
          "text": [
            "[I 2024-07-04 19:38:11,291] Trial 109 finished with value: 0.026376615990610683 and parameters: {'vector_length': 672, 'num_layers': 3, 'dropout': 0.2199592074502495, 'lr': 0.0001797010266351279, 'gamma': 0.9794370018231678}. Best is trial 92 with value: 0.02233956562464728.\n"
          ]
        },
        {
          "name": "stdout",
          "output_type": "stream",
          "text": [
            "Metrics on val set:\n",
            "\n",
            "Loss is 0.0264\n",
            "MAE is 0.0868\n",
            "RMSE is 0.1632\n",
            "R² is 0.9744\n",
            "\n",
            "\n"
          ]
        },
        {
          "name": "stderr",
          "output_type": "stream",
          "text": [
            "[I 2024-07-04 20:15:20,038] Trial 110 finished with value: 0.026589265312342084 and parameters: {'vector_length': 1136, 'num_layers': 3, 'dropout': 0.14036710445787368, 'lr': 0.0002242061147111628, 'gamma': 0.9749575011429613}. Best is trial 92 with value: 0.02233956562464728.\n"
          ]
        },
        {
          "name": "stdout",
          "output_type": "stream",
          "text": [
            "Metrics on val set:\n",
            "\n",
            "Loss is 0.0266\n",
            "MAE is 0.0843\n",
            "RMSE is 0.1635\n",
            "R² is 0.9743\n",
            "\n",
            "\n"
          ]
        },
        {
          "name": "stderr",
          "output_type": "stream",
          "text": [
            "[I 2024-07-04 20:38:01,003] Trial 111 finished with value: 0.025698418016819394 and parameters: {'vector_length': 928, 'num_layers': 3, 'dropout': 0.18134157332815942, 'lr': 0.0001429399118536444, 'gamma': 0.9860901784618238}. Best is trial 92 with value: 0.02233956562464728.\n"
          ]
        },
        {
          "name": "stdout",
          "output_type": "stream",
          "text": [
            "Metrics on val set:\n",
            "\n",
            "Loss is 0.0257\n",
            "MAE is 0.0836\n",
            "RMSE is 0.1604\n",
            "R² is 0.9753\n",
            "\n",
            "\n"
          ]
        },
        {
          "name": "stderr",
          "output_type": "stream",
          "text": [
            "[I 2024-07-04 21:14:12,863] Trial 112 finished with value: 0.028329680454643333 and parameters: {'vector_length': 1072, 'num_layers': 3, 'dropout': 0.17427999424468957, 'lr': 0.0002945761152591704, 'gamma': 0.9820156219653035}. Best is trial 92 with value: 0.02233956562464728.\n"
          ]
        },
        {
          "name": "stdout",
          "output_type": "stream",
          "text": [
            "Metrics on val set:\n",
            "\n",
            "Loss is 0.0283\n",
            "MAE is 0.0848\n",
            "RMSE is 0.1684\n",
            "R² is 0.9728\n",
            "\n",
            "\n"
          ]
        },
        {
          "name": "stderr",
          "output_type": "stream",
          "text": [
            "[I 2024-07-04 21:17:21,574] Trial 113 finished with value: 0.027973028612049186 and parameters: {'vector_length': 864, 'num_layers': 3, 'dropout': 0.16047129489869777, 'lr': 0.00011044567102694507, 'gamma': 0.9810723557412099}. Best is trial 92 with value: 0.02233956562464728.\n"
          ]
        },
        {
          "name": "stdout",
          "output_type": "stream",
          "text": [
            "Metrics on val set:\n",
            "\n",
            "Loss is 0.0280\n",
            "MAE is 0.0898\n",
            "RMSE is 0.1685\n",
            "R² is 0.9727\n",
            "\n",
            "\n"
          ]
        },
        {
          "name": "stderr",
          "output_type": "stream",
          "text": [
            "[I 2024-07-04 21:56:16,391] Trial 114 finished with value: 0.02507854822803946 and parameters: {'vector_length': 736, 'num_layers': 3, 'dropout': 0.19680448643936194, 'lr': 0.000165182966759788, 'gamma': 0.9787606487273133}. Best is trial 92 with value: 0.02233956562464728.\n"
          ]
        },
        {
          "name": "stdout",
          "output_type": "stream",
          "text": [
            "Metrics on val set:\n",
            "\n",
            "Loss is 0.0251\n",
            "MAE is 0.0836\n",
            "RMSE is 0.1596\n",
            "R² is 0.9755\n",
            "\n",
            "\n"
          ]
        },
        {
          "name": "stderr",
          "output_type": "stream",
          "text": [
            "[I 2024-07-04 22:15:13,749] Trial 115 finished with value: 0.025392010534072623 and parameters: {'vector_length': 976, 'num_layers': 3, 'dropout': 0.1301141412733535, 'lr': 0.00020715299307036755, 'gamma': 0.9833176077744145}. Best is trial 92 with value: 0.02233956562464728.\n"
          ]
        },
        {
          "name": "stdout",
          "output_type": "stream",
          "text": [
            "Metrics on val set:\n",
            "\n",
            "Loss is 0.0254\n",
            "MAE is 0.0852\n",
            "RMSE is 0.1610\n",
            "R² is 0.9751\n",
            "\n",
            "\n"
          ]
        },
        {
          "name": "stderr",
          "output_type": "stream",
          "text": [
            "[I 2024-07-04 22:34:24,000] Trial 116 finished with value: 0.02436012089909876 and parameters: {'vector_length': 800, 'num_layers': 3, 'dropout': 0.21499306543217295, 'lr': 0.0003318085447639961, 'gamma': 0.980357265420019}. Best is trial 92 with value: 0.02233956562464728.\n"
          ]
        },
        {
          "name": "stdout",
          "output_type": "stream",
          "text": [
            "Metrics on val set:\n",
            "\n",
            "Loss is 0.0244\n",
            "MAE is 0.0797\n",
            "RMSE is 0.1562\n",
            "R² is 0.9766\n",
            "\n",
            "\n"
          ]
        },
        {
          "name": "stderr",
          "output_type": "stream",
          "text": [
            "[I 2024-07-04 22:52:11,437] Trial 117 finished with value: 0.026087326162001667 and parameters: {'vector_length': 784, 'num_layers': 3, 'dropout': 0.2500818240005751, 'lr': 0.0006167180963809588, 'gamma': 0.9781256914996772}. Best is trial 92 with value: 0.02233956562464728.\n"
          ]
        },
        {
          "name": "stdout",
          "output_type": "stream",
          "text": [
            "Metrics on val set:\n",
            "\n",
            "Loss is 0.0261\n",
            "MAE is 0.0830\n",
            "RMSE is 0.1613\n",
            "R² is 0.9750\n",
            "\n",
            "\n"
          ]
        },
        {
          "name": "stderr",
          "output_type": "stream",
          "text": [
            "[I 2024-07-04 23:10:00,746] Trial 118 finished with value: 0.027740387903416857 and parameters: {'vector_length': 816, 'num_layers': 3, 'dropout': 0.239144047959064, 'lr': 0.00041035061393105224, 'gamma': 0.9804704383728282}. Best is trial 92 with value: 0.02233956562464728.\n"
          ]
        },
        {
          "name": "stdout",
          "output_type": "stream",
          "text": [
            "Metrics on val set:\n",
            "\n",
            "Loss is 0.0277\n",
            "MAE is 0.0835\n",
            "RMSE is 0.1674\n",
            "R² is 0.9731\n",
            "\n",
            "\n"
          ]
        },
        {
          "name": "stderr",
          "output_type": "stream",
          "text": [
            "[I 2024-07-05 00:03:01,140] Trial 119 finished with value: 0.026247754473896587 and parameters: {'vector_length': 496, 'num_layers': 4, 'dropout': 0.21261713736965454, 'lr': 0.0003429079646260043, 'gamma': 0.9770330920875051}. Best is trial 92 with value: 0.02233956562464728.\n"
          ]
        },
        {
          "name": "stdout",
          "output_type": "stream",
          "text": [
            "Metrics on val set:\n",
            "\n",
            "Loss is 0.0262\n",
            "MAE is 0.0841\n",
            "RMSE is 0.1625\n",
            "R² is 0.9746\n",
            "\n",
            "\n"
          ]
        },
        {
          "name": "stderr",
          "output_type": "stream",
          "text": [
            "[I 2024-07-05 00:26:00,797] Trial 120 finished with value: 0.029951013843802846 and parameters: {'vector_length': 1024, 'num_layers': 3, 'dropout': 0.10772935483223353, 'lr': 0.0002726653770531191, 'gamma': 0.9796041755774343}. Best is trial 92 with value: 0.02233956562464728.\n"
          ]
        },
        {
          "name": "stdout",
          "output_type": "stream",
          "text": [
            "Metrics on val set:\n",
            "\n",
            "Loss is 0.0300\n",
            "MAE is 0.0848\n",
            "RMSE is 0.1724\n",
            "R² is 0.9714\n",
            "\n",
            "\n"
          ]
        },
        {
          "name": "stderr",
          "output_type": "stream",
          "text": [
            "[I 2024-07-05 00:44:36,954] Trial 121 finished with value: 0.0254497499040821 and parameters: {'vector_length': 912, 'num_layers': 3, 'dropout': 0.19995209537911585, 'lr': 0.00022905437173252908, 'gamma': 0.9845854228944473}. Best is trial 92 with value: 0.02233956562464728.\n"
          ]
        },
        {
          "name": "stdout",
          "output_type": "stream",
          "text": [
            "Metrics on val set:\n",
            "\n",
            "Loss is 0.0254\n",
            "MAE is 0.0838\n",
            "RMSE is 0.1610\n",
            "R² is 0.9751\n",
            "\n",
            "\n"
          ]
        },
        {
          "name": "stderr",
          "output_type": "stream",
          "text": [
            "[I 2024-07-05 01:34:54,602] Trial 122 finished with value: 0.02463733487050323 and parameters: {'vector_length': 848, 'num_layers': 3, 'dropout': 0.18580846619274016, 'lr': 0.00018833234209676675, 'gamma': 0.9827977979378548}. Best is trial 92 with value: 0.02233956562464728.\n"
          ]
        },
        {
          "name": "stdout",
          "output_type": "stream",
          "text": [
            "Metrics on val set:\n",
            "\n",
            "Loss is 0.0246\n",
            "MAE is 0.0845\n",
            "RMSE is 0.1582\n",
            "R² is 0.9760\n",
            "\n",
            "\n"
          ]
        },
        {
          "name": "stderr",
          "output_type": "stream",
          "text": [
            "[I 2024-07-05 01:53:47,888] Trial 123 finished with value: 0.026205583749448553 and parameters: {'vector_length': 848, 'num_layers': 3, 'dropout': 0.1901384739673453, 'lr': 0.00019511023882724343, 'gamma': 0.9812774095654212}. Best is trial 92 with value: 0.02233956562464728.\n"
          ]
        },
        {
          "name": "stdout",
          "output_type": "stream",
          "text": [
            "Metrics on val set:\n",
            "\n",
            "Loss is 0.0262\n",
            "MAE is 0.0844\n",
            "RMSE is 0.1622\n",
            "R² is 0.9748\n",
            "\n",
            "\n"
          ]
        },
        {
          "name": "stderr",
          "output_type": "stream",
          "text": [
            "[I 2024-07-05 01:56:03,111] Trial 124 finished with value: 0.02797794424216537 and parameters: {'vector_length': 736, 'num_layers': 3, 'dropout': 0.21965363746856745, 'lr': 0.0005382704268221439, 'gamma': 0.9826742903004368}. Best is trial 92 with value: 0.02233956562464728.\n"
          ]
        },
        {
          "name": "stdout",
          "output_type": "stream",
          "text": [
            "Metrics on val set:\n",
            "\n",
            "Loss is 0.0280\n",
            "MAE is 0.0832\n",
            "RMSE is 0.1695\n",
            "R² is 0.9724\n",
            "\n",
            "\n"
          ]
        },
        {
          "name": "stderr",
          "output_type": "stream",
          "text": [
            "[I 2024-07-05 02:14:12,312] Trial 125 finished with value: 0.025257084956940484 and parameters: {'vector_length': 592, 'num_layers': 3, 'dropout': 0.18020609064556015, 'lr': 0.0001573498590076068, 'gamma': 0.9802344143666714}. Best is trial 92 with value: 0.02233956562464728.\n"
          ]
        },
        {
          "name": "stdout",
          "output_type": "stream",
          "text": [
            "Metrics on val set:\n",
            "\n",
            "Loss is 0.0253\n",
            "MAE is 0.0856\n",
            "RMSE is 0.1589\n",
            "R² is 0.9758\n",
            "\n",
            "\n"
          ]
        },
        {
          "name": "stderr",
          "output_type": "stream",
          "text": [
            "[I 2024-07-05 03:03:13,406] Trial 126 finished with value: 0.029185507775229567 and parameters: {'vector_length': 1104, 'num_layers': 3, 'dropout': 0.16454491254120757, 'lr': 0.0003290769592871648, 'gamma': 0.9818642896635449}. Best is trial 92 with value: 0.02233956562464728.\n"
          ]
        },
        {
          "name": "stdout",
          "output_type": "stream",
          "text": [
            "Metrics on val set:\n",
            "\n",
            "Loss is 0.0292\n",
            "MAE is 0.0862\n",
            "RMSE is 0.1720\n",
            "R² is 0.9716\n",
            "\n",
            "\n"
          ]
        },
        {
          "name": "stderr",
          "output_type": "stream",
          "text": [
            "[I 2024-07-05 03:23:17,340] Trial 127 finished with value: 0.02381894217037103 and parameters: {'vector_length': 976, 'num_layers': 3, 'dropout': 0.14801895766123888, 'lr': 0.00027438651574494187, 'gamma': 0.98323067459255}. Best is trial 92 with value: 0.02233956562464728.\n"
          ]
        },
        {
          "name": "stdout",
          "output_type": "stream",
          "text": [
            "Metrics on val set:\n",
            "\n",
            "Loss is 0.0238\n",
            "MAE is 0.0812\n",
            "RMSE is 0.1552\n",
            "R² is 0.9769\n",
            "\n",
            "\n"
          ]
        },
        {
          "name": "stderr",
          "output_type": "stream",
          "text": [
            "[I 2024-07-05 03:58:59,779] Trial 128 finished with value: 0.027558252818005925 and parameters: {'vector_length': 976, 'num_layers': 3, 'dropout': 0.14531338554915527, 'lr': 0.0004564173531650642, 'gamma': 0.9786634876444189}. Best is trial 92 with value: 0.02233956562464728.\n"
          ]
        },
        {
          "name": "stdout",
          "output_type": "stream",
          "text": [
            "Metrics on val set:\n",
            "\n",
            "Loss is 0.0276\n",
            "MAE is 0.0839\n",
            "RMSE is 0.1670\n",
            "R² is 0.9732\n",
            "\n",
            "\n"
          ]
        },
        {
          "name": "stderr",
          "output_type": "stream",
          "text": [
            "[I 2024-07-05 04:15:45,892] Trial 129 finished with value: 0.027211952187559185 and parameters: {'vector_length': 1088, 'num_layers': 3, 'dropout': 0.1514538114547913, 'lr': 0.00024923047369819436, 'gamma': 0.983948309572571}. Best is trial 92 with value: 0.02233956562464728.\n"
          ]
        },
        {
          "name": "stdout",
          "output_type": "stream",
          "text": [
            "Metrics on val set:\n",
            "\n",
            "Loss is 0.0272\n",
            "MAE is 0.0847\n",
            "RMSE is 0.1655\n",
            "R² is 0.9737\n",
            "\n",
            "\n"
          ]
        },
        {
          "name": "stderr",
          "output_type": "stream",
          "text": [
            "[I 2024-07-05 05:04:15,536] Trial 130 finished with value: 0.027984943186097285 and parameters: {'vector_length': 1040, 'num_layers': 3, 'dropout': 0.12369571363364065, 'lr': 0.00032643871278373906, 'gamma': 0.9871067534537249}. Best is trial 92 with value: 0.02233956562464728.\n"
          ]
        },
        {
          "name": "stdout",
          "output_type": "stream",
          "text": [
            "Metrics on val set:\n",
            "\n",
            "Loss is 0.0280\n",
            "MAE is 0.0856\n",
            "RMSE is 0.1674\n",
            "R² is 0.9731\n",
            "\n",
            "\n"
          ]
        },
        {
          "name": "stderr",
          "output_type": "stream",
          "text": [
            "[I 2024-07-05 05:16:17,848] Trial 131 finished with value: 0.023905645343748963 and parameters: {'vector_length': 880, 'num_layers': 3, 'dropout': 0.2017066477328721, 'lr': 0.0002170817654902971, 'gamma': 0.9828880952455854}. Best is trial 92 with value: 0.02233956562464728.\n"
          ]
        },
        {
          "name": "stdout",
          "output_type": "stream",
          "text": [
            "Metrics on val set:\n",
            "\n",
            "Loss is 0.0239\n",
            "MAE is 0.0822\n",
            "RMSE is 0.1554\n",
            "R² is 0.9768\n",
            "\n",
            "\n"
          ]
        },
        {
          "name": "stderr",
          "output_type": "stream",
          "text": [
            "[I 2024-07-05 06:00:25,091] Trial 132 finished with value: 0.027047744897358558 and parameters: {'vector_length': 944, 'num_layers': 3, 'dropout': 0.21119217735742907, 'lr': 0.0002305193072659816, 'gamma': 0.9810192181401133}. Best is trial 92 with value: 0.02233956562464728.\n"
          ]
        },
        {
          "name": "stdout",
          "output_type": "stream",
          "text": [
            "Metrics on val set:\n",
            "\n",
            "Loss is 0.0270\n",
            "MAE is 0.0844\n",
            "RMSE is 0.1639\n",
            "R² is 0.9742\n",
            "\n",
            "\n"
          ]
        },
        {
          "name": "stderr",
          "output_type": "stream",
          "text": [
            "[I 2024-07-05 06:06:01,885] Trial 133 finished with value: 0.027290856301346245 and parameters: {'vector_length': 896, 'num_layers': 3, 'dropout': 0.20523511909535203, 'lr': 0.0002090499945222351, 'gamma': 0.9795271605314511}. Best is trial 92 with value: 0.02233956562464728.\n"
          ]
        },
        {
          "name": "stdout",
          "output_type": "stream",
          "text": [
            "Metrics on val set:\n",
            "\n",
            "Loss is 0.0273\n",
            "MAE is 0.0825\n",
            "RMSE is 0.1585\n",
            "R² is 0.9759\n",
            "\n",
            "\n"
          ]
        },
        {
          "name": "stderr",
          "output_type": "stream",
          "text": [
            "[I 2024-07-05 06:24:14,898] Trial 134 finished with value: 0.02555438257096445 and parameters: {'vector_length': 672, 'num_layers': 3, 'dropout': 0.23142331244433575, 'lr': 0.00028326099502982613, 'gamma': 0.9856195764294171}. Best is trial 92 with value: 0.02233956562464728.\n"
          ]
        },
        {
          "name": "stdout",
          "output_type": "stream",
          "text": [
            "Metrics on val set:\n",
            "\n",
            "Loss is 0.0256\n",
            "MAE is 0.0829\n",
            "RMSE is 0.1580\n",
            "R² is 0.9760\n",
            "\n",
            "\n"
          ]
        },
        {
          "name": "stderr",
          "output_type": "stream",
          "text": [
            "[I 2024-07-05 06:43:31,268] Trial 135 finished with value: 0.03323807950843783 and parameters: {'vector_length': 800, 'num_layers': 3, 'dropout': 0.17238257484749447, 'lr': 0.0026329995028628946, 'gamma': 0.9776078832005238}. Best is trial 92 with value: 0.02233956562464728.\n"
          ]
        },
        {
          "name": "stdout",
          "output_type": "stream",
          "text": [
            "Metrics on val set:\n",
            "\n",
            "Loss is 0.0332\n",
            "MAE is 0.0866\n",
            "RMSE is 0.1784\n",
            "R² is 0.9694\n",
            "\n",
            "\n"
          ]
        },
        {
          "name": "stderr",
          "output_type": "stream",
          "text": [
            "[I 2024-07-05 07:00:13,275] Trial 136 finished with value: 0.03788454600555055 and parameters: {'vector_length': 1168, 'num_layers': 1, 'dropout': 0.13961710830082763, 'lr': 0.00013236895137561883, 'gamma': 0.9833138300746688}. Best is trial 92 with value: 0.02233956562464728.\n"
          ]
        },
        {
          "name": "stdout",
          "output_type": "stream",
          "text": [
            "Metrics on val set:\n",
            "\n",
            "Loss is 0.0379\n",
            "MAE is 0.0983\n",
            "RMSE is 0.1942\n",
            "R² is 0.9638\n",
            "\n",
            "\n"
          ]
        },
        {
          "name": "stderr",
          "output_type": "stream",
          "text": [
            "[I 2024-07-05 07:06:32,542] Trial 137 finished with value: 0.02656369678237859 and parameters: {'vector_length': 992, 'num_layers': 3, 'dropout': 0.15808336272370585, 'lr': 0.0001799841259777919, 'gamma': 0.9819752462742379}. Best is trial 92 with value: 0.02233956562464728.\n"
          ]
        },
        {
          "name": "stdout",
          "output_type": "stream",
          "text": [
            "Metrics on val set:\n",
            "\n",
            "Loss is 0.0266\n",
            "MAE is 0.0873\n",
            "RMSE is 0.1646\n",
            "R² is 0.9740\n",
            "\n",
            "\n"
          ]
        },
        {
          "name": "stderr",
          "output_type": "stream",
          "text": [
            "[I 2024-07-05 07:41:05,711] Trial 138 finished with value: 0.029758532421992105 and parameters: {'vector_length': 928, 'num_layers': 3, 'dropout': 0.19410555942398808, 'lr': 0.0003626046463523619, 'gamma': 0.9805192653535846}. Best is trial 92 with value: 0.02233956562464728.\n"
          ]
        },
        {
          "name": "stdout",
          "output_type": "stream",
          "text": [
            "Metrics on val set:\n",
            "\n",
            "Loss is 0.0298\n",
            "MAE is 0.0810\n",
            "RMSE is 0.1644\n",
            "R² is 0.9741\n",
            "\n",
            "\n"
          ]
        },
        {
          "name": "stderr",
          "output_type": "stream",
          "text": [
            "[I 2024-07-05 07:57:19,775] Trial 139 finished with value: 0.02598797097144758 and parameters: {'vector_length': 880, 'num_layers': 3, 'dropout': 0.2580432305302691, 'lr': 0.00028726615041677354, 'gamma': 0.9845914534019933}. Best is trial 92 with value: 0.02233956562464728.\n"
          ]
        },
        {
          "name": "stdout",
          "output_type": "stream",
          "text": [
            "Metrics on val set:\n",
            "\n",
            "Loss is 0.0260\n",
            "MAE is 0.0810\n",
            "RMSE is 0.1586\n",
            "R² is 0.9758\n",
            "\n",
            "\n"
          ]
        },
        {
          "name": "stderr",
          "output_type": "stream",
          "text": [
            "[I 2024-07-05 08:25:43,094] Trial 140 finished with value: 0.025683134520316824 and parameters: {'vector_length': 1040, 'num_layers': 3, 'dropout': 0.10155006552017, 'lr': 0.00016571241254210203, 'gamma': 0.9762638027043137}. Best is trial 92 with value: 0.02233956562464728.\n"
          ]
        },
        {
          "name": "stdout",
          "output_type": "stream",
          "text": [
            "Metrics on val set:\n",
            "\n",
            "Loss is 0.0257\n",
            "MAE is 0.0842\n",
            "RMSE is 0.1605\n",
            "R² is 0.9753\n",
            "\n",
            "\n"
          ]
        },
        {
          "name": "stderr",
          "output_type": "stream",
          "text": [
            "[I 2024-07-05 08:59:30,898] Trial 141 finished with value: 0.025133412660044784 and parameters: {'vector_length': 832, 'num_layers': 3, 'dropout': 0.18411027597487467, 'lr': 0.00019139780286330307, 'gamma': 0.9822652879365474}. Best is trial 92 with value: 0.02233956562464728.\n"
          ]
        },
        {
          "name": "stdout",
          "output_type": "stream",
          "text": [
            "Metrics on val set:\n",
            "\n",
            "Loss is 0.0251\n",
            "MAE is 0.0864\n",
            "RMSE is 0.1600\n",
            "R² is 0.9754\n",
            "\n",
            "\n"
          ]
        },
        {
          "name": "stderr",
          "output_type": "stream",
          "text": [
            "[I 2024-07-05 09:01:47,959] Trial 142 finished with value: 0.025664570960490143 and parameters: {'vector_length': 704, 'num_layers': 3, 'dropout': 0.20277627236335957, 'lr': 0.000251469757698556, 'gamma': 0.9831411379178603}. Best is trial 92 with value: 0.02233956562464728.\n"
          ]
        },
        {
          "name": "stdout",
          "output_type": "stream",
          "text": [
            "Metrics on val set:\n",
            "\n",
            "Loss is 0.0257\n",
            "MAE is 0.0841\n",
            "RMSE is 0.1619\n",
            "R² is 0.9748\n",
            "\n",
            "\n"
          ]
        },
        {
          "name": "stderr",
          "output_type": "stream",
          "text": [
            "[I 2024-07-05 09:09:08,515] Trial 143 finished with value: 0.02681879502008943 and parameters: {'vector_length': 768, 'num_layers': 3, 'dropout': 0.21733673426159478, 'lr': 0.00021660711113665127, 'gamma': 0.9792958826450436}. Best is trial 92 with value: 0.02233956562464728.\n"
          ]
        },
        {
          "name": "stdout",
          "output_type": "stream",
          "text": [
            "Metrics on val set:\n",
            "\n",
            "Loss is 0.0268\n",
            "MAE is 0.0861\n",
            "RMSE is 0.1621\n",
            "R² is 0.9748\n",
            "\n",
            "\n"
          ]
        },
        {
          "name": "stderr",
          "output_type": "stream",
          "text": [
            "[I 2024-07-05 09:28:09,471] Trial 144 finished with value: 0.025078845265157083 and parameters: {'vector_length': 848, 'num_layers': 3, 'dropout': 0.17460764305346538, 'lr': 0.00013706154904381926, 'gamma': 0.9839382130731966}. Best is trial 92 with value: 0.02233956562464728.\n"
          ]
        },
        {
          "name": "stdout",
          "output_type": "stream",
          "text": [
            "Metrics on val set:\n",
            "\n",
            "Loss is 0.0251\n",
            "MAE is 0.0841\n",
            "RMSE is 0.1586\n",
            "R² is 0.9758\n",
            "\n",
            "\n"
          ]
        },
        {
          "name": "stderr",
          "output_type": "stream",
          "text": [
            "[I 2024-07-05 09:48:13,468] Trial 145 finished with value: 0.023955626741928214 and parameters: {'vector_length': 960, 'num_layers': 3, 'dropout': 0.19086393712479505, 'lr': 0.00017493395946893147, 'gamma': 0.982710593997659}. Best is trial 92 with value: 0.02233956562464728.\n"
          ]
        },
        {
          "name": "stdout",
          "output_type": "stream",
          "text": [
            "Metrics on val set:\n",
            "\n",
            "Loss is 0.0240\n",
            "MAE is 0.0823\n",
            "RMSE is 0.1547\n",
            "R² is 0.9770\n",
            "\n",
            "\n"
          ]
        },
        {
          "name": "stderr",
          "output_type": "stream",
          "text": [
            "[I 2024-07-05 10:08:33,087] Trial 146 finished with value: 0.025840295588268954 and parameters: {'vector_length': 976, 'num_layers': 3, 'dropout': 0.16303479443292512, 'lr': 0.00011526499859191147, 'gamma': 0.981366774424299}. Best is trial 92 with value: 0.02233956562464728.\n"
          ]
        },
        {
          "name": "stdout",
          "output_type": "stream",
          "text": [
            "Metrics on val set:\n",
            "\n",
            "Loss is 0.0258\n",
            "MAE is 0.0843\n",
            "RMSE is 0.1617\n",
            "R² is 0.9749\n",
            "\n",
            "\n"
          ]
        },
        {
          "name": "stderr",
          "output_type": "stream",
          "text": [
            "[I 2024-07-05 10:27:47,994] Trial 147 finished with value: 0.027197181028040016 and parameters: {'vector_length': 944, 'num_layers': 3, 'dropout': 0.1257237535790075, 'lr': 0.00015206205592605546, 'gamma': 0.9782532991144383}. Best is trial 92 with value: 0.02233956562464728.\n"
          ]
        },
        {
          "name": "stdout",
          "output_type": "stream",
          "text": [
            "Metrics on val set:\n",
            "\n",
            "Loss is 0.0272\n",
            "MAE is 0.0845\n",
            "RMSE is 0.1650\n",
            "R² is 0.9739\n",
            "\n",
            "\n"
          ]
        },
        {
          "name": "stderr",
          "output_type": "stream",
          "text": [
            "[I 2024-07-05 11:04:07,229] Trial 148 finished with value: 0.02805032619439504 and parameters: {'vector_length': 1120, 'num_layers': 3, 'dropout': 0.19242709862607604, 'lr': 0.0003061453473921826, 'gamma': 0.9801521962654313}. Best is trial 92 with value: 0.02233956562464728.\n"
          ]
        },
        {
          "name": "stdout",
          "output_type": "stream",
          "text": [
            "Metrics on val set:\n",
            "\n",
            "Loss is 0.0281\n",
            "MAE is 0.0858\n",
            "RMSE is 0.1692\n",
            "R² is 0.9725\n",
            "\n",
            "\n"
          ]
        },
        {
          "name": "stderr",
          "output_type": "stream",
          "text": [
            "[I 2024-07-05 11:09:47,735] Trial 149 finished with value: 0.026840723064892432 and parameters: {'vector_length': 368, 'num_layers': 3, 'dropout': 0.22527119451433825, 'lr': 0.000415734687585121, 'gamma': 0.9850256744937891}. Best is trial 92 with value: 0.02233956562464728.\n"
          ]
        },
        {
          "name": "stdout",
          "output_type": "stream",
          "text": [
            "Metrics on val set:\n",
            "\n",
            "Loss is 0.0268\n",
            "MAE is 0.0857\n",
            "RMSE is 0.1624\n",
            "R² is 0.9747\n",
            "\n",
            "\n"
          ]
        },
        {
          "name": "stderr",
          "output_type": "stream",
          "text": [
            "[I 2024-07-05 11:30:26,441] Trial 150 finished with value: 0.02648759655216161 and parameters: {'vector_length': 1024, 'num_layers': 3, 'dropout': 0.15066542744942374, 'lr': 0.00024494168520641487, 'gamma': 0.9806550695471968}. Best is trial 92 with value: 0.02233956562464728.\n"
          ]
        },
        {
          "name": "stdout",
          "output_type": "stream",
          "text": [
            "Metrics on val set:\n",
            "\n",
            "Loss is 0.0265\n",
            "MAE is 0.0836\n",
            "RMSE is 0.1629\n",
            "R² is 0.9745\n",
            "\n",
            "\n"
          ]
        },
        {
          "name": "stderr",
          "output_type": "stream",
          "text": [
            "[I 2024-07-05 11:53:20,349] Trial 151 finished with value: 0.028425890897565028 and parameters: {'vector_length': 912, 'num_layers': 3, 'dropout': 0.1814942630948698, 'lr': 0.00019527005358084508, 'gamma': 0.9829288061413174}. Best is trial 92 with value: 0.02233956562464728.\n"
          ]
        },
        {
          "name": "stdout",
          "output_type": "stream",
          "text": [
            "Metrics on val set:\n",
            "\n",
            "Loss is 0.0284\n",
            "MAE is 0.0878\n",
            "RMSE is 0.1700\n",
            "R² is 0.9722\n",
            "\n",
            "\n"
          ]
        },
        {
          "name": "stderr",
          "output_type": "stream",
          "text": [
            "[I 2024-07-05 11:57:56,085] Trial 152 finished with value: 0.025902514181592885 and parameters: {'vector_length': 816, 'num_layers': 3, 'dropout': 0.20545527684835516, 'lr': 0.00017226276354567933, 'gamma': 0.9823451421509705}. Best is trial 92 with value: 0.02233956562464728.\n"
          ]
        },
        {
          "name": "stdout",
          "output_type": "stream",
          "text": [
            "Metrics on val set:\n",
            "\n",
            "Loss is 0.0259\n",
            "MAE is 0.0847\n",
            "RMSE is 0.1616\n",
            "R² is 0.9749\n",
            "\n",
            "\n"
          ]
        },
        {
          "name": "stderr",
          "output_type": "stream",
          "text": [
            "[I 2024-07-05 12:28:20,634] Trial 153 finished with value: 0.023951374706538284 and parameters: {'vector_length': 864, 'num_layers': 3, 'dropout': 0.18765437641377558, 'lr': 0.00022170219412781202, 'gamma': 0.981356748793616}. Best is trial 92 with value: 0.02233956562464728.\n"
          ]
        },
        {
          "name": "stdout",
          "output_type": "stream",
          "text": [
            "Metrics on val set:\n",
            "\n",
            "Loss is 0.0240\n",
            "MAE is 0.0819\n",
            "RMSE is 0.1560\n",
            "R² is 0.9766\n",
            "\n",
            "\n"
          ]
        },
        {
          "name": "stderr",
          "output_type": "stream",
          "text": [
            "[I 2024-07-05 12:47:39,330] Trial 154 finished with value: 0.02931537473683848 and parameters: {'vector_length': 224, 'num_layers': 3, 'dropout': 0.13484107846677662, 'lr': 0.0002198425979186929, 'gamma': 0.9789647717758272}. Best is trial 92 with value: 0.02233956562464728.\n"
          ]
        },
        {
          "name": "stdout",
          "output_type": "stream",
          "text": [
            "Metrics on val set:\n",
            "\n",
            "Loss is 0.0293\n",
            "MAE is 0.0896\n",
            "RMSE is 0.1703\n",
            "R² is 0.9721\n",
            "\n",
            "\n"
          ]
        },
        {
          "name": "stderr",
          "output_type": "stream",
          "text": [
            "[I 2024-07-05 13:07:59,524] Trial 155 finished with value: 0.02601144408040187 and parameters: {'vector_length': 1072, 'num_layers': 3, 'dropout': 0.19455540366355054, 'lr': 0.00026953593746630456, 'gamma': 0.9815021120168214}. Best is trial 92 with value: 0.02233956562464728.\n"
          ]
        },
        {
          "name": "stdout",
          "output_type": "stream",
          "text": [
            "Metrics on val set:\n",
            "\n",
            "Loss is 0.0260\n",
            "MAE is 0.0840\n",
            "RMSE is 0.1610\n",
            "R² is 0.9751\n",
            "\n",
            "\n"
          ]
        },
        {
          "name": "stderr",
          "output_type": "stream",
          "text": [
            "[I 2024-07-05 13:28:47,984] Trial 156 finished with value: 0.026081535033881664 and parameters: {'vector_length': 880, 'num_layers': 3, 'dropout': 0.16771051539469684, 'lr': 0.00015522022676372482, 'gamma': 0.9796216660902157}. Best is trial 92 with value: 0.02233956562464728.\n"
          ]
        },
        {
          "name": "stdout",
          "output_type": "stream",
          "text": [
            "Metrics on val set:\n",
            "\n",
            "Loss is 0.0261\n",
            "MAE is 0.0839\n",
            "RMSE is 0.1627\n",
            "R² is 0.9746\n",
            "\n",
            "\n"
          ]
        },
        {
          "name": "stderr",
          "output_type": "stream",
          "text": [
            "[I 2024-07-05 14:12:15,132] Trial 157 finished with value: 0.04564323900815319 and parameters: {'vector_length': 960, 'num_layers': 3, 'dropout': 0.11723135865970444, 'lr': 0.004354629914889854, 'gamma': 0.9538826177383437}. Best is trial 92 with value: 0.02233956562464728.\n"
          ]
        },
        {
          "name": "stdout",
          "output_type": "stream",
          "text": [
            "Metrics on val set:\n",
            "\n",
            "Loss is 0.0456\n",
            "MAE is 0.1224\n",
            "RMSE is 0.2132\n",
            "R² is 0.9563\n",
            "\n",
            "\n"
          ]
        },
        {
          "name": "stderr",
          "output_type": "stream",
          "text": [
            "[I 2024-07-05 14:47:30,698] Trial 158 finished with value: 0.03472248848308535 and parameters: {'vector_length': 1008, 'num_layers': 3, 'dropout': 0.21103374268598363, 'lr': 0.0003641839960015916, 'gamma': 0.9774219303231594}. Best is trial 92 with value: 0.02233956562464728.\n"
          ]
        },
        {
          "name": "stdout",
          "output_type": "stream",
          "text": [
            "Metrics on val set:\n",
            "\n",
            "Loss is 0.0347\n",
            "MAE is 0.0927\n",
            "RMSE is 0.1862\n",
            "R² is 0.9667\n",
            "\n",
            "\n"
          ]
        },
        {
          "name": "stderr",
          "output_type": "stream",
          "text": [
            "[I 2024-07-05 15:05:35,736] Trial 159 finished with value: 0.02396917896454825 and parameters: {'vector_length': 784, 'num_layers': 3, 'dropout': 0.232042377441888, 'lr': 0.00020999292178295839, 'gamma': 0.9810406964653539}. Best is trial 92 with value: 0.02233956562464728.\n"
          ]
        },
        {
          "name": "stdout",
          "output_type": "stream",
          "text": [
            "Metrics on val set:\n",
            "\n",
            "Loss is 0.0240\n",
            "MAE is 0.0817\n",
            "RMSE is 0.1557\n",
            "R² is 0.9767\n",
            "\n",
            "\n"
          ]
        },
        {
          "name": "stderr",
          "output_type": "stream",
          "text": [
            "[I 2024-07-05 15:13:05,954] Trial 160 finished with value: 0.029552935020012015 and parameters: {'vector_length': 768, 'num_layers': 3, 'dropout': 0.2407705777045084, 'lr': 9.942077285799317e-05, 'gamma': 0.9784019760025822}. Best is trial 92 with value: 0.02233956562464728.\n"
          ]
        },
        {
          "name": "stdout",
          "output_type": "stream",
          "text": [
            "Metrics on val set:\n",
            "\n",
            "Loss is 0.0296\n",
            "MAE is 0.0920\n",
            "RMSE is 0.1740\n",
            "R² is 0.9709\n",
            "\n",
            "\n"
          ]
        },
        {
          "name": "stderr",
          "output_type": "stream",
          "text": [
            "[I 2024-07-05 15:30:54,885] Trial 161 finished with value: 0.024391111972577432 and parameters: {'vector_length': 720, 'num_layers': 3, 'dropout': 0.2214364256007303, 'lr': 0.00021658440377447317, 'gamma': 0.9807294577595115}. Best is trial 92 with value: 0.02233956562464728.\n"
          ]
        },
        {
          "name": "stdout",
          "output_type": "stream",
          "text": [
            "Metrics on val set:\n",
            "\n",
            "Loss is 0.0244\n",
            "MAE is 0.0838\n",
            "RMSE is 0.1571\n",
            "R² is 0.9763\n",
            "\n",
            "\n"
          ]
        },
        {
          "name": "stderr",
          "output_type": "stream",
          "text": [
            "[I 2024-07-05 15:34:15,550] Trial 162 finished with value: 0.02550094640430282 and parameters: {'vector_length': 704, 'num_layers': 3, 'dropout': 0.23100174860502035, 'lr': 0.00017912827225902457, 'gamma': 0.9800399756773951}. Best is trial 92 with value: 0.02233956562464728.\n"
          ]
        },
        {
          "name": "stdout",
          "output_type": "stream",
          "text": [
            "Metrics on val set:\n",
            "\n",
            "Loss is 0.0255\n",
            "MAE is 0.0845\n",
            "RMSE is 0.1602\n",
            "R² is 0.9754\n",
            "\n",
            "\n"
          ]
        },
        {
          "name": "stderr",
          "output_type": "stream",
          "text": [
            "[I 2024-07-05 15:52:55,894] Trial 163 finished with value: 0.027338284999132156 and parameters: {'vector_length': 640, 'num_layers': 3, 'dropout': 0.2143398513973587, 'lr': 0.0001325725864369788, 'gamma': 0.9810104914800734}. Best is trial 92 with value: 0.02233956562464728.\n"
          ]
        },
        {
          "name": "stdout",
          "output_type": "stream",
          "text": [
            "Metrics on val set:\n",
            "\n",
            "Loss is 0.0273\n",
            "MAE is 0.0900\n",
            "RMSE is 0.1660\n",
            "R² is 0.9735\n",
            "\n",
            "\n"
          ]
        },
        {
          "name": "stderr",
          "output_type": "stream",
          "text": [
            "[I 2024-07-05 16:12:04,793] Trial 164 finished with value: 0.025144608253065276 and parameters: {'vector_length': 800, 'num_layers': 3, 'dropout': 0.22576012912132998, 'lr': 0.00021239028209205007, 'gamma': 0.9836928694732958}. Best is trial 92 with value: 0.02233956562464728.\n"
          ]
        },
        {
          "name": "stdout",
          "output_type": "stream",
          "text": [
            "Metrics on val set:\n",
            "\n",
            "Loss is 0.0251\n",
            "MAE is 0.0855\n",
            "RMSE is 0.1588\n",
            "R² is 0.9758\n",
            "\n",
            "\n"
          ]
        },
        {
          "name": "stderr",
          "output_type": "stream",
          "text": [
            "[I 2024-07-05 16:29:42,866] Trial 165 finished with value: 0.02497198405292104 and parameters: {'vector_length': 720, 'num_layers': 3, 'dropout': 0.24541766950998875, 'lr': 0.00027076350258643507, 'gamma': 0.9791372508892661}. Best is trial 92 with value: 0.02233956562464728.\n"
          ]
        },
        {
          "name": "stdout",
          "output_type": "stream",
          "text": [
            "Metrics on val set:\n",
            "\n",
            "Loss is 0.0250\n",
            "MAE is 0.0832\n",
            "RMSE is 0.1579\n",
            "R² is 0.9760\n",
            "\n",
            "\n"
          ]
        },
        {
          "name": "stderr",
          "output_type": "stream",
          "text": [
            "[I 2024-07-05 16:47:04,640] Trial 166 finished with value: 0.026948292575338307 and parameters: {'vector_length': 752, 'num_layers': 3, 'dropout': 0.2906093478644367, 'lr': 0.00015719380881055436, 'gamma': 0.982329968156689}. Best is trial 92 with value: 0.02233956562464728.\n"
          ]
        },
        {
          "name": "stdout",
          "output_type": "stream",
          "text": [
            "Metrics on val set:\n",
            "\n",
            "Loss is 0.0269\n",
            "MAE is 0.0876\n",
            "RMSE is 0.1640\n",
            "R² is 0.9742\n",
            "\n",
            "\n"
          ]
        },
        {
          "name": "stderr",
          "output_type": "stream",
          "text": [
            "[I 2024-07-05 17:06:55,425] Trial 167 finished with value: 0.024731500019483706 and parameters: {'vector_length': 880, 'num_layers': 3, 'dropout': 0.1980132362989517, 'lr': 0.0002096168946087686, 'gamma': 0.9805859057333122}. Best is trial 92 with value: 0.02233956562464728.\n"
          ]
        },
        {
          "name": "stdout",
          "output_type": "stream",
          "text": [
            "Metrics on val set:\n",
            "\n",
            "Loss is 0.0247\n",
            "MAE is 0.0829\n",
            "RMSE is 0.1582\n",
            "R² is 0.9760\n",
            "\n",
            "\n"
          ]
        },
        {
          "name": "stderr",
          "output_type": "stream",
          "text": [
            "[I 2024-07-05 17:14:38,331] Trial 168 finished with value: 0.02428427294773214 and parameters: {'vector_length': 816, 'num_layers': 3, 'dropout': 0.3147140831612441, 'lr': 0.0003028181847349993, 'gamma': 0.9815203570542377}. Best is trial 92 with value: 0.02233956562464728.\n"
          ]
        },
        {
          "name": "stdout",
          "output_type": "stream",
          "text": [
            "Metrics on val set:\n",
            "\n",
            "Loss is 0.0243\n",
            "MAE is 0.0858\n",
            "RMSE is 0.1567\n",
            "R² is 0.9764\n",
            "\n",
            "\n"
          ]
        },
        {
          "name": "stderr",
          "output_type": "stream",
          "text": [
            "[I 2024-07-05 18:03:54,396] Trial 169 finished with value: 0.02423180256258039 and parameters: {'vector_length': 816, 'num_layers': 3, 'dropout': 0.33604334233779776, 'lr': 0.00032522663090875164, 'gamma': 0.9814308539355178}. Best is trial 92 with value: 0.02233956562464728.\n"
          ]
        },
        {
          "name": "stdout",
          "output_type": "stream",
          "text": [
            "Metrics on val set:\n",
            "\n",
            "Loss is 0.0242\n",
            "MAE is 0.0833\n",
            "RMSE is 0.1578\n",
            "R² is 0.9761\n",
            "\n",
            "\n"
          ]
        },
        {
          "name": "stderr",
          "output_type": "stream",
          "text": [
            "[I 2024-07-05 19:05:52,632] Trial 170 finished with value: 0.027672624544185752 and parameters: {'vector_length': 928, 'num_layers': 3, 'dropout': 0.3249071572375371, 'lr': 0.0003123072525136085, 'gamma': 0.9843150065838219}. Best is trial 92 with value: 0.02233956562464728.\n"
          ]
        },
        {
          "name": "stdout",
          "output_type": "stream",
          "text": [
            "Metrics on val set:\n",
            "\n",
            "Loss is 0.0277\n",
            "MAE is 0.0847\n",
            "RMSE is 0.1662\n",
            "R² is 0.9735\n",
            "\n",
            "\n"
          ]
        },
        {
          "name": "stderr",
          "output_type": "stream",
          "text": [
            "[I 2024-07-05 19:10:29,400] Trial 171 finished with value: 0.02625611753148191 and parameters: {'vector_length': 816, 'num_layers': 3, 'dropout': 0.36884070017257287, 'lr': 0.0003873136185350489, 'gamma': 0.9815348552321636}. Best is trial 92 with value: 0.02233956562464728.\n"
          ]
        },
        {
          "name": "stdout",
          "output_type": "stream",
          "text": [
            "Metrics on val set:\n",
            "\n",
            "Loss is 0.0263\n",
            "MAE is 0.0847\n",
            "RMSE is 0.1635\n",
            "R² is 0.9743\n",
            "\n",
            "\n"
          ]
        },
        {
          "name": "stderr",
          "output_type": "stream",
          "text": [
            "[I 2024-07-05 19:57:19,439] Trial 172 finished with value: 0.024664840277503517 and parameters: {'vector_length': 864, 'num_layers': 3, 'dropout': 0.38549784135948534, 'lr': 0.00025944113281044543, 'gamma': 0.9831689928706612}. Best is trial 92 with value: 0.02233956562464728.\n"
          ]
        },
        {
          "name": "stdout",
          "output_type": "stream",
          "text": [
            "Metrics on val set:\n",
            "\n",
            "Loss is 0.0247\n",
            "MAE is 0.0840\n",
            "RMSE is 0.1589\n",
            "R² is 0.9757\n",
            "\n",
            "\n"
          ]
        },
        {
          "name": "stderr",
          "output_type": "stream",
          "text": [
            "[I 2024-07-05 20:01:01,756] Trial 173 finished with value: 0.026980058728333783 and parameters: {'vector_length': 912, 'num_layers': 3, 'dropout': 0.35118086911318547, 'lr': 0.0003164399554636891, 'gamma': 0.982242093488991}. Best is trial 92 with value: 0.02233956562464728.\n"
          ]
        },
        {
          "name": "stdout",
          "output_type": "stream",
          "text": [
            "Metrics on val set:\n",
            "\n",
            "Loss is 0.0270\n",
            "MAE is 0.0833\n",
            "RMSE is 0.1626\n",
            "R² is 0.9746\n",
            "\n",
            "\n"
          ]
        },
        {
          "name": "stderr",
          "output_type": "stream",
          "text": [
            "[I 2024-07-05 20:22:43,713] Trial 174 finished with value: 0.025860662352951133 and parameters: {'vector_length': 784, 'num_layers': 3, 'dropout': 0.30618867906615416, 'lr': 0.0004467824838826397, 'gamma': 0.9810081785384808}. Best is trial 92 with value: 0.02233956562464728.\n"
          ]
        },
        {
          "name": "stdout",
          "output_type": "stream",
          "text": [
            "Metrics on val set:\n",
            "\n",
            "Loss is 0.0259\n",
            "MAE is 0.0818\n",
            "RMSE is 0.1619\n",
            "R² is 0.9748\n",
            "\n",
            "\n"
          ]
        },
        {
          "name": "stderr",
          "output_type": "stream",
          "text": [
            "[I 2024-07-05 20:41:09,309] Trial 175 finished with value: 0.024180605952792308 and parameters: {'vector_length': 832, 'num_layers': 3, 'dropout': 0.33364396607513847, 'lr': 0.00018265313392641527, 'gamma': 0.9805934506912529}. Best is trial 92 with value: 0.02233956562464728.\n"
          ]
        },
        {
          "name": "stdout",
          "output_type": "stream",
          "text": [
            "Metrics on val set:\n",
            "\n",
            "Loss is 0.0242\n",
            "MAE is 0.0827\n",
            "RMSE is 0.1535\n",
            "R² is 0.9774\n",
            "\n",
            "\n"
          ]
        },
        {
          "name": "stderr",
          "output_type": "stream",
          "text": [
            "[I 2024-07-05 21:00:44,464] Trial 176 finished with value: 0.025617939584395465 and parameters: {'vector_length': 848, 'num_layers': 3, 'dropout': 0.32390531977423725, 'lr': 0.0002396879841867353, 'gamma': 0.9800241079109976}. Best is trial 92 with value: 0.02233956562464728.\n"
          ]
        },
        {
          "name": "stdout",
          "output_type": "stream",
          "text": [
            "Metrics on val set:\n",
            "\n",
            "Loss is 0.0256\n",
            "MAE is 0.0864\n",
            "RMSE is 0.1605\n",
            "R² is 0.9753\n",
            "\n",
            "\n"
          ]
        },
        {
          "name": "stderr",
          "output_type": "stream",
          "text": [
            "[I 2024-07-05 21:21:12,825] Trial 177 finished with value: 0.026153861216324216 and parameters: {'vector_length': 912, 'num_layers': 3, 'dropout': 0.33852670686544467, 'lr': 0.00028712125566653877, 'gamma': 0.9827651689221182}. Best is trial 92 with value: 0.02233956562464728.\n"
          ]
        },
        {
          "name": "stdout",
          "output_type": "stream",
          "text": [
            "Metrics on val set:\n",
            "\n",
            "Loss is 0.0262\n",
            "MAE is 0.0835\n",
            "RMSE is 0.1629\n",
            "R² is 0.9745\n",
            "\n",
            "\n"
          ]
        },
        {
          "name": "stderr",
          "output_type": "stream",
          "text": [
            "[I 2024-07-05 21:52:56,583] Trial 178 finished with value: 0.02532476225100896 and parameters: {'vector_length': 960, 'num_layers': 3, 'dropout': 0.267063348882608, 'lr': 0.00017556516920219154, 'gamma': 0.981504692596733}. Best is trial 92 with value: 0.02233956562464728.\n"
          ]
        },
        {
          "name": "stdout",
          "output_type": "stream",
          "text": [
            "Metrics on val set:\n",
            "\n",
            "Loss is 0.0253\n",
            "MAE is 0.0846\n",
            "RMSE is 0.1594\n",
            "R² is 0.9756\n",
            "\n",
            "\n"
          ]
        },
        {
          "name": "stderr",
          "output_type": "stream",
          "text": [
            "[I 2024-07-05 22:54:49,821] Trial 179 finished with value: 0.026396677500623113 and parameters: {'vector_length': 1536, 'num_layers': 3, 'dropout': 0.34768117170198015, 'lr': 0.00011943535439719521, 'gamma': 0.9835803718800479}. Best is trial 92 with value: 0.02233956562464728.\n"
          ]
        },
        {
          "name": "stdout",
          "output_type": "stream",
          "text": [
            "Metrics on val set:\n",
            "\n",
            "Loss is 0.0264\n",
            "MAE is 0.0875\n",
            "RMSE is 0.1629\n",
            "R² is 0.9745\n",
            "\n",
            "\n"
          ]
        },
        {
          "name": "stderr",
          "output_type": "stream",
          "text": [
            "[I 2024-07-05 23:23:26,209] Trial 180 finished with value: 0.02533530378166367 and parameters: {'vector_length': 736, 'num_layers': 3, 'dropout': 0.35406032187150627, 'lr': 0.00032558206234883826, 'gamma': 0.9806675199499765}. Best is trial 92 with value: 0.02233956562464728.\n"
          ]
        },
        {
          "name": "stdout",
          "output_type": "stream",
          "text": [
            "Metrics on val set:\n",
            "\n",
            "Loss is 0.0253\n",
            "MAE is 0.0811\n",
            "RMSE is 0.1608\n",
            "R² is 0.9752\n",
            "\n",
            "\n"
          ]
        },
        {
          "name": "stderr",
          "output_type": "stream",
          "text": [
            "[I 2024-07-05 23:42:01,281] Trial 181 finished with value: 0.025077542290091515 and parameters: {'vector_length': 800, 'num_layers': 3, 'dropout': 0.18439715031590884, 'lr': 0.00019340056640689452, 'gamma': 0.9795371310609416}. Best is trial 92 with value: 0.02233956562464728.\n"
          ]
        },
        {
          "name": "stdout",
          "output_type": "stream",
          "text": [
            "Metrics on val set:\n",
            "\n",
            "Loss is 0.0251\n",
            "MAE is 0.0850\n",
            "RMSE is 0.1589\n",
            "R² is 0.9758\n",
            "\n",
            "\n"
          ]
        },
        {
          "name": "stderr",
          "output_type": "stream",
          "text": [
            "[I 2024-07-05 23:51:07,568] Trial 182 finished with value: 0.02655144622001578 and parameters: {'vector_length': 832, 'num_layers': 3, 'dropout': 0.3212861472206349, 'lr': 0.0002466430108198192, 'gamma': 0.9818793311364598}. Best is trial 92 with value: 0.02233956562464728.\n"
          ]
        },
        {
          "name": "stdout",
          "output_type": "stream",
          "text": [
            "Metrics on val set:\n",
            "\n",
            "Loss is 0.0266\n",
            "MAE is 0.0841\n",
            "RMSE is 0.1622\n",
            "R² is 0.9747\n",
            "\n",
            "\n"
          ]
        },
        {
          "name": "stderr",
          "output_type": "stream",
          "text": [
            "[I 2024-07-06 00:09:38,252] Trial 183 finished with value: 0.023899329497533685 and parameters: {'vector_length': 880, 'num_layers': 3, 'dropout': 0.3123194267486961, 'lr': 0.00013875376801809354, 'gamma': 0.9786875379111826}. Best is trial 92 with value: 0.02233956562464728.\n"
          ]
        },
        {
          "name": "stdout",
          "output_type": "stream",
          "text": [
            "Metrics on val set:\n",
            "\n",
            "Loss is 0.0239\n",
            "MAE is 0.0848\n",
            "RMSE is 0.1556\n",
            "R² is 0.9768\n",
            "\n",
            "\n"
          ]
        },
        {
          "name": "stderr",
          "output_type": "stream",
          "text": [
            "[I 2024-07-06 00:45:56,023] Trial 184 finished with value: 0.025188268162310123 and parameters: {'vector_length': 880, 'num_layers': 3, 'dropout': 0.29842835771690857, 'lr': 0.00014388702385820752, 'gamma': 0.9853018798826251}. Best is trial 92 with value: 0.02233956562464728.\n"
          ]
        },
        {
          "name": "stdout",
          "output_type": "stream",
          "text": [
            "Metrics on val set:\n",
            "\n",
            "Loss is 0.0252\n",
            "MAE is 0.0828\n",
            "RMSE is 0.1589\n",
            "R² is 0.9758\n",
            "\n",
            "\n"
          ]
        },
        {
          "name": "stderr",
          "output_type": "stream",
          "text": [
            "[I 2024-07-06 00:57:02,492] Trial 185 finished with value: 0.027610199032899213 and parameters: {'vector_length': 864, 'num_layers': 3, 'dropout': 0.3125134007221792, 'lr': 0.00016205846089599118, 'gamma': 0.9802861002444659}. Best is trial 92 with value: 0.02233956562464728.\n"
          ]
        },
        {
          "name": "stdout",
          "output_type": "stream",
          "text": [
            "Metrics on val set:\n",
            "\n",
            "Loss is 0.0276\n",
            "MAE is 0.0883\n",
            "RMSE is 0.1663\n",
            "R² is 0.9734\n",
            "\n",
            "\n"
          ]
        },
        {
          "name": "stderr",
          "output_type": "stream",
          "text": [
            "[I 2024-07-06 01:31:24,927] Trial 186 finished with value: 0.02530423179268837 and parameters: {'vector_length': 944, 'num_layers': 3, 'dropout': 0.33810035042723846, 'lr': 0.00013917252462309422, 'gamma': 0.9810361026778617}. Best is trial 92 with value: 0.02233956562464728.\n"
          ]
        },
        {
          "name": "stdout",
          "output_type": "stream",
          "text": [
            "Metrics on val set:\n",
            "\n",
            "Loss is 0.0253\n",
            "MAE is 0.0848\n",
            "RMSE is 0.1602\n",
            "R² is 0.9753\n",
            "\n",
            "\n"
          ]
        },
        {
          "name": "stderr",
          "output_type": "stream",
          "text": [
            "[I 2024-07-06 01:39:32,083] Trial 187 finished with value: 0.02553716619663379 and parameters: {'vector_length': 1056, 'num_layers': 3, 'dropout': 0.43410603527401637, 'lr': 0.0002155704879590012, 'gamma': 0.9790039925573493}. Best is trial 92 with value: 0.02233956562464728.\n"
          ]
        },
        {
          "name": "stdout",
          "output_type": "stream",
          "text": [
            "Metrics on val set:\n",
            "\n",
            "Loss is 0.0255\n",
            "MAE is 0.0848\n",
            "RMSE is 0.1598\n",
            "R² is 0.9755\n",
            "\n",
            "\n"
          ]
        },
        {
          "name": "stderr",
          "output_type": "stream",
          "text": [
            "[I 2024-07-06 02:24:31,193] Trial 188 finished with value: 0.02535895986811203 and parameters: {'vector_length': 992, 'num_layers': 5, 'dropout': 0.33483923773312135, 'lr': 0.00017515440736808697, 'gamma': 0.9821491236103639}. Best is trial 92 with value: 0.02233956562464728.\n"
          ]
        },
        {
          "name": "stdout",
          "output_type": "stream",
          "text": [
            "Metrics on val set:\n",
            "\n",
            "Loss is 0.0254\n",
            "MAE is 0.0839\n",
            "RMSE is 0.1589\n",
            "R² is 0.9758\n",
            "\n",
            "\n"
          ]
        },
        {
          "name": "stderr",
          "output_type": "stream",
          "text": [
            "[I 2024-07-06 03:03:35,182] Trial 189 finished with value: 0.02625576883335324 and parameters: {'vector_length': 1216, 'num_layers': 3, 'dropout': 0.21899529922520644, 'lr': 0.00036639805603590664, 'gamma': 0.9840075734112946}. Best is trial 92 with value: 0.02233956562464728.\n"
          ]
        },
        {
          "name": "stdout",
          "output_type": "stream",
          "text": [
            "Metrics on val set:\n",
            "\n",
            "Loss is 0.0263\n",
            "MAE is 0.0819\n",
            "RMSE is 0.1632\n",
            "R² is 0.9744\n",
            "\n",
            "\n"
          ]
        },
        {
          "name": "stderr",
          "output_type": "stream",
          "text": [
            "[I 2024-07-06 04:41:14,959] Trial 190 finished with value: 0.024270697387264055 and parameters: {'vector_length': 1744, 'num_layers': 3, 'dropout': 0.2878827083595983, 'lr': 0.0001262655880075456, 'gamma': 0.9829750112928589}. Best is trial 92 with value: 0.02233956562464728.\n"
          ]
        },
        {
          "name": "stdout",
          "output_type": "stream",
          "text": [
            "Metrics on val set:\n",
            "\n",
            "Loss is 0.0243\n",
            "MAE is 0.0851\n",
            "RMSE is 0.1568\n",
            "R² is 0.9764\n",
            "\n",
            "\n"
          ]
        },
        {
          "name": "stderr",
          "output_type": "stream",
          "text": [
            "[I 2024-07-06 06:45:02,085] Trial 191 finished with value: 0.02613586636588854 and parameters: {'vector_length': 1968, 'num_layers': 3, 'dropout': 0.28680474500767383, 'lr': 8.812585346508578e-05, 'gamma': 0.9830048357088961}. Best is trial 92 with value: 0.02233956562464728.\n"
          ]
        },
        {
          "name": "stdout",
          "output_type": "stream",
          "text": [
            "Metrics on val set:\n",
            "\n",
            "Loss is 0.0261\n",
            "MAE is 0.0857\n",
            "RMSE is 0.1630\n",
            "R² is 0.9745\n",
            "\n",
            "\n"
          ]
        },
        {
          "name": "stderr",
          "output_type": "stream",
          "text": [
            "[I 2024-07-06 06:47:07,850] Trial 192 finished with value: 0.03063050186371102 and parameters: {'vector_length': 512, 'num_layers': 3, 'dropout': 0.30475913691228274, 'lr': 0.00012072599515497582, 'gamma': 0.9815233388550642}. Best is trial 92 with value: 0.02233956562464728.\n"
          ]
        },
        {
          "name": "stdout",
          "output_type": "stream",
          "text": [
            "Metrics on val set:\n",
            "\n",
            "Loss is 0.0306\n",
            "MAE is 0.0928\n",
            "RMSE is 0.1744\n",
            "R² is 0.9708\n",
            "\n",
            "\n"
          ]
        },
        {
          "name": "stderr",
          "output_type": "stream",
          "text": [
            "[I 2024-07-06 08:18:17,964] Trial 193 finished with value: 0.024557745084166527 and parameters: {'vector_length': 1664, 'num_layers': 3, 'dropout': 0.31850896418418045, 'lr': 0.00010772252724383366, 'gamma': 0.979982983369539}. Best is trial 92 with value: 0.02233956562464728.\n"
          ]
        },
        {
          "name": "stdout",
          "output_type": "stream",
          "text": [
            "Metrics on val set:\n",
            "\n",
            "Loss is 0.0246\n",
            "MAE is 0.0839\n",
            "RMSE is 0.1545\n",
            "R² is 0.9771\n",
            "\n",
            "\n"
          ]
        },
        {
          "name": "stderr",
          "output_type": "stream",
          "text": [
            "[I 2024-07-06 08:36:16,559] Trial 194 finished with value: 0.026056034819168204 and parameters: {'vector_length': 816, 'num_layers': 3, 'dropout': 0.28122559796110286, 'lr': 0.00019833825337563557, 'gamma': 0.9824440789757409}. Best is trial 92 with value: 0.02233956562464728.\n"
          ]
        },
        {
          "name": "stdout",
          "output_type": "stream",
          "text": [
            "Metrics on val set:\n",
            "\n",
            "Loss is 0.0261\n",
            "MAE is 0.0861\n",
            "RMSE is 0.1615\n",
            "R² is 0.9749\n",
            "\n",
            "\n"
          ]
        },
        {
          "name": "stderr",
          "output_type": "stream",
          "text": [
            "[I 2024-07-06 08:46:42,130] Trial 195 finished with value: 0.02856841781998382 and parameters: {'vector_length': 768, 'num_layers': 3, 'dropout': 0.3126671128694017, 'lr': 0.0002753748231876322, 'gamma': 0.9832310910622684}. Best is trial 92 with value: 0.02233956562464728.\n"
          ]
        },
        {
          "name": "stdout",
          "output_type": "stream",
          "text": [
            "Metrics on val set:\n",
            "\n",
            "Loss is 0.0286\n",
            "MAE is 0.0844\n",
            "RMSE is 0.1691\n",
            "R² is 0.9726\n",
            "\n",
            "\n"
          ]
        },
        {
          "name": "stderr",
          "output_type": "stream",
          "text": [
            "[I 2024-07-06 09:16:07,168] Trial 196 finished with value: 0.02370791170088684 and parameters: {'vector_length': 896, 'num_layers': 3, 'dropout': 0.3338320853088279, 'lr': 0.00014740713618530252, 'gamma': 0.9847223467713135}. Best is trial 92 with value: 0.02233956562464728.\n"
          ]
        },
        {
          "name": "stdout",
          "output_type": "stream",
          "text": [
            "Metrics on val set:\n",
            "\n",
            "Loss is 0.0237\n",
            "MAE is 0.0827\n",
            "RMSE is 0.1545\n",
            "R² is 0.9771\n",
            "\n",
            "\n"
          ]
        },
        {
          "name": "stderr",
          "output_type": "stream",
          "text": [
            "[I 2024-07-06 10:34:32,042] Trial 197 finished with value: 0.026361659990952295 and parameters: {'vector_length': 1744, 'num_layers': 3, 'dropout': 0.33409990081141044, 'lr': 0.00014298391413788153, 'gamma': 0.9858511082825517}. Best is trial 92 with value: 0.02233956562464728.\n"
          ]
        },
        {
          "name": "stdout",
          "output_type": "stream",
          "text": [
            "Metrics on val set:\n",
            "\n",
            "Loss is 0.0264\n",
            "MAE is 0.0830\n",
            "RMSE is 0.1637\n",
            "R² is 0.9743\n",
            "\n",
            "\n"
          ]
        },
        {
          "name": "stderr",
          "output_type": "stream",
          "text": [
            "[I 2024-07-06 11:32:17,250] Trial 198 finished with value: 0.026642686413491472 and parameters: {'vector_length': 1488, 'num_layers': 3, 'dropout': 0.3267738050701068, 'lr': 0.00012173417288331277, 'gamma': 0.9848740879290512}. Best is trial 92 with value: 0.02233956562464728.\n"
          ]
        },
        {
          "name": "stdout",
          "output_type": "stream",
          "text": [
            "Metrics on val set:\n",
            "\n",
            "Loss is 0.0266\n",
            "MAE is 0.0854\n",
            "RMSE is 0.1644\n",
            "R² is 0.9740\n",
            "\n",
            "\n"
          ]
        },
        {
          "name": "stderr",
          "output_type": "stream",
          "text": [
            "[I 2024-07-06 11:50:37,889] Trial 199 finished with value: 0.028153711217729485 and parameters: {'vector_length': 896, 'num_layers': 3, 'dropout': 0.34183313697350043, 'lr': 0.00010017683877616723, 'gamma': 0.9807268133020234}. Best is trial 92 with value: 0.02233956562464728.\n"
          ]
        },
        {
          "name": "stdout",
          "output_type": "stream",
          "text": [
            "Metrics on val set:\n",
            "\n",
            "Loss is 0.0282\n",
            "MAE is 0.0918\n",
            "RMSE is 0.1673\n",
            "R² is 0.9731\n",
            "\n",
            "\n",
            "Best hyperparameters: {'vector_length': 1024, 'num_layers': 3, 'dropout': 0.19057012152026273, 'lr': 0.0001911914637460164, 'gamma': 0.9806898435934219}\n"
          ]
        }
      ],
      "source": [
        "# Create a study and optimize the objective function\n",
        "study = optuna.create_study(direction='minimize')\n",
        "study.optimize(objective, n_trials=200)\n",
        "\n",
        "# Get the best hyperparameters\n",
        "best_params = study.best_params\n",
        "print('Best hyperparameters:', best_params)\n",
        "\n",
        "# Train the final model with the best hyperparameters\n",
        "vector_length = best_params['vector_length']\n",
        "num_layers = best_params['num_layers']\n",
        "dropout = best_params['dropout']\n",
        "lr = best_params['lr']\n",
        "gamma = best_params['gamma']"
      ]
    },
    {
      "cell_type": "code",
      "execution_count": 184,
      "metadata": {},
      "outputs": [],
      "source": [
        "vector_length = 1024\n",
        "num_layers = 3\n",
        "dropout = 0.19057012152026273\n",
        "lr = 0.0001911914637460164\n",
        "gamma = 0.9806898435934219 # 2nd best results on val set full training"
      ]
    },
    {
      "cell_type": "code",
      "execution_count": 27,
      "metadata": {},
      "outputs": [],
      "source": [
        "vector_length = 336\n",
        "num_layers = 3\n",
        "dropout = 0.12831089625320793\n",
        "lr = 0.0003724263259631224\n",
        "gamma = 0.978770138138513 # best results on val set full training"
      ]
    },
    {
      "cell_type": "code",
      "execution_count": 187,
      "metadata": {
        "colab": {
          "base_uri": "https://localhost:8080/"
        },
        "id": "lYRS6z8uI3Nr",
        "outputId": "9135626b-446a-427a-8dd0-f4a54073a157"
      },
      "outputs": [
        {
          "name": "stdout",
          "output_type": "stream",
          "text": [
            "torch.Size([96, 5, 38]) torch.Size([96, 14])\n",
            "The output shape of the LSTM will be (1344,) and a an example initial loss is 1.0330603122711182\n"
          ]
        }
      ],
      "source": [
        "# Example usage\n",
        "context_size = days_window - 1\n",
        "X_batch, Y_batch = next(iter(train_loader))\n",
        "X_batch, Y_batch = X_batch.to(device), Y_batch.to(device)\n",
        "print(X_batch.shape, Y_batch.shape)\n",
        "model = LSTM(input_length=input_length, hidden_length=vector_length, output_length=output_length, num_layers=num_layers, dropout=dropout).to(device)\n",
        "output, loss = model(X_batch, Y_batch)\n",
        "print(f'The output shape of the LSTM will be {tuple(output.shape)} and a an example initial loss is {loss}')"
      ]
    },
    {
      "cell_type": "code",
      "execution_count": 188,
      "metadata": {
        "id": "0eSC24XWOoMf"
      },
      "outputs": [],
      "source": [
        "model = LSTM(input_length=input_length, hidden_length=vector_length, output_length=output_length, num_layers=num_layers, dropout=dropout).to(device)\n",
        "optimizer = torch.optim.AdamW(model.parameters(), lr=lr)\n",
        "scheduler = torch.optim.lr_scheduler.ExponentialLR(optimizer, gamma=gamma) # setting optimizer scheduler"
      ]
    },
    {
      "cell_type": "code",
      "execution_count": 189,
      "metadata": {},
      "outputs": [],
      "source": [
        "iterations = 30000"
      ]
    },
    {
      "cell_type": "code",
      "execution_count": 190,
      "metadata": {
        "colab": {
          "base_uri": "https://localhost:8080/",
          "height": 1000
        },
        "id": "o-CnvgwmOjRW",
        "outputId": "196cb846-ee96-47a5-a867-c1a1dac00309"
      },
      "outputs": [
        {
          "name": "stdout",
          "output_type": "stream",
          "text": [
            "step 0: train loss 1.1448, val loss 1.0828\n",
            "step 500: train loss 0.0577, val loss 0.0579\n",
            "step 1000: train loss 0.0552, val loss 0.0591\n",
            "step 1500: train loss 0.0449, val loss 0.0508\n",
            "step 2000: train loss 0.0389, val loss 0.0477\n",
            "step 2500: train loss 0.0338, val loss 0.0427\n",
            "step 3000: train loss 0.0331, val loss 0.0402\n",
            "step 3500: train loss 0.0245, val loss 0.0375\n",
            "step 4000: train loss 0.0218, val loss 0.0342\n",
            "step 4500: train loss 0.0192, val loss 0.0325\n",
            "step 5000: train loss 0.0164, val loss 0.0294\n",
            "step 5500: train loss 0.0172, val loss 0.0300\n",
            "step 6000: train loss 0.0137, val loss 0.0264\n",
            "step 6500: train loss 0.0147, val loss 0.0273\n",
            "step 7000: train loss 0.0115, val loss 0.0245\n",
            "step 7500: train loss 0.0105, val loss 0.0250\n",
            "step 8000: train loss 0.0104, val loss 0.0239\n",
            "step 8500: train loss 0.0097, val loss 0.0252\n",
            "step 9000: train loss 0.0095, val loss 0.0237\n",
            "step 9500: train loss 0.0085, val loss 0.0236\n",
            "step 10000: train loss 0.0080, val loss 0.0227\n",
            "step 10500: train loss 0.0080, val loss 0.0237\n",
            "step 11000: train loss 0.0072, val loss 0.0230\n",
            "step 11500: train loss 0.0070, val loss 0.0225\n",
            "step 12000: train loss 0.0065, val loss 0.0217\n",
            "step 12500: train loss 0.0061, val loss 0.0233\n",
            "step 13000: train loss 0.0061, val loss 0.0229\n",
            "step 13500: train loss 0.0057, val loss 0.0218\n",
            "step 14000: train loss 0.0057, val loss 0.0238\n",
            "step 14500: train loss 0.0050, val loss 0.0219\n",
            "step 15000: train loss 0.0048, val loss 0.0215\n",
            "step 15500: train loss 0.0047, val loss 0.0216\n",
            "step 16000: train loss 0.0045, val loss 0.0226\n",
            "step 16500: train loss 0.0043, val loss 0.0214\n",
            "step 17000: train loss 0.0042, val loss 0.0215\n",
            "step 17500: train loss 0.0040, val loss 0.0221\n",
            "step 18000: train loss 0.0040, val loss 0.0223\n",
            "step 18500: train loss 0.0037, val loss 0.0222\n",
            "step 19000: train loss 0.0042, val loss 0.0221\n",
            "step 19500: train loss 0.0038, val loss 0.0230\n",
            "step 20000: train loss 0.0034, val loss 0.0235\n",
            "Training ended manually by user.\n"
          ]
        }
      ],
      "source": [
        "train_loader_iter = iter(train_loader)\n",
        "log_file = get_next_log_file(path + \"/Models/Global/LSTM/Logs\")\n",
        "\n",
        "log_message = f\"Hyperparameters: Vector Length = {vector_length}, Number of Layers = {num_layers}, Dropout = {dropout}, Learning Rate = {lr}, Scheduler Gamma = {gamma}\\n\"\n",
        "\n",
        "log_to_file(log_file, log_message)\n",
        "model.train()\n",
        "try:\n",
        "    for i in range(iterations):\n",
        "        model.train()  # Set model to training mode\n",
        "        if i % eval_interval == 0 or i == iterations - 1:\n",
        "            # Evaluate and save model parameters periodically\n",
        "            save_params(model, optimizer, scheduler)  # Saving parameters\n",
        "            model.eval()\n",
        "            losses = estimate_loss(model)  # Estimate train and val loss\n",
        "            model.train()\n",
        "            log_message = f\"step {i}: train loss {losses['train']:.4f}, val loss {losses['val']:.4f}\"\n",
        "            print(log_message)\n",
        "            log_to_file(log_file, log_message)  # Log to file\n",
        "            if i != 0:\n",
        "                scheduler.step()  # Perform scheduler step\n",
        "        try:\n",
        "            # Get the next batch\n",
        "            X_batch, Y_batch = next(train_loader_iter)\n",
        "        except StopIteration:\n",
        "            # Reinitialize the iterator if the DataLoader is exhausted\n",
        "            train_loader_iter = iter(train_loader)\n",
        "            X_batch, Y_batch = next(train_loader_iter)\n",
        "\n",
        "        X_batch, Y_batch = X_batch.to(device), Y_batch.to(device)\n",
        "        logits, loss = model(X_batch, Y_batch)  # Run inputs and expected outputs through model\n",
        "        optimizer.zero_grad(set_to_none=True)  # Set gradients to 0 (to ensure gradients don't explode)\n",
        "        loss.backward()  # Perform backpropagation\n",
        "        optimizer.step()  # Perform parameter adjustment\n",
        "\n",
        "except KeyboardInterrupt:\n",
        "    print(\"Training ended manually by user.\")\n",
        "model.eval()"
      ]
    },
    {
      "cell_type": "code",
      "execution_count": 91,
      "metadata": {},
      "outputs": [
        {
          "name": "stdout",
          "output_type": "stream",
          "text": [
            "Metrics on train set:\n",
            "\n",
            "Loss is 0.0034\n",
            "MAE is 0.0355\n",
            "RMSE is 0.0583\n",
            "R² is 0.9969\n",
            "\n",
            "\n",
            "Metrics on val set:\n",
            "\n",
            "Loss is 0.0226\n",
            "MAE is 0.0764\n",
            "RMSE is 0.1508\n",
            "R² is 0.9782\n",
            "\n",
            "\n",
            "Metrics on test set:\n",
            "\n",
            "Loss is 0.0136\n",
            "MAE is 0.0835\n",
            "RMSE is 0.1163\n",
            "R² is 0.4355\n",
            "\n",
            "\n"
          ]
        },
        {
          "ename": "NameError",
          "evalue": "name 'log_file' is not defined",
          "output_type": "error",
          "traceback": [
            "\u001b[0;31m---------------------------------------------------------------------------\u001b[0m",
            "\u001b[0;31mNameError\u001b[0m                                 Traceback (most recent call last)",
            "Cell \u001b[0;32mIn[91], line 5\u001b[0m\n\u001b[1;32m      3\u001b[0m val_metrics \u001b[38;5;241m=\u001b[39m evaluate(\u001b[38;5;124m'\u001b[39m\u001b[38;5;124mval\u001b[39m\u001b[38;5;124m'\u001b[39m, model)\n\u001b[1;32m      4\u001b[0m test_metrics \u001b[38;5;241m=\u001b[39m evaluate(\u001b[38;5;124m'\u001b[39m\u001b[38;5;124mtest\u001b[39m\u001b[38;5;124m'\u001b[39m, model)\n\u001b[0;32m----> 5\u001b[0m log_to_file(\u001b[43mlog_file\u001b[49m, \u001b[38;5;28mstr\u001b[39m(\u001b[38;5;124mf\u001b[39m\u001b[38;5;124m\"\u001b[39m\u001b[38;5;130;01m\\n\u001b[39;00m\u001b[38;5;124mMetrics = \u001b[39m\u001b[38;5;132;01m{\u001b[39;00mtest_metrics\u001b[38;5;132;01m}\u001b[39;00m\u001b[38;5;124m\"\u001b[39m))\n",
            "\u001b[0;31mNameError\u001b[0m: name 'log_file' is not defined"
          ]
        }
      ],
      "source": [
        "model.eval()\n",
        "train_metrics = evaluate('train', model)\n",
        "val_metrics = evaluate('val', model)\n",
        "test_metrics = evaluate('test', model)\n",
        "log_to_file(log_file, str(f\"\\nMetrics = {test_metrics}\"))"
      ]
    },
    {
      "cell_type": "code",
      "execution_count": 143,
      "metadata": {},
      "outputs": [],
      "source": [
        "class VisualizationTimeSeriesDataset(Dataset):\n",
        "    def __init__(self, sequences_df):\n",
        "        self.sequences_df = sequences_df\n",
        "\n",
        "    def __len__(self):\n",
        "        return len(self.sequences_df)\n",
        "\n",
        "    def __getitem__(self, idx):\n",
        "        inputs = self.sequences_df.iloc[idx]['inputs']\n",
        "        targets = self.sequences_df.iloc[idx]['targets']\n",
        "        well_name = self.sequences_df.iloc[idx]['well_name']\n",
        "        inputs_dates = self.sequences_df.iloc[idx]['inputs_dates']\n",
        "        return well_name, inputs_dates, torch.tensor(inputs, dtype=torch.float32), torch.tensor(targets, dtype=torch.float32).squeeze()\n",
        "\n",
        "visualization_test_dataset = VisualizationTimeSeriesDataset(data_test)\n",
        "\n",
        "visualization_test_loader = DataLoader(visualization_test_dataset, batch_size=int(len(test_dataset) / 50), shuffle=True)"
      ]
    },
    {
      "cell_type": "code",
      "execution_count": null,
      "metadata": {},
      "outputs": [],
      "source": [
        "model, optimizer, scheduler = load_model()"
      ]
    },
    {
      "cell_type": "code",
      "execution_count": 145,
      "metadata": {},
      "outputs": [
        {
          "data": {
            "text/plain": [
              "19"
            ]
          },
          "execution_count": 145,
          "metadata": {},
          "output_type": "execute_result"
        }
      ],
      "source": [
        "# Get the numerical index of the column 'B'\n",
        "column_name = 'oil_rate'\n",
        "column_index = data[feature_columns].columns.get_loc(column_name)\n",
        "column_index"
      ]
    },
    {
      "cell_type": "code",
      "execution_count": 195,
      "metadata": {},
      "outputs": [],
      "source": [
        "import matplotlib.pyplot as plt\n",
        "import random\n",
        "from matplotlib.backends.backend_pdf import PdfPages\n",
        "# Create a PdfPages object to save multiple plots to a single PDF\n",
        "pdf = PdfPages(path + \"/Models/Global/Graphs/LSTM/predictions_with_history.pdf\")\n",
        "with torch.no_grad():\n",
        "    model.eval()\n",
        "    for well_name, inputs_dates, X_batch, Y_batch in visualization_test_loader:\n",
        "        X_batch, Y_batch = X_batch.to(device), Y_batch.to(device)\n",
        "        choice = random.randint(0, len(X_batch) - 1)\n",
        "        X_batch = X_batch[choice].unsqueeze(0)\n",
        "        Y_batch = Y_batch[choice]\n",
        "        well_name = well_name[choice]\n",
        "        inputs_dates = [i[choice] for i in inputs_dates]\n",
        "        history = get_oil_history(pd.to_datetime(inputs_dates[0]), well_name)\n",
        "        logits, loss = model(X_batch, Y_batch)\n",
        "        label = Y_batch.cpu().numpy()\n",
        "        prediction = logits.cpu().numpy()\n",
        "        rmse = np.sqrt(mean_squared_error(label, prediction))\n",
        "        # Plotting\n",
        "        forecast_index = range(len(history) + 1, len(history) + predictions_days + 1)\n",
        "        plt.figure(figsize=(12, 6))\n",
        "        plt.plot(range(1, len(history) + 1), history, label='Input Values')\n",
        "        plt.plot(forecast_index, prediction, label='Forecasted Values')\n",
        "        plt.plot(forecast_index, label, label='Actual Values')\n",
        "        # Determine the interval for ticks to have approximately 10 ticks\n",
        "        tick_interval = max(10, round((len(history) + predictions_days + 1) / 10 / 10) * 10)\n",
        "        # Generate tick positions\n",
        "        tick_positions = np.arange(0, len(history) + predictions_days + 1, tick_interval)\n",
        "        tick_positions[0] = 1  # Start tick at 1 instead of 0\n",
        "\n",
        "        # Generate tick labels\n",
        "        tick_labels = tick_positions\n",
        "        plt.xticks(ticks=tick_positions, labels=tick_labels)\n",
        "        plt.axvline(x=len(history), color='r', linestyle='--', label='Forecast Start')\n",
        "        plt.xlabel('Day')\n",
        "        plt.ylabel('Value')\n",
        "        plt.title(f'Well: {well_name}, Loss: {loss:.4f}, RMSE = {rmse:.4f}')\n",
        "        plt.legend()\n",
        "        plt.grid(True)\n",
        "        # Save the current figure to the PDF\n",
        "        pdf.savefig()\n",
        "        plt.close()\n",
        "        # plt.show()\n",
        "\n",
        "pdf.close()"
      ]
    },
    {
      "cell_type": "code",
      "execution_count": 196,
      "metadata": {},
      "outputs": [],
      "source": [
        "import matplotlib.pyplot as plt\n",
        "import random\n",
        "from matplotlib.backends.backend_pdf import PdfPages\n",
        "# Create a PdfPages object to save multiple plots to a single PDF\n",
        "pdf = PdfPages(path + \"/Models/Global/Graphs/LSTM/predictions.pdf\")\n",
        "with torch.no_grad():\n",
        "    model.eval()\n",
        "    for well_name, inputs_dates, X_batch, Y_batch in visualization_test_loader:\n",
        "        X_batch, Y_batch = X_batch.to(device), Y_batch.to(device)\n",
        "        choice = random.randint(0, len(X_batch) - 1)\n",
        "        X_batch = X_batch[choice].unsqueeze(0)\n",
        "        Y_batch = Y_batch[choice]\n",
        "        well_name = well_name[choice]\n",
        "        logits, loss = model(X_batch, Y_batch)\n",
        "        input = X_batch[0][:, column_index].cpu().numpy()\n",
        "        label = Y_batch.cpu().numpy()\n",
        "        prediction = logits.cpu().numpy()\n",
        "        # Plotting\n",
        "        forecast_index = range(len(input) + 1, len(input) + predictions_days + 1)\n",
        "        plt.figure(figsize=(12, 6))\n",
        "        plt.plot(range(1, len(input) + 1), input, marker='o', label='Input Values')\n",
        "        plt.plot(forecast_index, prediction, marker='o', label='Forecasted Values')\n",
        "        plt.plot(forecast_index, label, marker='o', label='Actual Values')\n",
        "        plt.xticks(ticks=np.arange(1, len(input) + predictions_days + 1), labels=np.arange(1, len(input) + predictions_days + 1))\n",
        "        plt.axvline(x=len(input), color='r', linestyle='--', label='Forecast Start')\n",
        "        plt.xlabel('Day')\n",
        "        plt.ylabel('Value')\n",
        "        plt.title(f'Well: {well_name}, Loss: {loss}')\n",
        "        plt.legend()\n",
        "        plt.grid(True)\n",
        "        # Save the current figure to the PDF\n",
        "        pdf.savefig()\n",
        "        plt.close()\n",
        "        # plt.show()\n",
        "\n",
        "pdf.close()"
      ]
    },
    {
      "cell_type": "markdown",
      "metadata": {
        "id": "d8qFMjwdKPpn"
      },
      "source": [
        "1. add time elapsed column\n",
        "2. find a way to fill gaps\n",
        "3. overfitting (add dropout)\n",
        "5. deal with wht and whp\n",
        "4. load model\n",
        "evaulatiob=n on all e`xamples\n",
        "6. Check if you need to further nromalize"
      ]
    },
    {
      "cell_type": "markdown",
      "metadata": {},
      "source": []
    }
  ],
  "metadata": {
    "accelerator": "GPU",
    "colab": {
      "gpuType": "L4",
      "machine_shape": "hm",
      "provenance": []
    },
    "kernelspec": {
      "display_name": "Python 3",
      "name": "python3"
    },
    "language_info": {
      "codemirror_mode": {
        "name": "ipython",
        "version": 3
      },
      "file_extension": ".py",
      "mimetype": "text/x-python",
      "name": "python",
      "nbconvert_exporter": "python",
      "pygments_lexer": "ipython3",
      "version": "3.9.6"
    }
  },
  "nbformat": 4,
  "nbformat_minor": 0
}
