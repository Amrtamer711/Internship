{
  "cells": [
    {
      "cell_type": "code",
      "execution_count": 1,
      "metadata": {},
      "outputs": [],
      "source": [
        "path = \"/Users/amrtamer/Documents/Internship/\"\n",
        "# path = \"/content/drive/MyDrive/Internship/\""
      ]
    },
    {
      "cell_type": "code",
      "execution_count": 2,
      "metadata": {},
      "outputs": [
        {
          "name": "stderr",
          "output_type": "stream",
          "text": [
            "/opt/homebrew/lib/python3.10/site-packages/tqdm/auto.py:21: TqdmWarning: IProgress not found. Please update jupyter and ipywidgets. See https://ipywidgets.readthedocs.io/en/stable/user_install.html\n",
            "  from .autonotebook import tqdm as notebook_tqdm\n"
          ]
        }
      ],
      "source": [
        "import sys\n",
        "sys.path.append(path + 'Models')\n",
        "sys.path.append(path + 'Models/Universal/uni2ts/myenv/lib/python3.10/site-packages/')\n",
        "import utils as ut\n",
        "import models"
      ]
    },
    {
      "cell_type": "code",
      "execution_count": 3,
      "metadata": {},
      "outputs": [],
      "source": [
        "import torch\n",
        "import torch.nn as nn\n",
        "import torch.nn.functional as F\n",
        "import pandas as pd\n",
        "import torch\n",
        "from torch.utils.data import DataLoader\n",
        "import numpy as np\n",
        "from sklearn.metrics import mean_absolute_error, mean_squared_error, r2_score\n",
        "from sklearn.model_selection import train_test_split\n",
        "from torch.utils.data import Dataset, DataLoader\n",
        "import os\n",
        "import re\n",
        "import pandas as pd\n",
        "import numpy as np\n",
        "import torch\n",
        "from sklearn.model_selection import train_test_split\n",
        "from xgboost import XGBRegressor\n",
        "from sklearn.metrics import mean_absolute_error, mean_squared_error, r2_score\n",
        "import optuna\n",
        "from xgboost import XGBRegressor\n",
        "import joblib\n",
        "from sklearn.multioutput import MultiOutputRegressor\n",
        "import ast\n",
        "import joblib\n",
        "import matplotlib.pyplot as plt\n",
        "import random\n",
        "from matplotlib.backends.backend_pdf import PdfPages"
      ]
    },
    {
      "cell_type": "code",
      "execution_count": 4,
      "metadata": {
        "colab": {
          "base_uri": "https://localhost:8080/",
          "height": 355
        },
        "id": "oMm8nN82aHf-",
        "outputId": "fed32d11-70a4-498e-f709-dca40ae29df9"
      },
      "outputs": [
        {
          "data": {
            "text/html": [
              "<div>\n",
              "<style scoped>\n",
              "    .dataframe tbody tr th:only-of-type {\n",
              "        vertical-align: middle;\n",
              "    }\n",
              "\n",
              "    .dataframe tbody tr th {\n",
              "        vertical-align: top;\n",
              "    }\n",
              "\n",
              "    .dataframe thead th {\n",
              "        text-align: right;\n",
              "    }\n",
              "</style>\n",
              "<table border=\"1\" class=\"dataframe\">\n",
              "  <thead>\n",
              "    <tr style=\"text-align: right;\">\n",
              "      <th></th>\n",
              "      <th>well_name</th>\n",
              "      <th>WELL_BORE_CODE</th>\n",
              "      <th>date</th>\n",
              "      <th>prod_hrs</th>\n",
              "      <th>bhp</th>\n",
              "      <th>bht</th>\n",
              "      <th>dp_tubing</th>\n",
              "      <th>AVG_ANNULUS_PRESS</th>\n",
              "      <th>AVG_CHOKE_SIZE_P</th>\n",
              "      <th>whp</th>\n",
              "      <th>...</th>\n",
              "      <th>linear_regressor</th>\n",
              "      <th>EMA_short</th>\n",
              "      <th>EMA_medium</th>\n",
              "      <th>EMA_long</th>\n",
              "      <th>Rolling_short</th>\n",
              "      <th>Rolling_medium</th>\n",
              "      <th>Rolling_long</th>\n",
              "      <th>Lag_short</th>\n",
              "      <th>Lag_medium</th>\n",
              "      <th>Lag_long</th>\n",
              "    </tr>\n",
              "  </thead>\n",
              "  <tbody>\n",
              "    <tr>\n",
              "      <th>0</th>\n",
              "      <td>7405</td>\n",
              "      <td>NO 15/9-F-1 C</td>\n",
              "      <td>2014-04-22</td>\n",
              "      <td>0.268405</td>\n",
              "      <td>1.029311</td>\n",
              "      <td>0.605973</td>\n",
              "      <td>0.396167</td>\n",
              "      <td>-2.016027</td>\n",
              "      <td>-0.533280</td>\n",
              "      <td>3.281836</td>\n",
              "      <td>...</td>\n",
              "      <td>-0.101892</td>\n",
              "      <td>-0.103579</td>\n",
              "      <td>-0.104768</td>\n",
              "      <td>-0.106929</td>\n",
              "      <td>-0.001355</td>\n",
              "      <td>-0.002618</td>\n",
              "      <td>-0.00519</td>\n",
              "      <td>[0.0, 0.0, 0.0]</td>\n",
              "      <td>[0.0, 0.0, 0.0, 0.0, 0.0]</td>\n",
              "      <td>[0.0, 0.0, 0.0, 0.0, 0.0, 0.0, 0.0, 0.0, 0.0, ...</td>\n",
              "    </tr>\n",
              "    <tr>\n",
              "      <th>1</th>\n",
              "      <td>7405</td>\n",
              "      <td>NO 15/9-F-1 C</td>\n",
              "      <td>2014-04-23</td>\n",
              "      <td>0.268405</td>\n",
              "      <td>0.845795</td>\n",
              "      <td>0.634777</td>\n",
              "      <td>0.239818</td>\n",
              "      <td>0.088113</td>\n",
              "      <td>-0.419656</td>\n",
              "      <td>2.849981</td>\n",
              "      <td>...</td>\n",
              "      <td>-0.101892</td>\n",
              "      <td>-0.103579</td>\n",
              "      <td>-0.104768</td>\n",
              "      <td>-0.106929</td>\n",
              "      <td>-0.001355</td>\n",
              "      <td>-0.002618</td>\n",
              "      <td>-0.00519</td>\n",
              "      <td>[0.0, 0.0, -0.10230979661544379]</td>\n",
              "      <td>[0.0, 0.0, 0.0, 0.0, -0.10230979661544379]</td>\n",
              "      <td>[0.0, 0.0, 0.0, 0.0, 0.0, 0.0, 0.0, 0.0, 0.0, ...</td>\n",
              "    </tr>\n",
              "    <tr>\n",
              "      <th>2</th>\n",
              "      <td>7405</td>\n",
              "      <td>NO 15/9-F-1 C</td>\n",
              "      <td>2014-04-24</td>\n",
              "      <td>0.268405</td>\n",
              "      <td>0.775025</td>\n",
              "      <td>0.639809</td>\n",
              "      <td>0.199890</td>\n",
              "      <td>-0.688434</td>\n",
              "      <td>-0.402874</td>\n",
              "      <td>2.607708</td>\n",
              "      <td>...</td>\n",
              "      <td>-0.101892</td>\n",
              "      <td>-0.009618</td>\n",
              "      <td>-0.053295</td>\n",
              "      <td>-0.079801</td>\n",
              "      <td>-0.001355</td>\n",
              "      <td>-0.002618</td>\n",
              "      <td>-0.00519</td>\n",
              "      <td>[0.0, -0.10230979661544379, -0.10230979661544379]</td>\n",
              "      <td>[0.0, 0.0, 0.0, -0.10230979661544379, -0.10230...</td>\n",
              "      <td>[0.0, 0.0, 0.0, 0.0, 0.0, 0.0, 0.0, 0.0, -0.10...</td>\n",
              "    </tr>\n",
              "    <tr>\n",
              "      <th>3</th>\n",
              "      <td>7405</td>\n",
              "      <td>NO 15/9-F-1 C</td>\n",
              "      <td>2014-04-25</td>\n",
              "      <td>0.268405</td>\n",
              "      <td>0.705033</td>\n",
              "      <td>0.642084</td>\n",
              "      <td>0.161493</td>\n",
              "      <td>1.145283</td>\n",
              "      <td>-0.379061</td>\n",
              "      <td>2.364038</td>\n",
              "      <td>...</td>\n",
              "      <td>-0.114759</td>\n",
              "      <td>-0.020781</td>\n",
              "      <td>-0.051611</td>\n",
              "      <td>-0.076565</td>\n",
              "      <td>-0.001355</td>\n",
              "      <td>-0.002618</td>\n",
              "      <td>-0.00519</td>\n",
              "      <td>[-0.10230979661544379, -0.10230979661544379, 0...</td>\n",
              "      <td>[0.0, 0.0, -0.10230979661544379, -0.1023097966...</td>\n",
              "      <td>[0.0, 0.0, 0.0, 0.0, 0.0, 0.0, 0.0, -0.1023097...</td>\n",
              "    </tr>\n",
              "    <tr>\n",
              "      <th>4</th>\n",
              "      <td>7405</td>\n",
              "      <td>NO 15/9-F-1 C</td>\n",
              "      <td>2014-04-26</td>\n",
              "      <td>0.268405</td>\n",
              "      <td>0.625357</td>\n",
              "      <td>0.643889</td>\n",
              "      <td>0.117221</td>\n",
              "      <td>1.145283</td>\n",
              "      <td>-0.340115</td>\n",
              "      <td>2.088747</td>\n",
              "      <td>...</td>\n",
              "      <td>0.082297</td>\n",
              "      <td>-0.004428</td>\n",
              "      <td>-0.037199</td>\n",
              "      <td>-0.066767</td>\n",
              "      <td>-0.009496</td>\n",
              "      <td>-0.002618</td>\n",
              "      <td>-0.00519</td>\n",
              "      <td>[-0.10230979661544379, 0.1777063666263608, -0....</td>\n",
              "      <td>[0.0, -0.10230979661544379, -0.102309796615443...</td>\n",
              "      <td>[0.0, 0.0, 0.0, 0.0, 0.0, 0.0, -0.102309796615...</td>\n",
              "    </tr>\n",
              "  </tbody>\n",
              "</table>\n",
              "<p>5 rows × 26 columns</p>\n",
              "</div>"
            ],
            "text/plain": [
              "   well_name WELL_BORE_CODE        date  prod_hrs       bhp       bht  \\\n",
              "0       7405  NO 15/9-F-1 C  2014-04-22  0.268405  1.029311  0.605973   \n",
              "1       7405  NO 15/9-F-1 C  2014-04-23  0.268405  0.845795  0.634777   \n",
              "2       7405  NO 15/9-F-1 C  2014-04-24  0.268405  0.775025  0.639809   \n",
              "3       7405  NO 15/9-F-1 C  2014-04-25  0.268405  0.705033  0.642084   \n",
              "4       7405  NO 15/9-F-1 C  2014-04-26  0.268405  0.625357  0.643889   \n",
              "\n",
              "   dp_tubing  AVG_ANNULUS_PRESS  AVG_CHOKE_SIZE_P       whp  ...  \\\n",
              "0   0.396167          -2.016027         -0.533280  3.281836  ...   \n",
              "1   0.239818           0.088113         -0.419656  2.849981  ...   \n",
              "2   0.199890          -0.688434         -0.402874  2.607708  ...   \n",
              "3   0.161493           1.145283         -0.379061  2.364038  ...   \n",
              "4   0.117221           1.145283         -0.340115  2.088747  ...   \n",
              "\n",
              "   linear_regressor  EMA_short  EMA_medium  EMA_long  Rolling_short  \\\n",
              "0         -0.101892  -0.103579   -0.104768 -0.106929      -0.001355   \n",
              "1         -0.101892  -0.103579   -0.104768 -0.106929      -0.001355   \n",
              "2         -0.101892  -0.009618   -0.053295 -0.079801      -0.001355   \n",
              "3         -0.114759  -0.020781   -0.051611 -0.076565      -0.001355   \n",
              "4          0.082297  -0.004428   -0.037199 -0.066767      -0.009496   \n",
              "\n",
              "   Rolling_medium  Rolling_long  \\\n",
              "0       -0.002618      -0.00519   \n",
              "1       -0.002618      -0.00519   \n",
              "2       -0.002618      -0.00519   \n",
              "3       -0.002618      -0.00519   \n",
              "4       -0.002618      -0.00519   \n",
              "\n",
              "                                           Lag_short  \\\n",
              "0                                    [0.0, 0.0, 0.0]   \n",
              "1                   [0.0, 0.0, -0.10230979661544379]   \n",
              "2  [0.0, -0.10230979661544379, -0.10230979661544379]   \n",
              "3  [-0.10230979661544379, -0.10230979661544379, 0...   \n",
              "4  [-0.10230979661544379, 0.1777063666263608, -0....   \n",
              "\n",
              "                                          Lag_medium  \\\n",
              "0                          [0.0, 0.0, 0.0, 0.0, 0.0]   \n",
              "1         [0.0, 0.0, 0.0, 0.0, -0.10230979661544379]   \n",
              "2  [0.0, 0.0, 0.0, -0.10230979661544379, -0.10230...   \n",
              "3  [0.0, 0.0, -0.10230979661544379, -0.1023097966...   \n",
              "4  [0.0, -0.10230979661544379, -0.102309796615443...   \n",
              "\n",
              "                                            Lag_long  \n",
              "0  [0.0, 0.0, 0.0, 0.0, 0.0, 0.0, 0.0, 0.0, 0.0, ...  \n",
              "1  [0.0, 0.0, 0.0, 0.0, 0.0, 0.0, 0.0, 0.0, 0.0, ...  \n",
              "2  [0.0, 0.0, 0.0, 0.0, 0.0, 0.0, 0.0, 0.0, -0.10...  \n",
              "3  [0.0, 0.0, 0.0, 0.0, 0.0, 0.0, 0.0, -0.1023097...  \n",
              "4  [0.0, 0.0, 0.0, 0.0, 0.0, 0.0, -0.102309796615...  \n",
              "\n",
              "[5 rows x 26 columns]"
            ]
          },
          "execution_count": 4,
          "metadata": {},
          "output_type": "execute_result"
        }
      ],
      "source": [
        "data = pd.read_csv(path + r'data/Volve/Volve_cleaned_prepared.csv')\n",
        "if \"Unnamed: 0\" in data.columns:\n",
        "    data = data.drop(columns=\"Unnamed: 0\")\n",
        "data.head()"
      ]
    },
    {
      "cell_type": "code",
      "execution_count": 5,
      "metadata": {
        "colab": {
          "base_uri": "https://localhost:8080/"
        },
        "id": "bZmGsFefnB3G",
        "outputId": "18484778-96e2-4ffa-95bf-a34702b9403d"
      },
      "outputs": [
        {
          "data": {
            "text/plain": [
              "{5769: 'NO 15/9-F-5 AH',\n",
              " 7289: 'NO 15/9-F-15 D',\n",
              " 7078: 'NO 15/9-F-11 H',\n",
              " 5351: 'NO 15/9-F-14 H',\n",
              " 5599: 'NO 15/9-F-12 H',\n",
              " 7405: 'NO 15/9-F-1 C'}"
            ]
          },
          "execution_count": 5,
          "metadata": {},
          "output_type": "execute_result"
        }
      ],
      "source": [
        "well_info = dict(set([(j, i) for i, j in data[['WELL_BORE_CODE', 'well_name']].values.tolist()])) # creating a dictionary of well identiification with {code: name} structure\n",
        "well_info"
      ]
    },
    {
      "cell_type": "code",
      "execution_count": 6,
      "metadata": {
        "id": "KJZoa8Qneyzy"
      },
      "outputs": [],
      "source": [
        "identification_column = ['well_name', 'WELL_BORE_CODE', 'date']\n",
        "single_feature_columns = ['prod_hrs', 'bhp', 'bht', 'dp_tubing', 'AVG_ANNULUS_PRESS', 'AVG_CHOKE_SIZE_P', 'whp', 'wht', 'choke_size_percentage', 'oil_vol', 'gas_vol', 'water_vol', 'linear_regressor', 'EMA_short', 'EMA_medium', 'EMA_long', 'Rolling_short', 'Rolling_medium', 'Rolling_long', 'oil_rate']\n",
        "multiple_feature_columns = ['Lag_short', 'Lag_medium', 'Lag_long']\n",
        "feature_columns = single_feature_columns + multiple_feature_columns\n",
        "target_column = ['oil_rate']"
      ]
    },
    {
      "cell_type": "code",
      "execution_count": 7,
      "metadata": {
        "colab": {
          "base_uri": "https://localhost:8080/"
        },
        "id": "kr-v7jdxLqsb",
        "outputId": "73925800-f094-4b66-c1cb-9938d7309fb3"
      },
      "outputs": [
        {
          "data": {
            "text/plain": [
              "(7987, 26)"
            ]
          },
          "execution_count": 7,
          "metadata": {},
          "output_type": "execute_result"
        }
      ],
      "source": [
        "data = data[identification_column + feature_columns]\n",
        "data.shape"
      ]
    },
    {
      "cell_type": "code",
      "execution_count": 8,
      "metadata": {},
      "outputs": [
        {
          "name": "stdout",
          "output_type": "stream",
          "text": [
            "prod_hrs                -0.0\n",
            "bhp                     -0.0\n",
            "bht                      0.0\n",
            "dp_tubing               -0.0\n",
            "AVG_ANNULUS_PRESS       -0.0\n",
            "AVG_CHOKE_SIZE_P        -0.0\n",
            "whp                     -0.0\n",
            "wht                     -0.0\n",
            "choke_size_percentage    0.0\n",
            "oil_vol                  0.0\n",
            "gas_vol                  0.0\n",
            "water_vol                0.0\n",
            "linear_regressor        -0.0\n",
            "EMA_short                0.0\n",
            "EMA_medium               0.0\n",
            "EMA_long                 0.0\n",
            "Rolling_short           -0.0\n",
            "Rolling_medium           0.0\n",
            "Rolling_long            -0.0\n",
            "oil_rate                 0.0\n",
            "dtype: float64\n",
            "prod_hrs                 1.0\n",
            "bhp                      1.0\n",
            "bht                      1.0\n",
            "dp_tubing                1.0\n",
            "AVG_ANNULUS_PRESS        1.0\n",
            "AVG_CHOKE_SIZE_P         1.0\n",
            "whp                      1.0\n",
            "wht                      1.0\n",
            "choke_size_percentage    1.0\n",
            "oil_vol                  1.0\n",
            "gas_vol                  1.0\n",
            "water_vol                1.0\n",
            "linear_regressor         1.0\n",
            "EMA_short                1.0\n",
            "EMA_medium               1.0\n",
            "EMA_long                 1.0\n",
            "Rolling_short            1.0\n",
            "Rolling_medium           1.0\n",
            "Rolling_long             1.0\n",
            "oil_rate                 1.0\n",
            "dtype: float64\n"
          ]
        }
      ],
      "source": [
        "print(data[['prod_hrs', 'bhp', 'bht', 'dp_tubing', 'AVG_ANNULUS_PRESS', 'AVG_CHOKE_SIZE_P', 'whp', 'wht', 'choke_size_percentage', 'oil_vol', 'gas_vol', 'water_vol', 'linear_regressor', 'EMA_short', 'EMA_medium', 'EMA_long', 'Rolling_short', 'Rolling_medium', 'Rolling_long', 'oil_rate']].mean().round(4))\n",
        "print(data[['prod_hrs', 'bhp', 'bht', 'dp_tubing', 'AVG_ANNULUS_PRESS', 'AVG_CHOKE_SIZE_P', 'whp', 'wht', 'choke_size_percentage', 'oil_vol', 'gas_vol', 'water_vol', 'linear_regressor', 'EMA_short', 'EMA_medium', 'EMA_long', 'Rolling_short', 'Rolling_medium', 'Rolling_long', 'oil_rate']].std().round(4))"
      ]
    },
    {
      "cell_type": "code",
      "execution_count": 9,
      "metadata": {
        "colab": {
          "base_uri": "https://localhost:8080/",
          "height": 609
        },
        "id": "58-XDpb-EO82",
        "outputId": "6ec059d5-a866-4f03-e039-26f48f023028"
      },
      "outputs": [
        {
          "data": {
            "text/html": [
              "<div>\n",
              "<style scoped>\n",
              "    .dataframe tbody tr th:only-of-type {\n",
              "        vertical-align: middle;\n",
              "    }\n",
              "\n",
              "    .dataframe tbody tr th {\n",
              "        vertical-align: top;\n",
              "    }\n",
              "\n",
              "    .dataframe thead th {\n",
              "        text-align: right;\n",
              "    }\n",
              "</style>\n",
              "<table border=\"1\" class=\"dataframe\">\n",
              "  <thead>\n",
              "    <tr style=\"text-align: right;\">\n",
              "      <th></th>\n",
              "      <th>well_name</th>\n",
              "      <th>WELL_BORE_CODE</th>\n",
              "      <th>date</th>\n",
              "      <th>prod_hrs</th>\n",
              "      <th>bhp</th>\n",
              "      <th>bht</th>\n",
              "      <th>dp_tubing</th>\n",
              "      <th>AVG_ANNULUS_PRESS</th>\n",
              "      <th>AVG_CHOKE_SIZE_P</th>\n",
              "      <th>whp</th>\n",
              "      <th>...</th>\n",
              "      <th>EMA_short</th>\n",
              "      <th>EMA_medium</th>\n",
              "      <th>EMA_long</th>\n",
              "      <th>Rolling_short</th>\n",
              "      <th>Rolling_medium</th>\n",
              "      <th>Rolling_long</th>\n",
              "      <th>oil_rate</th>\n",
              "      <th>Lag_short</th>\n",
              "      <th>Lag_medium</th>\n",
              "      <th>Lag_long</th>\n",
              "    </tr>\n",
              "  </thead>\n",
              "  <tbody>\n",
              "    <tr>\n",
              "      <th>0</th>\n",
              "      <td>7405</td>\n",
              "      <td>NO 15/9-F-1 C</td>\n",
              "      <td>2014-04-22</td>\n",
              "      <td>0.268405</td>\n",
              "      <td>1.029311</td>\n",
              "      <td>0.605973</td>\n",
              "      <td>0.396167</td>\n",
              "      <td>-2.016027</td>\n",
              "      <td>-0.533280</td>\n",
              "      <td>3.281836</td>\n",
              "      <td>...</td>\n",
              "      <td>-0.103579</td>\n",
              "      <td>-0.104768</td>\n",
              "      <td>-0.106929</td>\n",
              "      <td>-0.001355</td>\n",
              "      <td>-0.002618</td>\n",
              "      <td>-0.005190</td>\n",
              "      <td>-0.102310</td>\n",
              "      <td>[0.0, 0.0, 0.0]</td>\n",
              "      <td>[0.0, 0.0, 0.0, 0.0, 0.0]</td>\n",
              "      <td>[0.0, 0.0, 0.0, 0.0, 0.0, 0.0, 0.0, 0.0, 0.0, ...</td>\n",
              "    </tr>\n",
              "    <tr>\n",
              "      <th>1</th>\n",
              "      <td>7405</td>\n",
              "      <td>NO 15/9-F-1 C</td>\n",
              "      <td>2014-04-23</td>\n",
              "      <td>0.268405</td>\n",
              "      <td>0.845795</td>\n",
              "      <td>0.634777</td>\n",
              "      <td>0.239818</td>\n",
              "      <td>0.088113</td>\n",
              "      <td>-0.419656</td>\n",
              "      <td>2.849981</td>\n",
              "      <td>...</td>\n",
              "      <td>-0.103579</td>\n",
              "      <td>-0.104768</td>\n",
              "      <td>-0.106929</td>\n",
              "      <td>-0.001355</td>\n",
              "      <td>-0.002618</td>\n",
              "      <td>-0.005190</td>\n",
              "      <td>-0.102310</td>\n",
              "      <td>[0.0, 0.0, -0.10230979661544379]</td>\n",
              "      <td>[0.0, 0.0, 0.0, 0.0, -0.10230979661544379]</td>\n",
              "      <td>[0.0, 0.0, 0.0, 0.0, 0.0, 0.0, 0.0, 0.0, 0.0, ...</td>\n",
              "    </tr>\n",
              "    <tr>\n",
              "      <th>2</th>\n",
              "      <td>7405</td>\n",
              "      <td>NO 15/9-F-1 C</td>\n",
              "      <td>2014-04-24</td>\n",
              "      <td>0.268405</td>\n",
              "      <td>0.775025</td>\n",
              "      <td>0.639809</td>\n",
              "      <td>0.199890</td>\n",
              "      <td>-0.688434</td>\n",
              "      <td>-0.402874</td>\n",
              "      <td>2.607708</td>\n",
              "      <td>...</td>\n",
              "      <td>-0.009618</td>\n",
              "      <td>-0.053295</td>\n",
              "      <td>-0.079801</td>\n",
              "      <td>-0.001355</td>\n",
              "      <td>-0.002618</td>\n",
              "      <td>-0.005190</td>\n",
              "      <td>0.177706</td>\n",
              "      <td>[0.0, -0.10230979661544379, -0.10230979661544379]</td>\n",
              "      <td>[0.0, 0.0, 0.0, -0.10230979661544379, -0.10230...</td>\n",
              "      <td>[0.0, 0.0, 0.0, 0.0, 0.0, 0.0, 0.0, 0.0, -0.10...</td>\n",
              "    </tr>\n",
              "    <tr>\n",
              "      <th>3</th>\n",
              "      <td>7405</td>\n",
              "      <td>NO 15/9-F-1 C</td>\n",
              "      <td>2014-04-25</td>\n",
              "      <td>0.268405</td>\n",
              "      <td>0.705033</td>\n",
              "      <td>0.642084</td>\n",
              "      <td>0.161493</td>\n",
              "      <td>1.145283</td>\n",
              "      <td>-0.379061</td>\n",
              "      <td>2.364038</td>\n",
              "      <td>...</td>\n",
              "      <td>-0.020781</td>\n",
              "      <td>-0.051611</td>\n",
              "      <td>-0.076565</td>\n",
              "      <td>-0.001355</td>\n",
              "      <td>-0.002618</td>\n",
              "      <td>-0.005190</td>\n",
              "      <td>-0.042238</td>\n",
              "      <td>[-0.10230979661544379, -0.10230979661544379, 0...</td>\n",
              "      <td>[0.0, 0.0, -0.10230979661544379, -0.1023097966...</td>\n",
              "      <td>[0.0, 0.0, 0.0, 0.0, 0.0, 0.0, 0.0, -0.1023097...</td>\n",
              "    </tr>\n",
              "    <tr>\n",
              "      <th>4</th>\n",
              "      <td>7405</td>\n",
              "      <td>NO 15/9-F-1 C</td>\n",
              "      <td>2014-04-26</td>\n",
              "      <td>0.268405</td>\n",
              "      <td>0.625357</td>\n",
              "      <td>0.643889</td>\n",
              "      <td>0.117221</td>\n",
              "      <td>1.145283</td>\n",
              "      <td>-0.340115</td>\n",
              "      <td>2.088747</td>\n",
              "      <td>...</td>\n",
              "      <td>-0.004428</td>\n",
              "      <td>-0.037199</td>\n",
              "      <td>-0.066767</td>\n",
              "      <td>-0.009496</td>\n",
              "      <td>-0.002618</td>\n",
              "      <td>-0.005190</td>\n",
              "      <td>0.028674</td>\n",
              "      <td>[-0.10230979661544379, 0.1777063666263608, -0....</td>\n",
              "      <td>[0.0, -0.10230979661544379, -0.102309796615443...</td>\n",
              "      <td>[0.0, 0.0, 0.0, 0.0, 0.0, 0.0, -0.102309796615...</td>\n",
              "    </tr>\n",
              "    <tr>\n",
              "      <th>...</th>\n",
              "      <td>...</td>\n",
              "      <td>...</td>\n",
              "      <td>...</td>\n",
              "      <td>...</td>\n",
              "      <td>...</td>\n",
              "      <td>...</td>\n",
              "      <td>...</td>\n",
              "      <td>...</td>\n",
              "      <td>...</td>\n",
              "      <td>...</td>\n",
              "      <td>...</td>\n",
              "      <td>...</td>\n",
              "      <td>...</td>\n",
              "      <td>...</td>\n",
              "      <td>...</td>\n",
              "      <td>...</td>\n",
              "      <td>...</td>\n",
              "      <td>...</td>\n",
              "      <td>...</td>\n",
              "      <td>...</td>\n",
              "      <td>...</td>\n",
              "    </tr>\n",
              "    <tr>\n",
              "      <th>7982</th>\n",
              "      <td>5769</td>\n",
              "      <td>NO 15/9-F-5 AH</td>\n",
              "      <td>2016-08-22</td>\n",
              "      <td>0.268405</td>\n",
              "      <td>-0.880933</td>\n",
              "      <td>-0.806036</td>\n",
              "      <td>-0.814175</td>\n",
              "      <td>1.149266</td>\n",
              "      <td>1.150153</td>\n",
              "      <td>-1.140330</td>\n",
              "      <td>...</td>\n",
              "      <td>-0.692802</td>\n",
              "      <td>-0.702316</td>\n",
              "      <td>-0.715245</td>\n",
              "      <td>-0.692202</td>\n",
              "      <td>-0.703021</td>\n",
              "      <td>-0.724022</td>\n",
              "      <td>-0.683109</td>\n",
              "      <td>[-0.6852415797773639, -0.6943429268335604, -0....</td>\n",
              "      <td>[-0.6933422169244923, -0.687878486910018, -0.6...</td>\n",
              "      <td>[-0.7133929373653101, -0.7128670168291575, -0....</td>\n",
              "    </tr>\n",
              "    <tr>\n",
              "      <th>7983</th>\n",
              "      <td>5769</td>\n",
              "      <td>NO 15/9-F-5 AH</td>\n",
              "      <td>2016-08-23</td>\n",
              "      <td>0.268405</td>\n",
              "      <td>-0.880933</td>\n",
              "      <td>-0.806036</td>\n",
              "      <td>-0.814175</td>\n",
              "      <td>1.158798</td>\n",
              "      <td>1.150153</td>\n",
              "      <td>-1.136215</td>\n",
              "      <td>...</td>\n",
              "      <td>-0.689514</td>\n",
              "      <td>-0.699464</td>\n",
              "      <td>-0.713067</td>\n",
              "      <td>-0.690182</td>\n",
              "      <td>-0.699482</td>\n",
              "      <td>-0.722275</td>\n",
              "      <td>-0.677835</td>\n",
              "      <td>[-0.6943429268335604, -0.6840874763785847, -0....</td>\n",
              "      <td>[-0.687878486910018, -0.6852415797773639, -0.6...</td>\n",
              "      <td>[-0.7128670168291575, -0.704496114962062, -0.6...</td>\n",
              "    </tr>\n",
              "    <tr>\n",
              "      <th>7984</th>\n",
              "      <td>5769</td>\n",
              "      <td>NO 15/9-F-5 AH</td>\n",
              "      <td>2016-08-24</td>\n",
              "      <td>0.268405</td>\n",
              "      <td>-0.880933</td>\n",
              "      <td>-0.806036</td>\n",
              "      <td>-0.814175</td>\n",
              "      <td>1.141085</td>\n",
              "      <td>1.150153</td>\n",
              "      <td>-1.137527</td>\n",
              "      <td>...</td>\n",
              "      <td>-0.687737</td>\n",
              "      <td>-0.697357</td>\n",
              "      <td>-0.711216</td>\n",
              "      <td>-0.688940</td>\n",
              "      <td>-0.696914</td>\n",
              "      <td>-0.720063</td>\n",
              "      <td>-0.679069</td>\n",
              "      <td>[-0.6840874763785847, -0.6831086798251896, -0....</td>\n",
              "      <td>[-0.6852415797773639, -0.6943429268335604, -0....</td>\n",
              "      <td>[-0.704496114962062, -0.6974619277910209, -0.6...</td>\n",
              "    </tr>\n",
              "    <tr>\n",
              "      <th>7985</th>\n",
              "      <td>5769</td>\n",
              "      <td>NO 15/9-F-5 AH</td>\n",
              "      <td>2016-08-25</td>\n",
              "      <td>0.268405</td>\n",
              "      <td>-1.334973</td>\n",
              "      <td>-1.285316</td>\n",
              "      <td>-1.327391</td>\n",
              "      <td>1.140689</td>\n",
              "      <td>1.150153</td>\n",
              "      <td>-1.140776</td>\n",
              "      <td>...</td>\n",
              "      <td>-0.686410</td>\n",
              "      <td>-0.695555</td>\n",
              "      <td>-0.709500</td>\n",
              "      <td>-0.685783</td>\n",
              "      <td>-0.695013</td>\n",
              "      <td>-0.718130</td>\n",
              "      <td>-0.678646</td>\n",
              "      <td>[-0.6831086798251896, -0.6778348655598816, -0....</td>\n",
              "      <td>[-0.6943429268335604, -0.6840874763785847, -0....</td>\n",
              "      <td>[-0.6974619277910209, -0.6908660077334403, -0....</td>\n",
              "    </tr>\n",
              "    <tr>\n",
              "      <th>7986</th>\n",
              "      <td>5769</td>\n",
              "      <td>NO 15/9-F-5 AH</td>\n",
              "      <td>2016-08-26</td>\n",
              "      <td>-0.744073</td>\n",
              "      <td>-0.434704</td>\n",
              "      <td>-0.323038</td>\n",
              "      <td>-0.323127</td>\n",
              "      <td>1.127728</td>\n",
              "      <td>0.671086</td>\n",
              "      <td>-1.123420</td>\n",
              "      <td>...</td>\n",
              "      <td>-0.684576</td>\n",
              "      <td>-0.693562</td>\n",
              "      <td>-0.707674</td>\n",
              "      <td>-0.684119</td>\n",
              "      <td>-0.693493</td>\n",
              "      <td>-0.715748</td>\n",
              "      <td>-0.675818</td>\n",
              "      <td>[-0.6778348655598816, -0.6790693179294619, -0....</td>\n",
              "      <td>[-0.6840874763785847, -0.6831086798251896, -0....</td>\n",
              "      <td>[-0.6908660077334403, -0.6933422169244923, -0....</td>\n",
              "    </tr>\n",
              "  </tbody>\n",
              "</table>\n",
              "<p>7987 rows × 26 columns</p>\n",
              "</div>"
            ],
            "text/plain": [
              "      well_name  WELL_BORE_CODE        date  prod_hrs       bhp       bht  \\\n",
              "0          7405   NO 15/9-F-1 C  2014-04-22  0.268405  1.029311  0.605973   \n",
              "1          7405   NO 15/9-F-1 C  2014-04-23  0.268405  0.845795  0.634777   \n",
              "2          7405   NO 15/9-F-1 C  2014-04-24  0.268405  0.775025  0.639809   \n",
              "3          7405   NO 15/9-F-1 C  2014-04-25  0.268405  0.705033  0.642084   \n",
              "4          7405   NO 15/9-F-1 C  2014-04-26  0.268405  0.625357  0.643889   \n",
              "...         ...             ...         ...       ...       ...       ...   \n",
              "7982       5769  NO 15/9-F-5 AH  2016-08-22  0.268405 -0.880933 -0.806036   \n",
              "7983       5769  NO 15/9-F-5 AH  2016-08-23  0.268405 -0.880933 -0.806036   \n",
              "7984       5769  NO 15/9-F-5 AH  2016-08-24  0.268405 -0.880933 -0.806036   \n",
              "7985       5769  NO 15/9-F-5 AH  2016-08-25  0.268405 -1.334973 -1.285316   \n",
              "7986       5769  NO 15/9-F-5 AH  2016-08-26 -0.744073 -0.434704 -0.323038   \n",
              "\n",
              "      dp_tubing  AVG_ANNULUS_PRESS  AVG_CHOKE_SIZE_P       whp  ...  \\\n",
              "0      0.396167          -2.016027         -0.533280  3.281836  ...   \n",
              "1      0.239818           0.088113         -0.419656  2.849981  ...   \n",
              "2      0.199890          -0.688434         -0.402874  2.607708  ...   \n",
              "3      0.161493           1.145283         -0.379061  2.364038  ...   \n",
              "4      0.117221           1.145283         -0.340115  2.088747  ...   \n",
              "...         ...                ...               ...       ...  ...   \n",
              "7982  -0.814175           1.149266          1.150153 -1.140330  ...   \n",
              "7983  -0.814175           1.158798          1.150153 -1.136215  ...   \n",
              "7984  -0.814175           1.141085          1.150153 -1.137527  ...   \n",
              "7985  -1.327391           1.140689          1.150153 -1.140776  ...   \n",
              "7986  -0.323127           1.127728          0.671086 -1.123420  ...   \n",
              "\n",
              "      EMA_short  EMA_medium  EMA_long  Rolling_short  Rolling_medium  \\\n",
              "0     -0.103579   -0.104768 -0.106929      -0.001355       -0.002618   \n",
              "1     -0.103579   -0.104768 -0.106929      -0.001355       -0.002618   \n",
              "2     -0.009618   -0.053295 -0.079801      -0.001355       -0.002618   \n",
              "3     -0.020781   -0.051611 -0.076565      -0.001355       -0.002618   \n",
              "4     -0.004428   -0.037199 -0.066767      -0.009496       -0.002618   \n",
              "...         ...         ...       ...            ...             ...   \n",
              "7982  -0.692802   -0.702316 -0.715245      -0.692202       -0.703021   \n",
              "7983  -0.689514   -0.699464 -0.713067      -0.690182       -0.699482   \n",
              "7984  -0.687737   -0.697357 -0.711216      -0.688940       -0.696914   \n",
              "7985  -0.686410   -0.695555 -0.709500      -0.685783       -0.695013   \n",
              "7986  -0.684576   -0.693562 -0.707674      -0.684119       -0.693493   \n",
              "\n",
              "      Rolling_long  oil_rate  \\\n",
              "0        -0.005190 -0.102310   \n",
              "1        -0.005190 -0.102310   \n",
              "2        -0.005190  0.177706   \n",
              "3        -0.005190 -0.042238   \n",
              "4        -0.005190  0.028674   \n",
              "...            ...       ...   \n",
              "7982     -0.724022 -0.683109   \n",
              "7983     -0.722275 -0.677835   \n",
              "7984     -0.720063 -0.679069   \n",
              "7985     -0.718130 -0.678646   \n",
              "7986     -0.715748 -0.675818   \n",
              "\n",
              "                                              Lag_short  \\\n",
              "0                                       [0.0, 0.0, 0.0]   \n",
              "1                      [0.0, 0.0, -0.10230979661544379]   \n",
              "2     [0.0, -0.10230979661544379, -0.10230979661544379]   \n",
              "3     [-0.10230979661544379, -0.10230979661544379, 0...   \n",
              "4     [-0.10230979661544379, 0.1777063666263608, -0....   \n",
              "...                                                 ...   \n",
              "7982  [-0.6852415797773639, -0.6943429268335604, -0....   \n",
              "7983  [-0.6943429268335604, -0.6840874763785847, -0....   \n",
              "7984  [-0.6840874763785847, -0.6831086798251896, -0....   \n",
              "7985  [-0.6831086798251896, -0.6778348655598816, -0....   \n",
              "7986  [-0.6778348655598816, -0.6790693179294619, -0....   \n",
              "\n",
              "                                             Lag_medium  \\\n",
              "0                             [0.0, 0.0, 0.0, 0.0, 0.0]   \n",
              "1            [0.0, 0.0, 0.0, 0.0, -0.10230979661544379]   \n",
              "2     [0.0, 0.0, 0.0, -0.10230979661544379, -0.10230...   \n",
              "3     [0.0, 0.0, -0.10230979661544379, -0.1023097966...   \n",
              "4     [0.0, -0.10230979661544379, -0.102309796615443...   \n",
              "...                                                 ...   \n",
              "7982  [-0.6933422169244923, -0.687878486910018, -0.6...   \n",
              "7983  [-0.687878486910018, -0.6852415797773639, -0.6...   \n",
              "7984  [-0.6852415797773639, -0.6943429268335604, -0....   \n",
              "7985  [-0.6943429268335604, -0.6840874763785847, -0....   \n",
              "7986  [-0.6840874763785847, -0.6831086798251896, -0....   \n",
              "\n",
              "                                               Lag_long  \n",
              "0     [0.0, 0.0, 0.0, 0.0, 0.0, 0.0, 0.0, 0.0, 0.0, ...  \n",
              "1     [0.0, 0.0, 0.0, 0.0, 0.0, 0.0, 0.0, 0.0, 0.0, ...  \n",
              "2     [0.0, 0.0, 0.0, 0.0, 0.0, 0.0, 0.0, 0.0, -0.10...  \n",
              "3     [0.0, 0.0, 0.0, 0.0, 0.0, 0.0, 0.0, -0.1023097...  \n",
              "4     [0.0, 0.0, 0.0, 0.0, 0.0, 0.0, -0.102309796615...  \n",
              "...                                                 ...  \n",
              "7982  [-0.7133929373653101, -0.7128670168291575, -0....  \n",
              "7983  [-0.7128670168291575, -0.704496114962062, -0.6...  \n",
              "7984  [-0.704496114962062, -0.6974619277910209, -0.6...  \n",
              "7985  [-0.6974619277910209, -0.6908660077334403, -0....  \n",
              "7986  [-0.6908660077334403, -0.6933422169244923, -0....  \n",
              "\n",
              "[7987 rows x 26 columns]"
            ]
          },
          "execution_count": 9,
          "metadata": {},
          "output_type": "execute_result"
        }
      ],
      "source": [
        "data"
      ]
    },
    {
      "cell_type": "code",
      "execution_count": 10,
      "metadata": {},
      "outputs": [],
      "source": [
        "for column in multiple_feature_columns:\n",
        "    try:\n",
        "        data[column] = data[column].apply(ast.literal_eval)\n",
        "    except Exception:\n",
        "        pass"
      ]
    },
    {
      "cell_type": "code",
      "execution_count": 11,
      "metadata": {
        "colab": {
          "base_uri": "https://localhost:8080/"
        },
        "id": "9OdDuXzow20l",
        "outputId": "60546539-9373-402b-ec44-a3a87204c154"
      },
      "outputs": [
        {
          "data": {
            "text/plain": [
              "well_name                False\n",
              "WELL_BORE_CODE           False\n",
              "date                     False\n",
              "prod_hrs                 False\n",
              "bhp                      False\n",
              "bht                      False\n",
              "dp_tubing                False\n",
              "AVG_ANNULUS_PRESS        False\n",
              "AVG_CHOKE_SIZE_P         False\n",
              "whp                      False\n",
              "wht                      False\n",
              "choke_size_percentage    False\n",
              "oil_vol                  False\n",
              "gas_vol                  False\n",
              "water_vol                False\n",
              "linear_regressor         False\n",
              "EMA_short                False\n",
              "EMA_medium               False\n",
              "EMA_long                 False\n",
              "Rolling_short            False\n",
              "Rolling_medium           False\n",
              "Rolling_long             False\n",
              "oil_rate                 False\n",
              "Lag_short                False\n",
              "Lag_medium               False\n",
              "Lag_long                 False\n",
              "dtype: bool"
            ]
          },
          "execution_count": 11,
          "metadata": {},
          "output_type": "execute_result"
        }
      ],
      "source": [
        "data.isna().any()"
      ]
    },
    {
      "cell_type": "code",
      "execution_count": 12,
      "metadata": {},
      "outputs": [
        {
          "data": {
            "text/plain": [
              "19"
            ]
          },
          "execution_count": 12,
          "metadata": {},
          "output_type": "execute_result"
        }
      ],
      "source": [
        "# Get the numerical index of the column 'oil_rate'\n",
        "column_name = 'oil_rate'\n",
        "column_index = data[feature_columns].columns.get_loc(column_name)\n",
        "column_index"
      ]
    },
    {
      "cell_type": "code",
      "execution_count": 13,
      "metadata": {
        "id": "1n-IMFYvNIta"
      },
      "outputs": [],
      "source": [
        "days_window = 5\n",
        "predictions_days = 14\n",
        "training_gap = predictions_days + days_window\n",
        "batch_size = 96"
      ]
    },
    {
      "cell_type": "code",
      "execution_count": null,
      "metadata": {},
      "outputs": [],
      "source": [
        "dataset = ut.produce_multivariate_dataset(data, days_window, predictions_days, single_feature_columns, multiple_feature_columns, target_column, well_info)"
      ]
    },
    {
      "cell_type": "code",
      "execution_count": 14,
      "metadata": {
        "colab": {
          "base_uri": "https://localhost:8080/",
          "height": 949
        },
        "id": "H77kZkM1lU5_",
        "outputId": "57fda9a0-8141-4450-9f89-3f4e8c43cffb"
      },
      "outputs": [],
      "source": [
        "# dataset.to_pickle(path + \"/data/Volve/all_data.pkl\")\n",
        "# dataset.to_csv(path + \"/data/Volve/all_data.csv\")\n",
        "# dataset"
      ]
    },
    {
      "cell_type": "code",
      "execution_count": 15,
      "metadata": {},
      "outputs": [],
      "source": [
        "train_size = 0.6\n",
        "val_size = 0.2\n",
        "test_size = 0.2"
      ]
    },
    {
      "cell_type": "code",
      "execution_count": 16,
      "metadata": {},
      "outputs": [],
      "source": [
        "test_size_param1 = test_size\n",
        "test_size_param2 = val_size / (1 - test_size_param1)"
      ]
    },
    {
      "cell_type": "code",
      "execution_count": null,
      "metadata": {},
      "outputs": [],
      "source": [
        "data_train, data_val, data_test = ut.split_dataset(dataset, val_size, test_size, well_info, shuffle_train=True)"
      ]
    },
    {
      "cell_type": "code",
      "execution_count": 17,
      "metadata": {},
      "outputs": [],
      "source": [
        "# data_train.to_pickle(path + \"/data/Volve/data_train.pkl\")\n",
        "# data_val.to_pickle(path + \"/data/Volve/data_val.pkl\")\n",
        "# data_test.to_pickle(path + \"/data/Volve/data_test.pkl\")\n",
        "\n",
        "# data_train.to_csv(path + \"/data/Volve/data_train.csv\")\n",
        "# data_val.to_csv(path + \"/data/Volve/data_val.csv\")\n",
        "# data_test.to_csv(path + \"/data/Volve/data_test.csv\")"
      ]
    },
    {
      "cell_type": "code",
      "execution_count": 18,
      "metadata": {},
      "outputs": [],
      "source": [
        "all_data = pd.read_pickle(path + \"data/Volve/all_data.pkl\")\n",
        "data_train = pd.read_pickle(path + \"data/Volve/data_train.pkl\")\n",
        "data_val = pd.read_pickle(path + \"data/Volve/data_val.pkl\")\n",
        "data_test = pd.read_pickle(path + \"data/Volve/data_test.pkl\")"
      ]
    },
    {
      "cell_type": "code",
      "execution_count": 19,
      "metadata": {},
      "outputs": [
        {
          "data": {
            "text/plain": [
              "((4730, 7), (1577, 7), (1573, 7))"
            ]
          },
          "execution_count": 19,
          "metadata": {},
          "output_type": "execute_result"
        }
      ],
      "source": [
        "data_train.shape, data_val.shape, data_test.shape"
      ]
    },
    {
      "cell_type": "code",
      "execution_count": 20,
      "metadata": {
        "colab": {
          "base_uri": "https://localhost:8080/"
        },
        "id": "RHPKLHzqZEG-",
        "outputId": "3162efb7-1305-47a6-eca8-396e96e41184"
      },
      "outputs": [
        {
          "name": "stdout",
          "output_type": "stream",
          "text": [
            "The input/output gap is fine\n"
          ]
        }
      ],
      "source": [
        "check = True\n",
        "for i, j in well_info.items():\n",
        "    if len(all_data[all_data['well_name'] == i]) < 10:\n",
        "        print(\"The input/output gap is too high for well\", i)\n",
        "        check = False\n",
        "if check:\n",
        "    print(\"The input/output gap is fine\")"
      ]
    },
    {
      "cell_type": "code",
      "execution_count": 21,
      "metadata": {},
      "outputs": [
        {
          "name": "stdout",
          "output_type": "stream",
          "text": [
            "All datasets have all wells\n"
          ]
        }
      ],
      "source": [
        "check=True\n",
        "for i in [data_train, data_val, data_test]:\n",
        "    for j in well_info.keys():\n",
        "        if j not in set(list(i['well_name'])):\n",
        "            print(\"Some datasets do not have specific well\")\n",
        "            check = False\n",
        "            break\n",
        "if check:\n",
        "    print(\"All datasets have all wells\")"
      ]
    },
    {
      "cell_type": "code",
      "execution_count": 22,
      "metadata": {},
      "outputs": [
        {
          "data": {
            "text/plain": [
              "((5, 38), (14, 1))"
            ]
          },
          "execution_count": 22,
          "metadata": {},
          "output_type": "execute_result"
        }
      ],
      "source": [
        "data_train['inputs'][0].shape, data_train['targets'][0].shape"
      ]
    },
    {
      "cell_type": "code",
      "execution_count": 23,
      "metadata": {
        "colab": {
          "base_uri": "https://localhost:8080/",
          "height": 949
        },
        "id": "Yc5pZXS0uaZW",
        "outputId": "df791313-0c99-46f3-a399-185479a9e287"
      },
      "outputs": [
        {
          "data": {
            "text/html": [
              "<div>\n",
              "<style scoped>\n",
              "    .dataframe tbody tr th:only-of-type {\n",
              "        vertical-align: middle;\n",
              "    }\n",
              "\n",
              "    .dataframe tbody tr th {\n",
              "        vertical-align: top;\n",
              "    }\n",
              "\n",
              "    .dataframe thead th {\n",
              "        text-align: right;\n",
              "    }\n",
              "</style>\n",
              "<table border=\"1\" class=\"dataframe\">\n",
              "  <thead>\n",
              "    <tr style=\"text-align: right;\">\n",
              "      <th></th>\n",
              "      <th>well_name</th>\n",
              "      <th>inputs_dates</th>\n",
              "      <th>targets_dates</th>\n",
              "      <th>inputs_index</th>\n",
              "      <th>targets_index</th>\n",
              "      <th>inputs</th>\n",
              "      <th>targets</th>\n",
              "    </tr>\n",
              "  </thead>\n",
              "  <tbody>\n",
              "    <tr>\n",
              "      <th>0</th>\n",
              "      <td>5351</td>\n",
              "      <td>[2013-12-28, 2013-12-29, 2013-12-30, 2013-12-3...</td>\n",
              "      <td>[2014-01-02, 2014-01-03, 2014-01-04, 2014-01-0...</td>\n",
              "      <td>[6183, 6184, 6185, 6186, 6187]</td>\n",
              "      <td>[6188, 6189, 6190, 6191, 6192, 6193, 6194, 619...</td>\n",
              "      <td>[[0.2684054414666464, 0.6796976159384752, 0.46...</td>\n",
              "      <td>[[-0.4929884060060245], [-0.5018633150535997],...</td>\n",
              "    </tr>\n",
              "    <tr>\n",
              "      <th>1</th>\n",
              "      <td>5599</td>\n",
              "      <td>[2009-05-06, 2009-05-07, 2009-05-08, 2009-05-0...</td>\n",
              "      <td>[2009-05-11, 2009-05-12, 2009-05-13, 2009-05-1...</td>\n",
              "      <td>[1982, 1983, 1984, 1985, 1986]</td>\n",
              "      <td>[1987, 1988, 1989, 1990, 1991, 1992, 1993, 199...</td>\n",
              "      <td>[[-0.6648593334861422, 0.4864554330221693, 0.6...</td>\n",
              "      <td>[[2.5597611728030887], [2.5306894542768754], [...</td>\n",
              "    </tr>\n",
              "    <tr>\n",
              "      <th>2</th>\n",
              "      <td>5351</td>\n",
              "      <td>[2014-11-13, 2014-11-14, 2014-11-15, 2014-11-1...</td>\n",
              "      <td>[2014-11-18, 2014-11-19, 2014-11-20, 2014-11-2...</td>\n",
              "      <td>[6495, 6496, 6497, 6498, 6499]</td>\n",
              "      <td>[6500, 6501, 6502, 6503, 6504, 6505, 6506, 650...</td>\n",
              "      <td>[[0.2684054414666464, 0.738134882401413, 0.455...</td>\n",
              "      <td>[[-0.6891713748947265], [-0.695781903856089], ...</td>\n",
              "    </tr>\n",
              "    <tr>\n",
              "      <th>3</th>\n",
              "      <td>7405</td>\n",
              "      <td>[2014-07-15, 2014-07-16, 2014-07-17, 2014-07-1...</td>\n",
              "      <td>[2014-07-20, 2014-07-21, 2014-07-22, 2014-07-2...</td>\n",
              "      <td>[83, 84, 85, 86, 87]</td>\n",
              "      <td>[88, 89, 90, 91, 92, 93, 94, 95, 96, 97, 98, 9...</td>\n",
              "      <td>[[0.2684054414666464, 0.3177840898390375, 0.64...</td>\n",
              "      <td>[[-0.7268734393363852], [-0.5983770378894929],...</td>\n",
              "    </tr>\n",
              "    <tr>\n",
              "      <th>4</th>\n",
              "      <td>7405</td>\n",
              "      <td>[2015-06-16, 2015-06-17, 2015-06-18, 2015-06-1...</td>\n",
              "      <td>[2015-06-21, 2015-06-22, 2015-06-23, 2015-06-2...</td>\n",
              "      <td>[280, 281, 282, 283, 284]</td>\n",
              "      <td>[285, 286, 287, 288, 289, 290, 291, 292, 293, ...</td>\n",
              "      <td>[[0.2684054414666464, 0.6192371710627337, 0.64...</td>\n",
              "      <td>[[-0.8048592839445163], [-0.799994518985105], ...</td>\n",
              "    </tr>\n",
              "    <tr>\n",
              "      <th>...</th>\n",
              "      <td>...</td>\n",
              "      <td>...</td>\n",
              "      <td>...</td>\n",
              "      <td>...</td>\n",
              "      <td>...</td>\n",
              "      <td>...</td>\n",
              "      <td>...</td>\n",
              "    </tr>\n",
              "    <tr>\n",
              "      <th>4725</th>\n",
              "      <td>7078</td>\n",
              "      <td>[2016-01-15, 2016-01-16, 2016-01-17, 2016-01-1...</td>\n",
              "      <td>[2016-01-20, 2016-01-21, 2016-01-22, 2016-01-2...</td>\n",
              "      <td>[1305, 1306, 1307, 1308, 1309]</td>\n",
              "      <td>[1310, 1311, 1312, 1313, 1314, 1315, 1316, 131...</td>\n",
              "      <td>[[0.2684054414666464, 0.4323258240776714, 0.59...</td>\n",
              "      <td>[[-0.2096497082792693], [-0.2239800517639696],...</td>\n",
              "    </tr>\n",
              "    <tr>\n",
              "      <th>4726</th>\n",
              "      <td>5599</td>\n",
              "      <td>[2013-10-22, 2013-10-23, 2013-10-24, 2013-10-2...</td>\n",
              "      <td>[2013-10-27, 2013-10-28, 2013-10-29, 2013-10-3...</td>\n",
              "      <td>[3422, 3423, 3424, 3425, 3426]</td>\n",
              "      <td>[3427, 3428, 3429, 3430, 3431, 3432, 3433, 343...</td>\n",
              "      <td>[[0.2684054414666464, -1.739674518873222, -1.7...</td>\n",
              "      <td>[[-0.7503088106450555], [-0.7115700752297459],...</td>\n",
              "    </tr>\n",
              "    <tr>\n",
              "      <th>4727</th>\n",
              "      <td>5351</td>\n",
              "      <td>[2013-07-27, 2013-07-29, 2013-07-30, 2013-07-3...</td>\n",
              "      <td>[2013-08-04, 2013-08-05, 2013-08-06, 2013-08-0...</td>\n",
              "      <td>[6036, 6037, 6038, 6039, 6040]</td>\n",
              "      <td>[6041, 6042, 6043, 6044, 6045, 6046, 6047, 604...</td>\n",
              "      <td>[[0.2684054414666464, 0.6138642859264858, 0.47...</td>\n",
              "      <td>[[-0.4160433097861427], [-0.3920993164874174],...</td>\n",
              "    </tr>\n",
              "    <tr>\n",
              "      <th>4728</th>\n",
              "      <td>5351</td>\n",
              "      <td>[2009-11-04, 2009-11-05, 2009-11-06, 2009-11-0...</td>\n",
              "      <td>[2009-11-09, 2009-11-10, 2009-11-11, 2009-11-1...</td>\n",
              "      <td>[4829, 4830, 4831, 4832, 4833]</td>\n",
              "      <td>[4834, 4835, 4836, 4837, 4838, 4839, 4840, 484...</td>\n",
              "      <td>[[-0.4742447851268439, 0.6296190972456797, 0.5...</td>\n",
              "      <td>[[1.608625149967794], [1.5378065434017558], [1...</td>\n",
              "    </tr>\n",
              "    <tr>\n",
              "      <th>4729</th>\n",
              "      <td>5351</td>\n",
              "      <td>[2011-01-17, 2011-01-18, 2011-01-19, 2011-01-2...</td>\n",
              "      <td>[2011-01-22, 2011-01-23, 2011-01-24, 2011-01-2...</td>\n",
              "      <td>[5248, 5249, 5250, 5251, 5252]</td>\n",
              "      <td>[5253, 5254, 5255, 5256, 5257, 5258, 5259, 526...</td>\n",
              "      <td>[[0.2684054414666464, 0.5763137342159369, 0.58...</td>\n",
              "      <td>[[0.5108039817601228], [0.4800522392989776], [...</td>\n",
              "    </tr>\n",
              "  </tbody>\n",
              "</table>\n",
              "<p>4730 rows × 7 columns</p>\n",
              "</div>"
            ],
            "text/plain": [
              "      well_name                                       inputs_dates  \\\n",
              "0          5351  [2013-12-28, 2013-12-29, 2013-12-30, 2013-12-3...   \n",
              "1          5599  [2009-05-06, 2009-05-07, 2009-05-08, 2009-05-0...   \n",
              "2          5351  [2014-11-13, 2014-11-14, 2014-11-15, 2014-11-1...   \n",
              "3          7405  [2014-07-15, 2014-07-16, 2014-07-17, 2014-07-1...   \n",
              "4          7405  [2015-06-16, 2015-06-17, 2015-06-18, 2015-06-1...   \n",
              "...         ...                                                ...   \n",
              "4725       7078  [2016-01-15, 2016-01-16, 2016-01-17, 2016-01-1...   \n",
              "4726       5599  [2013-10-22, 2013-10-23, 2013-10-24, 2013-10-2...   \n",
              "4727       5351  [2013-07-27, 2013-07-29, 2013-07-30, 2013-07-3...   \n",
              "4728       5351  [2009-11-04, 2009-11-05, 2009-11-06, 2009-11-0...   \n",
              "4729       5351  [2011-01-17, 2011-01-18, 2011-01-19, 2011-01-2...   \n",
              "\n",
              "                                          targets_dates  \\\n",
              "0     [2014-01-02, 2014-01-03, 2014-01-04, 2014-01-0...   \n",
              "1     [2009-05-11, 2009-05-12, 2009-05-13, 2009-05-1...   \n",
              "2     [2014-11-18, 2014-11-19, 2014-11-20, 2014-11-2...   \n",
              "3     [2014-07-20, 2014-07-21, 2014-07-22, 2014-07-2...   \n",
              "4     [2015-06-21, 2015-06-22, 2015-06-23, 2015-06-2...   \n",
              "...                                                 ...   \n",
              "4725  [2016-01-20, 2016-01-21, 2016-01-22, 2016-01-2...   \n",
              "4726  [2013-10-27, 2013-10-28, 2013-10-29, 2013-10-3...   \n",
              "4727  [2013-08-04, 2013-08-05, 2013-08-06, 2013-08-0...   \n",
              "4728  [2009-11-09, 2009-11-10, 2009-11-11, 2009-11-1...   \n",
              "4729  [2011-01-22, 2011-01-23, 2011-01-24, 2011-01-2...   \n",
              "\n",
              "                        inputs_index  \\\n",
              "0     [6183, 6184, 6185, 6186, 6187]   \n",
              "1     [1982, 1983, 1984, 1985, 1986]   \n",
              "2     [6495, 6496, 6497, 6498, 6499]   \n",
              "3               [83, 84, 85, 86, 87]   \n",
              "4          [280, 281, 282, 283, 284]   \n",
              "...                              ...   \n",
              "4725  [1305, 1306, 1307, 1308, 1309]   \n",
              "4726  [3422, 3423, 3424, 3425, 3426]   \n",
              "4727  [6036, 6037, 6038, 6039, 6040]   \n",
              "4728  [4829, 4830, 4831, 4832, 4833]   \n",
              "4729  [5248, 5249, 5250, 5251, 5252]   \n",
              "\n",
              "                                          targets_index  \\\n",
              "0     [6188, 6189, 6190, 6191, 6192, 6193, 6194, 619...   \n",
              "1     [1987, 1988, 1989, 1990, 1991, 1992, 1993, 199...   \n",
              "2     [6500, 6501, 6502, 6503, 6504, 6505, 6506, 650...   \n",
              "3     [88, 89, 90, 91, 92, 93, 94, 95, 96, 97, 98, 9...   \n",
              "4     [285, 286, 287, 288, 289, 290, 291, 292, 293, ...   \n",
              "...                                                 ...   \n",
              "4725  [1310, 1311, 1312, 1313, 1314, 1315, 1316, 131...   \n",
              "4726  [3427, 3428, 3429, 3430, 3431, 3432, 3433, 343...   \n",
              "4727  [6041, 6042, 6043, 6044, 6045, 6046, 6047, 604...   \n",
              "4728  [4834, 4835, 4836, 4837, 4838, 4839, 4840, 484...   \n",
              "4729  [5253, 5254, 5255, 5256, 5257, 5258, 5259, 526...   \n",
              "\n",
              "                                                 inputs  \\\n",
              "0     [[0.2684054414666464, 0.6796976159384752, 0.46...   \n",
              "1     [[-0.6648593334861422, 0.4864554330221693, 0.6...   \n",
              "2     [[0.2684054414666464, 0.738134882401413, 0.455...   \n",
              "3     [[0.2684054414666464, 0.3177840898390375, 0.64...   \n",
              "4     [[0.2684054414666464, 0.6192371710627337, 0.64...   \n",
              "...                                                 ...   \n",
              "4725  [[0.2684054414666464, 0.4323258240776714, 0.59...   \n",
              "4726  [[0.2684054414666464, -1.739674518873222, -1.7...   \n",
              "4727  [[0.2684054414666464, 0.6138642859264858, 0.47...   \n",
              "4728  [[-0.4742447851268439, 0.6296190972456797, 0.5...   \n",
              "4729  [[0.2684054414666464, 0.5763137342159369, 0.58...   \n",
              "\n",
              "                                                targets  \n",
              "0     [[-0.4929884060060245], [-0.5018633150535997],...  \n",
              "1     [[2.5597611728030887], [2.5306894542768754], [...  \n",
              "2     [[-0.6891713748947265], [-0.695781903856089], ...  \n",
              "3     [[-0.7268734393363852], [-0.5983770378894929],...  \n",
              "4     [[-0.8048592839445163], [-0.799994518985105], ...  \n",
              "...                                                 ...  \n",
              "4725  [[-0.2096497082792693], [-0.2239800517639696],...  \n",
              "4726  [[-0.7503088106450555], [-0.7115700752297459],...  \n",
              "4727  [[-0.4160433097861427], [-0.3920993164874174],...  \n",
              "4728  [[1.608625149967794], [1.5378065434017558], [1...  \n",
              "4729  [[0.5108039817601228], [0.4800522392989776], [...  \n",
              "\n",
              "[4730 rows x 7 columns]"
            ]
          },
          "execution_count": 23,
          "metadata": {},
          "output_type": "execute_result"
        }
      ],
      "source": [
        "data_train"
      ]
    },
    {
      "cell_type": "code",
      "execution_count": 24,
      "metadata": {},
      "outputs": [],
      "source": [
        "train_dataset = ut.TimeSeriesDataset(data_train)\n",
        "val_dataset = ut.TimeSeriesDataset(data_val)\n",
        "test_dataset = ut.TimeSeriesDataset(data_test)\n",
        "\n",
        "train_loader = DataLoader(train_dataset, batch_size=len(train_dataset), shuffle=True)\n",
        "val_loader = DataLoader(val_dataset, batch_size=len(val_dataset), shuffle=True)\n",
        "test_loader = DataLoader(test_dataset, batch_size=len(test_dataset), shuffle=False)"
      ]
    },
    {
      "cell_type": "code",
      "execution_count": 25,
      "metadata": {},
      "outputs": [],
      "source": [
        "visualization_test_dataset = ut.VisualizationTimeSeriesDataset(data_test)\n",
        "\n",
        "visualization_test_loader = DataLoader(visualization_test_dataset, batch_size=int(len(test_dataset) / 50), shuffle=True)"
      ]
    },
    {
      "cell_type": "code",
      "execution_count": 27,
      "metadata": {
        "id": "0h7KW6y9PatC"
      },
      "outputs": [],
      "source": [
        "def label_model_files(old_name=\"\", new_name=\"\"):\n",
        "    if old_name != \"\":\n",
        "        old_name = f'{old_name}_'\n",
        "    if new_name != \"\":\n",
        "        new_name = f'{new_name}_'\n",
        "    config_path = path + r'Models/Global/XGBoost/Model/'\n",
        "    if os.path.exists(config_path + f'{new_name}XGBoost.lib'):\n",
        "        try:\n",
        "            user_choice = int(input(\"File with new name already exists. Enter 1 if you want to overwrite the files. Otherwise press 2: \"))\n",
        "        except ValueError:\n",
        "            print(\"Invalid input. Please enter 1 or 2.\")\n",
        "            return\n",
        "        if user_choice == 1:\n",
        "            try:\n",
        "                os.rename(config_path + f'{old_name}XGBoost.lib', config_path + f'{new_name}XGBoost.lib')\n",
        "                print(\"Files have been renamed successfully.\")\n",
        "            except FileNotFoundError:\n",
        "                print(\"One or more files not found.\")\n",
        "        elif user_choice == 2:\n",
        "            print(\"Operation cancelled by the user.\")\n",
        "        else:\n",
        "            print(\"Invalid choice. Operation cancelled.\")\n",
        "    else:\n",
        "        try:\n",
        "            os.rename(config_path + f'{old_name}XGBoost.lib', config_path + f'{new_name}XGBoost.lib')\n",
        "            print(\"Files have been renamed successfully.\")\n",
        "        except FileNotFoundError:\n",
        "            print(\"One or more files not found.\")\n",
        "\n",
        "def objective(trial):\n",
        "    n_estimators = trial.suggest_int('n_estimators', 100, 1000)\n",
        "    lr = trial.suggest_float('lr', 1e-4, 0.4, log=True)\n",
        "    max_depth = trial.suggest_int('max_depth', 3, 30)\n",
        "    min_child_weight = trial.suggest_int('min_child_weight', 1, 50)\n",
        "    subsample = trial.suggest_float('subsample', 0.5, 1.0)\n",
        "    colsample_bytree = trial.suggest_float('colsample_bytree', 0.5, 1.0)\n",
        "    model = models.XGBoost(n_estimators, lr, max_depth, min_child_weight, subsample, colsample_bytree)\n",
        "    model.fit(torch.tensor(np.array(data_train['inputs'])), torch.tensor(np.array(data_train['targets'])).squeeze())\n",
        "    outputs, val_loss = model.predict(torch.tensor(np.array(data_val['inputs'])))\n",
        "    return val_loss\n",
        "\n",
        "def hyperparameter_finetuning(objective, direction, n_trials):\n",
        "    study = optuna.create_study(direction=direction)\n",
        "    study.optimize(objective, n_trials=n_trials)\n",
        "    best_params = study.best_params\n",
        "    return best_params"
      ]
    },
    {
      "cell_type": "code",
      "execution_count": 28,
      "metadata": {
        "id": "ojIveoyloEz6"
      },
      "outputs": [
        {
          "name": "stderr",
          "output_type": "stream",
          "text": [
            "[I 2024-07-23 20:31:27,034] A new study created in memory with name: no-name-436ff8a0-261d-4755-a055-145a143c224d\n",
            "[W 2024-07-23 20:31:27,036] Trial 0 failed with parameters: {'n_estimators': 962, 'lr': 0.0993804160252913, 'max_depth': 14, 'min_child_weight': 28, 'subsample': 0.9670632173405105, 'colsample_bytree': 0.7113377942114552} because of the following error: NameError(\"name 'X_train' is not defined\").\n",
            "Traceback (most recent call last):\n",
            "  File \"/opt/homebrew/lib/python3.10/site-packages/optuna/study/_optimize.py\", line 196, in _run_trial\n",
            "    value_or_values = func(trial)\n",
            "  File \"/var/folders/d8/xf5yjrpn5zvd1j56c42jys2w0000gn/T/ipykernel_10981/3517801789.py\", line 64, in objective\n",
            "    model.fit(X_train, Y_train)\n",
            "NameError: name 'X_train' is not defined\n",
            "[W 2024-07-23 20:31:27,039] Trial 0 failed with value None.\n"
          ]
        },
        {
          "ename": "NameError",
          "evalue": "name 'X_train' is not defined",
          "output_type": "error",
          "traceback": [
            "\u001b[0;31m---------------------------------------------------------------------------\u001b[0m",
            "\u001b[0;31mNameError\u001b[0m                                 Traceback (most recent call last)",
            "Cell \u001b[0;32mIn[28], line 3\u001b[0m\n\u001b[1;32m      1\u001b[0m \u001b[38;5;66;03m# Create a study and optimize the objective function\u001b[39;00m\n\u001b[1;32m      2\u001b[0m study \u001b[38;5;241m=\u001b[39m optuna\u001b[38;5;241m.\u001b[39mcreate_study(direction\u001b[38;5;241m=\u001b[39m\u001b[38;5;124m'\u001b[39m\u001b[38;5;124mminimize\u001b[39m\u001b[38;5;124m'\u001b[39m)\n\u001b[0;32m----> 3\u001b[0m \u001b[43mstudy\u001b[49m\u001b[38;5;241;43m.\u001b[39;49m\u001b[43moptimize\u001b[49m\u001b[43m(\u001b[49m\u001b[43mobjective\u001b[49m\u001b[43m,\u001b[49m\u001b[43m \u001b[49m\u001b[43mn_trials\u001b[49m\u001b[38;5;241;43m=\u001b[39;49m\u001b[38;5;241;43m100\u001b[39;49m\u001b[43m)\u001b[49m\n\u001b[1;32m      4\u001b[0m best_params \u001b[38;5;241m=\u001b[39m study\u001b[38;5;241m.\u001b[39mbest_params\n\u001b[1;32m      5\u001b[0m n_estimators \u001b[38;5;241m=\u001b[39m best_params[\u001b[38;5;124m'\u001b[39m\u001b[38;5;124mn_estimators\u001b[39m\u001b[38;5;124m'\u001b[39m]\n",
            "File \u001b[0;32m/opt/homebrew/lib/python3.10/site-packages/optuna/study/study.py:451\u001b[0m, in \u001b[0;36mStudy.optimize\u001b[0;34m(self, func, n_trials, timeout, n_jobs, catch, callbacks, gc_after_trial, show_progress_bar)\u001b[0m\n\u001b[1;32m    348\u001b[0m \u001b[38;5;28;01mdef\u001b[39;00m \u001b[38;5;21moptimize\u001b[39m(\n\u001b[1;32m    349\u001b[0m     \u001b[38;5;28mself\u001b[39m,\n\u001b[1;32m    350\u001b[0m     func: ObjectiveFuncType,\n\u001b[0;32m   (...)\u001b[0m\n\u001b[1;32m    357\u001b[0m     show_progress_bar: \u001b[38;5;28mbool\u001b[39m \u001b[38;5;241m=\u001b[39m \u001b[38;5;28;01mFalse\u001b[39;00m,\n\u001b[1;32m    358\u001b[0m ) \u001b[38;5;241m-\u001b[39m\u001b[38;5;241m>\u001b[39m \u001b[38;5;28;01mNone\u001b[39;00m:\n\u001b[1;32m    359\u001b[0m \u001b[38;5;250m    \u001b[39m\u001b[38;5;124;03m\"\"\"Optimize an objective function.\u001b[39;00m\n\u001b[1;32m    360\u001b[0m \n\u001b[1;32m    361\u001b[0m \u001b[38;5;124;03m    Optimization is done by choosing a suitable set of hyperparameter values from a given\u001b[39;00m\n\u001b[0;32m   (...)\u001b[0m\n\u001b[1;32m    449\u001b[0m \u001b[38;5;124;03m            If nested invocation of this method occurs.\u001b[39;00m\n\u001b[1;32m    450\u001b[0m \u001b[38;5;124;03m    \"\"\"\u001b[39;00m\n\u001b[0;32m--> 451\u001b[0m     \u001b[43m_optimize\u001b[49m\u001b[43m(\u001b[49m\n\u001b[1;32m    452\u001b[0m \u001b[43m        \u001b[49m\u001b[43mstudy\u001b[49m\u001b[38;5;241;43m=\u001b[39;49m\u001b[38;5;28;43mself\u001b[39;49m\u001b[43m,\u001b[49m\n\u001b[1;32m    453\u001b[0m \u001b[43m        \u001b[49m\u001b[43mfunc\u001b[49m\u001b[38;5;241;43m=\u001b[39;49m\u001b[43mfunc\u001b[49m\u001b[43m,\u001b[49m\n\u001b[1;32m    454\u001b[0m \u001b[43m        \u001b[49m\u001b[43mn_trials\u001b[49m\u001b[38;5;241;43m=\u001b[39;49m\u001b[43mn_trials\u001b[49m\u001b[43m,\u001b[49m\n\u001b[1;32m    455\u001b[0m \u001b[43m        \u001b[49m\u001b[43mtimeout\u001b[49m\u001b[38;5;241;43m=\u001b[39;49m\u001b[43mtimeout\u001b[49m\u001b[43m,\u001b[49m\n\u001b[1;32m    456\u001b[0m \u001b[43m        \u001b[49m\u001b[43mn_jobs\u001b[49m\u001b[38;5;241;43m=\u001b[39;49m\u001b[43mn_jobs\u001b[49m\u001b[43m,\u001b[49m\n\u001b[1;32m    457\u001b[0m \u001b[43m        \u001b[49m\u001b[43mcatch\u001b[49m\u001b[38;5;241;43m=\u001b[39;49m\u001b[38;5;28;43mtuple\u001b[39;49m\u001b[43m(\u001b[49m\u001b[43mcatch\u001b[49m\u001b[43m)\u001b[49m\u001b[43m \u001b[49m\u001b[38;5;28;43;01mif\u001b[39;49;00m\u001b[43m \u001b[49m\u001b[38;5;28;43misinstance\u001b[39;49m\u001b[43m(\u001b[49m\u001b[43mcatch\u001b[49m\u001b[43m,\u001b[49m\u001b[43m \u001b[49m\u001b[43mIterable\u001b[49m\u001b[43m)\u001b[49m\u001b[43m \u001b[49m\u001b[38;5;28;43;01melse\u001b[39;49;00m\u001b[43m \u001b[49m\u001b[43m(\u001b[49m\u001b[43mcatch\u001b[49m\u001b[43m,\u001b[49m\u001b[43m)\u001b[49m\u001b[43m,\u001b[49m\n\u001b[1;32m    458\u001b[0m \u001b[43m        \u001b[49m\u001b[43mcallbacks\u001b[49m\u001b[38;5;241;43m=\u001b[39;49m\u001b[43mcallbacks\u001b[49m\u001b[43m,\u001b[49m\n\u001b[1;32m    459\u001b[0m \u001b[43m        \u001b[49m\u001b[43mgc_after_trial\u001b[49m\u001b[38;5;241;43m=\u001b[39;49m\u001b[43mgc_after_trial\u001b[49m\u001b[43m,\u001b[49m\n\u001b[1;32m    460\u001b[0m \u001b[43m        \u001b[49m\u001b[43mshow_progress_bar\u001b[49m\u001b[38;5;241;43m=\u001b[39;49m\u001b[43mshow_progress_bar\u001b[49m\u001b[43m,\u001b[49m\n\u001b[1;32m    461\u001b[0m \u001b[43m    \u001b[49m\u001b[43m)\u001b[49m\n",
            "File \u001b[0;32m/opt/homebrew/lib/python3.10/site-packages/optuna/study/_optimize.py:62\u001b[0m, in \u001b[0;36m_optimize\u001b[0;34m(study, func, n_trials, timeout, n_jobs, catch, callbacks, gc_after_trial, show_progress_bar)\u001b[0m\n\u001b[1;32m     60\u001b[0m \u001b[38;5;28;01mtry\u001b[39;00m:\n\u001b[1;32m     61\u001b[0m     \u001b[38;5;28;01mif\u001b[39;00m n_jobs \u001b[38;5;241m==\u001b[39m \u001b[38;5;241m1\u001b[39m:\n\u001b[0;32m---> 62\u001b[0m         \u001b[43m_optimize_sequential\u001b[49m\u001b[43m(\u001b[49m\n\u001b[1;32m     63\u001b[0m \u001b[43m            \u001b[49m\u001b[43mstudy\u001b[49m\u001b[43m,\u001b[49m\n\u001b[1;32m     64\u001b[0m \u001b[43m            \u001b[49m\u001b[43mfunc\u001b[49m\u001b[43m,\u001b[49m\n\u001b[1;32m     65\u001b[0m \u001b[43m            \u001b[49m\u001b[43mn_trials\u001b[49m\u001b[43m,\u001b[49m\n\u001b[1;32m     66\u001b[0m \u001b[43m            \u001b[49m\u001b[43mtimeout\u001b[49m\u001b[43m,\u001b[49m\n\u001b[1;32m     67\u001b[0m \u001b[43m            \u001b[49m\u001b[43mcatch\u001b[49m\u001b[43m,\u001b[49m\n\u001b[1;32m     68\u001b[0m \u001b[43m            \u001b[49m\u001b[43mcallbacks\u001b[49m\u001b[43m,\u001b[49m\n\u001b[1;32m     69\u001b[0m \u001b[43m            \u001b[49m\u001b[43mgc_after_trial\u001b[49m\u001b[43m,\u001b[49m\n\u001b[1;32m     70\u001b[0m \u001b[43m            \u001b[49m\u001b[43mreseed_sampler_rng\u001b[49m\u001b[38;5;241;43m=\u001b[39;49m\u001b[38;5;28;43;01mFalse\u001b[39;49;00m\u001b[43m,\u001b[49m\n\u001b[1;32m     71\u001b[0m \u001b[43m            \u001b[49m\u001b[43mtime_start\u001b[49m\u001b[38;5;241;43m=\u001b[39;49m\u001b[38;5;28;43;01mNone\u001b[39;49;00m\u001b[43m,\u001b[49m\n\u001b[1;32m     72\u001b[0m \u001b[43m            \u001b[49m\u001b[43mprogress_bar\u001b[49m\u001b[38;5;241;43m=\u001b[39;49m\u001b[43mprogress_bar\u001b[49m\u001b[43m,\u001b[49m\n\u001b[1;32m     73\u001b[0m \u001b[43m        \u001b[49m\u001b[43m)\u001b[49m\n\u001b[1;32m     74\u001b[0m     \u001b[38;5;28;01melse\u001b[39;00m:\n\u001b[1;32m     75\u001b[0m         \u001b[38;5;28;01mif\u001b[39;00m n_jobs \u001b[38;5;241m==\u001b[39m \u001b[38;5;241m-\u001b[39m\u001b[38;5;241m1\u001b[39m:\n",
            "File \u001b[0;32m/opt/homebrew/lib/python3.10/site-packages/optuna/study/_optimize.py:159\u001b[0m, in \u001b[0;36m_optimize_sequential\u001b[0;34m(study, func, n_trials, timeout, catch, callbacks, gc_after_trial, reseed_sampler_rng, time_start, progress_bar)\u001b[0m\n\u001b[1;32m    156\u001b[0m         \u001b[38;5;28;01mbreak\u001b[39;00m\n\u001b[1;32m    158\u001b[0m \u001b[38;5;28;01mtry\u001b[39;00m:\n\u001b[0;32m--> 159\u001b[0m     frozen_trial \u001b[38;5;241m=\u001b[39m \u001b[43m_run_trial\u001b[49m\u001b[43m(\u001b[49m\u001b[43mstudy\u001b[49m\u001b[43m,\u001b[49m\u001b[43m \u001b[49m\u001b[43mfunc\u001b[49m\u001b[43m,\u001b[49m\u001b[43m \u001b[49m\u001b[43mcatch\u001b[49m\u001b[43m)\u001b[49m\n\u001b[1;32m    160\u001b[0m \u001b[38;5;28;01mfinally\u001b[39;00m:\n\u001b[1;32m    161\u001b[0m     \u001b[38;5;66;03m# The following line mitigates memory problems that can be occurred in some\u001b[39;00m\n\u001b[1;32m    162\u001b[0m     \u001b[38;5;66;03m# environments (e.g., services that use computing containers such as GitHub Actions).\u001b[39;00m\n\u001b[1;32m    163\u001b[0m     \u001b[38;5;66;03m# Please refer to the following PR for further details:\u001b[39;00m\n\u001b[1;32m    164\u001b[0m     \u001b[38;5;66;03m# https://github.com/optuna/optuna/pull/325.\u001b[39;00m\n\u001b[1;32m    165\u001b[0m     \u001b[38;5;28;01mif\u001b[39;00m gc_after_trial:\n",
            "File \u001b[0;32m/opt/homebrew/lib/python3.10/site-packages/optuna/study/_optimize.py:247\u001b[0m, in \u001b[0;36m_run_trial\u001b[0;34m(study, func, catch)\u001b[0m\n\u001b[1;32m    240\u001b[0m         \u001b[38;5;28;01massert\u001b[39;00m \u001b[38;5;28;01mFalse\u001b[39;00m, \u001b[38;5;124m\"\u001b[39m\u001b[38;5;124mShould not reach.\u001b[39m\u001b[38;5;124m\"\u001b[39m\n\u001b[1;32m    242\u001b[0m \u001b[38;5;28;01mif\u001b[39;00m (\n\u001b[1;32m    243\u001b[0m     frozen_trial\u001b[38;5;241m.\u001b[39mstate \u001b[38;5;241m==\u001b[39m TrialState\u001b[38;5;241m.\u001b[39mFAIL\n\u001b[1;32m    244\u001b[0m     \u001b[38;5;129;01mand\u001b[39;00m func_err \u001b[38;5;129;01mis\u001b[39;00m \u001b[38;5;129;01mnot\u001b[39;00m \u001b[38;5;28;01mNone\u001b[39;00m\n\u001b[1;32m    245\u001b[0m     \u001b[38;5;129;01mand\u001b[39;00m \u001b[38;5;129;01mnot\u001b[39;00m \u001b[38;5;28misinstance\u001b[39m(func_err, catch)\n\u001b[1;32m    246\u001b[0m ):\n\u001b[0;32m--> 247\u001b[0m     \u001b[38;5;28;01mraise\u001b[39;00m func_err\n\u001b[1;32m    248\u001b[0m \u001b[38;5;28;01mreturn\u001b[39;00m frozen_trial\n",
            "File \u001b[0;32m/opt/homebrew/lib/python3.10/site-packages/optuna/study/_optimize.py:196\u001b[0m, in \u001b[0;36m_run_trial\u001b[0;34m(study, func, catch)\u001b[0m\n\u001b[1;32m    194\u001b[0m \u001b[38;5;28;01mwith\u001b[39;00m get_heartbeat_thread(trial\u001b[38;5;241m.\u001b[39m_trial_id, study\u001b[38;5;241m.\u001b[39m_storage):\n\u001b[1;32m    195\u001b[0m     \u001b[38;5;28;01mtry\u001b[39;00m:\n\u001b[0;32m--> 196\u001b[0m         value_or_values \u001b[38;5;241m=\u001b[39m \u001b[43mfunc\u001b[49m\u001b[43m(\u001b[49m\u001b[43mtrial\u001b[49m\u001b[43m)\u001b[49m\n\u001b[1;32m    197\u001b[0m     \u001b[38;5;28;01mexcept\u001b[39;00m exceptions\u001b[38;5;241m.\u001b[39mTrialPruned \u001b[38;5;28;01mas\u001b[39;00m e:\n\u001b[1;32m    198\u001b[0m         \u001b[38;5;66;03m# TODO(mamu): Handle multi-objective cases.\u001b[39;00m\n\u001b[1;32m    199\u001b[0m         state \u001b[38;5;241m=\u001b[39m TrialState\u001b[38;5;241m.\u001b[39mPRUNED\n",
            "Cell \u001b[0;32mIn[27], line 64\u001b[0m, in \u001b[0;36mobjective\u001b[0;34m(trial)\u001b[0m\n\u001b[1;32m     62\u001b[0m xgb \u001b[38;5;241m=\u001b[39m XGBRegressor(output_length\u001b[38;5;241m=\u001b[39m predictions_days, n_estimators\u001b[38;5;241m=\u001b[39mn_estimators, learning_rate\u001b[38;5;241m=\u001b[39mlr, max_depth\u001b[38;5;241m=\u001b[39mmax_depth, min_child_weight\u001b[38;5;241m=\u001b[39mmin_child_weight, subsample\u001b[38;5;241m=\u001b[39msubsample, colsample_bytree\u001b[38;5;241m=\u001b[39mcolsample_bytree)\n\u001b[1;32m     63\u001b[0m model \u001b[38;5;241m=\u001b[39m MultiOutputRegressor(xgb)\n\u001b[0;32m---> 64\u001b[0m model\u001b[38;5;241m.\u001b[39mfit(\u001b[43mX_train\u001b[49m, Y_train)\n\u001b[1;32m     65\u001b[0m val_preds \u001b[38;5;241m=\u001b[39m model\u001b[38;5;241m.\u001b[39mpredict(X_val)\n\u001b[1;32m     66\u001b[0m val_loss \u001b[38;5;241m=\u001b[39m mean_squared_error(Y_val, val_preds)\n",
            "\u001b[0;31mNameError\u001b[0m: name 'X_train' is not defined"
          ]
        }
      ],
      "source": [
        "%%capture\n",
        "# Create a study and optimize the objective function\n",
        "study = optuna.create_study(direction='minimize')\n",
        "study.optimize(objective, n_trials=100)\n",
        "best_params = study.best_params\n",
        "\n",
        "best_params = hyperparameter_finetuning(objective, direction='minimize', n_trials=100)\n",
        "n_estimators = best_params['n_estimators']\n",
        "lr = best_params['lr']\n",
        "max_depth = best_params['max_depth']\n",
        "min_child_weight = best_params['min_child_weight']\n",
        "subsample = best_params['subsample']\n",
        "colsample_bytree = best_params['colsample_bytree']"
      ]
    },
    {
      "cell_type": "code",
      "execution_count": 29,
      "metadata": {},
      "outputs": [
        {
          "ename": "NameError",
          "evalue": "name 'best_params' is not defined",
          "output_type": "error",
          "traceback": [
            "\u001b[0;31m---------------------------------------------------------------------------\u001b[0m",
            "\u001b[0;31mNameError\u001b[0m                                 Traceback (most recent call last)",
            "Cell \u001b[0;32mIn[29], line 1\u001b[0m\n\u001b[0;32m----> 1\u001b[0m \u001b[38;5;28mprint\u001b[39m(\u001b[38;5;124m'\u001b[39m\u001b[38;5;124mBest hyperparameters:\u001b[39m\u001b[38;5;124m'\u001b[39m, \u001b[43mbest_params\u001b[49m)\n",
            "\u001b[0;31mNameError\u001b[0m: name 'best_params' is not defined"
          ]
        }
      ],
      "source": [
        "print('Best hyperparameters:', best_params)"
      ]
    },
    {
      "cell_type": "code",
      "execution_count": 26,
      "metadata": {},
      "outputs": [],
      "source": [
        "n_estimators = 594\n",
        "lr = 0.045570993763519016 \n",
        "max_depth = 17\n",
        "min_child_weight = 12\n",
        "subsample = 0.7433625471337193 \n",
        "colsample_bytree = 0.5992551725398402"
      ]
    },
    {
      "cell_type": "code",
      "execution_count": 27,
      "metadata": {
        "id": "i-Vd70O8oFL5"
      },
      "outputs": [],
      "source": [
        "model = models.XGBoost(n_estimators, lr, max_depth, min_child_weight, subsample, colsample_bytree)"
      ]
    },
    {
      "cell_type": "code",
      "execution_count": 28,
      "metadata": {},
      "outputs": [
        {
          "name": "stderr",
          "output_type": "stream",
          "text": [
            "/var/folders/d8/xf5yjrpn5zvd1j56c42jys2w0000gn/T/ipykernel_12412/715949354.py:1: UserWarning: Creating a tensor from a list of numpy.ndarrays is extremely slow. Please consider converting the list to a single numpy.ndarray with numpy.array() before converting to a tensor. (Triggered internally at /Users/runner/work/pytorch/pytorch/pytorch/torch/csrc/utils/tensor_new.cpp:277.)\n",
            "  model.fit(torch.tensor(data_train['inputs']), torch.tensor(data_train['targets']).squeeze())\n"
          ]
        }
      ],
      "source": [
        "model.fit(torch.tensor(np.array(data_train['inputs'])), torch.tensor(np.array(data_train['targets'])).squeeze())"
      ]
    },
    {
      "cell_type": "code",
      "execution_count": 29,
      "metadata": {},
      "outputs": [
        {
          "name": "stdout",
          "output_type": "stream",
          "text": [
            "Metrics on dataset:\n",
            "\n",
            "Loss is 0.0001\n",
            "MAE is 0.0059\n",
            "RMSE is 0.0120\n",
            "R² is 0.9999\n",
            "\n",
            "\n",
            "Metrics on dataset:\n",
            "\n",
            "Loss is 0.0261\n",
            "MAE is 0.0805\n",
            "RMSE is 0.1616\n",
            "R² is 0.9757\n",
            "\n",
            "\n",
            "Metrics on dataset:\n",
            "\n",
            "Loss is 0.0056\n",
            "MAE is 0.0568\n",
            "RMSE is 0.0747\n",
            "R² is 0.7667\n",
            "\n",
            "\n"
          ]
        }
      ],
      "source": [
        "train_metrics = ut.evaluate(model, train_loader)\n",
        "val_sizemetrics = ut.evaluate(model, val_loader)\n",
        "test_metrics = ut.evaluate(model, test_loader)"
      ]
    },
    {
      "cell_type": "code",
      "execution_count": 34,
      "metadata": {},
      "outputs": [
        {
          "ename": "TypeError",
          "evalue": "XGBoost.save_model() missing 1 required positional argument: 'directory'",
          "output_type": "error",
          "traceback": [
            "\u001b[0;31m---------------------------------------------------------------------------\u001b[0m",
            "\u001b[0;31mTypeError\u001b[0m                                 Traceback (most recent call last)",
            "Cell \u001b[0;32mIn[34], line 1\u001b[0m\n\u001b[0;32m----> 1\u001b[0m \u001b[43mmodel\u001b[49m\u001b[38;5;241;43m.\u001b[39;49m\u001b[43msave_model\u001b[49m\u001b[43m(\u001b[49m\u001b[38;5;124;43m\"\u001b[39;49m\u001b[38;5;124;43mcurrent\u001b[39;49m\u001b[38;5;124;43m\"\u001b[39;49m\u001b[43m)\u001b[49m\n",
            "\u001b[0;31mTypeError\u001b[0m: XGBoost.save_model() missing 1 required positional argument: 'directory'"
          ]
        }
      ],
      "source": [
        "model.save_model(path + r'Models/Global/XGBoost/Model/', \"current\")"
      ]
    },
    {
      "cell_type": "code",
      "execution_count": 31,
      "metadata": {},
      "outputs": [
        {
          "name": "stdout",
          "output_type": "stream",
          "text": [
            "Invalid input. Please enter 1 or 2.\n"
          ]
        }
      ],
      "source": [
        "label_model_files(old_name='current', new_name='best')"
      ]
    },
    {
      "cell_type": "code",
      "execution_count": 32,
      "metadata": {},
      "outputs": [
        {
          "ename": "NameError",
          "evalue": "name 'load_model' is not defined",
          "output_type": "error",
          "traceback": [
            "\u001b[0;31m---------------------------------------------------------------------------\u001b[0m",
            "\u001b[0;31mNameError\u001b[0m                                 Traceback (most recent call last)",
            "Cell \u001b[0;32mIn[32], line 1\u001b[0m\n\u001b[0;32m----> 1\u001b[0m model \u001b[38;5;241m=\u001b[39m \u001b[43mload_model\u001b[49m(\u001b[38;5;124m\"\u001b[39m\u001b[38;5;124mbest\u001b[39m\u001b[38;5;124m\"\u001b[39m)\n",
            "\u001b[0;31mNameError\u001b[0m: name 'load_model' is not defined"
          ]
        }
      ],
      "source": [
        "model = load_model(path + r'Models/Global/XGBoost/Model/', \"best\")"
      ]
    },
    {
      "cell_type": "code",
      "execution_count": 31,
      "metadata": {},
      "outputs": [
        {
          "name": "stdout",
          "output_type": "stream",
          "text": [
            "Metrics on dataset:\n",
            "\n",
            "Loss is 0.0056\n",
            "MAE is 0.0568\n",
            "RMSE is 0.0747\n",
            "R² is 0.7667\n",
            "\n",
            "\n"
          ]
        }
      ],
      "source": [
        "ut.produce_graphs(model, visualization_test_loader, data, data_test, days_window, predictions_days, path + \"Models/Global/XGBoost/Graphs\", well_info, test_size, column_index=column_index)\n",
        "test_metrics = ut.evaluate(model, test_loader)"
      ]
    },
    {
      "cell_type": "code",
      "execution_count": null,
      "metadata": {},
      "outputs": [],
      "source": []
    }
  ],
  "metadata": {
    "accelerator": "GPU",
    "colab": {
      "gpuType": "T4",
      "machine_shape": "hm",
      "provenance": []
    },
    "kernelspec": {
      "display_name": "Python 3",
      "name": "python3"
    },
    "language_info": {
      "codemirror_mode": {
        "name": "ipython",
        "version": 3
      },
      "file_extension": ".py",
      "mimetype": "text/x-python",
      "name": "python",
      "nbconvert_exporter": "python",
      "pygments_lexer": "ipython3",
      "version": "3.10.14"
    }
  },
  "nbformat": 4,
  "nbformat_minor": 0
}
